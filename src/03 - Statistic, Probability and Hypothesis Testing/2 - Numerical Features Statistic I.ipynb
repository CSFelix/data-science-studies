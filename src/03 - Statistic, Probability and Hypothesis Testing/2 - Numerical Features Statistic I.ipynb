{
 "cells": [
  {
   "cell_type": "markdown",
   "id": "e9069109-cc68-4e0b-8c37-f0d35ae81135",
   "metadata": {},
   "source": [
    "<center>\n",
    "    <h1 id='numerical-features-statistic-i' style='color:#7159c1'>🧮 Numerical Features Statistic I 🧮</h1>\n",
    "    <i>Exploring Numerical Features - Position Metrics</i>\n",
    "</center>\n",
    "\n",
    "```\n",
    "- Mode, Mean and Median\n",
    "- Quartiles, Minimum and Maximum Values\n",
    "```"
   ]
  },
  {
   "cell_type": "code",
   "execution_count": 24,
   "id": "9ec06ef4-bbd3-42b7-8c4e-7303bca27213",
   "metadata": {},
   "outputs": [
    {
     "data": {
      "text/html": [
       "<div>\n",
       "<style scoped>\n",
       "    .dataframe tbody tr th:only-of-type {\n",
       "        vertical-align: middle;\n",
       "    }\n",
       "\n",
       "    .dataframe tbody tr th {\n",
       "        vertical-align: top;\n",
       "    }\n",
       "\n",
       "    .dataframe thead th {\n",
       "        text-align: right;\n",
       "    }\n",
       "</style>\n",
       "<table border=\"1\" class=\"dataframe\">\n",
       "  <thead>\n",
       "    <tr style=\"text-align: right;\">\n",
       "      <th></th>\n",
       "      <th>name</th>\n",
       "      <th>main_breed</th>\n",
       "      <th>position</th>\n",
       "      <th>favorite_color</th>\n",
       "      <th>age</th>\n",
       "    </tr>\n",
       "  </thead>\n",
       "  <tbody>\n",
       "    <tr>\n",
       "      <th>0</th>\n",
       "      <td>goku</td>\n",
       "      <td>sayan</td>\n",
       "      <td>low</td>\n",
       "      <td>purple</td>\n",
       "      <td>45</td>\n",
       "    </tr>\n",
       "    <tr>\n",
       "      <th>1</th>\n",
       "      <td>vegeta</td>\n",
       "      <td>sayan</td>\n",
       "      <td>high</td>\n",
       "      <td>purple</td>\n",
       "      <td>73</td>\n",
       "    </tr>\n",
       "    <tr>\n",
       "      <th>2</th>\n",
       "      <td>broly</td>\n",
       "      <td>sayan</td>\n",
       "      <td>high</td>\n",
       "      <td>purple</td>\n",
       "      <td>23</td>\n",
       "    </tr>\n",
       "    <tr>\n",
       "      <th>3</th>\n",
       "      <td>gohan</td>\n",
       "      <td>sayan</td>\n",
       "      <td>low</td>\n",
       "      <td>black</td>\n",
       "      <td>64</td>\n",
       "    </tr>\n",
       "    <tr>\n",
       "      <th>4</th>\n",
       "      <td>granolah</td>\n",
       "      <td>alien</td>\n",
       "      <td>low</td>\n",
       "      <td>purple</td>\n",
       "      <td>56</td>\n",
       "    </tr>\n",
       "    <tr>\n",
       "      <th>5</th>\n",
       "      <td>majin buu</td>\n",
       "      <td>alien</td>\n",
       "      <td>high</td>\n",
       "      <td>black</td>\n",
       "      <td>37</td>\n",
       "    </tr>\n",
       "    <tr>\n",
       "      <th>6</th>\n",
       "      <td>freeza</td>\n",
       "      <td>alien</td>\n",
       "      <td>high</td>\n",
       "      <td>black</td>\n",
       "      <td>61</td>\n",
       "    </tr>\n",
       "    <tr>\n",
       "      <th>7</th>\n",
       "      <td>piccolo</td>\n",
       "      <td>alien</td>\n",
       "      <td>low</td>\n",
       "      <td>black</td>\n",
       "      <td>24</td>\n",
       "    </tr>\n",
       "    <tr>\n",
       "      <th>8</th>\n",
       "      <td>gamma 1</td>\n",
       "      <td>android</td>\n",
       "      <td>high</td>\n",
       "      <td>purple</td>\n",
       "      <td>50</td>\n",
       "    </tr>\n",
       "    <tr>\n",
       "      <th>9</th>\n",
       "      <td>android 17</td>\n",
       "      <td>android</td>\n",
       "      <td>low</td>\n",
       "      <td>purple</td>\n",
       "      <td>78</td>\n",
       "    </tr>\n",
       "  </tbody>\n",
       "</table>\n",
       "</div>"
      ],
      "text/plain": [
       "         name main_breed position favorite_color  age\n",
       "0        goku      sayan      low         purple   45\n",
       "1      vegeta      sayan     high         purple   73\n",
       "2       broly      sayan     high         purple   23\n",
       "3       gohan      sayan      low          black   64\n",
       "4    granolah      alien      low         purple   56\n",
       "5   majin buu      alien     high          black   37\n",
       "6      freeza      alien     high          black   61\n",
       "7     piccolo      alien      low          black   24\n",
       "8     gamma 1    android     high         purple   50\n",
       "9  android 17    android      low         purple   78"
      ]
     },
     "execution_count": 24,
     "metadata": {},
     "output_type": "execute_result"
    }
   ],
   "source": [
    "import pandas as pd # pip install pandas\n",
    "import seaborn as sns # pip install seaborn\n",
    "import matplotlib.pyplot as plt # pip install matplotlib\n",
    "\n",
    "df = pd.read_csv('./datasets/students.csv')\n",
    "df"
   ]
  },
  {
   "cell_type": "markdown",
   "id": "7b733895-e7d1-426d-ad5b-80b546c03b69",
   "metadata": {},
   "source": [
    "<p id='0-mode-mean-and-median' style='color:#7159c1; border-bottom:3px solid #7159c1; letter-spacing:2px; font-family:JetBrains Mono; font-weight: bold; text-align:left; font-size:240%;padding:0'>0 | Mode, Mean and Median</p>\n",
    "\n",
    "Taking the dataset above as our parameter, suppose that a new student will be in the class next day and nobody knows who it is.\n",
    "\n",
    "If you have to take a guess about what is the age of the new student, what value would you guess? You can answer for intuition or you can use Statistic! - *déjà vu* 🤭\n",
    "\n",
    "Using Statistic, we can guess the most frequent value (`mode`) like we did with Categorical Variables in the previous notebook, or we can use center metrics like `mean` and `median`.\n",
    "\n",
    "Let's examples of each of them!!"
   ]
  },
  {
   "cell_type": "code",
   "execution_count": 4,
   "id": "62894d02-8a8b-43d2-97d7-9210c9e997a9",
   "metadata": {},
   "outputs": [
    {
     "data": {
      "text/plain": [
       "0    23\n",
       "1    24\n",
       "2    37\n",
       "3    45\n",
       "4    50\n",
       "5    56\n",
       "6    61\n",
       "7    64\n",
       "8    73\n",
       "9    78\n",
       "Name: age, dtype: int64"
      ]
     },
     "execution_count": 4,
     "metadata": {},
     "output_type": "execute_result"
    }
   ],
   "source": [
    "# ---- Mode ----\n",
    "#\n",
    "# - even though the 'mode' be more accurated and used for\n",
    "# categorical features, we can use it for numerical\n",
    "# features too.\n",
    "#\n",
    "# - I highly suggest you be using 'mean' and 'median'\n",
    "# rather than 'mode'. But, let's see how it works for\n",
    "# numerical features.\n",
    "#\n",
    "df['age'].mode()\n",
    "\n",
    "# PS.: a little spoiler for you, since the 'age' variable\n",
    "# does not have duplicated values, there won't be a mode,\n",
    "# so it will return, literally, all ages '-'"
   ]
  },
  {
   "cell_type": "code",
   "execution_count": 6,
   "id": "795504f4-8957-4af2-80c4-3a439382b558",
   "metadata": {},
   "outputs": [
    {
     "data": {
      "text/plain": [
       "51.1"
      ]
     },
     "execution_count": 6,
     "metadata": {},
     "output_type": "execute_result"
    }
   ],
   "source": [
    "# ---- Mean ----\n",
    "#\n",
    "# - with no doubts, the 'mean' is the stronger average\n",
    "# value, telling much about the features - you will see\n",
    "# in the next notebooks the importance and usages for\n",
    "# the mean.\n",
    "#\n",
    "# - for now, only have in mind that the mean is calculated\n",
    "# by adding all elements and then dividing by the number\n",
    "# of elements. Equation:\n",
    "#     mean = sum(elements) / number_of_elements\n",
    "#\n",
    "df['age'].mean()"
   ]
  },
  {
   "cell_type": "code",
   "execution_count": 7,
   "id": "b2b84808-4f63-409e-aea7-a11df429fe1a",
   "metadata": {},
   "outputs": [
    {
     "data": {
      "text/plain": [
       "53.0"
      ]
     },
     "execution_count": 7,
     "metadata": {},
     "output_type": "execute_result"
    }
   ],
   "source": [
    "# ---- Median ----\n",
    "#\n",
    "# - when our feature contains larger outliers, it's good\n",
    "# to use the 'median' rather than the 'mean' - except if\n",
    "# you normalize, tranform or scale your data, but it is\n",
    "# a topic for another time.\n",
    "#\n",
    "# - outliers are values extreme values when compared to\n",
    "# the other ones. For instance, consider a list containing\n",
    "# the following numbers:\n",
    "#     list = [5, 8, 9, 700]\n",
    "#\n",
    "# - if we take the mean we will get 180.5 of mean, and it's\n",
    "# kind of weird, because 75% of our data is really too small\n",
    "# than the mean (180.5)\n",
    "#\n",
    "# - so, we can use the median in these cases!!\n",
    "#\n",
    "# - to calculate the median, we first order the datas\n",
    "# and than get the middle element - when the number of\n",
    "# elements is odd - or we add the two middle elements\n",
    "# and divide by 2 (mean) - when the number of elements\n",
    "# is even.\n",
    "#\n",
    "df['age'].median()"
   ]
  },
  {
   "cell_type": "markdown",
   "id": "5b5c593e-ed49-4da2-aa51-500c5dcbcd53",
   "metadata": {},
   "source": [
    "---\n",
    "\n",
    "Well, looking at the results, we got:\n",
    "\n",
    "> **Mode** - `all ages`;\n",
    "\n",
    "> **Mean** - `51.1 years`;\n",
    "\n",
    "> **Median** - `53 years`.\n",
    "\n",
    "Since the variable 'age' does not contain outliers, we can use the mean as parameter. So, if we had to guess the new student's age, we can say 51 years! - we do not have to say 51.1 years because anyone says that in real life, remember, we are Data Scientists, but we are humans first!!\n",
    "\n",
    "---\n",
    "\n",
    "To wrap up this topic, there is a relationship between the three average metrics (_mode, mean and median_) and the shape of the Variable's Histogram.\n",
    "\n",
    "In a nutshell, when the histogram is normal, the mode, mean and median are at the center of the histogram and they have the same value.\n",
    "\n",
    "When the histogram is skewed to the left, the mode is at the highest bar, and the mean and median are before it. In the other hand, when the histogram is skewed to the right, the mode is at the highest bar, but the mean and median are after it!\n",
    "\n",
    "> **Normal Distribution** - `mean == mode == median`;\n",
    "\n",
    "> **Left Skewed Distribution** - `mode > median > mean`;\n",
    "\n",
    "> **Right Skewed Distribution** - `mode < median < mean`.\n",
    "\n",
    "<figure>\n",
    "    <img src='./assets/1.0 - Normal Histogram.png' alt='Likert Scale' />\n",
    "    <img src='./assets/1.1 - Left Skewed Histogram.png' alt='Likert Scale' />\n",
    "    <img src='./assets/1.2 - Right Skewed Histogram.png' alt='Likert Scale' />\n",
    "    <figcaption>Figure 0, 1 and 2 - The first image shows a normal distribution with the position of the mean, mode and median. The other two images show the left and right skewed distributions and the mean, mode and median positions. © <a href='https://www.basic-mathematics.com/relationship-between-the-mean-median-and-mode.html' target='_blank'>Basic Mathematics</a></figcaption>\n",
    "</figure>"
   ]
  },
  {
   "cell_type": "markdown",
   "id": "a532f08e-54bb-4ab4-871c-bdb47a7a22e7",
   "metadata": {},
   "source": [
    "<p id='1-quartiles-minimum-and-maximum-values' style='color:#7159c1; border-bottom:3px solid #7159c1; letter-spacing:2px; font-family:JetBrains Mono; font-weight: bold; text-align:left; font-size:240%;padding:0'>1 | Quartiles, Minimum and Maximum Values</p>\n",
    "\n",
    "Suppose that we get our data and we split it into four equal slices. So, we can tell the percentage of each slice:\n",
    "\n",
    "> **Slice 1** - `0% to 25%`;\n",
    "\n",
    "> **Slice 2** - `26% to 50%`;\n",
    "\n",
    "> **Slice 3** - `51% to 75%`;\n",
    "\n",
    "> **Slice 4** - `76% to 100%`.\n",
    "\n",
    "Now, here is the trick about `Quartiles`, they are, literally, the 25th part of the data, that is, the 25%, 50%, 75% and 100% data; whereas the `minimum value` is the 1% and the `maximum value` is the 100% (the fourth quartile).\n",
    "\n",
    "> **Quartiles** - `25%, 50%, 75% and 100%`;\n",
    "\n",
    "> **Minimum Value** - `1%`;\n",
    "\n",
    "> **Maximum Value** - `100%`.\n",
    "\n",
    "A better explanation to stick it to your mind, consider our dataset. It is represented by 100% of the data. Now, suppose that we split it up to 100 slices of the same size. Each size represents 1% of the whole dataset.\n",
    "\n",
    "From these slices, the quartiles are represented by the 25th, 50th, 75th and the 100th slices. The minimum value by the first slice and the maximum value by the last one."
   ]
  },
  {
   "cell_type": "code",
   "execution_count": 9,
   "id": "6d7cd0be-2591-4d7c-9f74-087ed1659ee4",
   "metadata": {},
   "outputs": [
    {
     "data": {
      "text/plain": [
       "count    10.0000\n",
       "mean     51.1000\n",
       "std      19.0114\n",
       "min      23.0000\n",
       "25%      39.0000\n",
       "50%      53.0000\n",
       "75%      63.2500\n",
       "max      78.0000\n",
       "Name: age, dtype: float64"
      ]
     },
     "execution_count": 9,
     "metadata": {},
     "output_type": "execute_result"
    }
   ],
   "source": [
    "# ---- Quartiles, Minimum and Maximum Values ----\n",
    "#\n",
    "# - an easy way to find them is using the 'describe'\n",
    "# method from pandas. It returns the following values:\n",
    "#\n",
    "#  \\ count: number of elements\n",
    "#  \\ mean: mean '-'\n",
    "#  \\ std: standard deviation (we will see it later)\n",
    "#  \\ min: minimum value\n",
    "#  \\ 25%: first quartile\n",
    "#  \\ 50%: second quartile\n",
    "#  \\ 75%: third quartile\n",
    "#  \\ max: fourth quartile maximum value\n",
    "#\n",
    "df['age'].describe()"
   ]
  },
  {
   "cell_type": "markdown",
   "id": "d6050e0f-e3f9-4f3a-be75-8d1fa918aa0a",
   "metadata": {},
   "source": [
    "We can also get these same values isolated, that is, without the need of using the 'describe' method and returning all these values in one go.\n",
    "\n",
    "\n",
    "```python\n",
    "# ---- Minimum Value ----\n",
    "df['age'].min()\n",
    "\n",
    "# ---- First Quartile ----\n",
    "df['age'].quantile(0.25)\n",
    "\n",
    "# ---- Second Quantile ----\n",
    "df['age'].quantile(0.50)\n",
    "\n",
    "# ---- Third Quartile ----\n",
    "df['age'].quantile(0.75)\n",
    "\n",
    "# ---- Fourth Quartile and Maximum Value ----\n",
    "df['age'].max()\n",
    "```\n",
    "\n",
    "The `Box and Whisker Plot` is the perfect one to display these metrics visually.\n",
    "\n",
    "On it, the minimum value is represented by the first line - lowest value - , whereas the maximum value and the fourth quartile are represented by the last line - highest value.\n",
    "\n",
    "The first, second and third quartiles are represented by the box, that is, the first, second and third lines respectively."
   ]
  },
  {
   "cell_type": "code",
   "execution_count": 28,
   "id": "0972114e-1307-43ef-b62e-cdbe5a93afe9",
   "metadata": {},
   "outputs": [
    {
     "data": {
      "image/png": "[encoded data removed]",
      "text/plain": [
       "<Figure size 640x480 with 1 Axes>"
      ]
     },
     "metadata": {},
     "output_type": "display_data"
    }
   ],
   "source": [
    "# ---- Box and Whisker Plot ----\n",
    "sns.boxplot(data=df, x='age')\n",
    "\n",
    "plt.show()"
   ]
  },
  {
   "cell_type": "markdown",
   "id": "f4280af8-d766-4261-8685-3fe241e9b110",
   "metadata": {},
   "source": [
    "<p id='reach-me' style='color:#7159c1; border-bottom:3px solid #7159c1; letter-spacing:2px; font-family:JetBrains Mono; font-weight: bold; text-align:left; font-size:240%;padding:0'>📫 | Reach Me</p>\n",
    "\n",
    "> **Email** - [csfelix08@gmail.com](mailto:csfelix08@gmail.com?)\n",
    "\n",
    "> **Linkedin** - [linkedin.com/in/csfelix/](https://www.linkedin.com/in/csfelix/)\n",
    "\n",
    "> **GitHub:** - [CSFelix](https://github.com/CSFelix)\n",
    "\n",
    "> **Kaggle** - [DSFelix](https://www.kaggle.com/dsfelix)\n",
    "\n",
    "> **Portfolio** - [CSFelix.io](https://csfelix.github.io/)."
   ]
  }
 ],
 "metadata": {
  "kernelspec": {
   "display_name": "Python 3 (ipykernel)",
   "language": "python",
   "name": "python3"
  },
  "language_info": {
   "codemirror_mode": {
    "name": "ipython",
    "version": 3
   },
   "file_extension": ".py",
   "mimetype": "text/x-python",
   "name": "python",
   "nbconvert_exporter": "python",
   "pygments_lexer": "ipython3",
   "version": "3.10.9"
  }
 },
 "nbformat": 4,
 "nbformat_minor": 5
}
