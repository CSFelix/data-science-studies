{
 "cells": [
  {
   "cell_type": "markdown",
   "id": "6c3c03a2-982c-4d16-a2ab-79763efefa95",
   "metadata": {},
   "source": [
    "<center>\n",
    "    <h1 id='xgboosting' style='color:#7159c1'>🤖 XGBoosting 🤖</h1>\n",
    "    <i></i>\n",
    "</center>\n",
    "\n",
    "XGBoost works in the following way:\n",
    "\n",
    "- trains the first model (aka Naive Model);\n",
    "- predicts the results;\n",
    "- calculates the loss (such as MAE, MSE, MRE and so on);\n",
    "- chooses a new model to train;\n",
    "- adds the new model to the Naive one in order to get better\n",
    "results;\n",
    "- the cycle is repeated till the model reaches the learning\n",
    "rate goal."
   ]
  },
  {
   "cell_type": "markdown",
   "id": "5679981d-ada6-4048-a1bf-49781352a746",
   "metadata": {},
   "source": [
    "<h1 id='0-simple-boosting' style='color:#7159c1; border-bottom:3px solid #7159c1; letter-spacing:2px; font-family:JetBrains Mono; font-weight: bold; text-align:left; font-size:240%;padding:0'>0 | Simple Boosting</h1>"
   ]
  },
  {
   "cell_type": "code",
   "execution_count": 1,
   "id": "088bfb59-a06c-46ef-9cc8-8a9fc4513622",
   "metadata": {},
   "outputs": [],
   "source": [
    "# ---- Imports ----\n",
    "import pandas as pd # pip install pandas\n",
    "from xgboost import XGBRegressor # pip install xgboost\n",
    "from sklearn.metrics import mean_absolute_error # pip install sklearn\n",
    "from sklearn.model_selection import train_test_split\n",
    "\n",
    "autos_df = pd.read_csv('./datasets/autos.csv')\n",
    "autos_df = autos_df.select_dtypes(exclude='object')\n",
    "\n",
    "X = autos_df.copy()\n",
    "y = X.pop('price')\n",
    "\n",
    "X_train, X_valid, y_train, y_valid = train_test_split(\n",
    "    X, y\n",
    "    , train_size=0.70\n",
    "    , test_size=0.30\n",
    "    , random_state=20242201\n",
    ")"
   ]
  },
  {
   "cell_type": "code",
   "execution_count": 2,
   "id": "35c52d28-df92-4a6a-9ff2-8c8501206c49",
   "metadata": {},
   "outputs": [
    {
     "name": "stdout",
     "output_type": "stream",
     "text": [
      "- MAE: 1381.8241345635777\n"
     ]
    }
   ],
   "source": [
    "# ---- Creating XGBoost Model ----\n",
    "#\n",
    "# - Parameters:\n",
    "#\n",
    "# / n_estimators: how many times the cycle will be repeated.\n",
    "# It's often between 100-1000 times. However, take care, because:\n",
    "#    - Too low a value causes underfitting, which leads to inaccurate \n",
    "# redictions on both training data and test data.\n",
    "#    - Too high a value causes overfitting, which causes accurate \n",
    "# predictions on training data, but inaccurate predictions on test \n",
    "# data (which is what we care about).\n",
    "#\n",
    "# / early_stopping_rounds: the model will stop running if it gets X\n",
    "# cycles without improving the learning rate. It's often setted\n",
    "# by 5.\n",
    "# Also, when you use this parameter, you gotta assign the validation\n",
    "# dataset to the model too with the EVAL_SET parameter\n",
    "#\n",
    "# / learning_rate: this parameter is multiplied to the predictions\n",
    "# results in order to get more accurate results. As small the learning\n",
    "# rate is and larger the n_estimators are, the better the predictions\n",
    "# will be.\n",
    "# In the other hand, how the learning_rate makes the model goes through\n",
    "# the cycle more times, the model will take more time to process.\n",
    "# The default leaning_rate is 0.1.\n",
    "#\n",
    "# / n_jobs: you assign the number of cores the CPU/GPU/TPU has\n",
    "# in order to run the code in parallel\n",
    "#\n",
    "# / verbose: False >> turns off the train log. True (default) >>\n",
    "# turns on\n",
    "#\n",
    "xgb_model_1 = XGBRegressor(\n",
    "    n_estimators=500\n",
    "    , learning_rate=0.05\n",
    "    , n_jobs=4\n",
    "    , early_stopping_rounds=5\n",
    "    , random_state=2024221\n",
    ")\n",
    "\n",
    "xgb_model_1.fit(\n",
    "    X_train, y_train\n",
    "    , eval_set=[(X_valid, y_valid)]\n",
    "    , verbose=False\n",
    ")\n",
    "\n",
    "# ---- Predictions ----\n",
    "predictions_1 = xgb_model_1.predict(X_valid)\n",
    "mae_1 = mean_absolute_error(predictions_1, y_valid)\n",
    "print(f'- MAE: {mae_1}')"
   ]
  },
  {
   "cell_type": "markdown",
   "id": "eb0d0d3f-bbb8-4e0b-838f-f6dbf22030d2",
   "metadata": {},
   "source": [
    "<h1 id='1-advanced-boosting' style='color:#7159c1; border-bottom:3px solid #7159c1; letter-spacing:2px; font-family:JetBrains Mono; font-weight: bold; text-align:left; font-size:240%;padding:0'>1 | Advanced Boosting</h1>\n",
    "\n",
    "This is a complement of XGBoost where I explain about some parameters that can be set up when creating the model and I show how to apply Cross-Validation with this technique."
   ]
  },
  {
   "cell_type": "code",
   "execution_count": 3,
   "id": "2c6f7dd7-5154-4c0d-916b-406b21e83f74",
   "metadata": {},
   "outputs": [],
   "source": [
    "# ---- Importings ----\n",
    "import xgboost as xgb\n",
    "from xgboost import XGBRegressor\n",
    "from sklearn.metrics import mean_absolute_error\n",
    "from sklearn.model_selection import train_test_split\n",
    "import matplotlib.pyplot as plt\n",
    "\n",
    "X_train, X_valid, y_train, y_valid = train_test_split(\n",
    "    X, y\n",
    "    , train_size=00.70\n",
    "    , test_size=0.30\n",
    "    , random_state=20242201\n",
    ")"
   ]
  },
  {
   "cell_type": "code",
   "execution_count": 4,
   "id": "72913c4b-5dd2-40d2-8c64-ffc1d7d1e8e1",
   "metadata": {},
   "outputs": [],
   "source": [
    "# ---- Creating XGB Model using Some Parameters ----\n",
    "#\n",
    "# - objective: will XGB make predictions (reg:linear) or classifications\n",
    "# (reg:logistic for only decision, binary:logistic for decision and probability)\n",
    "# - colsample_bytree: percentage of features used by tree (high values lead to overfitting)\n",
    "# - learning_rate: the learning rate measure!\n",
    "# - max_depth: maximum level that a tree can grown during any boosting round\n",
    "# - alpha: regularization on leaf weights (high values lead to high regularizations)\n",
    "# - n_estimators: number of trees that'll be build\n",
    "#\n",
    "xgb_model_2 = XGBRegressor(\n",
    "    objective='reg:squarederror'\n",
    "    , colsample_bytree=0.30\n",
    "    , learning_rate=0.10\n",
    "    , max_depth=5\n",
    "    , alpha=10\n",
    "    , n_estimators=10\n",
    "    , n_jobs=4\n",
    "    , early_stopping_rounds=5 # optional\n",
    "    , random_state=20242201\n",
    ")\n",
    "\n",
    "xgb_model_2.fit(\n",
    "    X_train, y_train\n",
    "    , eval_set=[(X_valid, y_valid)] # optional\n",
    "    , verbose=False\n",
    ")\n",
    "\n",
    "predictions_2 = xgb_model_2.predict(X_valid)"
   ]
  },
  {
   "cell_type": "code",
   "execution_count": 8,
   "id": "ed6b29ba-d6d4-4694-9b3b-51820f17358a",
   "metadata": {},
   "outputs": [
    {
     "name": "stdout",
     "output_type": "stream",
     "text": [
      "- Last Validation RMSE Mean: 9    6539.911566\n",
      "Name: test-rmse-mean, dtype: float64\n",
      "---\n"
     ]
    },
    {
     "data": {
      "text/html": [
       "<div>\n",
       "<style scoped>\n",
       "    .dataframe tbody tr th:only-of-type {\n",
       "        vertical-align: middle;\n",
       "    }\n",
       "\n",
       "    .dataframe tbody tr th {\n",
       "        vertical-align: top;\n",
       "    }\n",
       "\n",
       "    .dataframe thead th {\n",
       "        text-align: right;\n",
       "    }\n",
       "</style>\n",
       "<table border=\"1\" class=\"dataframe\">\n",
       "  <thead>\n",
       "    <tr style=\"text-align: right;\">\n",
       "      <th></th>\n",
       "      <th>train-rmse-mean</th>\n",
       "      <th>train-rmse-std</th>\n",
       "      <th>test-rmse-mean</th>\n",
       "      <th>test-rmse-std</th>\n",
       "    </tr>\n",
       "  </thead>\n",
       "  <tbody>\n",
       "    <tr>\n",
       "      <th>0</th>\n",
       "      <td>14018.281618</td>\n",
       "      <td>397.043448</td>\n",
       "      <td>13912.332720</td>\n",
       "      <td>1681.828763</td>\n",
       "    </tr>\n",
       "    <tr>\n",
       "      <th>1</th>\n",
       "      <td>12788.429893</td>\n",
       "      <td>357.919190</td>\n",
       "      <td>12708.994222</td>\n",
       "      <td>1578.262194</td>\n",
       "    </tr>\n",
       "    <tr>\n",
       "      <th>2</th>\n",
       "      <td>11671.855719</td>\n",
       "      <td>319.018206</td>\n",
       "      <td>11614.501705</td>\n",
       "      <td>1482.788109</td>\n",
       "    </tr>\n",
       "    <tr>\n",
       "      <th>3</th>\n",
       "      <td>10659.345969</td>\n",
       "      <td>286.784287</td>\n",
       "      <td>10637.990206</td>\n",
       "      <td>1334.883862</td>\n",
       "    </tr>\n",
       "    <tr>\n",
       "      <th>4</th>\n",
       "      <td>9750.590516</td>\n",
       "      <td>255.440534</td>\n",
       "      <td>9780.589223</td>\n",
       "      <td>1267.409905</td>\n",
       "    </tr>\n",
       "  </tbody>\n",
       "</table>\n",
       "</div>"
      ],
      "text/plain": [
       "   train-rmse-mean  train-rmse-std  test-rmse-mean  test-rmse-std\n",
       "0     14018.281618      397.043448    13912.332720    1681.828763\n",
       "1     12788.429893      357.919190    12708.994222    1578.262194\n",
       "2     11671.855719      319.018206    11614.501705    1482.788109\n",
       "3     10659.345969      286.784287    10637.990206    1334.883862\n",
       "4      9750.590516      255.440534     9780.589223    1267.409905"
      ]
     },
     "execution_count": 8,
     "metadata": {},
     "output_type": "execute_result"
    }
   ],
   "source": [
    "# ---- Applying Cross-Validation (CV) ----\n",
    "params = {\n",
    "    'objective' : 'reg:squarederror'\n",
    "    , 'colsample_bytree': 0.30\n",
    "    , 'learning_rate' : 0.10\n",
    "    , 'max_depth': 5\n",
    "    , 'alpha': 10\n",
    "    # , 'n_estimators': 10 # replaced by 'num_boost_round'\n",
    "    , 'n_jobs': 4\n",
    "    # , 'early_stopping_rounds': 5 # replaced by 'early_stopping_rounds'\n",
    "    #, 'random_state': 20242201 # replaced by 'seed'\n",
    "}\n",
    "\n",
    "# Parameters:\n",
    "#\n",
    "# - dtrain: the whole dataset to be split into train and validation\n",
    "# - params: the parameters to createe the model (set as a dictionary)\n",
    "# - nfold: number of folds to create the train and validation datasets\n",
    "# - num_boost_round: number of trees that will be build (it's like 'n_estimators')\n",
    "# - early_stopping_rounds: number of rounds without improving the learning to stop the training phase\n",
    "# - metrics: metrics to evaluate the model\n",
    "# - as_pandas: True >> returns the results in Pandas DataFrame format\n",
    "# - seed: it's like 'random_state' for reproducability\n",
    "#\n",
    "cv_results = xgb.cv(\n",
    "    dtrain=xgb.DMatrix(X_train, y_train)\n",
    "    , params=params\n",
    "    , nfold=5\n",
    "    , num_boost_round=10\n",
    "    , early_stopping_rounds=5\n",
    "    , metrics='rmse'\n",
    "    , as_pandas=True\n",
    "    , seed=20242201\n",
    ")\n",
    "\n",
    "print(f'- Last Validation RMSE Mean: {cv_results[\"test-rmse-mean\"].tail(1)}')\n",
    "print('---')\n",
    "cv_results.head()"
   ]
  },
  {
   "cell_type": "code",
   "execution_count": 16,
   "id": "55ce74d9-00be-48ae-9080-64b7a3a026fa",
   "metadata": {},
   "outputs": [
    {
     "data": {
      "image/png": "[encoded data removed]",
      "text/plain": [
       "<Figure size 640x480 with 1 Axes>"
      ]
     },
     "metadata": {},
     "output_type": "display_data"
    }
   ],
   "source": [
    "# ---- Evaluation ----\n",
    "# Creating the model after Cross-Validation Step, plotting the\n",
    "# first tree and Feature Importance plotting\n",
    "X_dmatrix_train = xgb.DMatrix(X_train, y_train)\n",
    "xgb_model_3 = xgb.train(\n",
    "    params=params\n",
    "    , num_boost_round=100\n",
    "    , dtrain=X_dmatrix_train\n",
    ")\n",
    "\n",
    "# ---- Plotting Tree ----\n",
    "#\n",
    "# - it's needed to have 'Graphviz' installed\n",
    "#\n",
    "# xgb.plot_tree(xgb_model_3, num_trees=0)\n",
    "# plt.rcParams['figure.figsize'] = [50, 10]\n",
    "# plt.show()\n",
    "\n",
    "# ---- Feature Importance ----\n",
    "xgb.plot_importance(xgb_model_3)\n",
    "plt.rcParams['figure.figsize'] = [5, 5]\n",
    "plt.show()"
   ]
  },
  {
   "cell_type": "code",
   "execution_count": 18,
   "id": "fc375c7f-9c17-4eff-b04e-e74f3aaafb48",
   "metadata": {},
   "outputs": [],
   "source": [
    "# ---- Making Predictions ----\n",
    "predictions = xgb_model_3.predict(xgb.DMatrix(data=X_valid, label=y_valid))"
   ]
  },
  {
   "cell_type": "markdown",
   "id": "44f9abcd-32cd-4e02-a537-87f9beaaa29a",
   "metadata": {},
   "source": [
    "---\n",
    "\n",
    "<h1 id='reach-me' style='color:#7159c1; border-bottom:3px solid #7159c1; letter-spacing:2px; font-family:JetBrains Mono; font-weight: bold; text-align:left; font-size:240%;padding:0'>📫 | Reach Me</h1>\n",
    "\n",
    "> **Email** - [csfelix08@gmail.com](mailto:csfelix08@gmail.com?)\n",
    "\n",
    "> **Linkedin** - [linkedin.com/in/csfelix/](https://www.linkedin.com/in/csfelix/)\n",
    "\n",
    "> **GitHub:** - [CSFelix](https://github.com/CSFelix)\n",
    "\n",
    "> **Kaggle** - [DSFelix](https://www.kaggle.com/dsfelix)\n",
    "\n",
    "> **Portfolio** - [CSFelix.io](https://csfelix.github.io/)."
   ]
  }
 ],
 "metadata": {
  "kernelspec": {
   "display_name": "Python 3 (ipykernel)",
   "language": "python",
   "name": "python3"
  },
  "language_info": {
   "codemirror_mode": {
    "name": "ipython",
    "version": 3
   },
   "file_extension": ".py",
   "mimetype": "text/x-python",
   "name": "python",
   "nbconvert_exporter": "python",
   "pygments_lexer": "ipython3",
   "version": "3.10.9"
  }
 },
 "nbformat": 4,
 "nbformat_minor": 5
}
