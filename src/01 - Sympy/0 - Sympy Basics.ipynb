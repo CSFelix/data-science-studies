{
 "cells": [
  {
   "cell_type": "markdown",
   "id": "ec36f79f-af85-41c2-87ad-02f76df23137",
   "metadata": {},
   "source": [
    "<center>\n",
    "    <h1 id='sympy-basics' style='color:#7159c1'>📐 Sympy Basics 📐</h1>\n",
    "    <i>Symbols, Equations, Solvers, Integrations, Derivatives and much more</i>\n",
    "</center>\n",
    "\n",
    "```txt\n",
    "- Symbols and Equations\n",
    "- Calculus (1st Year)\n",
    "```"
   ]
  },
  {
   "cell_type": "code",
   "execution_count": 36,
   "id": "05925d04-f135-437b-aa7b-5477d7f6a269",
   "metadata": {},
   "outputs": [],
   "source": [
    "import sympy as smp # pip install sympy\n",
    "import numpy as np # pip install numpy\n",
    "import matplotlib.pyplot as plt # pip install matplotlib"
   ]
  },
  {
   "cell_type": "markdown",
   "id": "61c1967b-1904-41a7-af08-4cf6fd6bcb65",
   "metadata": {},
   "source": [
    "<p id='0-symbols-and-equations' style='color:#7159c1; border-bottom:3px solid #7159c1; letter-spacing:2px; font-family:JetBrains Mono; font-weight: bold; text-align:left; font-size:240%;padding:0'>0 | Symbols and Equations</p>\n",
    "\n",
    "```\n",
    "- Symbols\n",
    "- Equations\n",
    "- Factor, Expand, Simplify and Solve\n",
    "- Multivariate\n",
    "- Lambdify\n",
    "```"
   ]
  },
  {
   "cell_type": "markdown",
   "id": "17683c6e-291d-4d3a-9f05-7f5d4336420d",
   "metadata": {},
   "source": [
    "---\n",
    "\n",
    "<b>- Symbols</b>"
   ]
  },
  {
   "cell_type": "code",
   "execution_count": 2,
   "id": "b89dca61-63e7-40bf-b99f-f85f082e000c",
   "metadata": {},
   "outputs": [
    {
     "data": {
      "text/latex": [
       "$\\displaystyle x$"
      ],
      "text/plain": [
       "x"
      ]
     },
     "execution_count": 2,
     "metadata": {},
     "output_type": "execute_result"
    }
   ],
   "source": [
    "# ---- Symbol ----\n",
    "#\n",
    "# - simple variable symbol\n",
    "#\n",
    "x = smp.symbols('x')\n",
    "x"
   ]
  },
  {
   "cell_type": "code",
   "execution_count": 25,
   "id": "52835e47-a769-4050-86d4-69329f4282ef",
   "metadata": {},
   "outputs": [
    {
     "data": {
      "text/latex": [
       "$\\displaystyle a^{2} + b \\sin{\\left(c \\right)}$"
      ],
      "text/plain": [
       "a**2 + b*sin(c)"
      ]
     },
     "execution_count": 25,
     "metadata": {},
     "output_type": "execute_result"
    }
   ],
   "source": [
    "# ---- Symbol ----\n",
    "#\n",
    "# - multiple variable symbols declaration\n",
    "#\n",
    "a, b, c = smp.symbols('a b c')\n",
    "F = a**2 + smp.sin(c) * b\n",
    "F"
   ]
  },
  {
   "cell_type": "code",
   "execution_count": 4,
   "id": "2e1e7f8e-44fe-4fce-8553-e55dd595f35f",
   "metadata": {},
   "outputs": [
    {
     "data": {
      "text/latex": [
       "$\\displaystyle \\eta$"
      ],
      "text/plain": [
       "eta"
      ]
     },
     "execution_count": 4,
     "metadata": {},
     "output_type": "execute_result"
    }
   ],
   "source": [
    "# ---- Symbol ----\n",
    "#\n",
    "# - you can also use greek letters\n",
    "#\n",
    "greek_eta_symbol = smp.symbols('eta')\n",
    "greek_eta_symbol"
   ]
  },
  {
   "cell_type": "markdown",
   "id": "fa62f1eb-e9cf-4343-a938-41c370cbe27a",
   "metadata": {},
   "source": [
    "---\n",
    "\n",
    "<b>- Equations</b>"
   ]
  },
  {
   "cell_type": "code",
   "execution_count": 14,
   "id": "b523bec9-75ea-4c7d-9efa-a9f3a49aeb3d",
   "metadata": {},
   "outputs": [
    {
     "data": {
      "text/latex": [
       "$\\displaystyle x^{2}$"
      ],
      "text/plain": [
       "x**2"
      ]
     },
     "execution_count": 14,
     "metadata": {},
     "output_type": "execute_result"
    }
   ],
   "source": [
    "# ---- Equation ----\n",
    "squared_x = x**2\n",
    "squared_x"
   ]
  },
  {
   "cell_type": "code",
   "execution_count": 8,
   "id": "29e68f5a-1587-459f-80da-c7dfc9cfd636",
   "metadata": {},
   "outputs": [
    {
     "data": {
      "text/plain": [
       "0.5"
      ]
     },
     "execution_count": 8,
     "metadata": {},
     "output_type": "execute_result"
    }
   ],
   "source": [
    "# ---- Equation ----\n",
    "#\n",
    "# - for numbers, if we use '/' to create fractions, Python will\n",
    "# automatically calculate the result\n",
    "#\n",
    "1 / 2"
   ]
  },
  {
   "cell_type": "code",
   "execution_count": 9,
   "id": "c6933e83-8505-499c-b71d-1e724a7b0900",
   "metadata": {},
   "outputs": [
    {
     "data": {
      "text/latex": [
       "$\\displaystyle \\frac{1}{2}$"
      ],
      "text/plain": [
       "1/2"
      ]
     },
     "execution_count": 9,
     "metadata": {},
     "output_type": "execute_result"
    }
   ],
   "source": [
    "# ---- Equation ----\n",
    "#\n",
    "# - to avoid it, we use 'smp.Rational' function\n",
    "#\n",
    "half = smp.Rational(1, 2)\n",
    "half"
   ]
  },
  {
   "cell_type": "markdown",
   "id": "47f1fd99-1b6d-4909-9a48-45686244d99a",
   "metadata": {},
   "source": [
    "---\n",
    "\n",
    "<b>- Factor, Expand, Simplify and Solve</b>"
   ]
  },
  {
   "cell_type": "code",
   "execution_count": 15,
   "id": "15b485ad-4a3c-406a-932c-601ebe97864f",
   "metadata": {},
   "outputs": [
    {
     "data": {
      "text/latex": [
       "$\\displaystyle \\left(x^{2} + 4 x + 3\\right)^{2}$"
      ],
      "text/plain": [
       "(x**2 + 4*x + 3)**2"
      ]
     },
     "execution_count": 15,
     "metadata": {},
     "output_type": "execute_result"
    }
   ],
   "source": [
    "# First, let's create an equation called 'y' and after that\n",
    "# create a new equation powering 'y' to 2.\n",
    "y = x**2 + 4*x + 3\n",
    "squared_y = y**2\n",
    "squared_y"
   ]
  },
  {
   "cell_type": "code",
   "execution_count": 16,
   "id": "8873b322-afbe-4b07-b88a-cc8c62bb6697",
   "metadata": {},
   "outputs": [
    {
     "data": {
      "text/latex": [
       "$\\displaystyle \\left(x + 1\\right)^{2} \\left(x + 3\\right)^{2}$"
      ],
      "text/plain": [
       "(x + 1)**2*(x + 3)**2"
      ]
     },
     "execution_count": 16,
     "metadata": {},
     "output_type": "execute_result"
    }
   ],
   "source": [
    "# ---- Factor ----\n",
    "#\n",
    "# - since our new equation is squared, we can find its factor\n",
    "# in order to know how to make the square process\n",
    "#\n",
    "squared_y.factor()"
   ]
  },
  {
   "cell_type": "code",
   "execution_count": 18,
   "id": "a892b8b7-6711-4e6f-9d98-0eb053a1f366",
   "metadata": {},
   "outputs": [
    {
     "data": {
      "text/latex": [
       "$\\displaystyle x^{4} + 8 x^{3} + 22 x^{2} + 24 x + 9$"
      ],
      "text/plain": [
       "x**4 + 8*x**3 + 22*x**2 + 24*x + 9"
      ]
     },
     "execution_count": 18,
     "metadata": {},
     "output_type": "execute_result"
    }
   ],
   "source": [
    "# ---- Expand ----\n",
    "#\n",
    "# - okay, we already know how to proceed the square process, but\n",
    "# you have to agree with me that make this multiplication with pen\n",
    "# and paper is kind of boring, isn't it?\n",
    "# - so, we use expand to get the result faster!\n",
    "#\n",
    "squared_y.expand()"
   ]
  },
  {
   "cell_type": "code",
   "execution_count": 19,
   "id": "acaf82c9-4351-447a-8f7c-01de4e965f8f",
   "metadata": {},
   "outputs": [
    {
     "data": {
      "text/latex": [
       "$\\displaystyle \\left(x^{2} + 4 x + 3\\right)^{2}$"
      ],
      "text/plain": [
       "(x**2 + 4*x + 3)**2"
      ]
     },
     "execution_count": 19,
     "metadata": {},
     "output_type": "execute_result"
    }
   ],
   "source": [
    "# ---- Simplify ----\n",
    "#\n",
    "# - yeah, now our equation is even bigger, but don't worry,\n",
    "# we can use 'simplify' to make the equation simplier!\n",
    "#\n",
    "squared_y.simplify() \n",
    "\n",
    "# Don't be surprised, but the simplier version of our equation is,\n",
    "# literally, its initial form. It's just a coincidence and usually\n",
    "# it won't have the same behavior for other equations."
   ]
  },
  {
   "cell_type": "code",
   "execution_count": 22,
   "id": "8642f4f5-9e3e-47d5-86cb-27c467ed8df8",
   "metadata": {},
   "outputs": [
    {
     "data": {
      "text/plain": [
       "[-3, -1]"
      ]
     },
     "execution_count": 22,
     "metadata": {},
     "output_type": "execute_result"
    }
   ],
   "source": [
    "# ---- Solve ----\n",
    "#\n",
    "# - now let's solve our equation in order to find all values of 'x'\n",
    "# where the equation results in 0, that is, f(x) = 0\n",
    "#\n",
    "smp.solve(squared_y, x)"
   ]
  },
  {
   "cell_type": "code",
   "execution_count": 24,
   "id": "05b1082d-a636-49d5-8e0d-c5df6a6715cc",
   "metadata": {},
   "outputs": [
    {
     "data": {
      "text/plain": [
       "[-3, -1]"
      ]
     },
     "execution_count": 24,
     "metadata": {},
     "output_type": "execute_result"
    }
   ],
   "source": [
    "# ---- Solve ----\n",
    "#\n",
    "# - Good Practice: if you know that your variable 'x' is real \n",
    "# (not imaginary i) and  positive/negative, you can specify it\n",
    "# inside 'smp.solve' function in order to make the calculation faster.\n",
    "#\n",
    "smp.solve(squared_y, x, real=True, positive=False)"
   ]
  },
  {
   "cell_type": "markdown",
   "id": "ec6cea5c-c2dd-4513-ab77-2636f7190dbd",
   "metadata": {},
   "source": [
    "---\n",
    "\n",
    "<b>- Multivariate</b>"
   ]
  },
  {
   "cell_type": "code",
   "execution_count": 26,
   "id": "c3c42e63-3c32-400a-ad8e-58025f1abd37",
   "metadata": {},
   "outputs": [
    {
     "data": {
      "text/latex": [
       "$\\displaystyle a^{2} + b \\sin{\\left(c \\right)}$"
      ],
      "text/plain": [
       "a**2 + b*sin(c)"
      ]
     },
     "execution_count": 26,
     "metadata": {},
     "output_type": "execute_result"
    }
   ],
   "source": [
    "# First, let's create an equation F following the instructions:\n",
    "#\n",
    "# - symbol a squared\n",
    "# - plus sin of symbol c\n",
    "# - time symbol b\n",
    "#\n",
    "a, b, c = smp.symbols('a b c')\n",
    "F = a**2 + smp.sin(c) * b\n",
    "F"
   ]
  },
  {
   "cell_type": "code",
   "execution_count": 29,
   "id": "7eb2abae-cc12-4829-9238-2ea1c743cb68",
   "metadata": {},
   "outputs": [
    {
     "data": {
      "text/plain": [
       "[-sqrt(-b*sin(c)), sqrt(-b*sin(c))]"
      ]
     },
     "execution_count": 29,
     "metadata": {},
     "output_type": "execute_result"
    }
   ],
   "source": [
    "# ---- Multivariate: Solvers of a ----\n",
    "#\n",
    "# - since our equation contains three variables/symbols, there are\n",
    "# solutions where f(a, b, c) = 0 for each symbol\n",
    "#\n",
    "a_solutions = smp.solve(F, a)\n",
    "a_solutions"
   ]
  },
  {
   "cell_type": "code",
   "execution_count": 30,
   "id": "01598bd4-1904-4574-b0e5-51652c57c816",
   "metadata": {},
   "outputs": [
    {
     "data": {
      "text/plain": [
       "[-a**2/sin(c)]"
      ]
     },
     "execution_count": 30,
     "metadata": {},
     "output_type": "execute_result"
    }
   ],
   "source": [
    "# ---- Multivariate: Solvers of b ----\n",
    "b_solutions = smp.solve(F, b)\n",
    "b_solutions"
   ]
  },
  {
   "cell_type": "code",
   "execution_count": 31,
   "id": "3d809ca3-81fa-456f-8943-828302974d5e",
   "metadata": {},
   "outputs": [
    {
     "data": {
      "text/plain": [
       "[asin(a**2/b) + pi, -asin(a**2/b)]"
      ]
     },
     "execution_count": 31,
     "metadata": {},
     "output_type": "execute_result"
    }
   ],
   "source": [
    "# ---- Multivariate: Solvers of c ----\n",
    "c_solutions = smp.solve(F, c)\n",
    "c_solutions"
   ]
  },
  {
   "cell_type": "code",
   "execution_count": 33,
   "id": "1aae2cef-43c5-43b8-8e12-11f226abed01",
   "metadata": {},
   "outputs": [
    {
     "data": {
      "text/latex": [
       "$\\displaystyle a^{2} + 3 \\sin{\\left(\\frac{\\cos{\\left(b \\right)}}{2} \\right)}$"
      ],
      "text/plain": [
       "a**2 + 3*sin(cos(b)/2)"
      ]
     },
     "execution_count": 33,
     "metadata": {},
     "output_type": "execute_result"
    }
   ],
   "source": [
    "# ---- Multivariate: Replacements ----\n",
    "#\n",
    "# - we can also transform the equation replacing symbols by values\n",
    "# - for instance, consider 'b' being replaced by 3 and 'c' by\n",
    "# cos of 'b' times 1/2\n",
    "#\n",
    "F.subs([(b, 3), (c, smp.cos(b) * smp.Rational(1, 2))])"
   ]
  },
  {
   "cell_type": "markdown",
   "id": "bf38f983-da62-4440-ba2c-f31abec4d527",
   "metadata": {},
   "source": [
    "---\n",
    "\n",
    "<b>- Lambdify</b>"
   ]
  },
  {
   "cell_type": "code",
   "execution_count": 35,
   "id": "f9b97cb0-4bbd-4a98-b977-d79658fcebfc",
   "metadata": {},
   "outputs": [
    {
     "data": {
      "text/latex": [
       "$\\displaystyle a^{2} + b \\sin{\\left(c \\right)}$"
      ],
      "text/plain": [
       "a**2 + b*sin(c)"
      ]
     },
     "execution_count": 35,
     "metadata": {},
     "output_type": "execute_result"
    }
   ],
   "source": [
    "# ---- Lambdify ----\n",
    "#\n",
    "# - 'Lambdify' is the process to transform a SymPy Equation\n",
    "# into a Python Equation, turning possible to use it as a Function\n",
    "# and make Plots\n",
    "#\n",
    "F"
   ]
  },
  {
   "cell_type": "code",
   "execution_count": 38,
   "id": "bef8f94c-3ed7-4324-b46f-1e910f65563e",
   "metadata": {},
   "outputs": [
    {
     "data": {
      "text/plain": [
       "1.2822400161197345"
      ]
     },
     "execution_count": 38,
     "metadata": {},
     "output_type": "execute_result"
    }
   ],
   "source": [
    "# ---- Lambdify ----\n",
    "#\n",
    "# - transforming the equation into a Python Function and \n",
    "# calculating the result by assigning the values 1, 2 and 3\n",
    "# to the a, b and c symbols repectively\n",
    "#\n",
    "expression_function = smp.lambdify([a, b, c], F)\n",
    "expression_function(1, 2, 3)"
   ]
  },
  {
   "cell_type": "code",
   "execution_count": 41,
   "id": "e692c26b-f62a-461f-9a54-75b53781f3fa",
   "metadata": {},
   "outputs": [
    {
     "data": {
      "image/png": "[encoded data removed]",
      "text/plain": [
       "<Figure size 640x480 with 1 Axes>"
      ]
     },
     "metadata": {},
     "output_type": "display_data"
    }
   ],
   "source": [
    "# ---- Lambdify ----\n",
    "#\n",
    "# - calculating the results for more values and plotting it\n",
    "# - np.linspace(min, max, number_elements): returns an array containing\n",
    "# 'n' elements from min to max. The distance between each element\n",
    "# is the same, that is, Linear\n",
    "#\n",
    "a_numbers = np.linspace(0, 1, 100)\n",
    "b_numbers = 2\n",
    "c_numbers = 3\n",
    "\n",
    "plt.plot(a_numbers, expression_function(a_numbers, b_numbers, c_numbers))\n",
    "\n",
    "plt.title('Plot of \"a\" Symbol')\n",
    "plt.xlabel('\"a\" Symbol Values')\n",
    "plt.ylabel('Expression Function Results')\n",
    "plt.show()"
   ]
  },
  {
   "cell_type": "markdown",
   "id": "2071d30c-5739-4f6a-81d0-76fa82279590",
   "metadata": {},
   "source": [
    "<p id='1-calculus-1st-year' style='color:#7159c1; border-bottom:3px solid #7159c1; letter-spacing:2px; font-family:JetBrains Mono; font-weight: bold; text-align:left; font-size:240%;padding:0'>1 | Calculus (1st Year)</p>\n",
    "\n",
    "```\n",
    "- Limits\n",
    "- Derivatives\n",
    "- Basic Antiderivatives\n",
    "- Definite Integrals\n",
    "```\n",
    "\n",
    "For each topic, we will be solving an equation. Don't worry how it was solved, for now, just know that it's possible to solve using SymPy.\n",
    "\n",
    "YouTube videdo explaining about integrals: [1st Year Calculus, But in PYTHON](https://www.youtube.com/watch?v=-SdIZHPuW9o)."
   ]
  },
  {
   "cell_type": "code",
   "execution_count": 42,
   "id": "6349da73-9b42-40ec-bffa-6f141f65d3eb",
   "metadata": {},
   "outputs": [
    {
     "data": {
      "text/latex": [
       "$\\displaystyle x$"
      ],
      "text/plain": [
       "x"
      ]
     },
     "execution_count": 42,
     "metadata": {},
     "output_type": "execute_result"
    }
   ],
   "source": [
    "x = smp.symbols('x')\n",
    "x"
   ]
  },
  {
   "cell_type": "markdown",
   "id": "0ed99876-9eb3-45ff-a780-681542859a5d",
   "metadata": {},
   "source": [
    "---\n",
    "\n",
    "<b>- Limits</b>\n",
    "\n",
    "$$\n",
    "\\lim_{x \\to \\pi} \\sin(\\frac{x}{2} + \\sin(x))\n",
    "$$"
   ]
  },
  {
   "cell_type": "code",
   "execution_count": 43,
   "id": "a15c2d20-0ed7-4d95-b9e6-26223303a646",
   "metadata": {},
   "outputs": [
    {
     "data": {
      "text/latex": [
       "$\\displaystyle 1$"
      ],
      "text/plain": [
       "1"
      ]
     },
     "execution_count": 43,
     "metadata": {},
     "output_type": "execute_result"
    }
   ],
   "source": [
    "smp.limit(smp.sin(x/2 + smp.sin(x)), x, smp.pi)"
   ]
  },
  {
   "cell_type": "markdown",
   "id": "27c28fa2-7a1f-4a8c-86ee-6ffbab4518c1",
   "metadata": {},
   "source": [
    "---\n",
    "\n",
    "<b>- Derivatives</b>\n",
    "\n",
    "$$\n",
    "\\frac{d}{d x} \\cdot \\left(\\frac{1 + \\sin(x)}{1 - \\cos(x)} \\right)^2\n",
    "$$"
   ]
  },
  {
   "cell_type": "code",
   "execution_count": 44,
   "id": "1941eff0-91a4-4f17-9f06-840d27a2e514",
   "metadata": {},
   "outputs": [
    {
     "data": {
      "text/latex": [
       "$\\displaystyle \\frac{2 \\left(\\sin{\\left(x \\right)} + 1\\right) \\cos{\\left(x \\right)}}{\\left(1 - \\cos{\\left(x \\right)}\\right)^{2}} - \\frac{2 \\left(\\sin{\\left(x \\right)} + 1\\right)^{2} \\sin{\\left(x \\right)}}{\\left(1 - \\cos{\\left(x \\right)}\\right)^{3}}$"
      ],
      "text/plain": [
       "2*(sin(x) + 1)*cos(x)/(1 - cos(x))**2 - 2*(sin(x) + 1)**2*sin(x)/(1 - cos(x))**3"
      ]
     },
     "execution_count": 44,
     "metadata": {},
     "output_type": "execute_result"
    }
   ],
   "source": [
    "smp.diff(((1 + smp.sin(x)) / (1 - smp.cos(x)))**2, x)"
   ]
  },
  {
   "cell_type": "markdown",
   "id": "952646bc-6f52-4647-b75f-c80bf73d4e69",
   "metadata": {},
   "source": [
    "---\n",
    "\n",
    "<b>- Basic Antiderivatives</b>\n",
    "\n",
    "$$\n",
    "\\int \\csc(x) \\cdot \\cot(x) \\cdot d x\n",
    "$$"
   ]
  },
  {
   "cell_type": "code",
   "execution_count": 45,
   "id": "823841a5-2480-4389-8339-c97985eed6db",
   "metadata": {},
   "outputs": [
    {
     "data": {
      "text/latex": [
       "$\\displaystyle - \\frac{1}{\\sin{\\left(x \\right)}}$"
      ],
      "text/plain": [
       "-1/sin(x)"
      ]
     },
     "execution_count": 45,
     "metadata": {},
     "output_type": "execute_result"
    }
   ],
   "source": [
    "smp.integrate(smp.csc(x) * smp.cot(x), x)"
   ]
  },
  {
   "cell_type": "markdown",
   "id": "05e4b38d-301a-4ae9-ad14-3c9b1d2e62d1",
   "metadata": {},
   "source": [
    "---\n",
    "\n",
    "<b>- Definite Integrals</b>\n",
    "\n",
    "$$\n",
    "\\int_{0}^{\\ln(4)} \\frac{e^x \\cdot d x} {\\sqrt(e^{2x} + 9)}\n",
    "$$"
   ]
  },
  {
   "cell_type": "code",
   "execution_count": 46,
   "id": "cbe144f1-f7d8-42d9-8ab8-074d57333130",
   "metadata": {},
   "outputs": [
    {
     "data": {
      "text/latex": [
       "$\\displaystyle - \\operatorname{asinh}{\\left(\\frac{1}{3} \\right)} + \\operatorname{asinh}{\\left(\\frac{4}{3} \\right)}$"
      ],
      "text/plain": [
       "-asinh(1/3) + asinh(4/3)"
      ]
     },
     "execution_count": 46,
     "metadata": {},
     "output_type": "execute_result"
    }
   ],
   "source": [
    "smp.integrate(smp.exp(x) / smp.sqrt(smp.exp(2*x) + 9), (x, 0, smp.log(4)))"
   ]
  },
  {
   "cell_type": "markdown",
   "id": "6c3c20db-2c21-4a66-a02d-3973d36d0b76",
   "metadata": {},
   "source": [
    "<p id='reach-me' style='color:#7159c1; border-bottom:3px solid #7159c1; letter-spacing:2px; font-family:JetBrains Mono; font-weight: bold; text-align:left; font-size:240%;padding:0'>📫 | Reach Me</p>\n",
    "\n",
    "> **Email** - [csfelix08@gmail.com](mailto:csfelix08@gmail.com?)\n",
    "\n",
    "> **Linkedin** - [linkedin.com/in/csfelix/](https://www.linkedin.com/in/csfelix/)\n",
    "\n",
    "> **GitHub:** - [CSFelix](https://github.com/CSFelix)\n",
    "\n",
    "> **Kaggle** - [DSFelix](https://www.kaggle.com/dsfelix)\n",
    "\n",
    "> **Portfolio** - [CSFelix.io](https://csfelix.github.io/)."
   ]
  }
 ],
 "metadata": {
  "kernelspec": {
   "display_name": "Python 3 (ipykernel)",
   "language": "python",
   "name": "python3"
  },
  "language_info": {
   "codemirror_mode": {
    "name": "ipython",
    "version": 3
   },
   "file_extension": ".py",
   "mimetype": "text/x-python",
   "name": "python",
   "nbconvert_exporter": "python",
   "pygments_lexer": "ipython3",
   "version": "3.10.9"
  }
 },
 "nbformat": 4,
 "nbformat_minor": 5
}
