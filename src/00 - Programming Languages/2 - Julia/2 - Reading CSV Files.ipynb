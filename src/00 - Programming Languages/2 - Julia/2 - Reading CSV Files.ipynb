{
 "cells": [
  {
   "cell_type": "markdown",
   "id": "6f7187ab-1668-40c0-8fef-9f8a2e778e21",
   "metadata": {},
   "source": [
    "<center>\n",
    "    <h1 id='julia-basics-2' style='color:#7159c1'>🍡 Julia Basics 2 🍡</h1>\n",
    "    <i>Reading CSV Files</i>\n",
    "</center>\n",
    "\n",
    "```txt\n",
    "- Reading CSV Files\n",
    "```"
   ]
  },
  {
   "cell_type": "markdown",
   "id": "31b7bca6-a170-48f5-bffe-ab4e46f2a845",
   "metadata": {},
   "source": [
    "<p id='0-dataframes' style='color:#7159c1; border-bottom:3px solid #7159c1; letter-spacing:2px; font-family:JetBrains Mono; font-weight: bold; text-align:left; font-size:240%;padding:0'>0 | DataFrames</p>"
   ]
  },
  {
   "cell_type": "code",
   "execution_count": 12,
   "id": "2d164c4b-2e2e-427a-99ca-06832dfb2494",
   "metadata": {},
   "outputs": [],
   "source": [
    "using DataFrames # using Pkg; Pkg.add(\"DataFrames\")\n",
    "using CSV # Pkg.add(\"CSV\")\n",
    "using Printf"
   ]
  },
  {
   "cell_type": "code",
   "execution_count": 23,
   "id": "e2119aff-b90a-4171-ac16-766b881e1933",
   "metadata": {},
   "outputs": [
    {
     "name": "stdout",
     "output_type": "stream",
     "text": [
      "Number of observations: 46\n",
      "Number of features: 12\n",
      "---\n"
     ]
    },
    {
     "data": {
      "text/html": [
       "<div><div style = \"float: left;\"><span>5×12 DataFrame</span></div><div style = \"clear: both;\"></div></div><div class = \"data-frame\" style = \"overflow-x: scroll;\"><table class = \"data-frame\" style = \"margin-bottom: 6px;\"><thead><tr class = \"header\"><th class = \"rowNumber\" style = \"font-weight: bold; text-align: right;\">Row</th><th style = \"text-align: left;\">pdg_id</th><th style = \"text-align: left;\">pdg_name</th><th style = \"text-align: left;\">name</th><th style = \"text-align: left;\">charge</th><th style = \"text-align: left;\">rank</th><th style = \"text-align: left;\">quarks</th><th style = \"text-align: left;\">mass</th><th style = \"text-align: left;\">mass_lower</th><th style = \"text-align: left;\">mass_upper</th><th style = \"text-align: left;\">width</th><th style = \"text-align: left;\">width_lower</th><th style = \"text-align: left;\">width_upper</th></tr><tr class = \"subheader headerLastRow\"><th class = \"rowNumber\" style = \"font-weight: bold; text-align: right;\"></th><th title = \"Int64\" style = \"text-align: left;\">Int64</th><th title = \"String7\" style = \"text-align: left;\">String7</th><th title = \"String31\" style = \"text-align: left;\">String31</th><th title = \"Float64\" style = \"text-align: left;\">Float64</th><th title = \"Int64\" style = \"text-align: left;\">Int64</th><th title = \"String15\" style = \"text-align: left;\">String15</th><th title = \"String15\" style = \"text-align: left;\">String15</th><th title = \"String7\" style = \"text-align: left;\">String7</th><th title = \"String7\" style = \"text-align: left;\">String7</th><th title = \"String15\" style = \"text-align: left;\">String15</th><th title = \"String7\" style = \"text-align: left;\">String7</th><th title = \"String7\" style = \"text-align: left;\">String7</th></tr></thead><tbody><tr><td class = \"rowNumber\" style = \"font-weight: bold; text-align: right;\">1</td><td style = \"text-align: right;\">-2212</td><td style = \"text-align: left;\">p</td><td style = \"text-align: left;\">anti_proton</td><td style = \"text-align: right;\">-1.0</td><td style = \"text-align: right;\">4</td><td style = \"text-align: left;\">UUD</td><td style = \"text-align: left;\">938.27208816</td><td style = \"text-align: left;\">2.9e-07</td><td style = \"text-align: left;\">2.9e-07</td><td style = \"text-align: left;\">0.0</td><td style = \"text-align: left;\">0.0</td><td style = \"text-align: left;\">0.0</td></tr><tr><td class = \"rowNumber\" style = \"font-weight: bold; text-align: right;\">2</td><td style = \"text-align: right;\">-2112</td><td style = \"text-align: left;\">n</td><td style = \"text-align: left;\">anti_neutron</td><td style = \"text-align: right;\">0.0</td><td style = \"text-align: right;\">4</td><td style = \"text-align: left;\">UDD</td><td style = \"text-align: left;\">939.5654205</td><td style = \"text-align: left;\">5e-07</td><td style = \"text-align: left;\">5e-07</td><td style = \"text-align: left;\">7.493e-25</td><td style = \"text-align: left;\">4e-28</td><td style = \"text-align: left;\">4e-28</td></tr><tr><td class = \"rowNumber\" style = \"font-weight: bold; text-align: right;\">3</td><td style = \"text-align: right;\">-321</td><td style = \"text-align: left;\">K</td><td style = \"text-align: left;\">kaon-</td><td style = \"text-align: right;\">-1.0</td><td style = \"text-align: right;\">0</td><td style = \"text-align: left;\">Us</td><td style = \"text-align: left;\">493.677</td><td style = \"text-align: left;\">0.016</td><td style = \"text-align: left;\">0.016</td><td style = \"text-align: left;\">5.317e-14</td><td style = \"text-align: left;\">9e-17</td><td style = \"text-align: left;\">9e-17</td></tr><tr><td class = \"rowNumber\" style = \"font-weight: bold; text-align: right;\">4</td><td style = \"text-align: right;\">-211</td><td style = \"text-align: left;\">pi</td><td style = \"text-align: left;\">pion0</td><td style = \"text-align: right;\">-1.0</td><td style = \"text-align: right;\">0</td><td style = \"text-align: left;\">Ud</td><td style = \"text-align: left;\">139.57039</td><td style = \"text-align: left;\">0.00018</td><td style = \"text-align: left;\">0.00018</td><td style = \"text-align: left;\">2.5284e-14</td><td style = \"text-align: left;\">5e-18</td><td style = \"text-align: left;\">5e-18</td></tr><tr><td class = \"rowNumber\" style = \"font-weight: bold; text-align: right;\">5</td><td style = \"text-align: right;\">-24</td><td style = \"text-align: left;\">W</td><td style = \"text-align: left;\">W-</td><td style = \"text-align: right;\">-1.0</td><td style = \"text-align: right;\">0</td><td style = \"text-align: left;\">-</td><td style = \"text-align: left;\">80379.0</td><td style = \"text-align: left;\">12.0</td><td style = \"text-align: left;\">12.0</td><td style = \"text-align: left;\">2080.0</td><td style = \"text-align: left;\">40.0</td><td style = \"text-align: left;\">40.0</td></tr></tbody></table></div>"
      ],
      "text/latex": [
       "\\begin{tabular}{r|ccccccccc}\n",
       "\t& pdg\\_id & pdg\\_name & name & charge & rank & quarks & mass & mass\\_lower & \\\\\n",
       "\t\\hline\n",
       "\t& Int64 & String7 & String31 & Float64 & Int64 & String15 & String15 & String7 & \\\\\n",
       "\t\\hline\n",
       "\t1 & -2212 & p & anti\\_proton & -1.0 & 4 & UUD & 938.27208816 & 2.9e-07 & $\\dots$ \\\\\n",
       "\t2 & -2112 & n & anti\\_neutron & 0.0 & 4 & UDD & 939.5654205 & 5e-07 & $\\dots$ \\\\\n",
       "\t3 & -321 & K & kaon- & -1.0 & 0 & Us & 493.677 & 0.016 & $\\dots$ \\\\\n",
       "\t4 & -211 & pi & pion0 & -1.0 & 0 & Ud & 139.57039 & 0.00018 & $\\dots$ \\\\\n",
       "\t5 & -24 & W & W- & -1.0 & 0 & - & 80379.0 & 12.0 & $\\dots$ \\\\\n",
       "\\end{tabular}\n"
      ],
      "text/plain": [
       "\u001b[1m5×12 DataFrame\u001b[0m\n",
       "\u001b[1m Row \u001b[0m│\u001b[1m pdg_id \u001b[0m\u001b[1m pdg_name \u001b[0m\u001b[1m name         \u001b[0m\u001b[1m charge  \u001b[0m\u001b[1m rank  \u001b[0m\u001b[1m quarks   \u001b[0m\u001b[1m mass         \u001b[0m\u001b[1m\u001b[0m ⋯\n",
       "     │\u001b[90m Int64  \u001b[0m\u001b[90m String7  \u001b[0m\u001b[90m String31     \u001b[0m\u001b[90m Float64 \u001b[0m\u001b[90m Int64 \u001b[0m\u001b[90m String15 \u001b[0m\u001b[90m String15     \u001b[0m\u001b[90m\u001b[0m ⋯\n",
       "─────┼──────────────────────────────────────────────────────────────────────────\n",
       "   1 │  -2212  p         anti_proton      -1.0      4  UUD       938.27208816  ⋯\n",
       "   2 │  -2112  n         anti_neutron      0.0      4  UDD       939.5654205\n",
       "   3 │   -321  K         kaon-            -1.0      0  Us        493.677\n",
       "   4 │   -211  pi        pion0            -1.0      0  Ud        139.57039\n",
       "   5 │    -24  W         W-               -1.0      0  -         80379.0       ⋯\n",
       "\u001b[36m                                                               5 columns omitted\u001b[0m"
      ]
     },
     "execution_count": 23,
     "metadata": {},
     "output_type": "execute_result"
    }
   ],
   "source": [
    "physics_particles_df = CSV.read(\"./physics_particles.csv\", DataFrame)\n",
    "num_rows, num_columns = size(physics_particles_df)\n",
    "\n",
    "@printf(\"Number of observations: %d\\n\", num_rows)\n",
    "@printf(\"Number of features: %d\\n\", num_columns)\n",
    "println(\"---\")\n",
    "first(physics_particles_df, 5)"
   ]
  },
  {
   "cell_type": "markdown",
   "id": "4aa7890e-34c3-4c77-87be-3d19a303b350",
   "metadata": {},
   "source": [
    "<p id='reach-me' style='color:#7159c1; border-bottom:3px solid #7159c1; letter-spacing:2px; font-family:JetBrains Mono; font-weight: bold; text-align:left; font-size:240%;padding:0'>📫 | Reach Me</p>\n",
    "\n",
    "> **Email** - [csfelix08@gmail.com](mailto:csfelix08@gmail.com?)\n",
    "\n",
    "> **Linkedin** - [linkedin.com/in/csfelix/](https://www.linkedin.com/in/csfelix/)\n",
    "\n",
    "> **GitHub:** - [CSFelix](https://github.com/CSFelix)\n",
    "\n",
    "> **Kaggle** - [DSFelix](https://www.kaggle.com/dsfelix)\n",
    "\n",
    "> **Portfolio** - [CSFelix.io](https://csfelix.github.io/)."
   ]
  }
 ],
 "metadata": {
  "kernelspec": {
   "display_name": "Julia 1.8.5",
   "language": "julia",
   "name": "julia-1.8"
  },
  "language_info": {
   "file_extension": ".jl",
   "mimetype": "application/julia",
   "name": "julia",
   "version": "1.8.5"
  }
 },
 "nbformat": 4,
 "nbformat_minor": 5
}
