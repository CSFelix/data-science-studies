{
 "cells": [
  {
   "cell_type": "markdown",
   "id": "54ed10b6-642d-4d21-91e0-bc7890450040",
   "metadata": {},
   "source": [
    "<center>\n",
    "    <h1 id='r-basics-2' style='color:#7159c1'>📊 R Basics 2 📊</h1>\n",
    "    <i>Reading CSV Files</i>\n",
    "</center>\n",
    "\n",
    "```txt\n",
    "- Reading CSV Files\n",
    "```"
   ]
  },
  {
   "cell_type": "markdown",
   "id": "aa362944-7112-48c7-ba0d-b17a2cd04b79",
   "metadata": {},
   "source": [
    "<p id='0-read-csv' style='color:#7159c1; border-bottom:3px solid #7159c1; letter-spacing:2px; font-family:JetBrains Mono; font-weight: bold; text-align:left; font-size:240%;padding:0'>0 | Read CSV</p>"
   ]
  },
  {
   "cell_type": "code",
   "execution_count": 9,
   "id": "d1bee5f5-13e4-42b2-9ed9-9033b791eba7",
   "metadata": {},
   "outputs": [
    {
     "data": {
      "text/html": [
       "'Number of observations: 46'"
      ],
      "text/latex": [
       "'Number of observations: 46'"
      ],
      "text/markdown": [
       "'Number of observations: 46'"
      ],
      "text/plain": [
       "[1] \"Number of observations: 46\""
      ]
     },
     "metadata": {},
     "output_type": "display_data"
    },
    {
     "data": {
      "text/html": [
       "'Number of features: 12'"
      ],
      "text/latex": [
       "'Number of features: 12'"
      ],
      "text/markdown": [
       "'Number of features: 12'"
      ],
      "text/plain": [
       "[1] \"Number of features: 12\""
      ]
     },
     "metadata": {},
     "output_type": "display_data"
    },
    {
     "data": {
      "text/html": [
       "<table class=\"dataframe\">\n",
       "<caption>A data.frame: 6 × 12</caption>\n",
       "<thead>\n",
       "\t<tr><th></th><th scope=col>pdg_id</th><th scope=col>pdg_name</th><th scope=col>name</th><th scope=col>charge</th><th scope=col>rank</th><th scope=col>quarks</th><th scope=col>mass</th><th scope=col>mass_lower</th><th scope=col>mass_upper</th><th scope=col>width</th><th scope=col>width_lower</th><th scope=col>width_upper</th></tr>\n",
       "\t<tr><th></th><th scope=col>&lt;int&gt;</th><th scope=col>&lt;chr&gt;</th><th scope=col>&lt;chr&gt;</th><th scope=col>&lt;dbl&gt;</th><th scope=col>&lt;int&gt;</th><th scope=col>&lt;chr&gt;</th><th scope=col>&lt;chr&gt;</th><th scope=col>&lt;chr&gt;</th><th scope=col>&lt;chr&gt;</th><th scope=col>&lt;chr&gt;</th><th scope=col>&lt;chr&gt;</th><th scope=col>&lt;chr&gt;</th></tr>\n",
       "</thead>\n",
       "<tbody>\n",
       "\t<tr><th scope=row>1</th><td>-2212</td><td>p      </td><td>anti_proton      </td><td>-1</td><td>4</td><td>UUD</td><td>938.27208816</td><td>2.9e-07</td><td>2.9e-07</td><td>0.0       </td><td>0.0  </td><td>0.0  </td></tr>\n",
       "\t<tr><th scope=row>2</th><td>-2112</td><td>n      </td><td>anti_neutron     </td><td> 0</td><td>4</td><td>UDD</td><td>939.5654205 </td><td>5e-07  </td><td>5e-07  </td><td>7.493e-25 </td><td>4e-28</td><td>4e-28</td></tr>\n",
       "\t<tr><th scope=row>3</th><td> -321</td><td>K      </td><td>kaon-            </td><td>-1</td><td>0</td><td>Us </td><td>493.677     </td><td>0.016  </td><td>0.016  </td><td>5.317e-14 </td><td>9e-17</td><td>9e-17</td></tr>\n",
       "\t<tr><th scope=row>4</th><td> -211</td><td>pi     </td><td>pion0            </td><td>-1</td><td>0</td><td>Ud </td><td>139.57039   </td><td>0.00018</td><td>0.00018</td><td>2.5284e-14</td><td>5e-18</td><td>5e-18</td></tr>\n",
       "\t<tr><th scope=row>5</th><td>  -24</td><td>W      </td><td>W-               </td><td>-1</td><td>0</td><td>-  </td><td>80379.0     </td><td>12.0   </td><td>12.0   </td><td>2080.0    </td><td>40.0 </td><td>40.0 </td></tr>\n",
       "\t<tr><th scope=row>6</th><td>  -16</td><td>nu(tau)</td><td>anti_tau_neutrino</td><td> 0</td><td>0</td><td>-  </td><td>-           </td><td>-      </td><td>-      </td><td>0.0       </td><td>0.0  </td><td>0.0  </td></tr>\n",
       "</tbody>\n",
       "</table>\n"
      ],
      "text/latex": [
       "A data.frame: 6 × 12\n",
       "\\begin{tabular}{r|llllllllllll}\n",
       "  & pdg\\_id & pdg\\_name & name & charge & rank & quarks & mass & mass\\_lower & mass\\_upper & width & width\\_lower & width\\_upper\\\\\n",
       "  & <int> & <chr> & <chr> & <dbl> & <int> & <chr> & <chr> & <chr> & <chr> & <chr> & <chr> & <chr>\\\\\n",
       "\\hline\n",
       "\t1 & -2212 & p       & anti\\_proton       & -1 & 4 & UUD & 938.27208816 & 2.9e-07 & 2.9e-07 & 0.0        & 0.0   & 0.0  \\\\\n",
       "\t2 & -2112 & n       & anti\\_neutron      &  0 & 4 & UDD & 939.5654205  & 5e-07   & 5e-07   & 7.493e-25  & 4e-28 & 4e-28\\\\\n",
       "\t3 &  -321 & K       & kaon-             & -1 & 0 & Us  & 493.677      & 0.016   & 0.016   & 5.317e-14  & 9e-17 & 9e-17\\\\\n",
       "\t4 &  -211 & pi      & pion0             & -1 & 0 & Ud  & 139.57039    & 0.00018 & 0.00018 & 2.5284e-14 & 5e-18 & 5e-18\\\\\n",
       "\t5 &   -24 & W       & W-                & -1 & 0 & -   & 80379.0      & 12.0    & 12.0    & 2080.0     & 40.0  & 40.0 \\\\\n",
       "\t6 &   -16 & nu(tau) & anti\\_tau\\_neutrino &  0 & 0 & -   & -            & -       & -       & 0.0        & 0.0   & 0.0  \\\\\n",
       "\\end{tabular}\n"
      ],
      "text/markdown": [
       "\n",
       "A data.frame: 6 × 12\n",
       "\n",
       "| <!--/--> | pdg_id &lt;int&gt; | pdg_name &lt;chr&gt; | name &lt;chr&gt; | charge &lt;dbl&gt; | rank &lt;int&gt; | quarks &lt;chr&gt; | mass &lt;chr&gt; | mass_lower &lt;chr&gt; | mass_upper &lt;chr&gt; | width &lt;chr&gt; | width_lower &lt;chr&gt; | width_upper &lt;chr&gt; |\n",
       "|---|---|---|---|---|---|---|---|---|---|---|---|---|\n",
       "| 1 | -2212 | p       | anti_proton       | -1 | 4 | UUD | 938.27208816 | 2.9e-07 | 2.9e-07 | 0.0        | 0.0   | 0.0   |\n",
       "| 2 | -2112 | n       | anti_neutron      |  0 | 4 | UDD | 939.5654205  | 5e-07   | 5e-07   | 7.493e-25  | 4e-28 | 4e-28 |\n",
       "| 3 |  -321 | K       | kaon-             | -1 | 0 | Us  | 493.677      | 0.016   | 0.016   | 5.317e-14  | 9e-17 | 9e-17 |\n",
       "| 4 |  -211 | pi      | pion0             | -1 | 0 | Ud  | 139.57039    | 0.00018 | 0.00018 | 2.5284e-14 | 5e-18 | 5e-18 |\n",
       "| 5 |   -24 | W       | W-                | -1 | 0 | -   | 80379.0      | 12.0    | 12.0    | 2080.0     | 40.0  | 40.0  |\n",
       "| 6 |   -16 | nu(tau) | anti_tau_neutrino |  0 | 0 | -   | -            | -       | -       | 0.0        | 0.0   | 0.0   |\n",
       "\n"
      ],
      "text/plain": [
       "  pdg_id pdg_name name              charge rank quarks mass         mass_lower\n",
       "1 -2212  p        anti_proton       -1     4    UUD    938.27208816 2.9e-07   \n",
       "2 -2112  n        anti_neutron       0     4    UDD    939.5654205  5e-07     \n",
       "3  -321  K        kaon-             -1     0    Us     493.677      0.016     \n",
       "4  -211  pi       pion0             -1     0    Ud     139.57039    0.00018   \n",
       "5   -24  W        W-                -1     0    -      80379.0      12.0      \n",
       "6   -16  nu(tau)  anti_tau_neutrino  0     0    -      -            -         \n",
       "  mass_upper width      width_lower width_upper\n",
       "1 2.9e-07    0.0        0.0         0.0        \n",
       "2 5e-07      7.493e-25  4e-28       4e-28      \n",
       "3 0.016      5.317e-14  9e-17       9e-17      \n",
       "4 0.00018    2.5284e-14 5e-18       5e-18      \n",
       "5 12.0       2080.0     40.0        40.0       \n",
       "6 -          0.0        0.0         0.0        "
      ]
     },
     "metadata": {},
     "output_type": "display_data"
    }
   ],
   "source": [
    "physics_particles_df <- read.csv('./physics_particles.csv')\n",
    "\n",
    "sprintf('Number of observations: %d', nrow(physics_particles_df))\n",
    "sprintf('Number of features: %d', ncol(physics_particles_df))\n",
    "head(physics_particles_df)"
   ]
  },
  {
   "cell_type": "markdown",
   "id": "b40e9939-3ed7-43ab-b544-3c2a6f0890ec",
   "metadata": {},
   "source": [
    "<p id='reach-me' style='color:#7159c1; border-bottom:3px solid #7159c1; letter-spacing:2px; font-family:JetBrains Mono; font-weight: bold; text-align:left; font-size:240%;padding:0'>📫 | Reach Me</p>\n",
    "\n",
    "> **Email** - [csfelix08@gmail.com](mailto:csfelix08@gmail.com?)\n",
    "\n",
    "> **Linkedin** - [linkedin.com/in/csfelix/](https://www.linkedin.com/in/csfelix/)\n",
    "\n",
    "> **GitHub:** - [CSFelix](https://github.com/CSFelix)\n",
    "\n",
    "> **Kaggle** - [DSFelix](https://www.kaggle.com/dsfelix)\n",
    "\n",
    "> **Portfolio** - [CSFelix.io](https://csfelix.github.io/)."
   ]
  }
 ],
 "metadata": {
  "kernelspec": {
   "display_name": "R",
   "language": "R",
   "name": "ir"
  },
  "language_info": {
   "codemirror_mode": "r",
   "file_extension": ".r",
   "mimetype": "text/x-r-source",
   "name": "R",
   "pygments_lexer": "r",
   "version": "4.2.2"
  }
 },
 "nbformat": 4,
 "nbformat_minor": 5
}
