{
 "cells": [
  {
   "cell_type": "markdown",
   "id": "a2c7b518-c1c1-428d-9903-45b49e1e26d3",
   "metadata": {},
   "source": [
    "<center>\n",
    "    <h1 id='python-basics-3' style='color:#7159c1'>🐍 Python Basics 3 🐍</h1>\n",
    "    <i>Functions, Docstrings and Lambdas</i>\n",
    "</center>\n",
    "\n",
    "```txt\n",
    "- Functions\n",
    "- Docstrings\n",
    "- Lambdas\n",
    "```"
   ]
  },
  {
   "cell_type": "markdown",
   "id": "c608dbd8-bada-43dc-877a-99779c82a066",
   "metadata": {},
   "source": [
    "<p id='0-functions' style='color:#7159c1; border-bottom:3px solid #7159c1; letter-spacing:2px; font-family:JetBrains Mono; font-weight: bold; text-align:left; font-size:240%;padding:0'>0 | Functions</p>"
   ]
  },
  {
   "cell_type": "code",
   "execution_count": 3,
   "id": "4b3a5c21-f91e-44c3-a4c3-292028dcf9a5",
   "metadata": {},
   "outputs": [],
   "source": [
    "# ---- Pass Keyword ----\n",
    "#\n",
    "# It is used when you create the function but do not write any code inside of it. The code\n",
    "# will be written later. It happens when you do not have time, is lazy or have to think about\n",
    "# what the function will be. Whatever...\n",
    "def my_function():\n",
    "    pass\n",
    "\n",
    "my_function() # calling the function will execute nothing"
   ]
  },
  {
   "cell_type": "code",
   "execution_count": 35,
   "id": "826b76e8-0d89-45a9-981f-3f6d6e4e911b",
   "metadata": {},
   "outputs": [
    {
     "name": "stdout",
     "output_type": "stream",
     "text": [
      "Hello World!!\n",
      "\n",
      "---\n",
      "\n",
      "Help on function my_function in module __main__:\n",
      "\n",
      "my_function()\n",
      "    A simple function that prints 'Hello World!!'\n",
      "\n"
     ]
    }
   ],
   "source": [
    "# ---- Real Function ----\n",
    "#\n",
    "# - without parameters\n",
    "#\n",
    "def my_function():\n",
    "    \"\"\"\n",
    "    A simple function that prints 'Hello World!!'\n",
    "    \"\"\"\n",
    "    print('Hello World!!')\n",
    "\n",
    "my_function()\n",
    "print('\\n---\\n')\n",
    "help(my_function) # this line of code will show you what Docstrings are for"
   ]
  },
  {
   "cell_type": "code",
   "execution_count": 10,
   "id": "5b15f645-11a8-4bc1-8ae0-c5499240dfdc",
   "metadata": {},
   "outputs": [
    {
     "name": "stdout",
     "output_type": "stream",
     "text": [
      "Hello World Felix!!\n"
     ]
    }
   ],
   "source": [
    "# ---- Real Function ----\n",
    "#\n",
    "# - with parameters\n",
    "#\n",
    "def my_function(name):\n",
    "    \"\"\"\n",
    "    A simple function that prints 'Hello World {name}!!'\n",
    "    \n",
    "    Parameters:\n",
    "    \n",
    "    - name: string\n",
    "    \"\"\"\n",
    "    print(f'Hello World {name}!!')\n",
    "\n",
    "my_function('Felix')"
   ]
  },
  {
   "cell_type": "code",
   "execution_count": 11,
   "id": "4b002241-f6f3-4d72-bcc5-5adf58fbe6df",
   "metadata": {},
   "outputs": [
    {
     "name": "stdout",
     "output_type": "stream",
     "text": [
      "Hello World Felix!!\n",
      "Hello World Goku!!\n"
     ]
    }
   ],
   "source": [
    "# ---- Real Function ----\n",
    "#\n",
    "# - with default value to parameters\n",
    "#\n",
    "def my_function(name='Goku'):\n",
    "    \"\"\"\n",
    "    A simple function that prints 'Hello World {name}!!'\n",
    "    \n",
    "    Parameters:\n",
    "    \n",
    "    - name: string (default value: 'Goku')\n",
    "    \"\"\"\n",
    "    print(f'Hello World {name}!!')\n",
    "\n",
    "my_function('Felix')\n",
    "my_function()"
   ]
  },
  {
   "cell_type": "code",
   "execution_count": 20,
   "id": "e5155c27-0c84-4eb2-b6b9-f45258d56482",
   "metadata": {},
   "outputs": [
    {
     "name": "stdout",
     "output_type": "stream",
     "text": [
      "Hello World Felix!!\n",
      "Hello World Goku!!\n",
      "Hello World Vegeta!!\n",
      "Hello World Broly!!\n"
     ]
    }
   ],
   "source": [
    "# ---- Real Function ----\n",
    "#\n",
    "# - with star parameters\n",
    "#\n",
    "def my_function(*names):\n",
    "    \"\"\"\n",
    "    A simple function that prints 'Hello World {name}!!' for 'n' names\n",
    "    \n",
    "    Parameters:\n",
    "    \n",
    "    - names: strings\n",
    "    \"\"\"\n",
    "    for name in names: print(f'Hello World {name}!!')\n",
    "\n",
    "my_function('Felix', 'Goku', 'Vegeta', 'Broly')"
   ]
  },
  {
   "cell_type": "code",
   "execution_count": 28,
   "id": "8e19bce9-c077-4307-981f-7638ec223c52",
   "metadata": {},
   "outputs": [
    {
     "name": "stdout",
     "output_type": "stream",
     "text": [
      "name: Goku\n",
      "breed: Sayan\n",
      "transformation: Ultra Instinct\n"
     ]
    }
   ],
   "source": [
    "# ---- Real Function ----\n",
    "#\n",
    "# - with double star parameters\n",
    "#\n",
    "def my_function(**info):\n",
    "    \"\"\"\n",
    "    A simple function that prints all attribute-value pairs for 'n' pairs\n",
    "    \n",
    "    Parameters:\n",
    "    \n",
    "    - info: any\n",
    "    \"\"\"\n",
    "    for key in info: print(f'{key}: {info[key]}')\n",
    "    \n",
    "my_function(name='Goku', breed='Sayan', transformation='Ultra Instinct')"
   ]
  },
  {
   "cell_type": "markdown",
   "id": "42e1eab9-6bd6-4505-8988-e4f0b1723d09",
   "metadata": {},
   "source": [
    "<p id='1-lambdas' style='color:#7159c1; border-bottom:3px solid #7159c1; letter-spacing:2px; font-family:JetBrains Mono; font-weight: bold; text-align:left; font-size:240%;padding:0'>1 | Lambdas</p>"
   ]
  },
  {
   "cell_type": "code",
   "execution_count": 30,
   "id": "0b168210-778b-4fd1-950e-76cfebdd1d79",
   "metadata": {},
   "outputs": [
    {
     "name": "stdout",
     "output_type": "stream",
     "text": [
      "Hello World Felix!!\n"
     ]
    }
   ],
   "source": [
    "# ---- Lambdas ----\n",
    "#\n",
    "# - fast and easy way to write functions\n",
    "# - do not support docstrings\n",
    "#\n",
    "my_function = lambda name: print(f'Hello World {name}!!')\n",
    "my_function('Felix')"
   ]
  },
  {
   "cell_type": "markdown",
   "id": "56d48734-cd5c-45f1-a0f7-4297f82c4c12",
   "metadata": {},
   "source": [
    "<p id='reach-me' style='color:#7159c1; border-bottom:3px solid #7159c1; letter-spacing:2px; font-family:JetBrains Mono; font-weight: bold; text-align:left; font-size:240%;padding:0'>📫 | Reach Me</p>\n",
    "\n",
    "> **Email** - [csfelix08@gmail.com](mailto:csfelix08@gmail.com?)\n",
    "\n",
    "> **Linkedin** - [linkedin.com/in/csfelix/](https://www.linkedin.com/in/csfelix/)\n",
    "\n",
    "> **GitHub:** - [CSFelix](https://github.com/CSFelix)\n",
    "\n",
    "> **Kaggle** - [DSFelix](https://www.kaggle.com/dsfelix)\n",
    "\n",
    "> **Portfolio** - [CSFelix.io](https://csfelix.github.io/)."
   ]
  }
 ],
 "metadata": {
  "kernelspec": {
   "display_name": "Python 3 (ipykernel)",
   "language": "python",
   "name": "python3"
  },
  "language_info": {
   "codemirror_mode": {
    "name": "ipython",
    "version": 3
   },
   "file_extension": ".py",
   "mimetype": "text/x-python",
   "name": "python",
   "nbconvert_exporter": "python",
   "pygments_lexer": "ipython3",
   "version": "3.10.9"
  }
 },
 "nbformat": 4,
 "nbformat_minor": 5
}
