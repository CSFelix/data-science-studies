{
 "cells": [
  {
   "cell_type": "markdown",
   "id": "54aa759f-c7d5-4bc9-befd-7b2ca53c0a45",
   "metadata": {},
   "source": [
    "<center>\n",
    "    <h1 id='dimensionality-reduction' style='color:#7159c1'>⚙️ Dimensionality Reduction ⚙️</h1>\n",
    "    <i>Reducing Datasets Dimensionality</i>\n",
    "</center>\n",
    "\n",
    "---\n",
    "\n",
    "`Dimensionality Reduction` is the process to decrease the number of features from a DataSet combining them to create a new small number of features called `Components`. To apply this technique, your DataSet must attend the following requisition:\n",
    "\n",
    "> **Encoding** - `all Categorical Features must be Encoded, since Dimensionality Reduction works out just with Numerical Features`;\n",
    "\n",
    "> **Standardization** - `the features must be standardized, unless you know you have good reason not to, such as, the DataSet is already standardized by default`;\n",
    "\n",
    "> **Outliers** - `outliers must be treated being removed or constrained, since they can have an undue influence on the results`.\n",
    "\n",
    "<br />\n",
    "\n",
    "Some situations when you can use Dimensionality Reduction:\n",
    "\n",
    "1. when you desire to check out whether clusters have similar properties and attributes;\n",
    "\n",
    "2. when the DataSet contains lot of features (Dataset Compression to two or three features);\n",
    "\n",
    "3. when the features are multi-colinear (there is a significant number of Linear Correlations between them);\n",
    "\t\n",
    "4. when your goal is to apply denoising.\n",
    "\n",
    "<br />\n",
    "\n",
    "Variations of Dimensionality Reduction:\n",
    "\n",
    "> **Principal Component Analisys (PCA)** - `maximizes the variance`;\n",
    "\n",
    "> **t-Distributed Stochastic Neighbor Embedding (t-SNE)** - `creates a reduced feature space where similar samples are modeled by nearby points and dissimilar samples are modeled by distant points with high probability`;\n",
    "\n",
    "> **Uniform Manifold Approximation and Projection (UMAP)** - `applies Nearest Neighbors to cluster the datas and then reducts the dimensions`."
   ]
  },
  {
   "cell_type": "markdown",
   "id": "80083ea6-6b8c-4612-b3fe-b760fc8434eb",
   "metadata": {},
   "source": [
    "<h1 id='0-principal-component-analysis-pca' style='color:#7159c1; border-bottom:3px solid #7159c1; letter-spacing:2px; font-family:JetBrains Mono; font-weight: bold; text-align:left; font-size:240%;padding:0'>0 | Principal Component Analysis (PCA)</h1>\n",
    "\n",
    "`Principal Component Analysis (PCA)` is used to create new Features combining other Features. In general, we get these new Features by tracing diagonal lines (axes) over the scatter plot between the two features we would like calculate the PCA. After that, the model will calculate the correlation and the variance between these two features and return the Components\n",
    "(new Features).\n",
    "\n",
    "These new features are called the principal components of the data. The weights themselves are called loadings. There will be as many principal components as there are features in the original dataset: if we had used ten features instead of two, we would have ended up with ten components."
   ]
  },
  {
   "cell_type": "code",
   "execution_count": 1,
   "id": "b1e30556-e80e-48b1-a4b9-4acdc5d4f136",
   "metadata": {},
   "outputs": [],
   "source": [
    "# ---- Settings ----\n",
    "import matplotlib.pyplot as plt # pip install matplotlib\n",
    "import mplcyberpunk # pip install mplcyberpunk\n",
    "import numpy as np # pip install numpy\n",
    "import pandas as pd # pip install pandas\n",
    "import seaborn as sns # pip install seaborn\n",
    "from sklearn.feature_selection import mutual_info_regression # pip install sklearn\n",
    "from sklearn.decomposition import PCA\n",
    "\n",
    "plt.style.use('cyberpunk')\n",
    "np.random.seed(20241901)\n",
    "\n",
    "def plot_variance(pca, width=8.0, dpi=100):\n",
    "    \"\"\"\n",
    "    \\ Description:\n",
    "        - plots Principal Component Analysis Results.\n",
    "    \n",
    "    \\ Parameters:\n",
    "        - pca: Principal Component Analysis SKLearn Object;\n",
    "        - width: float;\n",
    "        - dpi: integer.\n",
    "    \"\"\"\n",
    "    # Create figure #\n",
    "    fig, axs = plt.subplots(1, 2)\n",
    "    n = pca.n_components_\n",
    "    grid = np.arange(1, n + 1)\n",
    "\n",
    "    # Explained variance #\n",
    "    evr = pca.explained_variance_ratio_\n",
    "    axs[0].bar(grid, evr)\n",
    "    axs[0].set(xlabel=\"Component\", title=\"% Explained Variance\", ylim=(0.0, 1.0))\n",
    "\n",
    "    # Cumulative Variance #\n",
    "    cv = np.cumsum(evr)\n",
    "    axs[1].plot(np.r_[0, grid], np.r_[0, cv], \"o-\")\n",
    "    axs[1].set(xlabel=\"Component\", title=\"% Cumulative Variance\", ylim=(0.0, 1.0))\n",
    "\n",
    "    # Set up figure #\n",
    "    fig.set(figwidth=8, dpi=100)\n",
    "    return axs\n",
    "\n",
    "def make_mi_scores(X, y, discrete_features):\n",
    "    \"\"\"\n",
    "    \\ Description:\n",
    "        - Calculates Mutual Information only of discrete features of a dataset.\n",
    "    \n",
    "    \\ Parameters:\n",
    "        - X: Pandas DataFrame;\n",
    "        - y: Pandas Series;\n",
    "        - discrete_features: boolean.\n",
    "    \"\"\"\n",
    "    mi_scores = mutual_info_regression(X, y, discrete_features=discrete_features)\n",
    "    mi_scores = pd.Series(mi_scores, name=\"MI Scores\", index=X.columns)\n",
    "    mi_scores = mi_scores.sort_values(ascending=False)\n",
    "    return mi_scores"
   ]
  },
  {
   "cell_type": "markdown",
   "id": "6c8b51cb-2f31-4750-94dc-08956c7a56d2",
   "metadata": {},
   "source": [
    "---\n",
    "\n",
    "We've selected four features that cover a range of properties. Each of these features also has a high MI score with the target, price. We'll standardize the data since these features aren't naturally on the same scale.\n",
    "\n",
    "We say that the features are not in the same scale when their ratio are different in a highly way, such as: person's age and  salary, while a person's age varies from 0 - 100, the salary can vary between 1,000 - 1,000,000. There's a huge gap between them, so we gotta scale the features in order to tthe model doesn't think that salary is more important than age just because the values are higher."
   ]
  },
  {
   "cell_type": "code",
   "execution_count": 2,
   "id": "ed8fcba0-e124-4db4-9e5e-1592430ae843",
   "metadata": {},
   "outputs": [],
   "source": [
    "# ---- Reading Dataset ----\n",
    "autos_df = pd.read_csv('./datasets/autos.csv')\n",
    "features = ['highway_mpg', 'engine_size', 'horsepower', 'curb_weight']\n",
    "\n",
    "X = autos_df.copy()\n",
    "y = X.pop('price')\n",
    "X = X.loc[:, features]\n",
    "\n",
    "X_scaled = (X - X.mean(axis=0)) / X.std(axis=0)"
   ]
  },
  {
   "cell_type": "code",
   "execution_count": 3,
   "id": "3acbd0dd-a204-4b31-9f34-73ec0d74f406",
   "metadata": {},
   "outputs": [
    {
     "name": "stdout",
     "output_type": "stream",
     "text": [
      "- Variance Ration: [0.85411424 0.06648926]\n",
      "---\n"
     ]
    },
    {
     "data": {
      "text/html": [
       "<div>\n",
       "<style scoped>\n",
       "    .dataframe tbody tr th:only-of-type {\n",
       "        vertical-align: middle;\n",
       "    }\n",
       "\n",
       "    .dataframe tbody tr th {\n",
       "        vertical-align: top;\n",
       "    }\n",
       "\n",
       "    .dataframe thead th {\n",
       "        text-align: right;\n",
       "    }\n",
       "</style>\n",
       "<table border=\"1\" class=\"dataframe\">\n",
       "  <thead>\n",
       "    <tr style=\"text-align: right;\">\n",
       "      <th></th>\n",
       "      <th>PC1</th>\n",
       "      <th>PC2</th>\n",
       "    </tr>\n",
       "  </thead>\n",
       "  <tbody>\n",
       "    <tr>\n",
       "      <th>0</th>\n",
       "      <td>0.382486</td>\n",
       "      <td>-0.400222</td>\n",
       "    </tr>\n",
       "    <tr>\n",
       "      <th>1</th>\n",
       "      <td>0.382486</td>\n",
       "      <td>-0.400222</td>\n",
       "    </tr>\n",
       "    <tr>\n",
       "      <th>2</th>\n",
       "      <td>1.550890</td>\n",
       "      <td>-0.107175</td>\n",
       "    </tr>\n",
       "    <tr>\n",
       "      <th>3</th>\n",
       "      <td>-0.408859</td>\n",
       "      <td>-0.425947</td>\n",
       "    </tr>\n",
       "    <tr>\n",
       "      <th>4</th>\n",
       "      <td>1.132749</td>\n",
       "      <td>-0.814565</td>\n",
       "    </tr>\n",
       "  </tbody>\n",
       "</table>\n",
       "</div>"
      ],
      "text/plain": [
       "        PC1       PC2\n",
       "0  0.382486 -0.400222\n",
       "1  0.382486 -0.400222\n",
       "2  1.550890 -0.107175\n",
       "3 -0.408859 -0.425947\n",
       "4  1.132749 -0.814565"
      ]
     },
     "execution_count": 3,
     "metadata": {},
     "output_type": "execute_result"
    }
   ],
   "source": [
    "# ---- Calculating Principal Component Analysis ----\n",
    "pca = PCA(n_components=2) # reduces dataset to 2 dimensions\n",
    "\n",
    "X_pca = pca.fit_transform(X_scaled)\n",
    "component_names = [f'PC{index+1}' for index in range(X_pca.shape[1])]\n",
    "X_pca = pd.DataFrame(X_pca, columns=component_names)\n",
    "\n",
    "print(f'- Variance Ration: {pca.explained_variance_ratio_}')\n",
    "print('---')\n",
    "X_pca.head()"
   ]
  },
  {
   "cell_type": "code",
   "execution_count": 4,
   "id": "d328fd6c-623a-4fc8-8599-9bafe3051f40",
   "metadata": {},
   "outputs": [
    {
     "data": {
      "text/html": [
       "<div>\n",
       "<style scoped>\n",
       "    .dataframe tbody tr th:only-of-type {\n",
       "        vertical-align: middle;\n",
       "    }\n",
       "\n",
       "    .dataframe tbody tr th {\n",
       "        vertical-align: top;\n",
       "    }\n",
       "\n",
       "    .dataframe thead th {\n",
       "        text-align: right;\n",
       "    }\n",
       "</style>\n",
       "<table border=\"1\" class=\"dataframe\">\n",
       "  <thead>\n",
       "    <tr style=\"text-align: right;\">\n",
       "      <th></th>\n",
       "      <th>PC1</th>\n",
       "      <th>PC2</th>\n",
       "    </tr>\n",
       "  </thead>\n",
       "  <tbody>\n",
       "    <tr>\n",
       "      <th>highway_mpg</th>\n",
       "      <td>-0.492347</td>\n",
       "      <td>0.770892</td>\n",
       "    </tr>\n",
       "    <tr>\n",
       "      <th>engine_size</th>\n",
       "      <td>0.503859</td>\n",
       "      <td>0.626709</td>\n",
       "    </tr>\n",
       "    <tr>\n",
       "      <th>horsepower</th>\n",
       "      <td>0.500448</td>\n",
       "      <td>0.013788</td>\n",
       "    </tr>\n",
       "    <tr>\n",
       "      <th>curb_weight</th>\n",
       "      <td>0.503262</td>\n",
       "      <td>0.113008</td>\n",
       "    </tr>\n",
       "  </tbody>\n",
       "</table>\n",
       "</div>"
      ],
      "text/plain": [
       "                  PC1       PC2\n",
       "highway_mpg -0.492347  0.770892\n",
       "engine_size  0.503859  0.626709\n",
       "horsepower   0.500448  0.013788\n",
       "curb_weight  0.503262  0.113008"
      ]
     },
     "execution_count": 4,
     "metadata": {},
     "output_type": "execute_result"
    }
   ],
   "source": [
    "# ---- Getting the Loadings ----\n",
    "#\n",
    "# - loadings are the variance and correlations between each created component\n",
    "#\n",
    "loadings = pd.DataFrame(\n",
    "    pca.components_.T  # transpose the matrix of loadings\n",
    "    , columns=component_names # so the columns are the principal components\n",
    "    , index=X.columns # and the rows are the original features\n",
    ")\n",
    "\n",
    "loadings"
   ]
  },
  {
   "cell_type": "code",
   "execution_count": 5,
   "id": "022ca087-c980-4766-9062-93f11bed7f50",
   "metadata": {},
   "outputs": [
    {
     "data": {
      "image/png": "[encoded data removed]",
      "text/plain": [
       "<Figure size 800x480 with 2 Axes>"
      ]
     },
     "metadata": {},
     "output_type": "display_data"
    }
   ],
   "source": [
    "# ---- Calculating and Plotting Mutual Scores ----\n",
    "mi_scores = make_mi_scores(X_pca, y, discrete_features=False)\n",
    "plot_variance(pca)\n",
    "plt.show()"
   ]
  },
  {
   "cell_type": "markdown",
   "id": "832f721a-3253-48da-a2e2-22e5573653a2",
   "metadata": {},
   "source": [
    "---\n",
    "\n",
    "This table of loadings is telling us that in the Size component, Height and Diameter vary in the same direction (same sign), but in the Shape component they vary in opposite directions (opposite sign).\n",
    "\n",
    "In each component, the loadings are all of the same magnitude and so the features contribute equally in both."
   ]
  },
  {
   "cell_type": "markdown",
   "id": "e0f22ac3-08f7-4551-84c0-fe850f76bf32",
   "metadata": {},
   "source": [
    "<h1 id='1-tSNE' style='color:#7159c1; border-bottom:3px solid #7159c1; letter-spacing:2px; font-family:JetBrains Mono; font-weight: bold; text-align:left; font-size:240%;padding:0'>1 | t-SNE</h1>\n",
    "\n",
    "`t-SNE` is used when we have a dataset composed of 3 distinct classes in a 2D plot and we want to convert it to a 1D plot maintaining the differences and distances between each cluster.\n",
    "\n",
    "This technique is not available on sstable version of sklearn, that's because the code thrown an error. In order to use it, you have to download the development version of sklearn using pip."
   ]
  },
  {
   "cell_type": "code",
   "execution_count": null,
   "id": "0f2387c7-6249-473c-97cf-4dca8b9cac1f",
   "metadata": {},
   "outputs": [],
   "source": [
    "# ---- Settings ----\n",
    "from sklearn.manifold import TNSE\n",
    "\n",
    "# ---- Applying t-SNE ----\n",
    "#\n",
    "# \\ n_components: number of compoennts / dimensions\n",
    "#\n",
    "# \\ verbose: logger (1 >> true / 0 >> false)\n",
    "#\n",
    "# \\ perplexity: number of nearest neighbors that is used\n",
    "# to Manifold Learning Algorithms. This value should be fine\n",
    "# between 5 and 50 and as larger the DataSet is, the larger\n",
    "# its value should be\n",
    "#\n",
    "# \\ n_iter: number of iterations to run the algorithm's process\n",
    "# of learning\n",
    "#\n",
    "tsne = TSNE(n_components=2, verbose=0, parplexity=40, n_iter=300)\n",
    "X_tsne = tsne.fit_transform(X_scaled)\n",
    "X_tsne.head()\n",
    "\n",
    "# ---- Plotting the Result ----\n",
    "palette = sns.color_palette(\"bright\", 10)\n",
    "\n",
    "sns.scatterplot(\n",
    "    X_tsne[:,0]\n",
    "    , X_tsne[:,1]\n",
    "    , hue=y\n",
    "    , legend='full'\n",
    "    , palette=palette\n",
    ")"
   ]
  },
  {
   "cell_type": "markdown",
   "id": "b30e63c9-961e-4dc9-8cae-4d17a56f318b",
   "metadata": {},
   "source": [
    "<h1 id='2-umap' style='color:#7159c1; border-bottom:3px solid #7159c1; letter-spacing:2px; font-family:JetBrains Mono; font-weight: bold; text-align:left; font-size:240%;padding:0'>2 | UMAP</h1>\n",
    "\n",
    "`UMAP` is another Dimensionality Reduction Technique that, different from PCA and t-SNE, applies Nearest Neighbors to cluster the datas and them reduct the dimensions."
   ]
  },
  {
   "cell_type": "code",
   "execution_count": 15,
   "id": "2afb654a-73d7-40da-b15f-574349bc99f6",
   "metadata": {},
   "outputs": [
    {
     "name": "stdout",
     "output_type": "stream",
     "text": [
      "- Shape of X_trans: (193, 3)\n"
     ]
    }
   ],
   "source": [
    "# ---- Settings ----\n",
    "import umap # pip install umap-learn\n",
    "\n",
    "# ---- Applying Umapping (Unsupervisioned Learning) ----\n",
    "reducer = umap.UMAP(\n",
    "    n_neighbors=100, # default 15, The size of local neighborhood (in terms of number of neighboring sample points) used for manifold approximation.\n",
    "    n_components=3, # default 2, The dimension of the space to embed into.\n",
    "    metric='euclidean', # default 'euclidean', The metric to use to compute distances in high dimensional space.\n",
    "    n_epochs=1000, # default None, The number of training epochs to be used in optimizing the low dimensional embedding. Larger values result in more accurate embeddings. \n",
    "    learning_rate=1.0, # default 1.0, The initial learning rate for the embedding optimization.\n",
    "    init='spectral', # default 'spectral', How to initialize the low dimensional embedding. Options are: {'spectral', 'random', A numpy array of initial embedding positions}.\n",
    "    min_dist=0.1, # default 0.1, The effective minimum distance between embedded points.\n",
    "    spread=1.0, # default 1.0, The effective scale of embedded points. In combination with ``min_dist`` this determines how clustered/clumped the embedded points are.\n",
    "    low_memory=False, # default False, For some datasets the nearest neighbor computation can consume a lot of memory. If you find that UMAP is failing due to memory constraints consider setting this option to True.\n",
    "    set_op_mix_ratio=1.0, # default 1.0, The value of this parameter should be between 0.0 and 1.0; a value of 1.0 will use a pure fuzzy union, while 0.0 will use a pure fuzzy intersection.\n",
    "    local_connectivity=1, # default 1, The local connectivity required -- i.e. the number of nearest neighbors that should be assumed to be connected at a local level.\n",
    "    repulsion_strength=1.0, # default 1.0, Weighting applied to negative samples in low dimensional embedding optimization.\n",
    "    negative_sample_rate=5, # default 5, Increasing this value will result in greater repulsive force being applied, greater optimization cost, but slightly more accuracy.\n",
    "    transform_queue_size=4.0, # default 4.0, Larger values will result in slower performance but more accurate nearest neighbor evaluation.\n",
    "    a=None, # default None, More specific parameters controlling the embedding. If None these values are set automatically as determined by ``min_dist`` and ``spread``.\n",
    "    b=None, # default None, More specific parameters controlling the embedding. If None these values are set automatically as determined by ``min_dist`` and ``spread``.\n",
    "    random_state=20241901, # default: None, If int, random_state is the seed used by the random number generator;\n",
    "    metric_kwds=None, # default None) Arguments to pass on to the metric, such as the ``p`` value for Minkowski distance.\n",
    "    angular_rp_forest=False, # default False, Whether to use an angular random projection forest to initialise the approximate nearest neighbor search.\n",
    "    target_n_neighbors=-1, # default -1, The number of nearest neighbors to use to construct the target simplcial set. If set to -1 use the ``n_neighbors`` value.\n",
    "    #target_metric='categorical', # default 'categorical', The metric used to measure distance for a target array is using supervised dimension reduction. By default this is 'categorical' which will measure distance in terms of whether categories match or are different. \n",
    "    #target_metric_kwds=None, # dict, default None, Keyword argument to pass to the target metric when performing supervised dimension reduction. If None then no arguments are passed on.\n",
    "    #target_weight=0.5, # default 0.5, weighting factor between data topology and target topology.\n",
    "    transform_seed=42, # default 42, Random seed used for the stochastic aspects of the transform operation.\n",
    "    verbose=False, # default False, Controls verbosity of logging.\n",
    "    unique=False, # default False, Controls if the rows of your data should be uniqued before being embedded. \n",
    "    n_jobs=1 # number of cpu cores to be used.\n",
    ")\n",
    "\n",
    "X_trans = reducer.fit_transform(X_scaled)\n",
    "print(f'- Shape of X_trans: {X_trans.shape}')"
   ]
  },
  {
   "cell_type": "code",
   "execution_count": 19,
   "id": "3c772474-0a25-4428-b43d-89d71ba244f8",
   "metadata": {},
   "outputs": [
    {
     "name": "stdout",
     "output_type": "stream",
     "text": [
      "- Shape of X_res: (193, 3)\n"
     ]
    }
   ],
   "source": [
    "# ---- Applying Umapping (Supervisioned Learning) ----\n",
    "reducer_2 = umap.UMAP(\n",
    "    n_neighbors=100\n",
    "    , n_components=3\n",
    "    , n_epochs=1000\n",
    "    , min_dist=0.5\n",
    "    , local_connectivity=2\n",
    "    , random_state=20241901\n",
    "    , n_jobs=1\n",
    ")\n",
    "\n",
    "X_res = reducer_2.fit_transform(X_scaled, y)\n",
    "print(f'- Shape of X_res: {X_res.shape}')"
   ]
  },
  {
   "cell_type": "markdown",
   "id": "030684ef-90d5-4432-8d06-e1674cf92371",
   "metadata": {},
   "source": [
    "---\n",
    "\n",
    "<h1 id='reach-me' style='color:#7159c1; border-bottom:3px solid #7159c1; letter-spacing:2px; font-family:JetBrains Mono; font-weight: bold; text-align:left; font-size:240%;padding:0'>📫 | Reach Me</h1>\n",
    "\n",
    "> **Email** - [csfelix08@gmail.com](mailto:csfelix08@gmail.com?)\n",
    "\n",
    "> **Linkedin** - [linkedin.com/in/csfelix/](https://www.linkedin.com/in/csfelix/)\n",
    "\n",
    "> **GitHub:** - [CSFelix](https://github.com/CSFelix)\n",
    "\n",
    "> **Kaggle** - [DSFelix](https://www.kaggle.com/dsfelix)\n",
    "\n",
    "> **Portfolio** - [CSFelix.io](https://csfelix.github.io/)."
   ]
  }
 ],
 "metadata": {
  "kernelspec": {
   "display_name": "Python 3 (ipykernel)",
   "language": "python",
   "name": "python3"
  },
  "language_info": {
   "codemirror_mode": {
    "name": "ipython",
    "version": 3
   },
   "file_extension": ".py",
   "mimetype": "text/x-python",
   "name": "python",
   "nbconvert_exporter": "python",
   "pygments_lexer": "ipython3",
   "version": "3.10.9"
  }
 },
 "nbformat": 4,
 "nbformat_minor": 5
}
