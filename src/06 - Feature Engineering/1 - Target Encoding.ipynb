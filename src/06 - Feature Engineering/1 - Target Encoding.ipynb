{
 "cells": [
  {
   "cell_type": "markdown",
   "id": "247ce8aa-7f79-47cd-8645-2166f4d03676",
   "metadata": {},
   "source": [
    "<center>\n",
    "    <h1 id='target-encoding' style='color:#7159c1'>⚙️ Target Encoding ⚙️</h1>\n",
    "    <i>Encoding Target Variables</i>\n",
    "</center>\n",
    "\n",
    "---\n",
    "\n",
    "`Target Encoding`, like One-Hot and Ordinal Encoding, is applied in the Categorical Features in other to transform them into numbers. However, differently than these two techniques, Target Encoding uses the Target as a parameter to encode the Categorical Features.\n",
    "\n",
    "Use Cases for Target Encoding:\n",
    "\n",
    "> **High-Cardinality Features** - `a feature with a large number of categories can be troublesome to encode - a one-hot encoding would generate too many features and alternatives, like a label encoding, might not be appropriate for that feature. A target encoding derives numbers for the categories using the feature's most important property: its relationship with the target`;\n",
    "\n",
    "> **Domain-Motivated Features** - `from prior experience, you might suspect that a categorical feature should be important even if it scored poorly with a feature metric. A target encoding can help reveal a feature's true informativeness`.\n",
    "\n",
    "<br />\n",
    "\n",
    "Techniques:\n",
    "\n",
    "```\n",
    "- Mean\n",
    "- Smoothing\n",
    "```"
   ]
  },
  {
   "cell_type": "markdown",
   "id": "95b2d668-6624-4b66-bdd6-7ce118682862",
   "metadata": {},
   "source": [
    "<h1 id='0-mean' style='color:#7159c1; border-bottom:3px solid #7159c1; letter-spacing:2px; font-family:JetBrains Mono; font-weight: bold; text-align:left; font-size:240%;padding:0'>0 | Mean</h1>\n",
    "\n",
    "AKA: Bin Counting, Likelihood Encoding, Impact Encoding and Leave-One-Out Encoding.\n",
    "\n",
    "Groups the Features but another one, selects a Feature and Calculate the their Mean."
   ]
  },
  {
   "cell_type": "code",
   "execution_count": 1,
   "id": "45756825-af62-4d4f-a89d-15bf00e9a90a",
   "metadata": {},
   "outputs": [
    {
     "data": {
      "text/html": [
       "<div>\n",
       "<style scoped>\n",
       "    .dataframe tbody tr th:only-of-type {\n",
       "        vertical-align: middle;\n",
       "    }\n",
       "\n",
       "    .dataframe tbody tr th {\n",
       "        vertical-align: top;\n",
       "    }\n",
       "\n",
       "    .dataframe thead th {\n",
       "        text-align: right;\n",
       "    }\n",
       "</style>\n",
       "<table border=\"1\" class=\"dataframe\">\n",
       "  <thead>\n",
       "    <tr style=\"text-align: right;\">\n",
       "      <th></th>\n",
       "      <th>make</th>\n",
       "      <th>make_price_encoded</th>\n",
       "    </tr>\n",
       "  </thead>\n",
       "  <tbody>\n",
       "    <tr>\n",
       "      <th>0</th>\n",
       "      <td>alfa-romero</td>\n",
       "      <td>15498.333333</td>\n",
       "    </tr>\n",
       "    <tr>\n",
       "      <th>1</th>\n",
       "      <td>alfa-romero</td>\n",
       "      <td>15498.333333</td>\n",
       "    </tr>\n",
       "    <tr>\n",
       "      <th>2</th>\n",
       "      <td>alfa-romero</td>\n",
       "      <td>15498.333333</td>\n",
       "    </tr>\n",
       "    <tr>\n",
       "      <th>3</th>\n",
       "      <td>audi</td>\n",
       "      <td>17859.166667</td>\n",
       "    </tr>\n",
       "    <tr>\n",
       "      <th>4</th>\n",
       "      <td>audi</td>\n",
       "      <td>17859.166667</td>\n",
       "    </tr>\n",
       "  </tbody>\n",
       "</table>\n",
       "</div>"
      ],
      "text/plain": [
       "          make  make_price_encoded\n",
       "0  alfa-romero        15498.333333\n",
       "1  alfa-romero        15498.333333\n",
       "2  alfa-romero        15498.333333\n",
       "3         audi        17859.166667\n",
       "4         audi        17859.166667"
      ]
     },
     "execution_count": 1,
     "metadata": {},
     "output_type": "execute_result"
    }
   ],
   "source": [
    "# ---- Mean Encoding ----\n",
    "import pandas as pd # pip install pandas\n",
    "\n",
    "autos_df = pd.read_csv('./datasets/autos.csv')\n",
    "autos_df['make_price_encoded'] = (\n",
    "    autos_df.groupby('make') # for each 'make'\n",
    "    ['price']                # select the 'price'\n",
    "    .transform('mean')       # and calculate price's mean\n",
    ")\n",
    "\n",
    "autos_df[['make', 'make_price_encoded']].head()"
   ]
  },
  {
   "cell_type": "markdown",
   "id": "7b73bf41-ce31-4407-8036-2ad71aa284b3",
   "metadata": {},
   "source": [
    "<h1 id='1-smoothing' style='color:#7159c1; border-bottom:3px solid #7159c1; letter-spacing:2px; font-family:JetBrains Mono; font-weight: bold; text-align:left; font-size:240%;padding:0'>1 | Smoothing</h1>\n",
    "\n",
    "An encoding like the Mean One presents a couple of problems, however.\n",
    "\n",
    "> **Unknown Categories** - `target encodings create a special risk of overfitting, which means they need to be trained on an independent \"encoding\" split. When you join the encoding to future splits, Pandas will fill in missing values for any categories not present in the encoding split. These missing values you would have to impute somehow`;\n",
    "\n",
    "> **Rare Categories** - `when a category only occurs a few times in the dataset, any statistics calculated on its group are unlikely to be very accurate. In the Automobiles dataset, the mercurcy make only occurs once. The \"mean\" price we calculated is just the price of that one vehicle, which might not be very representative of any Mercuries we might see in the future. Target encoding rare categories can make overfitting more likely`.\n",
    "\n",
    "<br />\n",
    "\n",
    "A solution to these problems is to add `SMOOTHING`. The idea is to blend the in-category average with the overall average. Rare categories get less weight on their category average, while missing categories just get the overall average:\n",
    "\n",
    "$$\n",
    "\\text{encoding} = \\text{weights} \\cdot \\text{in_category} \\cdot (1 - \\text{weight}) \\cdot \\text{overall}\n",
    "$$\n",
    "\n",
    "Where weight is a value between 0 and 1 calculated from the category frequency. An easy way to determine the value for weight is to compute an m-estimate:\n",
    "\n",
    "$$\n",
    "\\text{weight} = \\frac{n}{n + m}\n",
    "$$\n",
    "\n",
    "Where n is the total number of times that category occurs in the data. The parameter m determines the \"smoothing factor\". Larger values of m put more weight on the overall estimate."
   ]
  },
  {
   "cell_type": "code",
   "execution_count": 3,
   "id": "db1f4d05-d343-4722-a7b7-bcd1610c05f1",
   "metadata": {},
   "outputs": [],
   "source": [
    "# ---- Smoothing Encoding ----\n",
    "import pandas as pd\n",
    "import warnings # pip install warnings\n",
    "warnings.filterwarnings('ignore')"
   ]
  },
  {
   "cell_type": "code",
   "execution_count": 6,
   "id": "0041f136-6b11-40b6-b486-2a1c44c01f11",
   "metadata": {},
   "outputs": [
    {
     "name": "stdout",
     "output_type": "stream",
     "text": [
      "- Number of UniqueZipcodes: 3439\n"
     ]
    }
   ],
   "source": [
    "# ---- Smoothing Encoding ----\n",
    "movies_df = pd.read_csv('./datasets/movielens1m.csv')\n",
    "movies_df = movies_df.astype(np.uint8, errors='ignore') # replace memory footprint\n",
    "print(f'- Number of UniqueZipcodes: {movies_df.Zipcode.nunique()}')"
   ]
  },
  {
   "cell_type": "markdown",
   "id": "69d2f048-f04e-4dd9-9f74-2e77abab9e21",
   "metadata": {},
   "source": [
    "---\n",
    "\n",
    "With over 3000 categories, the Zipcode feature makes a good candidate for target encoding, and the size of this dataset (over one-million rows) means we can spare some data to create the encoding.\n",
    "\n",
    "We'll start by creating a 25% split to train the target encoder."
   ]
  },
  {
   "cell_type": "code",
   "execution_count": 10,
   "id": "b9a0020d-b3f6-4b6f-b697-d6bf7e06588b",
   "metadata": {},
   "outputs": [],
   "source": [
    "# ---- Smoothing Encoding ----\n",
    "#\n",
    "# - setting up Features and Target, splitting dataset into Target Encoding's\n",
    "# Train and Pretrain\n",
    "#\n",
    "X = movies_df.copy()\n",
    "y = X.pop('Rating')\n",
    "\n",
    "X_encode = X.sample(frac=0.25)\n",
    "y_encode = y[X_encode.index]\n",
    "X_pretrain = X.drop(X_encode.index)\n",
    "y_pretrain = y[X_pretrain.index]"
   ]
  },
  {
   "cell_type": "code",
   "execution_count": 16,
   "id": "f6f9336c-b98b-4107-bca0-4ade2c929082",
   "metadata": {},
   "outputs": [
    {
     "data": {
      "text/plain": [
       "0    3.728199\n",
       "1    2.982014\n",
       "2    3.475534\n",
       "3    3.626640\n",
       "4    3.871088\n",
       "Name: Zipcode, dtype: float64"
      ]
     },
     "execution_count": 16,
     "metadata": {},
     "output_type": "execute_result"
    }
   ],
   "source": [
    "# ---- Smoothing Encoding ----\n",
    "#\n",
    "# - importing library, creating and training the encoder\n",
    "# and encoding the dataset\n",
    "#\n",
    "from category_encoders import MEstimateEncoder # pip install category_encoders\n",
    "\n",
    "encoder = MEstimateEncoder(cols=['Zipcode'], m=5.0) # 'm' is used to control the noise\n",
    "encoder.fit(X_encode, y_encode)\n",
    "\n",
    "X_train = encoder.transform(X_pretrain)\n",
    "X_train.Zipcode.head()"
   ]
  },
  {
   "cell_type": "markdown",
   "id": "a8bc9976-eb22-4747-b126-2cb7f67e388a",
   "metadata": {},
   "source": [
    "---\n",
    "\n",
    "<h1 id='reach-me' style='color:#7159c1; border-bottom:3px solid #7159c1; letter-spacing:2px; font-family:JetBrains Mono; font-weight: bold; text-align:left; font-size:240%;padding:0'>📫 | Reach Me</h1>\n",
    "\n",
    "> **Email** - [csfelix08@gmail.com](mailto:csfelix08@gmail.com?)\n",
    "\n",
    "> **Linkedin** - [linkedin.com/in/csfelix/](https://www.linkedin.com/in/csfelix/)\n",
    "\n",
    "> **GitHub:** - [CSFelix](https://github.com/CSFelix)\n",
    "\n",
    "> **Kaggle** - [DSFelix](https://www.kaggle.com/dsfelix)\n",
    "\n",
    "> **Portfolio** - [CSFelix.io](https://csfelix.github.io/)."
   ]
  }
 ],
 "metadata": {
  "kernelspec": {
   "display_name": "Python 3 (ipykernel)",
   "language": "python",
   "name": "python3"
  },
  "language_info": {
   "codemirror_mode": {
    "name": "ipython",
    "version": 3
   },
   "file_extension": ".py",
   "mimetype": "text/x-python",
   "name": "python",
   "nbconvert_exporter": "python",
   "pygments_lexer": "ipython3",
   "version": "3.10.9"
  }
 },
 "nbformat": 4,
 "nbformat_minor": 5
}
