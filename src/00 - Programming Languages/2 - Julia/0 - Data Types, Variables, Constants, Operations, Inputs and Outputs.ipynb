{
 "cells": [
  {
   "cell_type": "markdown",
   "id": "429016be-ada1-4a42-877d-d4d5a6919fd0",
   "metadata": {},
   "source": [
    "<center>\n",
    "    <h1 id='julia-basics-0' style='color:#7159c1'>🍡 Julia Basics 0 🍡</h1>\n",
    "    <i>Data Types, Variables, Constants, Inputs and Outputs</i>\n",
    "</center>\n",
    "\n",
    "```txt\n",
    "- Data Types\n",
    "- Variables\n",
    "- Constants\n",
    "- Inputs\n",
    "- Outputs\n",
    "```"
   ]
  },
  {
   "cell_type": "markdown",
   "id": "f213640e-6b2f-4e6b-88ea-c626e0593a36",
   "metadata": {},
   "source": [
    "<p id='0-data-types-variables-constants' style='color:#7159c1; border-bottom:3px solid #7159c1; letter-spacing:2px; font-family:JetBrains Mono; font-weight: bold; text-align:left; font-size:240%;padding:0'>0 | Data Types, Variables and Constants</p>"
   ]
  },
  {
   "cell_type": "code",
   "execution_count": 1,
   "id": "b2eb3610-e396-407f-a49d-afc9edddb176",
   "metadata": {},
   "outputs": [
    {
     "data": {
      "text/plain": [
       "Dict{String, Int64} with 3 entries:\n",
       "  \"One\"   => 1\n",
       "  \"Two\"   => 2\n",
       "  \"Three\" => 3"
      ]
     },
     "execution_count": 1,
     "metadata": {},
     "output_type": "execute_result"
    }
   ],
   "source": [
    "# ---- Variables ----\n",
    "var_char = 'a'\n",
    "var_string = \"Hey there!\"\n",
    "\n",
    "var_integer = 7\n",
    "var_float = 7.5\n",
    "var_complex = 3 + 7im\n",
    "\n",
    "var_boolean = true\n",
    "var_another_boolean = false\n",
    "var_null = nothing\n",
    "\n",
    "var_array = [1, 2, 3]\n",
    "var_dict = Dict(\"One\" => 1, \"Two\" => 2, \"Three\" => 3) # yeah, Julia prints the last variable by default on notebooks"
   ]
  },
  {
   "cell_type": "code",
   "execution_count": 2,
   "id": "b8db6a56-201e-4d11-97cb-f630f94eefa9",
   "metadata": {},
   "outputs": [
    {
     "data": {
      "text/plain": [
       "Dict{String, Int64} with 3 entries:\n",
       "  \"One\"   => 1\n",
       "  \"Two\"   => 2\n",
       "  \"Three\" => 3"
      ]
     },
     "execution_count": 2,
     "metadata": {},
     "output_type": "execute_result"
    }
   ],
   "source": [
    "# ---- Constants ----\n",
    "const CHAR = 'a'\n",
    "const STRING = \"Hey there!\"\n",
    "\n",
    "const INTEGER = 7\n",
    "const FLOAT = 7.5\n",
    "const COMPLEX = 3 + 7im\n",
    "\n",
    "const BOOLEAN = true\n",
    "const ANOTHER_BOOLEAN = false\n",
    "const NULL = nothing\n",
    "\n",
    "const ARRAY = [1, 2, 3]\n",
    "const DICT = Dict(\"One\" => 1, \"Two\" => 2, \"Three\" => 3)"
   ]
  },
  {
   "cell_type": "code",
   "execution_count": 3,
   "id": "b0c15a99-6613-4732-949a-922c4fb8335f",
   "metadata": {},
   "outputs": [
    {
     "name": "stdout",
     "output_type": "stream",
     "text": [
      "π\n",
      "im\n"
     ]
    }
   ],
   "source": [
    "# ---- Built-in Constants ----\n",
    "println(pi)\n",
    "println(im)"
   ]
  },
  {
   "cell_type": "markdown",
   "id": "d38d99f3-8bb5-49cc-8f63-3fdd0e7eb6db",
   "metadata": {},
   "source": [
    "<p id='1-operations' style='color:#7159c1; border-bottom:3px solid #7159c1; letter-spacing:2px; font-family:JetBrains Mono; font-weight: bold; text-align:left; font-size:240%;padding:0'>1 | Operations</p>"
   ]
  },
  {
   "cell_type": "code",
   "execution_count": 4,
   "id": "b945cd98-1480-483a-b724-02b39de41967",
   "metadata": {},
   "outputs": [
    {
     "name": "stdout",
     "output_type": "stream",
     "text": [
      "Addition: 7 + 3 = 10\n",
      "Subtraction: 7 - 3 = 4\n",
      "Multiplication: 7 * 3 = 21\n",
      "Power: 7 ^ 3 = 343\n",
      "Division: 7 / 3 = 2.333333\n",
      "Modulus / Remainder: 7 % 3 = 1"
     ]
    }
   ],
   "source": [
    "# ---- Numbers ----\n",
    "using Printf\n",
    "\n",
    "@printf(\"Addition: 7 + 3 = %d\\n\", 7 + 3) # addition\n",
    "@printf(\"Subtraction: 7 - 3 = %d\\n\", 7 - 3) # subtraction\n",
    "@printf(\"Multiplication: 7 * 3 = %d\\n\", 7 * 3) # multiplication\n",
    "@printf(\"Power: 7 ^ 3 = %d\\n\", 7^3) # power\n",
    "@printf(\"Division: 7 / 3 = %f\\n\", 7 / 3) # division\n",
    "@printf(\"Modulus / Remainder: 7 %% 3 = %d\", 7 % 3) # modulus / remainder"
   ]
  },
  {
   "cell_type": "code",
   "execution_count": 5,
   "id": "3a44a10a-c86e-443f-ad0e-7b4929be3fcc",
   "metadata": {},
   "outputs": [
    {
     "data": {
      "text/plain": [
       "\"Hello World!\""
      ]
     },
     "execution_count": 5,
     "metadata": {},
     "output_type": "execute_result"
    }
   ],
   "source": [
    "# ---- Concatenation ----\n",
    "\"Hello\" * ' ' * \"World!\""
   ]
  },
  {
   "cell_type": "markdown",
   "id": "7508b858-3ba3-4aa9-8535-bd3782a3c8ac",
   "metadata": {},
   "source": [
    "<p id='2-inputs-and-outputs' style='color:#7159c1; border-bottom:3px solid #7159c1; letter-spacing:2px; font-family:JetBrains Mono; font-weight: bold; text-align:left; font-size:240%;padding:0'>2 | Inputs and Outputs</p>"
   ]
  },
  {
   "cell_type": "code",
   "execution_count": 9,
   "id": "deff2932-c1bf-4b0c-9545-c03c1cc5fd1e",
   "metadata": {},
   "outputs": [
    {
     "name": "stdout",
     "output_type": "stream",
     "text": [
      "Type your name:"
     ]
    },
    {
     "name": "stdin",
     "output_type": "stream",
     "text": [
      "stdin>  Felix\n"
     ]
    },
    {
     "name": "stdout",
     "output_type": "stream",
     "text": [
      "Hello Felix"
     ]
    }
   ],
   "source": [
    "# ---- Inputs ----\n",
    "print(\"Type your name:\")\n",
    "name = readline()\n",
    "@printf(\"Hello %s\", name)"
   ]
  },
  {
   "cell_type": "code",
   "execution_count": 10,
   "id": "f5ff6b0d-a2b1-41da-b6d1-58e09995d1e6",
   "metadata": {},
   "outputs": [
    {
     "name": "stdout",
     "output_type": "stream",
     "text": [
      "Heythere!"
     ]
    }
   ],
   "source": [
    "# ---- Outputs ----\n",
    "#\n",
    "# - print: does not add a break line (\\n) at the end\n",
    "#\n",
    "print(\"Hey\")\n",
    "print(\"there!\")"
   ]
  },
  {
   "cell_type": "code",
   "execution_count": 11,
   "id": "e8f8e180-c039-4c67-8198-904a59b5546c",
   "metadata": {},
   "outputs": [
    {
     "name": "stdout",
     "output_type": "stream",
     "text": [
      "Hey\n",
      "there!\n"
     ]
    }
   ],
   "source": [
    "# ---- Outputs ----\n",
    "#\n",
    "# - println: adds a break line (\\n) at the end\n",
    "#\n",
    "println(\"Hey\")\n",
    "println(\"there!\")"
   ]
  },
  {
   "cell_type": "markdown",
   "id": "b8c8bb63-9de7-40f3-8ad1-273f08503785",
   "metadata": {},
   "source": [
    "<p id='reach-me' style='color:#7159c1; border-bottom:3px solid #7159c1; letter-spacing:2px; font-family:JetBrains Mono; font-weight: bold; text-align:left; font-size:240%;padding:0'>📫 | Reach Me</p>\n",
    "\n",
    "> **Email** - [csfelix08@gmail.com](mailto:csfelix08@gmail.com?)\n",
    "\n",
    "> **Linkedin** - [linkedin.com/in/csfelix/](https://www.linkedin.com/in/csfelix/)\n",
    "\n",
    "> **GitHub:** - [CSFelix](https://github.com/CSFelix)\n",
    "\n",
    "> **Kaggle** - [DSFelix](https://www.kaggle.com/dsfelix)\n",
    "\n",
    "> **Portfolio** - [CSFelix.io](https://csfelix.github.io/)."
   ]
  }
 ],
 "metadata": {
  "kernelspec": {
   "display_name": "Julia 1.8.5",
   "language": "julia",
   "name": "julia-1.8"
  },
  "language_info": {
   "file_extension": ".jl",
   "mimetype": "application/julia",
   "name": "julia",
   "version": "1.8.5"
  }
 },
 "nbformat": 4,
 "nbformat_minor": 5
}
