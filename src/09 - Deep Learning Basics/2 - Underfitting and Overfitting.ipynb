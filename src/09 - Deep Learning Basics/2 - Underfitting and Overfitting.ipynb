{
 "cells": [
  {
   "cell_type": "markdown",
   "id": "564c905d-1524-429e-bc2b-82d1c3c9f32e",
   "metadata": {},
   "source": [
    "<center>\n",
    "    <h1 id='underfitting-and-overfitting' style='color:#7159c1'>🧠 Underfitting and Overfitting 🧠</h1>\n",
    "    <i>Avoiding the main Deep Learning Problems</i>\n",
    "</center>\n",
    "\n",
    "Some Key Concepts:\n",
    "\n",
    "> **Signal** - `it's the generalization, helping the model to get good results with new datas in the validation, prediction and production steps`;\n",
    "\n",
    "> **Noise** - `it's the fluctuation/gaps/problems present ONLY in the training data, so, noises don't help the model to get good predictions in the future`;\n",
    "\n",
    "---\n",
    "\n",
    "> **Underfitting**\n",
    "\n",
    "- the model doesn't learn enough;\n",
    "- it gets bad results in both training and validation steps;\n",
    "- the loss is high OR the train and valid loss just decrease;\n",
    "- the model didn't learn the enough signals.\n",
    "\n",
    "<br />\n",
    "\n",
    "> **Overfitting**\n",
    "\n",
    "- the model learns more than the expected;\n",
    "- it gets great results in the training step, but bad ones in the validation step;\n",
    "- the loss is not too much high in the traning step, but it's too much high in the; validation one\n",
    "- the model learns signals/noises more than enough.\n",
    "\n",
    "---\n",
    "\n",
    "The Data Scientist's goal is to make the model learns a few noises and a good amount of signals (but not too much). However, we gotta a problem: as many signals the model learns, as many noises it'll learn too!\n",
    "\n",
    "So, to overcome this trade, Data Scientists have to get the BALANCE between signal and noise in order to avoid Underfitting and Overfitting.\n",
    "\n",
    "---\n",
    "\n"
   ]
  },
  {
   "cell_type": "code",
   "execution_count": 1,
   "id": "cb3eeaf8-9136-45a1-85bd-1eb70bb4e5e0",
   "metadata": {},
   "outputs": [],
   "source": [
    "# ---- Importations ----\n",
    "import pandas as pd # pip install pandas\n",
    "from sklearn.model_selection import train_test_split # pip install sklearn\n",
    "import tensorflow as tf # pip install tensorflow\n",
    "from tensorflow import keras\n",
    "from tensorflow.keras import layers\n",
    "from tensorflow.keras.callbacks import EarlyStopping\n",
    "import matplotlib.pyplot as plt # pip install matplotlib\n",
    "import mplcyberpunk # pip install mplcyberpunk\n",
    "\n",
    "plt.style.use('cyberpunk')\n",
    "\n",
    "# ---- Preparing Dataset ----\n",
    "autos_df = pd.read_csv('./datasets/autos.csv')\n",
    "autos_df = autos_df.select_dtypes(exclude='object')\n",
    "\n",
    "X = autos_df.copy()\n",
    "y = X.pop('price')\n",
    "\n",
    "X_train, X_valid, y_train, y_valid = train_test_split(\n",
    "    X, y\n",
    "    , train_size=0.70\n",
    "    , test_size=0.30\n",
    "    , random_state=20242301\n",
    ")"
   ]
  },
  {
   "cell_type": "markdown",
   "id": "e546e0d9-435d-43dc-b83e-cd3debc66901",
   "metadata": {},
   "source": [
    "<h1 id='0-capacity' style='color:#7159c1; border-bottom:3px solid #7159c1; letter-spacing:2px; font-family:JetBrains Mono; font-weight: bold; text-align:left; font-size:240%;padding:0'>0 | Capacity</h1>\n",
    "\n",
    "- It's the capacity of the model to learn new patterns;\n",
    "\n",
    "- If the model gets Underfitting, we have to increase the model's capacity. If the model gets Overfitting, we have to decrease the capacity;\n",
    "\n",
    "- If the problem is the LINEAR RELATIONSHIPS, we gotta make the model wider (more units/neurons in each layer) for Underfitting; and less wider for Overfitting;\n",
    "\n",
    "- If the problem is the NON-LINEAR RELATIONSHIPS, we gotta make the model deeper (more layers) for Underfitting; and less deeper for Overfitting.\n",
    "\n",
    "In the examples below, consider that the model is being underfitting and we decided to increase the depth and the wide."
   ]
  },
  {
   "cell_type": "code",
   "execution_count": 2,
   "id": "331e17ba-4abc-4ded-8456-ce137cc747c1",
   "metadata": {},
   "outputs": [],
   "source": [
    "# ---- First Version of the Model ----\n",
    "model_1 = keras.Sequential([\n",
    "    layers.Dense(16, activation='relu', input_shape=[2])\n",
    "    , layers.Dense(1)\n",
    "])\n",
    "\n",
    "# ---- Wider: More units/neurons per Layer ----\n",
    "wider = keras.Sequential([\n",
    "    layers.Dense(32, activation='relu', input_shape=[2])\n",
    "    , layers.Dense(1)\n",
    "])\n",
    "\n",
    "# ---- Deeper: More Layers ----\n",
    "deeper = keras.Sequential([\n",
    "    layers.Dense(16, activation='relu', input_shape=[2])\n",
    "    , layers.Dense(16, activation='relu')\n",
    "    , layers.Dense(1)\n",
    "])"
   ]
  },
  {
   "cell_type": "markdown",
   "id": "0a2f9d97-69d5-4ddc-a5ec-ed5351de904e",
   "metadata": {},
   "source": [
    "<h1 id='1-early-stopping' style='color:#7159c1; border-bottom:3px solid #7159c1; letter-spacing:2px; font-family:JetBrains Mono; font-weight: bold; text-align:left; font-size:240%;padding:0'>1 | Early Stopping</h1>\n",
    "\n",
    "- it helps the model doesn't learn too many noises in order to get underfitting and overfitting;\n",
    "\n",
    "- this technique checks out the loss of the model for each batch and, if it realizes that the loss is not decreasing after X epochs anymore, it'll stop the model of fitting ."
   ]
  },
  {
   "cell_type": "code",
   "execution_count": 3,
   "id": "31b61da4-c93d-4efe-a820-cd63053c0933",
   "metadata": {},
   "outputs": [],
   "source": [
    "# ---- Early Stopping ----\n",
    "#\n",
    "# Parameters:\n",
    "#\n",
    "# - min_delta >> minimum amount of change to the early stop\n",
    "# consider that the loss function is decreasing and the model\n",
    "# is improving (in this example, for each 0.001 the loss decreases\n",
    "# is considered as an improvement for the model);\n",
    "#\n",
    "# - patience >> how many epochs without decreasing the loss value\n",
    "# the early stopping will wait to stop the trainig;\n",
    "#\n",
    "# - restore_best_weights >> gets the weights that resulted in the\n",
    "# lower loss value\n",
    "#\n",
    "# In a nutshell, if there hasn't been at least an improvement of \n",
    "# 0.001 in the validation loss over the previous 20 epochs, then\n",
    "# stop the training and keep the best model you found.\n",
    "#\n",
    "early_stopping = EarlyStopping(\n",
    "    min_delta=0.001\n",
    "    , patience=20\n",
    "    , restore_best_weights=True\n",
    ")"
   ]
  },
  {
   "cell_type": "markdown",
   "id": "89f94168-5d23-4da0-addf-52c3ce01294d",
   "metadata": {},
   "source": [
    "<h1 id='2-final-example' style='color:#7159c1; border-bottom:3px solid #7159c1; letter-spacing:2px; font-family:JetBrains Mono; font-weight: bold; text-align:left; font-size:240%;padding:0'>2 | Final Example</h1>"
   ]
  },
  {
   "cell_type": "code",
   "execution_count": 6,
   "id": "86164df9-5bf3-416c-8bed-c8351ac6c34d",
   "metadata": {},
   "outputs": [
    {
     "name": "stdout",
     "output_type": "stream",
     "text": [
      "- Minimum Validation Loss: 24777640.0\n"
     ]
    },
    {
     "data": {
      "image/png": "[encoded data removed]",
      "text/plain": [
       "<Figure size 640x480 with 1 Axes>"
      ]
     },
     "metadata": {},
     "output_type": "display_data"
    }
   ],
   "source": [
    "# ---- Early Stopping ----\n",
    "early_stopping = EarlyStopping(\n",
    "    min_delta=0.001\n",
    "    , patience=20\n",
    "    , restore_best_weights=True\n",
    ")\n",
    "\n",
    "# ---- Creating the Model ----\n",
    "model = keras.Sequential([\n",
    "    # hidden layers\n",
    "    layers.Dense(units=512, activation='relu', input_shape=[16])\n",
    "    , layers.Dense(units=512, activation='relu')\n",
    "    , layers.Dense(units=512, activation='relu')\n",
    "    \n",
    "    # output layer\n",
    "    , layers.Dense(units=1)\n",
    "])\n",
    "\n",
    "# ---- Optimizer and Loss Functions ----\n",
    "model.compile(optimizer='adam', loss='mse')\n",
    "\n",
    "# ---- Training ----\n",
    "history = model.fit(\n",
    "    X_train, y_train\n",
    "    , validation_data=(X_valid, y_valid)\n",
    "    , batch_size=25\n",
    "    , epochs=80\n",
    "    , callbacks=[early_stopping]\n",
    "    , verbose=0\n",
    ")\n",
    "\n",
    "# ---- Plotting Results ----\n",
    "history_df = pd.DataFrame(history.history)\n",
    "history_df.loc[:, ['loss', 'val_loss']].plot()\n",
    "print(f'- Minimum Validation Loss: {history_df[\"val_loss\"].min()}')"
   ]
  },
  {
   "cell_type": "markdown",
   "id": "f1c6da71-6391-4a6d-b9a1-dd0b8981a244",
   "metadata": {},
   "source": [
    "---\n",
    "\n",
    "<h1 id='reach-me' style='color:#7159c1; border-bottom:3px solid #7159c1; letter-spacing:2px; font-family:JetBrains Mono; font-weight: bold; text-align:left; font-size:240%;padding:0'>📫 | Reach Me</h1>\n",
    "\n",
    "> **Email** - [csfelix08@gmail.com](mailto:csfelix08@gmail.com?)\n",
    "\n",
    "> **Linkedin** - [linkedin.com/in/csfelix/](https://www.linkedin.com/in/csfelix/)\n",
    "\n",
    "> **GitHub:** - [CSFelix](https://github.com/CSFelix)\n",
    "\n",
    "> **Kaggle** - [DSFelix](https://www.kaggle.com/dsfelix)\n",
    "\n",
    "> **Portfolio** - [CSFelix.io](https://csfelix.github.io/)."
   ]
  }
 ],
 "metadata": {
  "kernelspec": {
   "display_name": "Python 3 (ipykernel)",
   "language": "python",
   "name": "python3"
  },
  "language_info": {
   "codemirror_mode": {
    "name": "ipython",
    "version": 3
   },
   "file_extension": ".py",
   "mimetype": "text/x-python",
   "name": "python",
   "nbconvert_exporter": "python",
   "pygments_lexer": "ipython3",
   "version": "3.10.9"
  }
 },
 "nbformat": 4,
 "nbformat_minor": 5
}
