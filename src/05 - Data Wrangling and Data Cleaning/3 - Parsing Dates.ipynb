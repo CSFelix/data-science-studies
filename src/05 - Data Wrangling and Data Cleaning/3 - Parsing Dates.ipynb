{
 "cells": [
  {
   "cell_type": "markdown",
   "id": "0fa84284-835e-49b7-ae49-bf26d070e5d4",
   "metadata": {},
   "source": [
    "<center>\n",
    "    <h1 id='parsing-dates' style='color:#7159c1'>🔨 Parsing Dates 🔨</h1>\n",
    "    <i>Transforming Objects into Datetime</i>\n",
    "</center>"
   ]
  },
  {
   "cell_type": "code",
   "execution_count": 10,
   "id": "1378469a-7e02-4a2d-a795-b3e41b6fadaf",
   "metadata": {},
   "outputs": [],
   "source": [
    "# ---- Settings ----\n",
    "import pandas as pd # pip install pandas\n",
    "import datetime # pip install datetime\n",
    "import numpy as np # pip install numpy\n",
    "import matplotlib.pyplot as plt # pip install matplotlib\n",
    "import mplcyberpunk # pip install mplcyberpunk\n",
    "import seaborn as sns # pip install seaborn\n",
    "\n",
    "np.random.seed(20241801)\n",
    "\n",
    "plt.style.use('cyberpunk')"
   ]
  },
  {
   "cell_type": "code",
   "execution_count": 4,
   "id": "c55b6f04-904a-4fcb-a0d1-669133aa2db3",
   "metadata": {},
   "outputs": [
    {
     "name": "stdout",
     "output_type": "stream",
     "text": [
      "- Date Variable Type: object\n",
      "---\n"
     ]
    },
    {
     "data": {
      "text/plain": [
       "id\n",
       "34     3/2/07\n",
       "42    3/22/07\n",
       "56     4/6/07\n",
       "59    4/14/07\n",
       "61    4/15/07\n",
       "Name: date, dtype: object"
      ]
     },
     "execution_count": 4,
     "metadata": {},
     "output_type": "execute_result"
    }
   ],
   "source": [
    "# ---- Reading Dataset ----\n",
    "catalog_df = pd.read_csv('./datasets/catalog.csv', index_col='id')\n",
    "\n",
    "print(f'- Date Variable Type: {catalog_df.date.dtype}')\n",
    "print('---')\n",
    "catalog_df.date.head()"
   ]
  },
  {
   "cell_type": "markdown",
   "id": "0a6f015b-d44e-4010-897b-3bf988988013",
   "metadata": {},
   "source": [
    "---\n",
    "\n",
    "Let's convert the object type to datetime using the format: `month/date/four-digit-year`, that is, `%m/%d/%y`."
   ]
  },
  {
   "cell_type": "code",
   "execution_count": 8,
   "id": "6183d52e-dce5-4373-8841-0f5a0a25a293",
   "metadata": {},
   "outputs": [
    {
     "name": "stdout",
     "output_type": "stream",
     "text": [
      "- Converted Data Type: datetime64[ns]\n",
      "---\n"
     ]
    },
    {
     "data": {
      "text/plain": [
       "id\n",
       "34   2007-03-02\n",
       "42   2007-03-22\n",
       "56   2007-04-06\n",
       "59   2007-04-14\n",
       "61   2007-04-15\n",
       "Name: formatted_date, dtype: datetime64[ns]"
      ]
     },
     "execution_count": 8,
     "metadata": {},
     "output_type": "execute_result"
    }
   ],
   "source": [
    "# ---- Converting Object to Date Type ----\n",
    "catalog_df['formatted_date'] = pd.to_datetime(\n",
    "    catalog_df.date\n",
    "    , format='%m/%d/%y'\n",
    ")\n",
    "\n",
    "print(f'- Converted Data Type: {catalog_df.formatted_date.dtype}')\n",
    "print('---')\n",
    "catalog_df.formatted_date.head()"
   ]
  },
  {
   "cell_type": "markdown",
   "id": "82d7a8f1-f54a-4aea-80dd-45c505746740",
   "metadata": {},
   "source": [
    "---\n",
    "\n",
    "When the column has more than one date time format use `infer_datetime_format=True` in order to pandas guess the correct format for each row:\n",
    "\n",
    "> **Problem 1** - `pandas can't recognize the correct format for all cases`;\n",
    "\n",
    "> **Problem 2** - `it takes more time than specifying the format by yourself`."
   ]
  },
  {
   "cell_type": "code",
   "execution_count": 9,
   "id": "5dfe6bf7-b929-4528-a254-e9ba94c81a6c",
   "metadata": {},
   "outputs": [
    {
     "name": "stdout",
     "output_type": "stream",
     "text": [
      "- Converted Data Type: datetime64[ns]\n",
      "---\n"
     ]
    },
    {
     "data": {
      "text/plain": [
       "id\n",
       "34   2007-03-02\n",
       "42   2007-03-22\n",
       "56   2007-04-06\n",
       "59   2007-04-14\n",
       "61   2007-04-15\n",
       "Name: formatted_date, dtype: datetime64[ns]"
      ]
     },
     "execution_count": 9,
     "metadata": {},
     "output_type": "execute_result"
    }
   ],
   "source": [
    "# ---- Converting Object to Date Type ----\n",
    "catalog_df['formatted_date'] = pd.to_datetime(\n",
    "    catalog_df.date\n",
    "    , infer_datetime_format=True\n",
    ")\n",
    "\n",
    "print(f'- Converted Data Type: {catalog_df.formatted_date.dtype}')\n",
    "print('---')\n",
    "catalog_df.formatted_date.head()"
   ]
  },
  {
   "cell_type": "code",
   "execution_count": 25,
   "id": "df1fa8fc-e4f6-4489-a943-3d79daff065c",
   "metadata": {},
   "outputs": [
    {
     "name": "stdout",
     "output_type": "stream",
     "text": [
      "- Day: id\n",
      "34       2.0\n",
      "42      22.0\n",
      "56       6.0\n",
      "59      14.0\n",
      "61      15.0\n",
      "        ... \n",
      "7535     7.0\n",
      "7537    22.0\n",
      "7539    23.0\n",
      "7540    26.0\n",
      "7541     2.0\n",
      "Name: formatted_date, Length: 1693, dtype: float64\n",
      "---\n",
      "- Month: id\n",
      "34       3.0\n",
      "42       3.0\n",
      "56       4.0\n",
      "59       4.0\n",
      "61       4.0\n",
      "        ... \n",
      "7535    12.0\n",
      "7537     2.0\n",
      "7539     2.0\n",
      "7540     2.0\n",
      "7541     3.0\n",
      "Name: formatted_date, Length: 1693, dtype: float64\n",
      "---\n",
      "- Year: id\n",
      "34      2007.0\n",
      "42      2007.0\n",
      "56      2007.0\n",
      "59      2007.0\n",
      "61      2007.0\n",
      "         ...  \n",
      "7535    2015.0\n",
      "7537    2016.0\n",
      "7539    2016.0\n",
      "7540    2016.0\n",
      "7541    2016.0\n",
      "Name: formatted_date, Length: 1693, dtype: float64\n"
     ]
    }
   ],
   "source": [
    "# ---- Extracting Information from the Dates ----\n",
    "print(f'- Day: {catalog_df.formatted_date.dt.day}')\n",
    "print('---')\n",
    "print(f'- Month: {catalog_df.formatted_date.dt.month}')\n",
    "print('---')\n",
    "print(f'- Year: {catalog_df.formatted_date.dt.year}')"
   ]
  },
  {
   "cell_type": "code",
   "execution_count": 31,
   "id": "94733916-23f6-4fd1-aed2-40d8d4d84952",
   "metadata": {},
   "outputs": [
    {
     "data": {
      "image/png": "[encoded data removed]",
      "text/plain": [
       "<Figure size 640x480 with 1 Axes>"
      ]
     },
     "metadata": {},
     "output_type": "display_data"
    }
   ],
   "source": [
    "# ---- Plotting ----\n",
    "# Checking out the Days Distribution in order\n",
    "# to check if the pandas missformatted the months \n",
    "# as days.\n",
    "#\n",
    "sns.histplot(\n",
    "    catalog_df.formatted_date.dt.day\n",
    "    , kde=False\n",
    "    , bins=31\n",
    ")\n",
    "\n",
    "plt.show()"
   ]
  },
  {
   "cell_type": "code",
   "execution_count": 32,
   "id": "8b0b5b68-e88d-4ce0-8821-1478a179f725",
   "metadata": {},
   "outputs": [
    {
     "data": {
      "image/png": "[encoded data removed]",
      "text/plain": [
       "<Figure size 640x480 with 1 Axes>"
      ]
     },
     "metadata": {},
     "output_type": "display_data"
    }
   ],
   "source": [
    "# ---- Plotting ----\n",
    "# Checking out the Days Distribution in order\n",
    "# to check if the pandas missformatted the months \n",
    "# as days.\n",
    "#\n",
    "sns.histplot(\n",
    "    catalog_df.formatted_date.dt.day\n",
    "    , kde=True\n",
    "    , bins=31\n",
    ")\n",
    "\n",
    "plt.show()"
   ]
  },
  {
   "cell_type": "markdown",
   "id": "b6a6b3c7-a06b-4017-bfc5-1f1cb08302a4",
   "metadata": {},
   "source": [
    "---\n",
    "\n",
    "<h1 id='reach-me' style='color:#7159c1; border-bottom:3px solid #7159c1; letter-spacing:2px; font-family:JetBrains Mono; font-weight: bold; text-align:left; font-size:240%;padding:0'>📫 | Reach Me</h1>\n",
    "\n",
    "> **Email** - [csfelix08@gmail.com](mailto:csfelix08@gmail.com?)\n",
    "\n",
    "> **Linkedin** - [linkedin.com/in/csfelix/](https://www.linkedin.com/in/csfelix/)\n",
    "\n",
    "> **GitHub:** - [CSFelix](https://github.com/CSFelix)\n",
    "\n",
    "> **Kaggle** - [DSFelix](https://www.kaggle.com/dsfelix)\n",
    "\n",
    "> **Portfolio** - [CSFelix.io](https://csfelix.github.io/)."
   ]
  }
 ],
 "metadata": {
  "kernelspec": {
   "display_name": "Python 3 (ipykernel)",
   "language": "python",
   "name": "python3"
  },
  "language_info": {
   "codemirror_mode": {
    "name": "ipython",
    "version": 3
   },
   "file_extension": ".py",
   "mimetype": "text/x-python",
   "name": "python",
   "nbconvert_exporter": "python",
   "pygments_lexer": "ipython3",
   "version": "3.10.9"
  }
 },
 "nbformat": 4,
 "nbformat_minor": 5
}
