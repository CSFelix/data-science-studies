{
 "cells": [
  {
   "cell_type": "markdown",
   "id": "0475d454-7e9f-4518-b6bb-44c251dbade5",
   "metadata": {},
   "source": [
    "<center>\n",
    "    <h1 id='numerical-features-statistic-ii' style='color:#7159c1'>🧮 Numerical Features Statistic II 🧮</h1>\n",
    "    <i>Exploring Numerical Features - Dispersion Metrics</i>\n",
    "</center>\n",
    "\n",
    "```\n",
    "- Interquartile Range and Outliers\n",
    "- Variance\n",
    "- Standard Deviation\n",
    "- Mean Absolute Deviation (MAD)\n",
    "- Coefficient of Variation (CV)\n",
    "- Skewness\n",
    "- Kurtosis\n",
    "```"
   ]
  },
  {
   "cell_type": "code",
   "execution_count": 1,
   "id": "1a732bd1-d4a1-4fec-8fb0-203eaf72f5e0",
   "metadata": {},
   "outputs": [
    {
     "data": {
      "text/html": [
       "<div>\n",
       "<style scoped>\n",
       "    .dataframe tbody tr th:only-of-type {\n",
       "        vertical-align: middle;\n",
       "    }\n",
       "\n",
       "    .dataframe tbody tr th {\n",
       "        vertical-align: top;\n",
       "    }\n",
       "\n",
       "    .dataframe thead th {\n",
       "        text-align: right;\n",
       "    }\n",
       "</style>\n",
       "<table border=\"1\" class=\"dataframe\">\n",
       "  <thead>\n",
       "    <tr style=\"text-align: right;\">\n",
       "      <th></th>\n",
       "      <th>name</th>\n",
       "      <th>main_breed</th>\n",
       "      <th>position</th>\n",
       "      <th>favorite_color</th>\n",
       "      <th>age</th>\n",
       "    </tr>\n",
       "  </thead>\n",
       "  <tbody>\n",
       "    <tr>\n",
       "      <th>0</th>\n",
       "      <td>goku</td>\n",
       "      <td>sayan</td>\n",
       "      <td>low</td>\n",
       "      <td>purple</td>\n",
       "      <td>45</td>\n",
       "    </tr>\n",
       "    <tr>\n",
       "      <th>1</th>\n",
       "      <td>vegeta</td>\n",
       "      <td>sayan</td>\n",
       "      <td>high</td>\n",
       "      <td>purple</td>\n",
       "      <td>73</td>\n",
       "    </tr>\n",
       "    <tr>\n",
       "      <th>2</th>\n",
       "      <td>broly</td>\n",
       "      <td>sayan</td>\n",
       "      <td>high</td>\n",
       "      <td>purple</td>\n",
       "      <td>23</td>\n",
       "    </tr>\n",
       "    <tr>\n",
       "      <th>3</th>\n",
       "      <td>gohan</td>\n",
       "      <td>sayan</td>\n",
       "      <td>low</td>\n",
       "      <td>black</td>\n",
       "      <td>64</td>\n",
       "    </tr>\n",
       "    <tr>\n",
       "      <th>4</th>\n",
       "      <td>granolah</td>\n",
       "      <td>alien</td>\n",
       "      <td>low</td>\n",
       "      <td>purple</td>\n",
       "      <td>56</td>\n",
       "    </tr>\n",
       "  </tbody>\n",
       "</table>\n",
       "</div>"
      ],
      "text/plain": [
       "       name main_breed position favorite_color  age\n",
       "0      goku      sayan      low         purple   45\n",
       "1    vegeta      sayan     high         purple   73\n",
       "2     broly      sayan     high         purple   23\n",
       "3     gohan      sayan      low          black   64\n",
       "4  granolah      alien      low         purple   56"
      ]
     },
     "execution_count": 1,
     "metadata": {},
     "output_type": "execute_result"
    }
   ],
   "source": [
    "import pandas as pd # pip install pandas\n",
    "from functools import reduce # pip install functools\n",
    "\n",
    "df = pd.read_csv('./datasets/students.csv')\n",
    "df.head()"
   ]
  },
  {
   "cell_type": "markdown",
   "id": "72244d9d-3f5d-4fd7-aaab-fa81bc1547ec",
   "metadata": {},
   "source": [
    "<p id='0-interquartile-range-and-outliers' style='color:#7159c1; border-bottom:3px solid #7159c1; letter-spacing:2px; font-family:JetBrains Mono; font-weight: bold; text-align:left; font-size:240%;padding:0'>0 | Interquartile Range and Outliers</p>\n",
    "\n",
    "The `Interquartile Range` tells how much is the range of numerical variables. For instance, picture a variable that goes from 17 to 45, its range is equals to 28, since 28 is the difference between the minimum and the maximum values.\n",
    "\n",
    "Besides, having this metric in mind, we can calculate and identify outliers. There are two types of outliers: `down-bound and upper-bound`. The first one are those that are way too large than the maximum value, whereas the second one are those that are way too small than the minimum value. These are the equations to calculate them:\n",
    "\n",
    "$$\n",
    "\\text{down_bound} = \\text{Q1} - (1.5 \\cdot \\text{IQR})\n",
    "$$\n",
    "\n",
    "$$\n",
    "\\text{upper_bound} = \\text{Q3} + (1.5 \\cdot \\text{IQR})\n",
    "$$\n",
    "\n",
    "where:\n",
    "\n",
    "- Down Bound: values that are way too small than the minimum value. They are outliers;\n",
    "- Upper Bound: values that are way too large than the maximum value. They are outliers;\n",
    "- Q1: first quartile;\n",
    "- Q3: third quartile;\n",
    "- IQR: interquartile range.\n",
    "\n",
    "<br />\n",
    "\n",
    "Let's see these metrics in practice using the `age` variable from our Dragon Ball Dataset."
   ]
  },
  {
   "cell_type": "code",
   "execution_count": 2,
   "id": "e55e4ede-eaef-4f8b-a53f-e9016e5d5ff6",
   "metadata": {},
   "outputs": [
    {
     "name": "stdout",
     "output_type": "stream",
     "text": [
      "- Age Interquartile Range: 55\n"
     ]
    }
   ],
   "source": [
    "# ---- Interquartile Range ----\n",
    "age_iqr = df.age.max() - df.age.min()\n",
    "print(f'- Age Interquartile Range: {age_iqr}')"
   ]
  },
  {
   "cell_type": "code",
   "execution_count": 3,
   "id": "a57323ee-b4ac-477f-b4f7-3bf1a0be27a2",
   "metadata": {},
   "outputs": [
    {
     "name": "stdout",
     "output_type": "stream",
     "text": [
      "- Number of Down Bound Outliers: 0\n",
      "- Number of Upper Bound Outliers: 0\n"
     ]
    }
   ],
   "source": [
    "# ---- Outliers: Down and Upper Bounds ----\n",
    "down_bound = df.age.quantile(0.25) - (1.5 * age_iqr)\n",
    "upper_bound = df.age.quantile(0.75) + (1.5 * age_iqr)\n",
    "\n",
    "down_bound_outliers = df.loc[df.age < down_bound]\n",
    "upper_bound_outliers = df.loc[df.age > upper_bound]\n",
    "\n",
    "print(f'- Number of Down Bound Outliers: {down_bound_outliers.shape[0]}')\n",
    "print(f'- Number of Upper Bound Outliers: {upper_bound_outliers.shape[0]}')"
   ]
  },
  {
   "cell_type": "markdown",
   "id": "d5163337-fc71-4cb8-afad-8ee2d45e1ca5",
   "metadata": {},
   "source": [
    "<p id='1-variance' style='color:#7159c1; border-bottom:3px solid #7159c1; letter-spacing:2px; font-family:JetBrains Mono; font-weight: bold; text-align:left; font-size:240%;padding:0'>1 | Variance</p>\n",
    "\n",
    "Consider now we want to guess the new if a new character is added into the dataset. For this task, we could use the Arithmetic Mean or the Median, right? But don't you think that only having one vaue to guess will kind of lead us to the error? But, what about we guess an interval of values, like, instead of saying the new character will be 35 years-old, guessing that it will be between 25 and 45 years-old will give us more chances to get the right result, don't you think?\n",
    "\n",
    "This interval is calculated by using the `Variance` and works like this:\n",
    "\n",
    "$$\n",
    "variance < mean < variance\n",
    "$$\n",
    "\n",
    "<br />\n",
    "\n",
    "So, if the mean is equals to 35 and the variance equals to 10, our interval looks like this:\n",
    "\n",
    "$$\n",
    "25 < 35 < 45\n",
    "$$\n",
    "\n",
    "<br />\n",
    "\n",
    "To calculate the variance, we apply the equation:\n",
    "\n",
    "$$\n",
    "\\sigma^2 = \\frac{\\sum_{i=1}^{n}{(x_i - \\overline{x})^2}} {n}\n",
    "$$\n",
    "\n",
    "where:\n",
    "\n",
    "$\\sigma^2 \\text{: variance}$\n",
    "\n",
    "$x_i \\text{: each element in the list}$\n",
    "\n",
    "$\\overline{x} \\text{: list's arithmetic mean}$\n",
    "\n",
    "$n \\text{: number of elements in the list}$"
   ]
  },
  {
   "cell_type": "code",
   "execution_count": 4,
   "id": "6482db26-1a29-401e-ab5e-b85ac767cd86",
   "metadata": {},
   "outputs": [
    {
     "name": "stdout",
     "output_type": "stream",
     "text": [
      "- Age Variance: 361.4333 squared years-old\n"
     ]
    }
   ],
   "source": [
    "# ---- Variance ----\n",
    "age_variance = round(df.age.var(), 4)\n",
    "print(f'- Age Variance: {age_variance} squared years-old')"
   ]
  },
  {
   "cell_type": "markdown",
   "id": "ddd00e80-496a-4899-81ca-dc08e7e143a6",
   "metadata": {},
   "source": [
    "<p id='2-standard-deviation' style='color:#7159c1; border-bottom:3px solid #7159c1; letter-spacing:2px; font-family:JetBrains Mono; font-weight: bold; text-align:left; font-size:240%;padding:0'>2 | Standard Deviation</p>\n",
    "\n",
    "As you noticed, the variance has two problems:\n",
    "\n",
    "1. the age is way too large, it's impossible to a human live more than 150 years;\n",
    "2. the variance consider the age as squared and, tell me about it, it's weird talking to ages as squared years-old, isnt' it?\n",
    "\n",
    "To solve these two issues, we use `Standard Deviation`. This metric has been created to take off the square from the variance and, consequently, give us a more accurate and plausible range of values. It's equation is literally the variance's square root.\n",
    "\n",
    "$$\n",
    "\\sigma = \\sqrt{\\sigma^2}\n",
    "$$\n",
    "\n",
    "that is:\n",
    "\n",
    "$$\n",
    "\\sigma = \\sqrt{\\frac{\\sum_{i=1}^{n}{(x_i - \\overline{x})^2}} {n}}\n",
    "$$"
   ]
  },
  {
   "cell_type": "code",
   "execution_count": 5,
   "id": "954c0e9f-f4fb-457d-bdf9-8b3b361490c0",
   "metadata": {},
   "outputs": [
    {
     "name": "stdout",
     "output_type": "stream",
     "text": [
      "- Age Standard Deviation: 19.0114 years-old\n",
      "- The guess goes from 32.0886 to 70.1114 years-old\n"
     ]
    }
   ],
   "source": [
    "# ---- Standard Deviation ----\n",
    "age_std = round(df.age.std(), 4)\n",
    "age_mean = round(df.age.mean(), 4)\n",
    "\n",
    "print(f'- Age Standard Deviation: {age_std} years-old')\n",
    "print(f'- The guess goes from {age_mean - age_std} to {age_mean + age_std} years-old')"
   ]
  },
  {
   "cell_type": "markdown",
   "id": "cf43718c-fef4-4e8b-801e-b7ad3a5dc189",
   "metadata": {},
   "source": [
    "<p id='3-mean-absolute-deviation-mad' style='color:#7159c1; border-bottom:3px solid #7159c1; letter-spacing:2px; font-family:JetBrains Mono; font-weight: bold; text-align:left; font-size:240%;padding:0'>3 | Mean Absolute Deviation (MAD)</p>\n",
    "\n",
    "Both Variance and Standard Deviation are used when the Arithmetic Mean is the recommended metric to resume the variable. However, when it's the Median the recommended metric to resume the variable, we switch to `Mean Abosulte Deviation (MAD)` in order to find the range of values.\n",
    "\n",
    "It's equation is given as:\n",
    "\n",
    "$$\n",
    "\\text{mad} = \\frac{\\sum_{i=1}^{n}{| x_1 - \\overline{x} |}} {n}\n",
    "$$\n",
    "\n",
    "where:\n",
    "\n",
    "$\\text{mad : mean absolute deviation}$\n",
    "\n",
    "$x_i \\text{: each element in the list}$\n",
    "\n",
    "$\\overline{x} \\text{: list's arithmetic mean}$\n",
    "\n",
    "$n \\text{: number of elements in the list}$\n",
    "\n",
    "---\n",
    "\n",
    "By the way, use the Mean Absolute Deviation (MAD) instead of Standard Deviation in the following scenarios:\n",
    "\n",
    "- **Robustness to Outliers** - `MAD is less sensitive to extreme values or outliers compared to Standard Deviation. If your data contains outliers that you don't want to heavily influence the measure of dispersion, MAD is a better choice`;\n",
    "\n",
    "- **Simpler Interpretation** - `MAD is conceptually simpler since it measures the average absolute distance from the mean, whereas Standard Deviation squares the differences, making it harder to interpret in some cases`;\n",
    "\n",
    "- **Non-Normal Distributions** - `If your data does not follow a normal distribution, MAD can sometimes provide a more accurate measure of variability. Standard Deviation assumes a normal distribution, so it may not be as appropriate for data that is skewed or has heavy tails`;\n",
    "\n",
    "- **Ordinal Data** - `When dealing with ordinal data (data where the order matters but the difference between values is not necessarily consistent), MAD can be more appropriate because it doesn't assume interval or ratio scales like Standard Deviation does`;\n",
    "\n",
    "- **Emphasis on Median** - `In cases where the median is a better measure of central tendency than the mean (e.g., with skewed data), MAD is more aligned with the median, making it more consistent in those contexts`."
   ]
  },
  {
   "cell_type": "code",
   "execution_count": 6,
   "id": "865f2e49-9605-4434-9ab7-535583008874",
   "metadata": {},
   "outputs": [
    {
     "name": "stdout",
     "output_type": "stream",
     "text": [
      "- Age Mean Absolute Deviation: 15.3 years-old\n",
      "- The guess goes from 35.8 to 66.4 years-old\n"
     ]
    }
   ],
   "source": [
    "# ---- Mean Absolute Deviation ----\n",
    "age_mad = round(\n",
    "    sum(\n",
    "        df.age.apply(lambda age: abs(age - age_mean))\n",
    "    ) / df.age.shape[0]\n",
    ", 4)\n",
    "\n",
    "print(f'- Age Mean Absolute Deviation: {age_mad} years-old')\n",
    "print(f'- The guess goes from {age_mean - age_mad} to {age_mean + age_mad} years-old')"
   ]
  },
  {
   "cell_type": "markdown",
   "id": "f6f19b0f-e45c-4de0-9586-af89143c6632",
   "metadata": {},
   "source": [
    "<p id='4-coefficient-of-variation-cv' style='color:#7159c1; border-bottom:3px solid #7159c1; letter-spacing:2px; font-family:JetBrains Mono; font-weight: bold; text-align:left; font-size:240%;padding:0'>4 | Coefficient of Variation (CV)</p>\n",
    "\n",
    "`Coefficient of Variation (CV)` is commonly used to compare the dispersion between two different samples of the dataset. Foor instance, consider I and you got two different samples of Dragon Ball Dataset.\n",
    "\n",
    "In my sample, I got a mean equals to 30 and a standard deviation equals to 5. And you got a mean equals to 28 and a standard deviation equals to 10. So, who is correct? You or I? The answer is neither!! I'm right on my sample and you are on yours. It happens because these metrics are calculated considering the sample that we are working on, and not the excluded population.\n",
    "\n",
    "Besides, there are a way to compare our results, this way is the Coefficient of Variation and is given by:\n",
    "\n",
    "$$\n",
    "\\text{CV} = \\frac{\\sigma}{\\overline{x}} \\cdot 100\n",
    "$$\n",
    "\n",
    "where:\n",
    "\n",
    "$\\text{CV: Coefficient of Variation}$\n",
    "\n",
    "$\\sigma \\text{: standard deviation}$\n",
    "\n",
    "$\\overline{x} \\text{: arithmetic mean}$\n",
    "\n",
    "<br />\n",
    "\n",
    "The results goes from 0 to 100 and their conclusions are given below:\n",
    "\n",
    "> **Low CV (0 to 20) (0-20%)** - `a low coefficient of variation indicates low relative variability. This suggests that the values in the dataset are relatively close to the mean, and there is less spread or dispersion in the data`;\n",
    "\n",
    "> **Moderate CV (20 to 50) (20-50%)** - `a moderate coefficient of variation suggests a moderate level of relative variability. The values in the dataset are moderately spread around the mean`;\n",
    "\n",
    "> **High CV (50 to 100) (50% and above)** - `a high coefficient of variation indicates high relative variability. This suggests that the values in the dataset are widely spread around the mean, and there is a significant degree of dispersion`."
   ]
  },
  {
   "cell_type": "code",
   "execution_count": 7,
   "id": "3f51de1f-9ffb-461b-b86f-a1fba300942b",
   "metadata": {},
   "outputs": [
    {
     "name": "stdout",
     "output_type": "stream",
     "text": [
      "- Coefficient of Variation of the Age Variable for the present Dataset: 37.2043 years-old\n"
     ]
    }
   ],
   "source": [
    "# ---- Coefficient of Variation ----\n",
    "sample_cv = round((age_std / age_mean) * 100, 4)\n",
    "print(f'- Coefficient of Variation of the Age Variable for the present Dataset: {sample_cv} years-old')"
   ]
  },
  {
   "cell_type": "markdown",
   "id": "15683513-af27-4a3a-b183-2a4f1ba5ef7a",
   "metadata": {},
   "source": [
    "<p id='5-skewness' style='color:#7159c1; border-bottom:3px solid #7159c1; letter-spacing:2px; font-family:JetBrains Mono; font-weight: bold; text-align:left; font-size:240%;padding:0'>5 | Skewness</p>\n",
    "\n",
    "`Skewness` tells how much the variable's distribution is skewed. Its equation is given by this big one:\n",
    "\n",
    "$$\n",
    "\\text{Skewness} = \\frac{n}{(n - 1) \\cdot (n - 2)}\n",
    "\\cdot \\sum_{i=1}^{n}{(\\frac{x_1 - \\overline{x}}{\\sigma})^3}\n",
    "$$\n",
    "\n",
    "where:\n",
    "\n",
    "$\\text{n: number of elements in the list}$\n",
    "\n",
    "$x_i \\text{: each individual element in the list}$\n",
    "\n",
    "$\\overline{x} \\text{: sample's arithmetic mean}$\n",
    "\n",
    "$\\sigma \\text{: sample's standard deviation}$"
   ]
  },
  {
   "cell_type": "code",
   "execution_count": 8,
   "id": "5af0c2d2-0f1c-447b-8b39-f2e2c4e80c3b",
   "metadata": {},
   "outputs": [
    {
     "name": "stdout",
     "output_type": "stream",
     "text": [
      "- Age Skewness: -0.2409\n"
     ]
    }
   ],
   "source": [
    "# ---- Skewness ----\n",
    "age_skewness = round(df.age.skew(), 4)\n",
    "print(f'- Age Skewness: {age_skewness}')"
   ]
  },
  {
   "cell_type": "markdown",
   "id": "f184645c-3123-4b78-ac65-7b7a6acf321e",
   "metadata": {},
   "source": [
    "<p id='6-kurtosis' style='color:#7159c1; border-bottom:3px solid #7159c1; letter-spacing:2px; font-family:JetBrains Mono; font-weight: bold; text-align:left; font-size:240%;padding:0'>6 | Kurtosis</p>\n",
    "\n",
    "`Kurtosis` tells how long is the variable's distribution tail and is given by the following equation:\n",
    "\n",
    "$$\n",
    "\\text{Kurtosis} = \\frac{n \\cdot (n + 1)}{(n - 1) \\cdot (n - 2) \\cdot (n - 3)}\n",
    "\\cdot \\sum_{i=1}^{n}{(\\frac{x_i - \\overline{x}}{\\sigma})^4}\n",
    "- \\frac{3 \\cdot (n - 1)^2}{(n - 2) \\cdot (n - 3)}\n",
    "$$\n",
    "\n",
    "where:\n",
    "\n",
    "$\\text{n: number of elements in the list}$\n",
    "\n",
    "$x_i \\text{: each individual element}$\n",
    "\n",
    "$\\overline{x} \\text{: sample's arithmetic mean}$\n",
    "\n",
    "$\\sigma \\text{: sample's standard deviation}$"
   ]
  },
  {
   "cell_type": "code",
   "execution_count": 9,
   "id": "8254dcbb-b6eb-4e5e-9320-87d8055c0e04",
   "metadata": {},
   "outputs": [
    {
     "name": "stdout",
     "output_type": "stream",
     "text": [
      "- Age Kurtosis: -1.0057\n"
     ]
    }
   ],
   "source": [
    "# ---- Kurtosis ----\n",
    "age_kurtosis = round(df.age.kurt(), 4)\n",
    "print(f'- Age Kurtosis: {age_kurtosis}')"
   ]
  },
  {
   "cell_type": "markdown",
   "id": "a6674f7d-ce4b-4eb5-ae3a-7aca20af8653",
   "metadata": {},
   "source": [
    "<p id='reach-me' style='color:#7159c1; border-bottom:3px solid #7159c1; letter-spacing:2px; font-family:JetBrains Mono; font-weight: bold; text-align:left; font-size:240%;padding:0'>📫 | Reach Me</p>\n",
    "\n",
    "> **Email** - [csfelix08@gmail.com](mailto:csfelix08@gmail.com?)\n",
    "\n",
    "> **Linkedin** - [linkedin.com/in/csfelix/](https://www.linkedin.com/in/csfelix/)\n",
    "\n",
    "> **GitHub:** - [CSFelix](https://github.com/CSFelix)\n",
    "\n",
    "> **Kaggle** - [DSFelix](https://www.kaggle.com/dsfelix)\n",
    "\n",
    "> **Portfolio** - [CSFelix.io](https://csfelix.github.io/)."
   ]
  }
 ],
 "metadata": {
  "kernelspec": {
   "display_name": "Python 3 (ipykernel)",
   "language": "python",
   "name": "python3"
  },
  "language_info": {
   "codemirror_mode": {
    "name": "ipython",
    "version": 3
   },
   "file_extension": ".py",
   "mimetype": "text/x-python",
   "name": "python",
   "nbconvert_exporter": "python",
   "pygments_lexer": "ipython3",
   "version": "3.10.9"
  }
 },
 "nbformat": 4,
 "nbformat_minor": 5
}
