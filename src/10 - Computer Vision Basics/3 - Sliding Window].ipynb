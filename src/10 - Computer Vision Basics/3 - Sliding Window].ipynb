{
 "cells": [
  {
   "cell_type": "markdown",
   "id": "5c8c3991-79ab-4c0e-8601-b4bc04e8c9a9",
   "metadata": {},
   "source": [
    "<center>\n",
    "    <h1 id='sliding-window' style='color:#7159c1'>👁️‍🗨️ Sliding Window 👁️‍🗨️</h1>\n",
    "    <i></i>\n",
    "</center>\n",
    "\n",
    "---\n",
    "\n",
    "\n",
    "In the previous two lessons, we learned about the three operations that carry out feature extraction from an image:\n",
    "\n",
    "> `filter with a convolution layer`;\n",
    "> `detect with ReLU activation`;\n",
    "> `condense with a maximum pooling layer`.\n",
    "\n",
    "<br />\n",
    "\n",
    "The convolution and pooling operations share a common feature: they are both performed over a SLIDING WINDOW. \n",
    "\n",
    "With convolution, this \"window\" is given by the dimensions of the kernel, the parameter 'kernel_size'. With pooling, it is the pooling window, given by 'pool_size'.\n",
    "\n",
    "----\n",
    "\n",
    "There are two additional parameters affecting both convolution and pooling layers: these are the STRIDES of the window and whether to use PADDING at the image edges.\n",
    "\n",
    "The STRIDES parameter says how far the window should move at each step, and the PADDING parameter describes how we handle the pixels at the edges of the input."
   ]
  },
  {
   "cell_type": "markdown",
   "id": "80ed522b-936d-4990-91db-f0e1eb90c94d",
   "metadata": {},
   "source": [
    "---\n",
    "\n",
    "<h1 id='reach-me' style='color:#7159c1; border-bottom:3px solid #7159c1; letter-spacing:2px; font-family:JetBrains Mono; font-weight: bold; text-align:left; font-size:240%;padding:0'>📫 | Reach Me</h1>\n",
    "\n",
    "> **Email** - [csfelix08@gmail.com](mailto:csfelix08@gmail.com?)\n",
    "\n",
    "> **Linkedin** - [linkedin.com/in/csfelix/](https://www.linkedin.com/in/csfelix/)\n",
    "\n",
    "> **GitHub:** - [CSFelix](https://github.com/CSFelix)\n",
    "\n",
    "> **Kaggle** - [DSFelix](https://www.kaggle.com/dsfelix)\n",
    "\n",
    "> **Portfolio** - [CSFelix.io](https://csfelix.github.io/)."
   ]
  }
 ],
 "metadata": {
  "kernelspec": {
   "display_name": "Python 3 (ipykernel)",
   "language": "python",
   "name": "python3"
  },
  "language_info": {
   "codemirror_mode": {
    "name": "ipython",
    "version": 3
   },
   "file_extension": ".py",
   "mimetype": "text/x-python",
   "name": "python",
   "nbconvert_exporter": "python",
   "pygments_lexer": "ipython3",
   "version": "3.10.9"
  }
 },
 "nbformat": 4,
 "nbformat_minor": 5
}
