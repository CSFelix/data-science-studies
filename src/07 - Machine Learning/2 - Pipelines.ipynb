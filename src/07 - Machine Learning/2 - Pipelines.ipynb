{
 "cells": [
  {
   "cell_type": "markdown",
   "id": "e51f0aaf-f27e-4793-90d7-731b4630e9e4",
   "metadata": {},
   "source": [
    "<center>\n",
    "    <h1 id='pipelines' style='color:#7159c1'>🤖 Pipelines 🤖</h1>\n",
    "    <i>Basic Step-by-Step Process of Data Preparation for Machine Learning</i>\n",
    "</center>\n",
    "\n",
    "When working with Machine Learning, you normally apply some steps that are common to the most datas. This notebook is a hand for you remember them.\n",
    "\n",
    "```\n",
    "- Reading Dataset and Splitting it up\n",
    "- Separating Numerical Features from Categorical Ones\n",
    "- Checking out for Inconsistent Data Entry\n",
    "- Handling Good and Bad Labels\n",
    "- Pipelines and Preprocessing\n",
    "- Bundling Preprocessors\n",
    "- Creating the Base Model\n",
    "- Getting Better Results with Cross-Validation\n",
    "- XGBoost\n",
    "```"
   ]
  },
  {
   "cell_type": "markdown",
   "id": "664ffa9a-f5b1-4d88-b8f2-dcd97beb09c6",
   "metadata": {},
   "source": [
    "<h1 id='0-reading-dataset-and-splitting-it-up' style='color:#7159c1; border-bottom:3px solid #7159c1; letter-spacing:2px; font-family:JetBrains Mono; font-weight: bold; text-align:left; font-size:240%;padding:0'>0 | Reading Dataset and Splitting it up</h1>"
   ]
  },
  {
   "cell_type": "code",
   "execution_count": 1,
   "id": "cf4125a5-c729-4182-8b18-155265835f94",
   "metadata": {},
   "outputs": [
    {
     "data": {
      "text/html": [
       "<div>\n",
       "<style scoped>\n",
       "    .dataframe tbody tr th:only-of-type {\n",
       "        vertical-align: middle;\n",
       "    }\n",
       "\n",
       "    .dataframe tbody tr th {\n",
       "        vertical-align: top;\n",
       "    }\n",
       "\n",
       "    .dataframe thead th {\n",
       "        text-align: right;\n",
       "    }\n",
       "</style>\n",
       "<table border=\"1\" class=\"dataframe\">\n",
       "  <thead>\n",
       "    <tr style=\"text-align: right;\">\n",
       "      <th></th>\n",
       "      <th>symboling</th>\n",
       "      <th>make</th>\n",
       "      <th>fuel_type</th>\n",
       "      <th>aspiration</th>\n",
       "      <th>num_of_doors</th>\n",
       "      <th>body_style</th>\n",
       "      <th>drive_wheels</th>\n",
       "      <th>engine_location</th>\n",
       "      <th>wheel_base</th>\n",
       "      <th>length</th>\n",
       "      <th>...</th>\n",
       "      <th>engine_size</th>\n",
       "      <th>fuel_system</th>\n",
       "      <th>bore</th>\n",
       "      <th>stroke</th>\n",
       "      <th>compression_ratio</th>\n",
       "      <th>horsepower</th>\n",
       "      <th>peak_rpm</th>\n",
       "      <th>city_mpg</th>\n",
       "      <th>highway_mpg</th>\n",
       "      <th>price</th>\n",
       "    </tr>\n",
       "  </thead>\n",
       "  <tbody>\n",
       "    <tr>\n",
       "      <th>0</th>\n",
       "      <td>3</td>\n",
       "      <td>alfa-romero</td>\n",
       "      <td>gas</td>\n",
       "      <td>std</td>\n",
       "      <td>2</td>\n",
       "      <td>convertible</td>\n",
       "      <td>rwd</td>\n",
       "      <td>front</td>\n",
       "      <td>88.6</td>\n",
       "      <td>168.8</td>\n",
       "      <td>...</td>\n",
       "      <td>130</td>\n",
       "      <td>mpfi</td>\n",
       "      <td>3.47</td>\n",
       "      <td>2.68</td>\n",
       "      <td>9</td>\n",
       "      <td>111</td>\n",
       "      <td>5000</td>\n",
       "      <td>21</td>\n",
       "      <td>27</td>\n",
       "      <td>13495</td>\n",
       "    </tr>\n",
       "    <tr>\n",
       "      <th>1</th>\n",
       "      <td>3</td>\n",
       "      <td>alfa-romero</td>\n",
       "      <td>gas</td>\n",
       "      <td>std</td>\n",
       "      <td>2</td>\n",
       "      <td>convertible</td>\n",
       "      <td>rwd</td>\n",
       "      <td>front</td>\n",
       "      <td>88.6</td>\n",
       "      <td>168.8</td>\n",
       "      <td>...</td>\n",
       "      <td>130</td>\n",
       "      <td>mpfi</td>\n",
       "      <td>3.47</td>\n",
       "      <td>2.68</td>\n",
       "      <td>9</td>\n",
       "      <td>111</td>\n",
       "      <td>5000</td>\n",
       "      <td>21</td>\n",
       "      <td>27</td>\n",
       "      <td>16500</td>\n",
       "    </tr>\n",
       "    <tr>\n",
       "      <th>2</th>\n",
       "      <td>1</td>\n",
       "      <td>alfa-romero</td>\n",
       "      <td>gas</td>\n",
       "      <td>std</td>\n",
       "      <td>2</td>\n",
       "      <td>hatchback</td>\n",
       "      <td>rwd</td>\n",
       "      <td>front</td>\n",
       "      <td>94.5</td>\n",
       "      <td>171.2</td>\n",
       "      <td>...</td>\n",
       "      <td>152</td>\n",
       "      <td>mpfi</td>\n",
       "      <td>2.68</td>\n",
       "      <td>3.47</td>\n",
       "      <td>9</td>\n",
       "      <td>154</td>\n",
       "      <td>5000</td>\n",
       "      <td>19</td>\n",
       "      <td>26</td>\n",
       "      <td>16500</td>\n",
       "    </tr>\n",
       "    <tr>\n",
       "      <th>3</th>\n",
       "      <td>2</td>\n",
       "      <td>audi</td>\n",
       "      <td>gas</td>\n",
       "      <td>std</td>\n",
       "      <td>4</td>\n",
       "      <td>sedan</td>\n",
       "      <td>fwd</td>\n",
       "      <td>front</td>\n",
       "      <td>99.8</td>\n",
       "      <td>176.6</td>\n",
       "      <td>...</td>\n",
       "      <td>109</td>\n",
       "      <td>mpfi</td>\n",
       "      <td>3.19</td>\n",
       "      <td>3.40</td>\n",
       "      <td>10</td>\n",
       "      <td>102</td>\n",
       "      <td>5500</td>\n",
       "      <td>24</td>\n",
       "      <td>30</td>\n",
       "      <td>13950</td>\n",
       "    </tr>\n",
       "    <tr>\n",
       "      <th>4</th>\n",
       "      <td>2</td>\n",
       "      <td>audi</td>\n",
       "      <td>gas</td>\n",
       "      <td>std</td>\n",
       "      <td>4</td>\n",
       "      <td>sedan</td>\n",
       "      <td>4wd</td>\n",
       "      <td>front</td>\n",
       "      <td>99.4</td>\n",
       "      <td>176.6</td>\n",
       "      <td>...</td>\n",
       "      <td>136</td>\n",
       "      <td>mpfi</td>\n",
       "      <td>3.19</td>\n",
       "      <td>3.40</td>\n",
       "      <td>8</td>\n",
       "      <td>115</td>\n",
       "      <td>5500</td>\n",
       "      <td>18</td>\n",
       "      <td>22</td>\n",
       "      <td>17450</td>\n",
       "    </tr>\n",
       "  </tbody>\n",
       "</table>\n",
       "<p>5 rows × 25 columns</p>\n",
       "</div>"
      ],
      "text/plain": [
       "   symboling         make fuel_type aspiration  num_of_doors   body_style  \\\n",
       "0          3  alfa-romero       gas        std             2  convertible   \n",
       "1          3  alfa-romero       gas        std             2  convertible   \n",
       "2          1  alfa-romero       gas        std             2    hatchback   \n",
       "3          2         audi       gas        std             4        sedan   \n",
       "4          2         audi       gas        std             4        sedan   \n",
       "\n",
       "  drive_wheels engine_location  wheel_base  length  ...  engine_size  \\\n",
       "0          rwd           front        88.6   168.8  ...          130   \n",
       "1          rwd           front        88.6   168.8  ...          130   \n",
       "2          rwd           front        94.5   171.2  ...          152   \n",
       "3          fwd           front        99.8   176.6  ...          109   \n",
       "4          4wd           front        99.4   176.6  ...          136   \n",
       "\n",
       "   fuel_system  bore stroke  compression_ratio  horsepower peak_rpm  city_mpg  \\\n",
       "0         mpfi  3.47   2.68                  9         111     5000        21   \n",
       "1         mpfi  3.47   2.68                  9         111     5000        21   \n",
       "2         mpfi  2.68   3.47                  9         154     5000        19   \n",
       "3         mpfi  3.19   3.40                 10         102     5500        24   \n",
       "4         mpfi  3.19   3.40                  8         115     5500        18   \n",
       "\n",
       "   highway_mpg  price  \n",
       "0           27  13495  \n",
       "1           27  16500  \n",
       "2           26  16500  \n",
       "3           30  13950  \n",
       "4           22  17450  \n",
       "\n",
       "[5 rows x 25 columns]"
      ]
     },
     "execution_count": 1,
     "metadata": {},
     "output_type": "execute_result"
    }
   ],
   "source": [
    "import pandas as pd # pip install pandas\n",
    "from sklearn.model_selection import train_test_split # pip install sklearn\n",
    "\n",
    "autos_df = pd.read_csv('./datasets/autos.csv') # if needed, we solve the charset problem here with 'chardet' package\n",
    "autos_df.head()"
   ]
  },
  {
   "cell_type": "code",
   "execution_count": 2,
   "id": "fde875a1-22ba-44c9-836b-2eb9c06fc7ca",
   "metadata": {},
   "outputs": [
    {
     "data": {
      "text/plain": [
       "symboling              int64\n",
       "make                  object\n",
       "fuel_type             object\n",
       "aspiration            object\n",
       "num_of_doors           int64\n",
       "body_style            object\n",
       "drive_wheels          object\n",
       "engine_location       object\n",
       "wheel_base           float64\n",
       "length               float64\n",
       "width                float64\n",
       "height               float64\n",
       "curb_weight            int64\n",
       "engine_type           object\n",
       "num_of_cylinders       int64\n",
       "engine_size            int64\n",
       "fuel_system           object\n",
       "bore                 float64\n",
       "stroke               float64\n",
       "compression_ratio      int64\n",
       "horsepower             int64\n",
       "peak_rpm               int64\n",
       "city_mpg               int64\n",
       "highway_mpg            int64\n",
       "price                  int64\n",
       "dtype: object"
      ]
     },
     "execution_count": 2,
     "metadata": {},
     "output_type": "execute_result"
    }
   ],
   "source": [
    "autos_df.dtypes # if needed, we convert some features types, such as to datetime, int64/int32 or float64/float32"
   ]
  },
  {
   "cell_type": "code",
   "execution_count": 3,
   "id": "ee3bc9ce-92a4-4d48-af29-771c41eb8398",
   "metadata": {},
   "outputs": [],
   "source": [
    "X = autos_df.copy()\n",
    "y = X.pop('price')\n",
    "\n",
    "X_train, X_valid, y_train, y_valid = train_test_split(\n",
    "    X, y, random_state=20242101\n",
    "    , train_size=0.70\n",
    "    , test_size=0.30\n",
    ")"
   ]
  },
  {
   "cell_type": "markdown",
   "id": "ebc27321-9f6e-485c-930f-4de473c1a462",
   "metadata": {},
   "source": [
    "<h1 id='1-separating-numerical-features-from-categorical-ones' style='color:#7159c1; border-bottom:3px solid #7159c1; letter-spacing:2px; font-family:JetBrains Mono; font-weight: bold; text-align:left; font-size:240%;padding:0'>1 | Separating Numerical Features from Categorical Ones</h1>"
   ]
  },
  {
   "cell_type": "code",
   "execution_count": 4,
   "id": "4ad08a94-2fff-43b9-81ef-cd8e7046d227",
   "metadata": {},
   "outputs": [
    {
     "name": "stdout",
     "output_type": "stream",
     "text": [
      "- Numerical Features: ['symboling', 'num_of_doors', 'wheel_base', 'length', 'width', 'height', 'curb_weight', 'num_of_cylinders', 'engine_size', 'bore', 'stroke', 'compression_ratio', 'horsepower', 'peak_rpm', 'city_mpg', 'highway_mpg']\n",
      "---\n",
      "- Categorical Features for Ordinal Encoding: ['make']\n",
      "---\n",
      "- Categorical Features for One-Hot Encoding: ['fuel_type', 'aspiration', 'body_style', 'drive_wheels', 'engine_location', 'engine_type', 'fuel_system']\n"
     ]
    }
   ],
   "source": [
    "numerical_features = [\n",
    "    feature for feature in X_train.columns\n",
    "    if X_train[feature].dtype in ['int32', 'int64', 'float32', 'float64']\n",
    "]\n",
    "\n",
    "# features for ordinal encoding\n",
    "categorical_ordinal_features = [\n",
    "    feature for feature in X_train.columns\n",
    "    if X_train[feature].dtype in ['object', 'o']\n",
    "       and X_train[feature].nunique() >= 10\n",
    "]\n",
    "\n",
    "# features for one-hot encoding\n",
    "categorical_onehot_features = [\n",
    "    feature for feature in X_train.columns\n",
    "    if X_train[feature].dtype in ['object', 'o']\n",
    "       and X_train[feature].nunique() < 10\n",
    "]\n",
    "\n",
    "print(f'- Numerical Features: {numerical_features}')\n",
    "print('---')\n",
    "print(f'- Categorical Features for Ordinal Encoding: {categorical_ordinal_features}')\n",
    "print('---')\n",
    "print(f'- Categorical Features for One-Hot Encoding: {categorical_onehot_features}')"
   ]
  },
  {
   "cell_type": "markdown",
   "id": "80b6234c-b409-4088-9d23-b93e36bbe891",
   "metadata": {},
   "source": [
    "<h1 id='2-checking-out-for-inconsistent-data-entry' style='color:#7159c1; border-bottom:3px solid #7159c1; letter-spacing:2px; font-family:JetBrains Mono; font-weight: bold; text-align:left; font-size:240%;padding:0'>2 | Checking out for Inconsistent Data Entry</h1>\n",
    "\n",
    "In this example, we are checking out the 'make' feature only, however, in a real world analysis, we must do to every categorical one!!"
   ]
  },
  {
   "cell_type": "code",
   "execution_count": 5,
   "id": "9aba0f42-45c9-48b6-854c-90536b4d6dfb",
   "metadata": {},
   "outputs": [
    {
     "name": "stdout",
     "output_type": "stream",
     "text": [
      "- Makes in Training: ['alfa-romero' 'audi' 'bmw' 'chevrolet' 'dodge' 'honda' 'isuzu' 'jaguar'\n",
      " 'mazda' 'mercedes-benz' 'mitsubishi' 'nissan' 'peugot' 'plymouth'\n",
      " 'porsche' 'saab' 'subaru' 'toyota' 'volkswagen' 'volvo']\n",
      "---\n",
      "- Makes in Validation: ['audi' 'chevrolet' 'dodge' 'honda' 'jaguar' 'mazda' 'mercedes-benz'\n",
      " 'mercury' 'mitsubishi' 'nissan' 'peugot' 'plymouth' 'porsche' 'saab'\n",
      " 'subaru' 'toyota' 'volkswagen' 'volvo']\n"
     ]
    }
   ],
   "source": [
    "import fuzzywuzzy # pip install fuzzywuzzy\n",
    "from fuzzywuzzy import process\n",
    "\n",
    "# Getting the unique makes\n",
    "train_makes = X_train.make.unique()\n",
    "train_makes.sort()\n",
    "\n",
    "valid_makes = X_valid.make.unique()\n",
    "valid_makes.sort()\n",
    "\n",
    "print(f'- Makes in Training: {train_makes}')\n",
    "print('---')\n",
    "print(f'- Makes in Validation: {valid_makes}')"
   ]
  },
  {
   "cell_type": "code",
   "execution_count": 6,
   "id": "28ed946c-e769-4455-b45c-8eeafcd0a862",
   "metadata": {},
   "outputs": [
    {
     "name": "stdout",
     "output_type": "stream",
     "text": [
      "- Train Matches for Alfa-Romero: [('alfa-romero', 100), ('jaguar', 35), ('mercedes-benz', 33), ('plymouth', 32), ('chevrolet', 30), ('volkswagen', 29), ('saab', 27), ('dodge', 25), ('mazda', 25), ('volvo', 25)]\n",
      "---\n",
      "- Validation Matches for Saab: [('saab', 100), ('mazda', 44), ('jaguar', 40), ('nissan', 40), ('subaru', 40), ('mitsubishi', 29), ('volkswagen', 29), ('audi', 25), ('honda', 22), ('toyota', 20)]\n"
     ]
    }
   ],
   "source": [
    "# Getting the Matches to the Unique Make\n",
    "train_matches = fuzzywuzzy.process.extract(\n",
    "    'alfa-romero'\n",
    "    , train_makes\n",
    "    , limit=10\n",
    "    , scorer=fuzzywuzzy.fuzz.token_sort_ratio\n",
    ")\n",
    "\n",
    "valid_matches = fuzzywuzzy.process.extract(\n",
    "    'saab'\n",
    "    , valid_makes\n",
    "    , limit=10\n",
    "    , scorer=fuzzywuzzy.fuzz.token_sort_ratio\n",
    ")\n",
    "\n",
    "print(f'- Train Matches for Alfa-Romero: {train_matches}')\n",
    "print('---')\n",
    "print(f'- Validation Matches for Saab: {valid_matches}')"
   ]
  },
  {
   "cell_type": "code",
   "execution_count": 7,
   "id": "cb4ab524-355d-45dd-b859-a4caa5534c48",
   "metadata": {},
   "outputs": [],
   "source": [
    "# Creating Function to Deal with the Inconsistent Entries\n",
    "def replace_matches_in_feature(df, column, string_to_match, min_ratio):\n",
    "    # getting list of strings and the matches\n",
    "    strings = df[column].unique()\n",
    "    matches = fuzzywuzzy.process.extract(\n",
    "        string_to_match\n",
    "        , strings\n",
    "        , limit=10\n",
    "        , scorer=fuzzywuzzy.fuzz.token_sort_ratio\n",
    "    )\n",
    "    \n",
    "    # getting the most similar matches\n",
    "    close_matches = [matche[0] for matche in matches if matche[1] >= min_ratio]\n",
    "    \n",
    "    # getting the rows with the close matches and replacing them\n",
    "    rows_with_matches = df[column].isin(close_matches)\n",
    "    df.loc[rows_with_matches, column] = string_to_match\n",
    "    \n",
    "# Calling the function and only replacing the values if the similarity score\n",
    "# is equals to or greater than 75%\n",
    "replace_matches_in_feature(X_train, 'make', 'alfa-romero', 75)\n",
    "replace_matches_in_feature(X_valid, 'make', 'saab', 75)"
   ]
  },
  {
   "cell_type": "markdown",
   "id": "46ad81c7-d68c-4e96-9a64-b3f8574c765e",
   "metadata": {},
   "source": [
    "<h1 id='3-handling-good-and-bad-labels' style='color:#7159c1; border-bottom:3px solid #7159c1; letter-spacing:2px; font-family:JetBrains Mono; font-weight: bold; text-align:left; font-size:240%;padding:0'>3 | Handling Good and Bad Labels</h1>"
   ]
  },
  {
   "cell_type": "code",
   "execution_count": 8,
   "id": "92b50eb6-68e5-43ee-a60d-0fd9e6d86e8e",
   "metadata": {},
   "outputs": [],
   "source": [
    "# Getting the Good and Bad Labels\n",
    "good_labels_ordinal_features = [\n",
    "    feature for feature in categorical_ordinal_features\n",
    "    if set(X_valid[feature]).issubset(set(X_train[feature]))\n",
    "]\n",
    "\n",
    "bad_labels_ordinal_features = list(set(categorical_ordinal_features) - set(good_labels_ordinal_features))\n",
    "\n",
    "good_labels_onehot_features = [\n",
    "    feature for feature in categorical_onehot_features\n",
    "    if set(X_valid[feature]).issubset(set(X_train[feature]))\n",
    "]\n",
    "\n",
    "bad_labels_onehot_features = list(set(categorical_onehot_features) - set(good_labels_onehot_features))\n",
    "\n",
    "# Dropping the Bad Labels\n",
    "good_labels_X_train = X_train.drop(bad_labels_ordinal_features, axis=1).copy()\n",
    "good_labels_X_train = good_labels_X_train.drop(bad_labels_onehot_features, axis=1)\n",
    "\n",
    "good_labels_X_valid = X_valid.drop(bad_labels_ordinal_features, axis=1).copy()\n",
    "good_labels_X_valid = good_labels_X_valid.drop(bad_labels_onehot_features, axis=1)"
   ]
  },
  {
   "cell_type": "markdown",
   "id": "e881a386-6dff-43b8-877a-514735136b02",
   "metadata": {},
   "source": [
    "<h1 id='4-pipelines-and-preprocessing' style='color:#7159c1; border-bottom:3px solid #7159c1; letter-spacing:2px; font-family:JetBrains Mono; font-weight: bold; text-align:left; font-size:240%;padding:0'>4 | Pipelines and Preprocessing</h1>\n",
    "\n",
    "> **Scaling** - `tt's used to change the RANGE of the datas. The RANGE goes from 0 to 1`;\n",
    "\n",
    "> **Standardization** - `it's like the Scale, but the scale range doesn't go from 0 to 1, it varies`;\n",
    "\n",
    "> **Normalization** - `changes the distribution of the datas in order to get a Normal Distribution (Gaussian Distribution or Bell Curve)`."
   ]
  },
  {
   "cell_type": "code",
   "execution_count": 9,
   "id": "827f8ce3-0cdd-42ed-a086-6733270bcf8a",
   "metadata": {},
   "outputs": [],
   "source": [
    "from sklearn.pipeline import Pipeline\n",
    "from sklearn.impute import SimpleImputer\n",
    "\n",
    "from sklearn.preprocessing import OrdinalEncoder\n",
    "from sklearn.preprocessing import OneHotEncoder\n",
    "from sklearn.preprocessing import MinMaxScaler\n",
    "from sklearn.preprocessing import RobustScaler\n",
    "from sklearn.preprocessing import StandardScaler\n",
    "from sklearn.preprocessing import Normalizer\n",
    "\n",
    "# Numerical Preprocessing Preprocessing\n",
    "#\n",
    "# / Imputer (strategy: mean|most_frequent|median|constant)\n",
    "# / Scale | Standardization | Normalization (uncomment the code to change the preprocessing)\n",
    "#\n",
    "numerical_transformer = Pipeline(steps=[\n",
    "    ('imputer', SimpleImputer(strategy='mean'))\n",
    "    , ('scale', MinMaxScaler())\n",
    "    #('standardization', StandardScaler()),\n",
    "\t#('robustscaler', RobustScaler()),\n",
    "\t#('normalization', Normalizer()),\n",
    "])\n",
    "\n",
    "# Ordinal Categorical Features Preprocessing\n",
    "#\n",
    "# / Imputer (strategy: most_frequent|constant)\n",
    "# / Ordinal Encoder\n",
    "#\n",
    "categorical_ordinal_transformer = Pipeline(steps=[\n",
    "    ('imputer', SimpleImputer(strategy='most_frequent'))\n",
    "    , ('ordinal_encoder', OrdinalEncoder())\n",
    "])\n",
    "\n",
    "# One-Hot Categorical Preprocessor\n",
    "#\n",
    "# / Imputer (strategy: most_frequent|constant)\n",
    "# / One-Hot Encoder (handle_unknown=ignore, sparse=False)\n",
    "#\n",
    "categorical_onehot_transformer = Pipeline(steps=[\n",
    "    ('imputer', SimpleImputer(strategy='most_frequent'))\n",
    "    , ('onehot_encoder', OneHotEncoder(handle_unknown='ignore', sparse_output=False))\n",
    "])"
   ]
  },
  {
   "cell_type": "markdown",
   "id": "1e3d1f47-9be1-4170-904b-d42b4ae74ac8",
   "metadata": {},
   "source": [
    "<h1 id='5-bundling-the-preprocessors' style='color:#7159c1; border-bottom:3px solid #7159c1; letter-spacing:2px; font-family:JetBrains Mono; font-weight: bold; text-align:left; font-size:240%;padding:0'>5 | Bundling the Preprocessors</h1>"
   ]
  },
  {
   "cell_type": "code",
   "execution_count": 10,
   "id": "c69b8927-4562-4187-8af0-6f5e76f6b2a4",
   "metadata": {},
   "outputs": [],
   "source": [
    "from sklearn.compose import ColumnTransformer\n",
    "\n",
    "preprocessor = ColumnTransformer(\n",
    "    transformers=[\n",
    "        ('numerical', numerical_transformer, numerical_features)\n",
    "        , ('ordinal_categorical', categorical_ordinal_transformer, good_labels_ordinal_features)\n",
    "        , ('onehot_categorical', categorical_onehot_transformer, good_labels_onehot_features)\n",
    "    ]\n",
    ")"
   ]
  },
  {
   "cell_type": "markdown",
   "id": "efa62c46-ef78-4d57-8298-f416d8f317c1",
   "metadata": {},
   "source": [
    "<h1 id='6-creating-the-base-model' style='color:#7159c1; border-bottom:3px solid #7159c1; letter-spacing:2px; font-family:JetBrains Mono; font-weight: bold; text-align:left; font-size:240%;padding:0'>6 | Creating the Base Model</h1>"
   ]
  },
  {
   "cell_type": "code",
   "execution_count": 11,
   "id": "af8067e2-05b2-4cd5-bec4-96cf3e16c0c2",
   "metadata": {},
   "outputs": [
    {
     "name": "stdout",
     "output_type": "stream",
     "text": [
      "- Mean Absolute Error of the Base Model: 1339.5122298850572\n"
     ]
    }
   ],
   "source": [
    "from sklearn.ensemble import RandomForestRegressor\n",
    "from sklearn.metrics import mean_absolute_error\n",
    "\n",
    "# Creating the Base Model and the Pipeline\n",
    "base_model = RandomForestRegressor(n_estimators=250, random_state=20242101)\n",
    "pipeline = Pipeline(steps=[\n",
    "    ('preprocessor', preprocessor)\n",
    "    , ('model', base_model)\n",
    "])\n",
    "\n",
    "# Training and Predicting\n",
    "pipeline.fit(good_labels_X_train, y_train)\n",
    "predictions = pipeline.predict(good_labels_X_valid)\n",
    "\n",
    "# Evaluating\n",
    "mae = mean_absolute_error(predictions, y_valid)\n",
    "print(f'- Mean Absolute Error of the Base Model: {mae}')"
   ]
  },
  {
   "cell_type": "markdown",
   "id": "c1802bcc-f1d8-4a99-80f0-cc31075e7f82",
   "metadata": {},
   "source": [
    "<h1 id='7-getting-better-results-with-cross-validation' style='color:#7159c1; border-bottom:3px solid #7159c1; letter-spacing:2px; font-family:JetBrains Mono; font-weight: bold; text-align:left; font-size:240%;padding:0'>7 | Getting Better Results with Cross-Validation</h1>"
   ]
  },
  {
   "cell_type": "code",
   "execution_count": 12,
   "id": "2d30fb46-9335-4e95-8230-ea3bf6cf801e",
   "metadata": {},
   "outputs": [
    {
     "name": "stdout",
     "output_type": "stream",
     "text": [
      "- Average Mean Absolute Error Across Cross-Validation Experiments: 6589.285280637491\n",
      "---\n",
      "- All Scores: [6896.14960806 9021.31911282 4725.00336752 6122.34763233 6181.60668246]\n"
     ]
    }
   ],
   "source": [
    "from sklearn.model_selection import cross_val_score\n",
    "\n",
    "# Multiply by -1 since sklearn calculates 'negative' MAE\n",
    "scores = -1 * cross_val_score(\n",
    "    pipeline\n",
    "    , pd.concat([good_labels_X_train, good_labels_X_valid], axis=0)\n",
    "    , y\n",
    "    , cv=5 # number of folds\n",
    "    , scoring='neg_mean_absolute_error'\n",
    ")\n",
    "\n",
    "print(f'- Average Mean Absolute Error Across Cross-Validation Experiments: {scores.mean()}')\n",
    "print('---')\n",
    "print(f'- All Scores: {scores}')"
   ]
  },
  {
   "cell_type": "markdown",
   "id": "bd6c8c11-641e-4f8a-bab8-35ee5271c846",
   "metadata": {},
   "source": [
    "<h1 id='8-xgboost' style='color:#7159c1; border-bottom:3px solid #7159c1; letter-spacing:2px; font-family:JetBrains Mono; font-weight: bold; text-align:left; font-size:240%;padding:0'>8 | XGBoost</h1>"
   ]
  },
  {
   "cell_type": "code",
   "execution_count": 20,
   "id": "b1755fa4-51a5-4f8f-98d1-93179bc3907b",
   "metadata": {},
   "outputs": [
    {
     "name": "stdout",
     "output_type": "stream",
     "text": [
      "- Mean Absolute Error of XGBoost Modedl: 1458.6810597386852\n"
     ]
    }
   ],
   "source": [
    "from xgboost import XGBRegressor # pip install xgboost\n",
    "\n",
    "xgb_X_train = preprocessor.fit_transform(X_train)\n",
    "xgb_X_valid = preprocessor.transform(X_valid)\n",
    "\n",
    "xgb_model = XGBRegressor(\n",
    "    n_estimators=500\n",
    "    , learning_rate=0.05\n",
    "    , early_stopping_rounds=5\n",
    "    , n_jobs=4\n",
    ")\n",
    "\n",
    "xgb_model.fit(\n",
    "    xgb_X_train\n",
    "    , y_train\n",
    "    , eval_set=[(xgb_X_valid, y_valid)]\n",
    "    , verbose=False\n",
    ")\n",
    "\n",
    "xgb_predictions = xgb_model.predict(xgb_X_valid)\n",
    "mae = mean_absolute_error(xgb_predictions, y_valid)\n",
    "\n",
    "print(f'- Mean Absolute Error of XGBoost Modedl: {mae}')"
   ]
  },
  {
   "cell_type": "markdown",
   "id": "fc078dd9-4872-4869-865b-3b55e8d701f6",
   "metadata": {},
   "source": [
    "---\n",
    "\n",
    "<h1 id='reach-me' style='color:#7159c1; border-bottom:3px solid #7159c1; letter-spacing:2px; font-family:JetBrains Mono; font-weight: bold; text-align:left; font-size:240%;padding:0'>📫 | Reach Me</h1>\n",
    "\n",
    "> **Email** - [csfelix08@gmail.com](mailto:csfelix08@gmail.com?)\n",
    "\n",
    "> **Linkedin** - [linkedin.com/in/csfelix/](https://www.linkedin.com/in/csfelix/)\n",
    "\n",
    "> **GitHub:** - [CSFelix](https://github.com/CSFelix)\n",
    "\n",
    "> **Kaggle** - [DSFelix](https://www.kaggle.com/dsfelix)\n",
    "\n",
    "> **Portfolio** - [CSFelix.io](https://csfelix.github.io/)."
   ]
  }
 ],
 "metadata": {
  "kernelspec": {
   "display_name": "Python 3 (ipykernel)",
   "language": "python",
   "name": "python3"
  },
  "language_info": {
   "codemirror_mode": {
    "name": "ipython",
    "version": 3
   },
   "file_extension": ".py",
   "mimetype": "text/x-python",
   "name": "python",
   "nbconvert_exporter": "python",
   "pygments_lexer": "ipython3",
   "version": "3.10.9"
  }
 },
 "nbformat": 4,
 "nbformat_minor": 5
}
