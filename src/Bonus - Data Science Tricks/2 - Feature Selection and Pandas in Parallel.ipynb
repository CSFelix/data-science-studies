{
 "cells": [
  {
   "cell_type": "markdown",
   "id": "d15d60ab-b30c-4c3f-8dcc-03e796e16a36",
   "metadata": {},
   "source": [
    "<center>\n",
    "    <h1 id='data-science-tricks-2' style='color:#7159c1'>🎩 Data Science Tricks 2 🎩</h1>\n",
    "    <i>Getting better visualization insights and transformations of you dataset</i>\n",
    "</center>\n",
    "\n",
    "```txt\n",
    "- Feature Selection\n",
    "- Pandas in Parallel\n",
    "```"
   ]
  },
  {
   "cell_type": "code",
   "execution_count": 1,
   "id": "851c51fc-0d33-4bbc-a551-fdc19b7caab4",
   "metadata": {},
   "outputs": [],
   "source": [
    "# ---- Imports ----\n",
    "import pandas as pd\n",
    "\n",
    "# ---- Constants ----\n",
    "DATASETS_PATH = ('./datasets')\n",
    "SEED = (20240707)"
   ]
  },
  {
   "cell_type": "markdown",
   "id": "4896fc2a-61c8-4873-bc69-2a3732d04e48",
   "metadata": {},
   "source": [
    "<p id='0-feature-selection' style='color:#7159c1; border-bottom:3px solid #7159c1; letter-spacing:2px; font-family:JetBrains Mono; font-weight: bold; text-align:left; font-size:240%;padding:0'>0 | Feature Selection</p>\n",
    "\n",
    "`SelectFromModel` is a sklearn feature selection function that helps you in choosing the most important features to your model based on a base model.\n",
    "\n",
    "Documentation: [SelectFromModel](https://scikit-learn.org/stable/modules/generated/sklearn.feature_selection.SelectFromModel.html)."
   ]
  },
  {
   "cell_type": "code",
   "execution_count": 2,
   "id": "161e77bc-18ae-412c-8714-0e95f95ea2aa",
   "metadata": {},
   "outputs": [
    {
     "name": "stdout",
     "output_type": "stream",
     "text": [
      "- Observations: 891\n",
      "- Variables: 25\n",
      "---\n"
     ]
    },
    {
     "data": {
      "text/html": [
       "<div>\n",
       "<style scoped>\n",
       "    .dataframe tbody tr th:only-of-type {\n",
       "        vertical-align: middle;\n",
       "    }\n",
       "\n",
       "    .dataframe tbody tr th {\n",
       "        vertical-align: top;\n",
       "    }\n",
       "\n",
       "    .dataframe thead th {\n",
       "        text-align: right;\n",
       "    }\n",
       "</style>\n",
       "<table border=\"1\" class=\"dataframe\">\n",
       "  <thead>\n",
       "    <tr style=\"text-align: right;\">\n",
       "      <th></th>\n",
       "      <th>Survived</th>\n",
       "      <th>Age</th>\n",
       "      <th>Fare</th>\n",
       "      <th>Pclass_1</th>\n",
       "      <th>Pclass_2</th>\n",
       "      <th>Pclass_3</th>\n",
       "      <th>Sex_female</th>\n",
       "      <th>Sex_male</th>\n",
       "      <th>SibSp_0</th>\n",
       "      <th>SibSp_1</th>\n",
       "      <th>...</th>\n",
       "      <th>Parch_0</th>\n",
       "      <th>Parch_1</th>\n",
       "      <th>Parch_2</th>\n",
       "      <th>Parch_3</th>\n",
       "      <th>Parch_4</th>\n",
       "      <th>Parch_5</th>\n",
       "      <th>Parch_6</th>\n",
       "      <th>Embarked_C</th>\n",
       "      <th>Embarked_Q</th>\n",
       "      <th>Embarked_S</th>\n",
       "    </tr>\n",
       "  </thead>\n",
       "  <tbody>\n",
       "    <tr>\n",
       "      <th>0</th>\n",
       "      <td>0</td>\n",
       "      <td>22.0</td>\n",
       "      <td>7.2500</td>\n",
       "      <td>0</td>\n",
       "      <td>0</td>\n",
       "      <td>1</td>\n",
       "      <td>0</td>\n",
       "      <td>1</td>\n",
       "      <td>0</td>\n",
       "      <td>1</td>\n",
       "      <td>...</td>\n",
       "      <td>1</td>\n",
       "      <td>0</td>\n",
       "      <td>0</td>\n",
       "      <td>0</td>\n",
       "      <td>0</td>\n",
       "      <td>0</td>\n",
       "      <td>0</td>\n",
       "      <td>0</td>\n",
       "      <td>0</td>\n",
       "      <td>1</td>\n",
       "    </tr>\n",
       "    <tr>\n",
       "      <th>1</th>\n",
       "      <td>1</td>\n",
       "      <td>38.0</td>\n",
       "      <td>71.2833</td>\n",
       "      <td>1</td>\n",
       "      <td>0</td>\n",
       "      <td>0</td>\n",
       "      <td>1</td>\n",
       "      <td>0</td>\n",
       "      <td>0</td>\n",
       "      <td>1</td>\n",
       "      <td>...</td>\n",
       "      <td>1</td>\n",
       "      <td>0</td>\n",
       "      <td>0</td>\n",
       "      <td>0</td>\n",
       "      <td>0</td>\n",
       "      <td>0</td>\n",
       "      <td>0</td>\n",
       "      <td>1</td>\n",
       "      <td>0</td>\n",
       "      <td>0</td>\n",
       "    </tr>\n",
       "    <tr>\n",
       "      <th>2</th>\n",
       "      <td>1</td>\n",
       "      <td>26.0</td>\n",
       "      <td>7.9250</td>\n",
       "      <td>0</td>\n",
       "      <td>0</td>\n",
       "      <td>1</td>\n",
       "      <td>1</td>\n",
       "      <td>0</td>\n",
       "      <td>1</td>\n",
       "      <td>0</td>\n",
       "      <td>...</td>\n",
       "      <td>1</td>\n",
       "      <td>0</td>\n",
       "      <td>0</td>\n",
       "      <td>0</td>\n",
       "      <td>0</td>\n",
       "      <td>0</td>\n",
       "      <td>0</td>\n",
       "      <td>0</td>\n",
       "      <td>0</td>\n",
       "      <td>1</td>\n",
       "    </tr>\n",
       "    <tr>\n",
       "      <th>3</th>\n",
       "      <td>1</td>\n",
       "      <td>35.0</td>\n",
       "      <td>53.1000</td>\n",
       "      <td>1</td>\n",
       "      <td>0</td>\n",
       "      <td>0</td>\n",
       "      <td>1</td>\n",
       "      <td>0</td>\n",
       "      <td>0</td>\n",
       "      <td>1</td>\n",
       "      <td>...</td>\n",
       "      <td>1</td>\n",
       "      <td>0</td>\n",
       "      <td>0</td>\n",
       "      <td>0</td>\n",
       "      <td>0</td>\n",
       "      <td>0</td>\n",
       "      <td>0</td>\n",
       "      <td>0</td>\n",
       "      <td>0</td>\n",
       "      <td>1</td>\n",
       "    </tr>\n",
       "    <tr>\n",
       "      <th>4</th>\n",
       "      <td>0</td>\n",
       "      <td>35.0</td>\n",
       "      <td>8.0500</td>\n",
       "      <td>0</td>\n",
       "      <td>0</td>\n",
       "      <td>1</td>\n",
       "      <td>0</td>\n",
       "      <td>1</td>\n",
       "      <td>1</td>\n",
       "      <td>0</td>\n",
       "      <td>...</td>\n",
       "      <td>1</td>\n",
       "      <td>0</td>\n",
       "      <td>0</td>\n",
       "      <td>0</td>\n",
       "      <td>0</td>\n",
       "      <td>0</td>\n",
       "      <td>0</td>\n",
       "      <td>0</td>\n",
       "      <td>0</td>\n",
       "      <td>1</td>\n",
       "    </tr>\n",
       "  </tbody>\n",
       "</table>\n",
       "<p>5 rows × 25 columns</p>\n",
       "</div>"
      ],
      "text/plain": [
       "   Survived   Age     Fare  Pclass_1  Pclass_2  Pclass_3  Sex_female  \\\n",
       "0         0  22.0   7.2500         0         0         1           0   \n",
       "1         1  38.0  71.2833         1         0         0           1   \n",
       "2         1  26.0   7.9250         0         0         1           1   \n",
       "3         1  35.0  53.1000         1         0         0           1   \n",
       "4         0  35.0   8.0500         0         0         1           0   \n",
       "\n",
       "   Sex_male  SibSp_0  SibSp_1  ...  Parch_0  Parch_1  Parch_2  Parch_3  \\\n",
       "0         1        0        1  ...        1        0        0        0   \n",
       "1         0        0        1  ...        1        0        0        0   \n",
       "2         0        1        0  ...        1        0        0        0   \n",
       "3         0        0        1  ...        1        0        0        0   \n",
       "4         1        1        0  ...        1        0        0        0   \n",
       "\n",
       "   Parch_4  Parch_5  Parch_6  Embarked_C  Embarked_Q  Embarked_S  \n",
       "0        0        0        0           0           0           1  \n",
       "1        0        0        0           1           0           0  \n",
       "2        0        0        0           0           0           1  \n",
       "3        0        0        0           0           0           1  \n",
       "4        0        0        0           0           0           1  \n",
       "\n",
       "[5 rows x 25 columns]"
      ]
     },
     "execution_count": 2,
     "metadata": {},
     "output_type": "execute_result"
    }
   ],
   "source": [
    "# ---- Reading Dataset ----\n",
    "titanic_df = pd.read_csv(f'{DATASETS_PATH}/titanic.csv')\n",
    "\n",
    "print(f'- Observations: {titanic_df.shape[0]:,}')\n",
    "print(f'- Variables: {titanic_df.shape[1]:,}')\n",
    "print('---')\n",
    "\n",
    "titanic_df.head()"
   ]
  },
  {
   "cell_type": "code",
   "execution_count": 3,
   "id": "454ead1c-f519-44a8-b2a3-c98675a9de1b",
   "metadata": {},
   "outputs": [
    {
     "name": "stdout",
     "output_type": "stream",
     "text": [
      "- Y Train:\n",
      "0    0.616573\n",
      "1    0.383427\n",
      "Name: Survived, dtype: float64\n",
      "\n",
      "---\n",
      "\n",
      "- Y Valid:\n",
      "0    0.614525\n",
      "1    0.385475\n",
      "Name: Survived, dtype: float64\n"
     ]
    }
   ],
   "source": [
    "# ---- Splitting Dataset into Train and Validation ----\n",
    "from sklearn.model_selection import train_test_split\n",
    "\n",
    "X = titanic_df.drop(['Survived'], axis=1).copy() # axis '0': by row; axis '1': by column\n",
    "y = titanic_df['Survived'].copy()\n",
    "\n",
    "X_train, X_valid, y_train, y_valid = train_test_split(\n",
    "    X, y\n",
    "    , train_size=0.80\n",
    "    , test_size=0.20\n",
    "    , stratify=y\n",
    "    , random_state=SEED\n",
    ")\n",
    "\n",
    "print(f'- Y Train:\\n{y_train.value_counts(normalize=True)}') # normalize 'True' returns percentages, 'False' returns frequencies\n",
    "print('\\n---\\n')\n",
    "print(f'- Y Valid:\\n{y_valid.value_counts(normalize=True)}')"
   ]
  },
  {
   "cell_type": "code",
   "execution_count": 4,
   "id": "c700e6ed-55d9-47f1-8ca5-64b56376e34c",
   "metadata": {},
   "outputs": [
    {
     "name": "stdout",
     "output_type": "stream",
     "text": [
      "- Number of Selected Features: 4\n",
      "- Indices of Selected Features: [ 2  4  5 23]\n",
      "- Names of Selected Features: ['Pclass_1' 'Pclass_3' 'Sex_female' 'Embarked_S']\n"
     ]
    }
   ],
   "source": [
    "# ---- Feature Selection ----\n",
    "from sklearn.feature_selection import SelectFromModel\n",
    "from sklearn.linear_model import LassoCV\n",
    "\n",
    "base_model = LassoCV(random_state=SEED)\n",
    "\n",
    "select_from_model = SelectFromModel(base_model, threshold='mean')\n",
    "select_from_model.fit(X_train, y_train)\n",
    "\n",
    "number_selected_features = select_from_model.transform(X_train).shape[1]\n",
    "indices_selected_features = select_from_model.get_support(indices=True)\n",
    "names_selected_features = select_from_model.get_feature_names_out()\n",
    "\n",
    "print(f'- Number of Selected Features: {number_selected_features}')\n",
    "print(f'- Indices of Selected Features: {indices_selected_features}')\n",
    "print(f'- Names of Selected Features: {names_selected_features}')"
   ]
  },
  {
   "cell_type": "markdown",
   "id": "045e5c69-ec91-4af8-9d0f-ce82082f47f0",
   "metadata": {},
   "source": [
    "<p id='1-pandas-in-parallel' style='color:#7159c1; border-bottom:3px solid #7159c1; letter-spacing:2px; font-family:JetBrains Mono; font-weight: bold; text-align:left; font-size:240%;padding:0'>1 | Pandas in Parallel</p>\n",
    "\n",
    "`Pandarallel` is a great package for running pandas transformations in parallel. Let's see how it works and its impacts of time.\n",
    "\n",
    "Documentation: [pandarallel 1.6.5](https://pypi.org/project/pandarallel/).\n",
    "\n",
    "Important Miscellaneous: [docs/examples_windows.ipynb](https://github.com/nalepae/pandarallel/blob/master/docs/examples_windows.ipynb)."
   ]
  },
  {
   "cell_type": "code",
   "execution_count": 5,
   "id": "79b7b173-640e-4574-a924-4f48668ea5ec",
   "metadata": {},
   "outputs": [
    {
     "name": "stdout",
     "output_type": "stream",
     "text": [
      "INFO: Pandarallel will run on 4 workers.\n",
      "INFO: Pandarallel will use standard multiprocessing data transfer (pipe) to transfer data between the main process and workers.\n",
      "\n",
      "WARNING: You are on Windows. If you detect any issue with pandarallel, be sure you checked out the Troubleshooting page:\n",
      "https://nalepae.github.io/pandarallel/troubleshooting/\n"
     ]
    }
   ],
   "source": [
    "%load_ext autoreload\n",
    "%autoreload 2\n",
    "# ---- Preparing Dataset ----\n",
    "from pandarallel import pandarallel\n",
    "import random\n",
    "from tqdm.notebook import tqdm_notebook\n",
    "\n",
    "tqdm_notebook.pandas()\n",
    "pandarallel.initialize(progress_bar=True)\n",
    "random.seed(SEED)\n",
    "\n",
    "def transformation(df):\n",
    "    import numpy as np\n",
    "    return np.sin(df.A**2) + np.sin(df.B**2) + np.tan(df.A**2)\n",
    "\n",
    "df = pd.DataFrame({\n",
    "    'A': [random.randint(15,20) for index in range(1, 1_000_000)]\n",
    "    , 'B': [random.randint(10,30) for index in range(1, 1_000_000)]\n",
    "})"
   ]
  },
  {
   "cell_type": "code",
   "execution_count": 6,
   "id": "983f8fdd-ab44-4ffc-a3c7-85ffbb492425",
   "metadata": {},
   "outputs": [
    {
     "data": {
      "application/vnd.jupyter.widget-view+json": {
       "model_id": "aed6dc9e3b3246c59a1bd2ab2429acbb",
       "version_major": 2,
       "version_minor": 0
      },
      "text/plain": [
       "  0%|          | 0/999999 [00:00<?, ?it/s]"
      ]
     },
     "metadata": {},
     "output_type": "display_data"
    },
    {
     "name": "stdout",
     "output_type": "stream",
     "text": [
      "CPU times: total: 35.6 s\n",
      "Wall time: 35.7 s\n"
     ]
    },
    {
     "data": {
      "text/plain": [
       "0          1.705438\n",
       "1          0.164429\n",
       "2         23.226399\n",
       "3         -0.216171\n",
       "4         -0.502609\n",
       "            ...    \n",
       "999994    -0.773902\n",
       "999995    23.621330\n",
       "999996    -0.491467\n",
       "999997     1.036482\n",
       "999998    -0.823155\n",
       "Length: 999999, dtype: float64"
      ]
     },
     "execution_count": 6,
     "metadata": {},
     "output_type": "execute_result"
    }
   ],
   "source": [
    "%%time\n",
    "# ---- Without Parallelization ----\n",
    "df.progress_apply(transformation, axis=1)"
   ]
  },
  {
   "cell_type": "code",
   "execution_count": 7,
   "id": "c83cdd32-10a1-4feb-a1b9-6782471ca5a2",
   "metadata": {},
   "outputs": [
    {
     "data": {
      "application/vnd.jupyter.widget-view+json": {
       "model_id": "d4ffb8d5cadf448886d9bfb9dda6f8e3",
       "version_major": 2,
       "version_minor": 0
      },
      "text/plain": [
       "VBox(children=(HBox(children=(IntProgress(value=0, description='0.00%', max=250000), Label(value='0 / 250000')…"
      ]
     },
     "metadata": {},
     "output_type": "display_data"
    },
    {
     "name": "stdout",
     "output_type": "stream",
     "text": [
      "CPU times: total: 438 ms\n",
      "Wall time: 14.1 s\n"
     ]
    },
    {
     "data": {
      "text/plain": [
       "0          1.705438\n",
       "1          0.164429\n",
       "2         23.226399\n",
       "3         -0.216171\n",
       "4         -0.502609\n",
       "            ...    \n",
       "999994    -0.773902\n",
       "999995    23.621330\n",
       "999996    -0.491467\n",
       "999997     1.036482\n",
       "999998    -0.823155\n",
       "Length: 999999, dtype: float64"
      ]
     },
     "execution_count": 7,
     "metadata": {},
     "output_type": "execute_result"
    }
   ],
   "source": [
    "%%time\n",
    "# ---- With Parallelization ----\n",
    "df.parallel_apply(transformation, axis=1)"
   ]
  },
  {
   "cell_type": "markdown",
   "id": "e8528910-275a-4fb4-8ba1-c6de12d738e5",
   "metadata": {},
   "source": [
    "<p id='reach-me' style='color:#7159c1; border-bottom:3px solid #7159c1; letter-spacing:2px; font-family:JetBrains Mono; font-weight: bold; text-align:left; font-size:240%;padding:0'>📫 | Reach Me</p>\n",
    "\n",
    "> **Email** - [csfelix08@gmail.com](mailto:csfelix08@gmail.com?)\n",
    "\n",
    "> **Linkedin** - [linkedin.com/in/csfelix/](https://www.linkedin.com/in/csfelix/)\n",
    "\n",
    "> **GitHub:** - [CSFelix](https://github.com/CSFelix)\n",
    "\n",
    "> **Kaggle** - [DSFelix](https://www.kaggle.com/dsfelix)\n",
    "\n",
    "> **Portfolio** - [CSFelix.io](https://csfelix.github.io/)."
   ]
  }
 ],
 "metadata": {
  "kernelspec": {
   "display_name": "Python 3 (ipykernel)",
   "language": "python",
   "name": "python3"
  },
  "language_info": {
   "codemirror_mode": {
    "name": "ipython",
    "version": 3
   },
   "file_extension": ".py",
   "mimetype": "text/x-python",
   "name": "python",
   "nbconvert_exporter": "python",
   "pygments_lexer": "ipython3",
   "version": "3.10.9"
  }
 },
 "nbformat": 4,
 "nbformat_minor": 5
}
