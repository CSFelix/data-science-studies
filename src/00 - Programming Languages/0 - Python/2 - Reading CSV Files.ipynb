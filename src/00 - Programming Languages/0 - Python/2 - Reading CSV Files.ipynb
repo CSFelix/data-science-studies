{
 "cells": [
  {
   "cell_type": "markdown",
   "id": "5915c5c0-d859-4c4f-828e-4c405d5b9790",
   "metadata": {},
   "source": [
    "<center>\n",
    "    <h1 id='python-basics-2' style='color:#7159c1'>🐍 Python Basics 2 🐍</h1>\n",
    "    <i>Reading CSV Files</i>\n",
    "</center>\n",
    "\n",
    "```txt\n",
    "- Reading CSV Files\n",
    "```"
   ]
  },
  {
   "cell_type": "markdown",
   "id": "9aa4f755-045b-4c43-bdc5-37169e1ee443",
   "metadata": {},
   "source": [
    "<p id='0-pandas' style='color:#7159c1; border-bottom:3px solid #7159c1; letter-spacing:2px; font-family:JetBrains Mono; font-weight: bold; text-align:left; font-size:240%;padding:0'>0 | Pandas</p>"
   ]
  },
  {
   "cell_type": "code",
   "execution_count": 1,
   "id": "8f6cb36b-723b-497c-948e-230769c97330",
   "metadata": {},
   "outputs": [],
   "source": [
    "import pandas as pd # pip install pandas"
   ]
  },
  {
   "cell_type": "code",
   "execution_count": 2,
   "id": "777afe5a-4c37-454f-8986-7fb7f459c5db",
   "metadata": {},
   "outputs": [
    {
     "name": "stdout",
     "output_type": "stream",
     "text": [
      "Number of observations: 46\n",
      "Number of features: 12\n"
     ]
    },
    {
     "data": {
      "text/html": [
       "<div>\n",
       "<style scoped>\n",
       "    .dataframe tbody tr th:only-of-type {\n",
       "        vertical-align: middle;\n",
       "    }\n",
       "\n",
       "    .dataframe tbody tr th {\n",
       "        vertical-align: top;\n",
       "    }\n",
       "\n",
       "    .dataframe thead th {\n",
       "        text-align: right;\n",
       "    }\n",
       "</style>\n",
       "<table border=\"1\" class=\"dataframe\">\n",
       "  <thead>\n",
       "    <tr style=\"text-align: right;\">\n",
       "      <th></th>\n",
       "      <th>pdg_id</th>\n",
       "      <th>pdg_name</th>\n",
       "      <th>name</th>\n",
       "      <th>charge</th>\n",
       "      <th>rank</th>\n",
       "      <th>quarks</th>\n",
       "      <th>mass</th>\n",
       "      <th>mass_lower</th>\n",
       "      <th>mass_upper</th>\n",
       "      <th>width</th>\n",
       "      <th>width_lower</th>\n",
       "      <th>width_upper</th>\n",
       "    </tr>\n",
       "  </thead>\n",
       "  <tbody>\n",
       "    <tr>\n",
       "      <th>0</th>\n",
       "      <td>-2212</td>\n",
       "      <td>p</td>\n",
       "      <td>anti_proton</td>\n",
       "      <td>-1.0</td>\n",
       "      <td>4</td>\n",
       "      <td>UUD</td>\n",
       "      <td>938.27208816</td>\n",
       "      <td>2.9e-07</td>\n",
       "      <td>2.9e-07</td>\n",
       "      <td>0.0</td>\n",
       "      <td>0.0</td>\n",
       "      <td>0.0</td>\n",
       "    </tr>\n",
       "    <tr>\n",
       "      <th>1</th>\n",
       "      <td>-2112</td>\n",
       "      <td>n</td>\n",
       "      <td>anti_neutron</td>\n",
       "      <td>0.0</td>\n",
       "      <td>4</td>\n",
       "      <td>UDD</td>\n",
       "      <td>939.5654205</td>\n",
       "      <td>5e-07</td>\n",
       "      <td>5e-07</td>\n",
       "      <td>7.493e-25</td>\n",
       "      <td>4e-28</td>\n",
       "      <td>4e-28</td>\n",
       "    </tr>\n",
       "    <tr>\n",
       "      <th>2</th>\n",
       "      <td>-321</td>\n",
       "      <td>K</td>\n",
       "      <td>kaon-</td>\n",
       "      <td>-1.0</td>\n",
       "      <td>0</td>\n",
       "      <td>Us</td>\n",
       "      <td>493.677</td>\n",
       "      <td>0.016</td>\n",
       "      <td>0.016</td>\n",
       "      <td>5.317e-14</td>\n",
       "      <td>9e-17</td>\n",
       "      <td>9e-17</td>\n",
       "    </tr>\n",
       "    <tr>\n",
       "      <th>3</th>\n",
       "      <td>-211</td>\n",
       "      <td>pi</td>\n",
       "      <td>pion0</td>\n",
       "      <td>-1.0</td>\n",
       "      <td>0</td>\n",
       "      <td>Ud</td>\n",
       "      <td>139.57039</td>\n",
       "      <td>0.00018</td>\n",
       "      <td>0.00018</td>\n",
       "      <td>2.5284e-14</td>\n",
       "      <td>5e-18</td>\n",
       "      <td>5e-18</td>\n",
       "    </tr>\n",
       "    <tr>\n",
       "      <th>4</th>\n",
       "      <td>-24</td>\n",
       "      <td>W</td>\n",
       "      <td>W-</td>\n",
       "      <td>-1.0</td>\n",
       "      <td>0</td>\n",
       "      <td>-</td>\n",
       "      <td>80379.0</td>\n",
       "      <td>12.0</td>\n",
       "      <td>12.0</td>\n",
       "      <td>2080.0</td>\n",
       "      <td>40.0</td>\n",
       "      <td>40.0</td>\n",
       "    </tr>\n",
       "  </tbody>\n",
       "</table>\n",
       "</div>"
      ],
      "text/plain": [
       "   pdg_id pdg_name          name  charge  rank quarks          mass  \\\n",
       "0   -2212        p   anti_proton    -1.0     4    UUD  938.27208816   \n",
       "1   -2112        n  anti_neutron     0.0     4    UDD   939.5654205   \n",
       "2    -321        K         kaon-    -1.0     0     Us       493.677   \n",
       "3    -211       pi         pion0    -1.0     0     Ud     139.57039   \n",
       "4     -24        W            W-    -1.0     0      -       80379.0   \n",
       "\n",
       "  mass_lower mass_upper       width width_lower width_upper  \n",
       "0    2.9e-07    2.9e-07         0.0         0.0         0.0  \n",
       "1      5e-07      5e-07   7.493e-25       4e-28       4e-28  \n",
       "2      0.016      0.016   5.317e-14       9e-17       9e-17  \n",
       "3    0.00018    0.00018  2.5284e-14       5e-18       5e-18  \n",
       "4       12.0       12.0      2080.0        40.0        40.0  "
      ]
     },
     "execution_count": 2,
     "metadata": {},
     "output_type": "execute_result"
    }
   ],
   "source": [
    "physics_particles_df = pd.read_csv('./physics_particles.csv')\n",
    "\n",
    "print(f'Number of observations: {physics_particles_df.shape[0]}')\n",
    "print(f'Number of features: {physics_particles_df.shape[1]}')\n",
    "physics_particles_df.head()"
   ]
  },
  {
   "cell_type": "markdown",
   "id": "de271798-aeb1-4cf1-af3e-30fb2fdf5269",
   "metadata": {},
   "source": [
    "<p id='reach-me' style='color:#7159c1; border-bottom:3px solid #7159c1; letter-spacing:2px; font-family:JetBrains Mono; font-weight: bold; text-align:left; font-size:240%;padding:0'>📫 | Reach Me</p>\n",
    "\n",
    "> **Email** - [csfelix08@gmail.com](mailto:csfelix08@gmail.com?)\n",
    "\n",
    "> **Linkedin** - [linkedin.com/in/csfelix/](https://www.linkedin.com/in/csfelix/)\n",
    "\n",
    "> **GitHub:** - [CSFelix](https://github.com/CSFelix)\n",
    "\n",
    "> **Kaggle** - [DSFelix](https://www.kaggle.com/dsfelix)\n",
    "\n",
    "> **Portfolio** - [CSFelix.io](https://csfelix.github.io/)."
   ]
  }
 ],
 "metadata": {
  "kernelspec": {
   "display_name": "Python 3 (ipykernel)",
   "language": "python",
   "name": "python3"
  },
  "language_info": {
   "codemirror_mode": {
    "name": "ipython",
    "version": 3
   },
   "file_extension": ".py",
   "mimetype": "text/x-python",
   "name": "python",
   "nbconvert_exporter": "python",
   "pygments_lexer": "ipython3",
   "version": "3.10.9"
  }
 },
 "nbformat": 4,
 "nbformat_minor": 5
}
