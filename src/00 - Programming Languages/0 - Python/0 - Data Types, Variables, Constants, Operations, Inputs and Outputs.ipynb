{
 "cells": [
  {
   "cell_type": "markdown",
   "id": "0612f6f2-46f0-4682-bc37-67504d14b562",
   "metadata": {},
   "source": [
    "<center>\n",
    "    <h1 id='python-basics-0' style='color:#7159c1'>🐍 Python Basics 0 🐍</h1>\n",
    "    <i>Data Types, Variables, Constants, Operations, Inputs and Outputs</i>\n",
    "</center>\n",
    "\n",
    "```txt\n",
    "- Data Types\n",
    "- Variables\n",
    "- Constants\n",
    "- Operations\n",
    "- Inputs\n",
    "- Outputs\n",
    "```"
   ]
  },
  {
   "cell_type": "markdown",
   "id": "2d325ef9-90de-41e8-8640-8e1ad4b56d03",
   "metadata": {},
   "source": [
    "<p id='0-data-types-variables-constants' style='color:#7159c1; border-bottom:3px solid #7159c1; letter-spacing:2px; font-family:JetBrains Mono; font-weight: bold; text-align:left; font-size:240%;padding:0'>0 | Data Types, Variables and Constants</p>"
   ]
  },
  {
   "cell_type": "code",
   "execution_count": 2,
   "id": "298f8af2-214c-40da-a5c8-5fc91eb51aa2",
   "metadata": {},
   "outputs": [],
   "source": [
    "#---- Variables ----\n",
    "var_string = 'Hey there!'\n",
    "\n",
    "var_int = 7\n",
    "var_float = 7.5\n",
    "var_complex = 2 + 5j\n",
    "\n",
    "var_boolean = True\n",
    "var_another_boolean = False\n",
    "var_null = None\n",
    "\n",
    "var_list = [1, 2, 3]\n",
    "var_dict = { 'one': 1, 'two': 2, 'three': 3 }\n",
    "var_set = set([1, 2, 3])"
   ]
  },
  {
   "cell_type": "code",
   "execution_count": 4,
   "id": "7709c8bc-848f-4741-b8f7-468c12c65dcc",
   "metadata": {},
   "outputs": [],
   "source": [
    "#---- Constants: Tuples ----\n",
    "CONST_STRING = ('Hey there!')\n",
    "\n",
    "CONST_INT = (7)\n",
    "CONST_FLOAT = (7.5)\n",
    "CONST_COMPLEX = (2 + 5j)\n",
    "\n",
    "CONST_BOOLEAN = (True)\n",
    "CONST_ANOTHER_BOOLEAN = (False)\n",
    "CONST_NULL = (None)\n",
    "\n",
    "CONST_LIST = ([1, 2, 3])\n",
    "CONST_DICT = ({ 'one': 1, 'two': 2, 'three': 3 })\n",
    "CONST_SET = (set([1, 2, 3]))"
   ]
  },
  {
   "cell_type": "markdown",
   "id": "13462b66-6e69-4339-b70b-6b102c414ef0",
   "metadata": {},
   "source": [
    "<p id='1-operations' style='color:#7159c1; border-bottom:3px solid #7159c1; letter-spacing:2px; font-family:JetBrains Mono; font-weight: bold; text-align:left; font-size:240%;padding:0'>1 | Operations</p>"
   ]
  },
  {
   "cell_type": "code",
   "execution_count": 5,
   "id": "3f6d1664-39a6-4e49-b829-85d2fdd978e2",
   "metadata": {},
   "outputs": [
    {
     "name": "stdout",
     "output_type": "stream",
     "text": [
      "Addition: 7 + 3 = 10\n",
      "Subtraction: 7 - 3 = 4\n",
      "Multiplication: 7 * 3 = 21\n",
      "Power: 7 ** 3 = 343\n",
      "Division: 7 / 3 = 2.3333333333333335\n",
      "Integer Division: 7 // 3 = 2\n",
      "Modulus / Remainder: 7 % 3 = 1\n"
     ]
    }
   ],
   "source": [
    "# ---- Numbers ----\n",
    "print(f'Addition: 7 + 3 = {7 + 3}')   # addition\n",
    "print(f'Subtraction: 7 - 3 = {7 - 3}')   # subtraction\n",
    "print(f'Multiplication: 7 * 3 = {7 * 3}')   # multiplication\n",
    "print(f'Power: 7 ** 3 = {7**3}')   # power\n",
    "print(f'Division: 7 / 3 = {7 / 3}')   # division\n",
    "print(f'Integer Division: 7 // 3 = {7 // 3}') # integer division\n",
    "print(f'Modulus / Remainder: 7 % 3 = {7 % 3}')   # modulus / remainder"
   ]
  },
  {
   "cell_type": "code",
   "execution_count": 4,
   "id": "cde2a1f5-9b7f-4504-9e67-f685552ad45b",
   "metadata": {},
   "outputs": [
    {
     "data": {
      "text/plain": [
       "'Hello World!'"
      ]
     },
     "execution_count": 4,
     "metadata": {},
     "output_type": "execute_result"
    }
   ],
   "source": [
    "# ---- Concatenation ----\n",
    "'Hello' + ' ' + 'World!'"
   ]
  },
  {
   "cell_type": "markdown",
   "id": "c235e7f8-5c05-4a85-b257-d781b2a13f5e",
   "metadata": {},
   "source": [
    "<p id='2-inputs-and-outputs' style='color:#7159c1; border-bottom:3px solid #7159c1; letter-spacing:2px; font-family:JetBrains Mono; font-weight: bold; text-align:left; font-size:240%;padding:0'>2 | Inputs and Outputs</p>"
   ]
  },
  {
   "cell_type": "code",
   "execution_count": 10,
   "id": "e6744f1a-6727-4018-940e-549251fb539d",
   "metadata": {},
   "outputs": [
    {
     "name": "stdin",
     "output_type": "stream",
     "text": [
      "Type a phrase: What's shaking?\n",
      "Now type an integer number: 7\n"
     ]
    },
    {
     "name": "stdout",
     "output_type": "stream",
     "text": [
      "---\n",
      "Your phrase: What's shaking?\n",
      "Your integer number: 7\n"
     ]
    }
   ],
   "source": [
    "string_input = input('Type a phrase:')\n",
    "int_input = input('Now type an integer number:')\n",
    "\n",
    "print('---')\n",
    "print(f'Your phrase: {string_input}')\n",
    "print(f'Your integer number: {int_input}')"
   ]
  },
  {
   "cell_type": "markdown",
   "id": "4c139971-ae02-4243-ba30-824c6e5c02bb",
   "metadata": {},
   "source": [
    "<p id='reach-me' style='color:#7159c1; border-bottom:3px solid #7159c1; letter-spacing:2px; font-family:JetBrains Mono; font-weight: bold; text-align:left; font-size:240%;padding:0'>📫 | Reach Me</p>\n",
    "\n",
    "> **Email** - [csfelix08@gmail.com](mailto:csfelix08@gmail.com?)\n",
    "\n",
    "> **Linkedin** - [linkedin.com/in/csfelix/](https://www.linkedin.com/in/csfelix/)\n",
    "\n",
    "> **GitHub:** - [CSFelix](https://github.com/CSFelix)\n",
    "\n",
    "> **Kaggle** - [DSFelix](https://www.kaggle.com/dsfelix)\n",
    "\n",
    "> **Portfolio** - [CSFelix.io](https://csfelix.github.io/)."
   ]
  }
 ],
 "metadata": {
  "kernelspec": {
   "display_name": "Python 3 (ipykernel)",
   "language": "python",
   "name": "python3"
  },
  "language_info": {
   "codemirror_mode": {
    "name": "ipython",
    "version": 3
   },
   "file_extension": ".py",
   "mimetype": "text/x-python",
   "name": "python",
   "nbconvert_exporter": "python",
   "pygments_lexer": "ipython3",
   "version": "3.10.9"
  }
 },
 "nbformat": 4,
 "nbformat_minor": 5
}
