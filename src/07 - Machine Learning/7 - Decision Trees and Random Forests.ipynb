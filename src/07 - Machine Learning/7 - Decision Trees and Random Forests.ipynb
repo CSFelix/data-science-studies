{
 "cells": [
  {
   "cell_type": "markdown",
   "id": "8786abf3-063d-42e4-948d-b0f346bba635",
   "metadata": {},
   "source": [
    "<center>\n",
    "    <h1 id='decision-trees-and-random-forests' style='color:#7159c1'>🤖 Decision Trees and Random Forests 🤖</h1>\n",
    "    <i></i>\n",
    "</center>"
   ]
  },
  {
   "cell_type": "code",
   "execution_count": 18,
   "id": "ae87752c-3c1c-4372-9a79-f68a3f61d637",
   "metadata": {},
   "outputs": [],
   "source": [
    "# ---- Importings ----\n",
    "import pandas as pd # pip install pandas\n",
    "from sklearn import preprocessing # pip install sklearn\n",
    "from sklearn.metrics import mean_absolute_error\n",
    "from sklearn import tree # Decision Trees\n",
    "from sklearn.ensemble import RandomForestRegressor # Random Forests\n",
    "from sklearn.model_selection import train_test_split\n",
    "\n",
    "# ---- Reading Dataset ----\n",
    "autos_df = pd.read_csv('./datasets/autos.csv')\n",
    "autos_df = autos_df.select_dtypes(exclude='object')\n",
    "\n",
    "# ---- Splitting Dataset ----\n",
    "X = autos_df.copy()\n",
    "y = X.pop('price')\n",
    "\n",
    "X_train, X_valid, y_train, y_valid = train_test_split(\n",
    "    X, y\n",
    "    , train_size=0.70\n",
    "    , test_size=0.30\n",
    "    , random_state=20242201\n",
    ")"
   ]
  },
  {
   "cell_type": "markdown",
   "id": "2608c395-a429-4ed2-ac9a-0d017ac03e80",
   "metadata": {},
   "source": [
    "<h1 id='0-decision-trees' style='color:#7159c1; border-bottom:3px solid #7159c1; letter-spacing:2px; font-family:JetBrains Mono; font-weight: bold; text-align:left; font-size:240%;padding:0'>0 | Decision Trees</h1>"
   ]
  },
  {
   "cell_type": "code",
   "execution_count": 14,
   "id": "fffb6706-056f-48da-8914-2d5cf766ed32",
   "metadata": {},
   "outputs": [
    {
     "data": {
      "text/html": [
       "<style>#sk-container-id-3 {color: black;background-color: white;}#sk-container-id-3 pre{padding: 0;}#sk-container-id-3 div.sk-toggleable {background-color: white;}#sk-container-id-3 label.sk-toggleable__label {cursor: pointer;display: block;width: 100%;margin-bottom: 0;padding: 0.3em;box-sizing: border-box;text-align: center;}#sk-container-id-3 label.sk-toggleable__label-arrow:before {content: \"▸\";float: left;margin-right: 0.25em;color: #696969;}#sk-container-id-3 label.sk-toggleable__label-arrow:hover:before {color: black;}#sk-container-id-3 div.sk-estimator:hover label.sk-toggleable__label-arrow:before {color: black;}#sk-container-id-3 div.sk-toggleable__content {max-height: 0;max-width: 0;overflow: hidden;text-align: left;background-color: #f0f8ff;}#sk-container-id-3 div.sk-toggleable__content pre {margin: 0.2em;color: black;border-radius: 0.25em;background-color: #f0f8ff;}#sk-container-id-3 input.sk-toggleable__control:checked~div.sk-toggleable__content {max-height: 200px;max-width: 100%;overflow: auto;}#sk-container-id-3 input.sk-toggleable__control:checked~label.sk-toggleable__label-arrow:before {content: \"▾\";}#sk-container-id-3 div.sk-estimator input.sk-toggleable__control:checked~label.sk-toggleable__label {background-color: #d4ebff;}#sk-container-id-3 div.sk-label input.sk-toggleable__control:checked~label.sk-toggleable__label {background-color: #d4ebff;}#sk-container-id-3 input.sk-hidden--visually {border: 0;clip: rect(1px 1px 1px 1px);clip: rect(1px, 1px, 1px, 1px);height: 1px;margin: -1px;overflow: hidden;padding: 0;position: absolute;width: 1px;}#sk-container-id-3 div.sk-estimator {font-family: monospace;background-color: #f0f8ff;border: 1px dotted black;border-radius: 0.25em;box-sizing: border-box;margin-bottom: 0.5em;}#sk-container-id-3 div.sk-estimator:hover {background-color: #d4ebff;}#sk-container-id-3 div.sk-parallel-item::after {content: \"\";width: 100%;border-bottom: 1px solid gray;flex-grow: 1;}#sk-container-id-3 div.sk-label:hover label.sk-toggleable__label {background-color: #d4ebff;}#sk-container-id-3 div.sk-serial::before {content: \"\";position: absolute;border-left: 1px solid gray;box-sizing: border-box;top: 0;bottom: 0;left: 50%;z-index: 0;}#sk-container-id-3 div.sk-serial {display: flex;flex-direction: column;align-items: center;background-color: white;padding-right: 0.2em;padding-left: 0.2em;position: relative;}#sk-container-id-3 div.sk-item {position: relative;z-index: 1;}#sk-container-id-3 div.sk-parallel {display: flex;align-items: stretch;justify-content: center;background-color: white;position: relative;}#sk-container-id-3 div.sk-item::before, #sk-container-id-3 div.sk-parallel-item::before {content: \"\";position: absolute;border-left: 1px solid gray;box-sizing: border-box;top: 0;bottom: 0;left: 50%;z-index: -1;}#sk-container-id-3 div.sk-parallel-item {display: flex;flex-direction: column;z-index: 1;position: relative;background-color: white;}#sk-container-id-3 div.sk-parallel-item:first-child::after {align-self: flex-end;width: 50%;}#sk-container-id-3 div.sk-parallel-item:last-child::after {align-self: flex-start;width: 50%;}#sk-container-id-3 div.sk-parallel-item:only-child::after {width: 0;}#sk-container-id-3 div.sk-dashed-wrapped {border: 1px dashed gray;margin: 0 0.4em 0.5em 0.4em;box-sizing: border-box;padding-bottom: 0.4em;background-color: white;}#sk-container-id-3 div.sk-label label {font-family: monospace;font-weight: bold;display: inline-block;line-height: 1.2em;}#sk-container-id-3 div.sk-label-container {text-align: center;}#sk-container-id-3 div.sk-container {/* jupyter's `normalize.less` sets `[hidden] { display: none; }` but bootstrap.min.css set `[hidden] { display: none !important; }` so we also need the `!important` here to be able to override the default hidden behavior on the sphinx rendered scikit-learn.org. See: https://github.com/scikit-learn/scikit-learn/issues/21755 */display: inline-block !important;position: relative;}#sk-container-id-3 div.sk-text-repr-fallback {display: none;}</style><div id=\"sk-container-id-3\" class=\"sk-top-container\"><div class=\"sk-text-repr-fallback\"><pre>DecisionTreeRegressor(random_state=20242201)</pre><b>In a Jupyter environment, please rerun this cell to show the HTML representation or trust the notebook. <br />On GitHub, the HTML representation is unable to render, please try loading this page with nbviewer.org.</b></div><div class=\"sk-container\" hidden><div class=\"sk-item\"><div class=\"sk-estimator sk-toggleable\"><input class=\"sk-toggleable__control sk-hidden--visually\" id=\"sk-estimator-id-3\" type=\"checkbox\" checked><label for=\"sk-estimator-id-3\" class=\"sk-toggleable__label sk-toggleable__label-arrow\">DecisionTreeRegressor</label><div class=\"sk-toggleable__content\"><pre>DecisionTreeRegressor(random_state=20242201)</pre></div></div></div></div></div>"
      ],
      "text/plain": [
       "DecisionTreeRegressor(random_state=20242201)"
      ]
     },
     "execution_count": 14,
     "metadata": {},
     "output_type": "execute_result"
    }
   ],
   "source": [
    "# ---- Decision Trees ----\n",
    "#\n",
    "# - Can be used for Regressions (DecisionTreeRegressor) and for\n",
    "# Classifications (DecisionTreeClassifier)\n",
    "#\n",
    "# - Is a Tree with leafes. Each leaf is a if/else result using metrics\n",
    "#\n",
    "\n",
    "# Training the Model\n",
    "tree_model = tree.DecisionTreeRegressor(random_state=20242201)\n",
    "tree_model.fit(X=X_train, y=y_train)"
   ]
  },
  {
   "cell_type": "code",
   "execution_count": 15,
   "id": "8433bb56-197e-42f8-9386-29e5a9abe764",
   "metadata": {},
   "outputs": [
    {
     "name": "stdout",
     "output_type": "stream",
     "text": [
      "- Tree MAE: 1721.5172413793102\n"
     ]
    }
   ],
   "source": [
    "# ---- Decision Trees ----\n",
    "#\n",
    "# - evaluation\n",
    "#\n",
    "tree_predictions = tree_model.predict(X=X_valid)\n",
    "tree_mae = mean_absolute_error(tree_predictions, y_valid)\n",
    "print(f'- Tree MAE: {tree_mae}')"
   ]
  },
  {
   "cell_type": "markdown",
   "id": "0a5ecc20-39d4-47ed-bea6-7d94c054f752",
   "metadata": {},
   "source": [
    "<h1 id='1-random-forests' style='color:#7159c1; border-bottom:3px solid #7159c1; letter-spacing:2px; font-family:JetBrains Mono; font-weight: bold; text-align:left; font-size:240%;padding:0'>1 | Random Forests</h1>"
   ]
  },
  {
   "cell_type": "code",
   "execution_count": 21,
   "id": "88c60283-4a89-4e80-912d-8689fd01112e",
   "metadata": {},
   "outputs": [
    {
     "data": {
      "text/html": [
       "<style>#sk-container-id-4 {color: black;background-color: white;}#sk-container-id-4 pre{padding: 0;}#sk-container-id-4 div.sk-toggleable {background-color: white;}#sk-container-id-4 label.sk-toggleable__label {cursor: pointer;display: block;width: 100%;margin-bottom: 0;padding: 0.3em;box-sizing: border-box;text-align: center;}#sk-container-id-4 label.sk-toggleable__label-arrow:before {content: \"▸\";float: left;margin-right: 0.25em;color: #696969;}#sk-container-id-4 label.sk-toggleable__label-arrow:hover:before {color: black;}#sk-container-id-4 div.sk-estimator:hover label.sk-toggleable__label-arrow:before {color: black;}#sk-container-id-4 div.sk-toggleable__content {max-height: 0;max-width: 0;overflow: hidden;text-align: left;background-color: #f0f8ff;}#sk-container-id-4 div.sk-toggleable__content pre {margin: 0.2em;color: black;border-radius: 0.25em;background-color: #f0f8ff;}#sk-container-id-4 input.sk-toggleable__control:checked~div.sk-toggleable__content {max-height: 200px;max-width: 100%;overflow: auto;}#sk-container-id-4 input.sk-toggleable__control:checked~label.sk-toggleable__label-arrow:before {content: \"▾\";}#sk-container-id-4 div.sk-estimator input.sk-toggleable__control:checked~label.sk-toggleable__label {background-color: #d4ebff;}#sk-container-id-4 div.sk-label input.sk-toggleable__control:checked~label.sk-toggleable__label {background-color: #d4ebff;}#sk-container-id-4 input.sk-hidden--visually {border: 0;clip: rect(1px 1px 1px 1px);clip: rect(1px, 1px, 1px, 1px);height: 1px;margin: -1px;overflow: hidden;padding: 0;position: absolute;width: 1px;}#sk-container-id-4 div.sk-estimator {font-family: monospace;background-color: #f0f8ff;border: 1px dotted black;border-radius: 0.25em;box-sizing: border-box;margin-bottom: 0.5em;}#sk-container-id-4 div.sk-estimator:hover {background-color: #d4ebff;}#sk-container-id-4 div.sk-parallel-item::after {content: \"\";width: 100%;border-bottom: 1px solid gray;flex-grow: 1;}#sk-container-id-4 div.sk-label:hover label.sk-toggleable__label {background-color: #d4ebff;}#sk-container-id-4 div.sk-serial::before {content: \"\";position: absolute;border-left: 1px solid gray;box-sizing: border-box;top: 0;bottom: 0;left: 50%;z-index: 0;}#sk-container-id-4 div.sk-serial {display: flex;flex-direction: column;align-items: center;background-color: white;padding-right: 0.2em;padding-left: 0.2em;position: relative;}#sk-container-id-4 div.sk-item {position: relative;z-index: 1;}#sk-container-id-4 div.sk-parallel {display: flex;align-items: stretch;justify-content: center;background-color: white;position: relative;}#sk-container-id-4 div.sk-item::before, #sk-container-id-4 div.sk-parallel-item::before {content: \"\";position: absolute;border-left: 1px solid gray;box-sizing: border-box;top: 0;bottom: 0;left: 50%;z-index: -1;}#sk-container-id-4 div.sk-parallel-item {display: flex;flex-direction: column;z-index: 1;position: relative;background-color: white;}#sk-container-id-4 div.sk-parallel-item:first-child::after {align-self: flex-end;width: 50%;}#sk-container-id-4 div.sk-parallel-item:last-child::after {align-self: flex-start;width: 50%;}#sk-container-id-4 div.sk-parallel-item:only-child::after {width: 0;}#sk-container-id-4 div.sk-dashed-wrapped {border: 1px dashed gray;margin: 0 0.4em 0.5em 0.4em;box-sizing: border-box;padding-bottom: 0.4em;background-color: white;}#sk-container-id-4 div.sk-label label {font-family: monospace;font-weight: bold;display: inline-block;line-height: 1.2em;}#sk-container-id-4 div.sk-label-container {text-align: center;}#sk-container-id-4 div.sk-container {/* jupyter's `normalize.less` sets `[hidden] { display: none; }` but bootstrap.min.css set `[hidden] { display: none !important; }` so we also need the `!important` here to be able to override the default hidden behavior on the sphinx rendered scikit-learn.org. See: https://github.com/scikit-learn/scikit-learn/issues/21755 */display: inline-block !important;position: relative;}#sk-container-id-4 div.sk-text-repr-fallback {display: none;}</style><div id=\"sk-container-id-4\" class=\"sk-top-container\"><div class=\"sk-text-repr-fallback\"><pre>RandomForestRegressor(max_features=2, n_estimators=1000, oob_score=True,\n",
       "                      random_state=20242201)</pre><b>In a Jupyter environment, please rerun this cell to show the HTML representation or trust the notebook. <br />On GitHub, the HTML representation is unable to render, please try loading this page with nbviewer.org.</b></div><div class=\"sk-container\" hidden><div class=\"sk-item\"><div class=\"sk-estimator sk-toggleable\"><input class=\"sk-toggleable__control sk-hidden--visually\" id=\"sk-estimator-id-4\" type=\"checkbox\" checked><label for=\"sk-estimator-id-4\" class=\"sk-toggleable__label sk-toggleable__label-arrow\">RandomForestRegressor</label><div class=\"sk-toggleable__content\"><pre>RandomForestRegressor(max_features=2, n_estimators=1000, oob_score=True,\n",
       "                      random_state=20242201)</pre></div></div></div></div></div>"
      ],
      "text/plain": [
       "RandomForestRegressor(max_features=2, n_estimators=1000, oob_score=True,\n",
       "                      random_state=20242201)"
      ]
     },
     "execution_count": 21,
     "metadata": {},
     "output_type": "execute_result"
    }
   ],
   "source": [
    "# ---- Random Forests ----\n",
    "#\n",
    "# - Can be used for Regressions (RandomForestRegressor) and for\n",
    "# Classifications (RandomForestClassifier)\n",
    "#\n",
    "# - It is a group of Decision Trees\n",
    "#\n",
    "# - Each Decision Tree receives a Bootstrap Sample of the training\n",
    "# data, that is, receives a random percentage of the training data\n",
    "#\n",
    "# - The final score/result will be the Average Result of all\n",
    "# Decision Trees results\n",
    "#\n",
    "# - The proper number of Decision Trees in a Random Forest is between\n",
    "# 500 and 1000\n",
    "#\n",
    "# - The OOB Score uses the features that has not been used in a Bootstrap\n",
    "# Sample to validate/evaluate the Decision Tree\n",
    "#\n",
    "random_forest_model = RandomForestRegressor(\n",
    "    n_estimators=1000 # number of Decision Trees\n",
    "\t, max_features=2 # number of features considered in each Bootstrap Sample\n",
    "\t, oob_score=True # using the other features not considered in each Bootstrap Sample to evaluate the model\n",
    "    , random_state=20242201\n",
    ")\n",
    "\n",
    "random_forest_model.fit(X=X_train, y=y_train)"
   ]
  },
  {
   "cell_type": "code",
   "execution_count": 25,
   "id": "344e798d-6250-4e52-a3f4-b691d71ae71c",
   "metadata": {},
   "outputs": [
    {
     "name": "stdout",
     "output_type": "stream",
     "text": [
      "- OOB Score: 0.8731397672560488\n",
      "\n",
      "---\n",
      "\n",
      "- symboling: 0.011106756345151354\n",
      "- num_of_doors: 0.003148486295508798\n",
      "- wheel_base: 0.07114380022852378\n",
      "- length: 0.07214835139431175\n",
      "- width: 0.10450598379985715\n",
      "- height: 0.019849175685622954\n",
      "- curb_weight: 0.1403331773250336\n",
      "- num_of_cylinders: 0.07091594445345928\n",
      "- engine_size: 0.12609573717389236\n",
      "- bore: 0.038475818418801266\n",
      "- stroke: 0.020824906511332113\n",
      "- compression_ratio: 0.0092121952706384\n",
      "- horsepower: 0.09515047721314623\n",
      "- peak_rpm: 0.029844134885892687\n",
      "- city_mpg: 0.08706196216287905\n",
      "- highway_mpg: 0.10018309283594924\n",
      "\n",
      "---\n",
      "\n",
      "- Random Forest MAE: 1482.722097085386\n"
     ]
    }
   ],
   "source": [
    "# ---- Random Forests ----\n",
    "#\n",
    "# - evaluation\n",
    "#\n",
    "\n",
    "# Evaluating the Model - OOB Score\n",
    "print(f'- OOB Score: {random_forest_model.oob_score_}')\n",
    "print('\\n---\\n')\n",
    "\n",
    "\n",
    "# Evaluating the Model - Feature Importances\n",
    "for feature, importance in zip(X_train.columns, random_forest_model.feature_importances_):\n",
    "\tprint(f'- {feature}: {importance}')\n",
    "print('\\n---\\n')\n",
    "\n",
    "# Evaluating the Model - MAE\n",
    "random_forest_predictions = random_forest_model.predict(X_valid)\n",
    "random_forest_mae = mean_absolute_error(random_forest_predictions, y_valid)\n",
    "print(f'- Random Forest MAE: {random_forest_mae}')"
   ]
  },
  {
   "cell_type": "markdown",
   "id": "2874d80f-f671-46c1-9a33-810a0ab8530e",
   "metadata": {},
   "source": [
    "---\n",
    "\n",
    "<h1 id='reach-me' style='color:#7159c1; border-bottom:3px solid #7159c1; letter-spacing:2px; font-family:JetBrains Mono; font-weight: bold; text-align:left; font-size:240%;padding:0'>📫 | Reach Me</h1>\n",
    "\n",
    "> **Email** - [csfelix08@gmail.com](mailto:csfelix08@gmail.com?)\n",
    "\n",
    "> **Linkedin** - [linkedin.com/in/csfelix/](https://www.linkedin.com/in/csfelix/)\n",
    "\n",
    "> **GitHub:** - [CSFelix](https://github.com/CSFelix)\n",
    "\n",
    "> **Kaggle** - [DSFelix](https://www.kaggle.com/dsfelix)\n",
    "\n",
    "> **Portfolio** - [CSFelix.io](https://csfelix.github.io/)."
   ]
  }
 ],
 "metadata": {
  "kernelspec": {
   "display_name": "Python 3 (ipykernel)",
   "language": "python",
   "name": "python3"
  },
  "language_info": {
   "codemirror_mode": {
    "name": "ipython",
    "version": 3
   },
   "file_extension": ".py",
   "mimetype": "text/x-python",
   "name": "python",
   "nbconvert_exporter": "python",
   "pygments_lexer": "ipython3",
   "version": "3.10.9"
  }
 },
 "nbformat": 4,
 "nbformat_minor": 5
}
