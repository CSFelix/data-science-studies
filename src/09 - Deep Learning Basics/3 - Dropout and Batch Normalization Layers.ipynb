{
 "cells": [
  {
   "cell_type": "markdown",
   "id": "04237159-0157-4a6e-a4f1-392818bf8526",
   "metadata": {},
   "source": [
    "<center>\n",
    "    <h1 id='dropout-and-batch-normalization-layers' style='color:#7159c1'>🧠 Dropout and Batch Normalization Layers 🧠</h1>\n",
    "    <i>Knowing New Layers</i>\n",
    "</center>"
   ]
  },
  {
   "cell_type": "markdown",
   "id": "f1b4e4cd-3933-40fe-9cd4-24334ad343e4",
   "metadata": {},
   "source": [
    "<h1 id='0-dropout-layer' style='color:#7159c1; border-bottom:3px solid #7159c1; letter-spacing:2px; font-family:JetBrains Mono; font-weight: bold; text-align:left; font-size:240%;padding:0'>0 | Dropout Layer</h1>\n",
    "\n",
    "It's used to avoid overfitting. In a nutshell, this layer just makes some neurons in a deep layer (for example) don't process the input at in the first moment. After that, the dropout allows these neurons to process, but disable other ones to process.\n",
    "\n",
    "This technique avoids the model to learn spurius patterns that lead to overfitting. It's often added before the layer that will suffer the dropout."
   ]
  },
  {
   "cell_type": "code",
   "execution_count": 2,
   "id": "0bb2ed1f-77a2-45b2-a766-db79d12e8f6a",
   "metadata": {},
   "outputs": [],
   "source": [
    "# ---- Importations ----\n",
    "from tensorflow import keras # pip install tensorflow\n",
    "from tensorflow.keras import layers\n",
    "\n",
    "# ---- Model ----\n",
    "model = keras.Sequential([\n",
    "\t# hidden\n",
    "\tlayers.Dropout(rate=0.3), # apply 30% dropout to the next layer\n",
    "\tlayers.Dense(units=16, activation='relu', input_shape=[11]),\n",
    "\n",
    "\t# output\n",
    "\tlayers.Dense(units=1, activation='linear'),\n",
    "])\n",
    "\n",
    "model = keras.Sequential([\n",
    "\t# hidden\n",
    "\tlayers.Dropout(0.3),\n",
    "\tlayers.Dense(units=16, input_shape=[11]),\n",
    "\tlayers.Activation('relu'),\n",
    "\n",
    "\t# output\n",
    "\tlayers.Dense(units=1, activation='linear'),\n",
    "])"
   ]
  },
  {
   "cell_type": "markdown",
   "id": "8fda8830-5f98-4406-8663-377d2f9690ec",
   "metadata": {},
   "source": [
    "<h1 id='1-batch-normalization-layer' style='color:#7159c1; border-bottom:3px solid #7159c1; letter-spacing:2px; font-family:JetBrains Mono; font-weight: bold; text-align:left; font-size:240%;padding:0'>1 | Batch Normalization Layer</h1>\n",
    "\n",
    "It's used when the training step is taking TOO MUCH TIME or is UNSTABLE. This layer just normalizes/standards/scales the datas inside the model (like the preprocessor step, but inside  the model/network).\n",
    "\n",
    "This technique avoids the model to be taking too much time to train and to don't get stuck with unstable inputs. It's often added before (preprocessor) or after (processor) of a layer."
   ]
  },
  {
   "cell_type": "code",
   "execution_count": 3,
   "id": "6a09346e-fa19-45cb-a627-754ced92cf3b",
   "metadata": {},
   "outputs": [],
   "source": [
    "model = keras.Sequential([\n",
    "\t# hidden\n",
    "\tlayers.BatchNormalization(input_shape=[11]),\n",
    "\tlayers.Dense(units=1024, activation='relu'),\n",
    "\n",
    "\t# output\n",
    "\tlayers.Dense(1),\n",
    "])\n",
    "\n",
    "model = keras.Sequential([\n",
    "\t# hidden\n",
    "\tlayers.Dense(units=1024, activation='relu', input_shape=[11]),\n",
    "\tlayers.BatchNormalization(),\n",
    "\n",
    "\t# output\n",
    "\tlayers.Dense(1),\n",
    "])\n",
    "\n",
    "model = keras.Sequential([\n",
    "\t# hidden\n",
    "\tlayers.Dense(units=1024, input_shape=[11]),\n",
    "\tlayers.BatchNormalization(),\n",
    "\tlayers.Activation('relu'),\n",
    "\n",
    "\t# output\n",
    "\tlayers.Dense(1),\n",
    "])"
   ]
  },
  {
   "cell_type": "markdown",
   "id": "1b75ba89-4464-422d-b1c7-1d2d951d685a",
   "metadata": {},
   "source": [
    "---\n",
    "\n",
    "<h1 id='reach-me' style='color:#7159c1; border-bottom:3px solid #7159c1; letter-spacing:2px; font-family:JetBrains Mono; font-weight: bold; text-align:left; font-size:240%;padding:0'>📫 | Reach Me</h1>\n",
    "\n",
    "> **Email** - [csfelix08@gmail.com](mailto:csfelix08@gmail.com?)\n",
    "\n",
    "> **Linkedin** - [linkedin.com/in/csfelix/](https://www.linkedin.com/in/csfelix/)\n",
    "\n",
    "> **GitHub:** - [CSFelix](https://github.com/CSFelix)\n",
    "\n",
    "> **Kaggle** - [DSFelix](https://www.kaggle.com/dsfelix)\n",
    "\n",
    "> **Portfolio** - [CSFelix.io](https://csfelix.github.io/)."
   ]
  }
 ],
 "metadata": {
  "kernelspec": {
   "display_name": "Python 3 (ipykernel)",
   "language": "python",
   "name": "python3"
  },
  "language_info": {
   "codemirror_mode": {
    "name": "ipython",
    "version": 3
   },
   "file_extension": ".py",
   "mimetype": "text/x-python",
   "name": "python",
   "nbconvert_exporter": "python",
   "pygments_lexer": "ipython3",
   "version": "3.10.9"
  }
 },
 "nbformat": 4,
 "nbformat_minor": 5
}
