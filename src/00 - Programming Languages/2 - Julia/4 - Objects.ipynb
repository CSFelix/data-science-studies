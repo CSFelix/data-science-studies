{
 "cells": [
  {
   "cell_type": "markdown",
   "id": "d9906638-d3f4-457d-bcc1-512599d5ee6c",
   "metadata": {},
   "source": [
    "<center>\n",
    "    <h1 id='julia-basics-4' style='color:#7159c1'>🍡 Julia Basics 4 🍡</h1>\n",
    "    <i>Objects</i>\n",
    "</center>\n",
    "\n",
    "```txt\n",
    "- Objects\n",
    "```"
   ]
  },
  {
   "cell_type": "code",
   "execution_count": 1,
   "id": "762d9437-3e5a-426d-a48b-1f68bd0f916a",
   "metadata": {},
   "outputs": [],
   "source": [
    "using Printf"
   ]
  },
  {
   "cell_type": "markdown",
   "id": "ebdfe875-9e11-4c25-b5ba-5fa9069e199a",
   "metadata": {},
   "source": [
    "<p id='0-objects' style='color:#7159c1; border-bottom:3px solid #7159c1; letter-spacing:2px; font-family:JetBrains Mono; font-weight: bold; text-align:left; font-size:240%;padding:0'>0 | Objects</p>"
   ]
  },
  {
   "cell_type": "code",
   "execution_count": 15,
   "id": "a575724a-c0c2-434a-9151-d8b431aeb96e",
   "metadata": {},
   "outputs": [
    {
     "data": {
      "text/plain": [
       "show_info"
      ]
     },
     "execution_count": 15,
     "metadata": {},
     "output_type": "execute_result"
    }
   ],
   "source": [
    "@doc \"\"\"\n",
    "Create your own Sayan\n",
    "\"\"\"\n",
    "struct Sayan\n",
    "    name::String\n",
    "    transformations::Vector{String}\n",
    "    planet::String\n",
    "    \n",
    "    @doc \"\"\"\n",
    "    Constructor parameters:\n",
    "        - name: string\n",
    "        - transformations: list of strings\n",
    "        - planet: string\n",
    "    \"\"\"\n",
    "    function Sayan(name::String, transformations::Vector{String}, planet::String)\n",
    "       new(name, transformations, planet) \n",
    "    end\n",
    "end\n",
    "\n",
    "# Yeah, Julia does not support functions inside structs\n",
    "@doc \"\"\"\n",
    "Show all info about the objects\n",
    "\"\"\"\n",
    "function show_info(sayan::Sayan)\n",
    "    title = \"* Sayan Info *\"\n",
    "    println(\"*\" ^ length(title))\n",
    "    println(title)\n",
    "    println(\"*\" ^ length(title))\n",
    "    println()\n",
    "    @printf(\"- Name: %s\\n\", sayan.name)\n",
    "    @printf(\"- Transformations: %s\\n\", sayan.transformations)\n",
    "    @printf(\"- Planet: %s\\n\", sayan.planet)\n",
    "end"
   ]
  },
  {
   "cell_type": "code",
   "execution_count": 16,
   "id": "a2fe32ca-1f22-4c3b-aa49-724b5cfc501e",
   "metadata": {},
   "outputs": [
    {
     "name": "stdout",
     "output_type": "stream",
     "text": [
      "**************\n",
      "* Sayan Info *\n",
      "**************\n",
      "\n",
      "- Name: Shallo\n",
      "- Transformations: [\"ssj1\", \"ssj2\", \"ssj3\", \"ssj god\", \"ssj blue\"]\n",
      "- Planet: Earth\n"
     ]
    }
   ],
   "source": [
    "shallot = Sayan(\"Shallo\", [\"ssj1\", \"ssj2\", \"ssj3\", \"ssj god\", \"ssj blue\"], \"Earth\")\n",
    "show_info(shallot)"
   ]
  },
  {
   "cell_type": "markdown",
   "id": "4d57acdf-55c5-44ac-8a5b-422964afc95d",
   "metadata": {},
   "source": [
    "<p id='reach-me' style='color:#7159c1; border-bottom:3px solid #7159c1; letter-spacing:2px; font-family:JetBrains Mono; font-weight: bold; text-align:left; font-size:240%;padding:0'>📫 | Reach Me</p>\n",
    "\n",
    "> **Email** - [csfelix08@gmail.com](mailto:csfelix08@gmail.com?)\n",
    "\n",
    "> **Linkedin** - [linkedin.com/in/csfelix/](https://www.linkedin.com/in/csfelix/)\n",
    "\n",
    "> **GitHub:** - [CSFelix](https://github.com/CSFelix)\n",
    "\n",
    "> **Kaggle** - [DSFelix](https://www.kaggle.com/dsfelix)\n",
    "\n",
    "> **Portfolio** - [CSFelix.io](https://csfelix.github.io/)."
   ]
  }
 ],
 "metadata": {
  "kernelspec": {
   "display_name": "Julia 1.8.5",
   "language": "julia",
   "name": "julia-1.8"
  },
  "language_info": {
   "file_extension": ".jl",
   "mimetype": "application/julia",
   "name": "julia",
   "version": "1.8.5"
  }
 },
 "nbformat": 4,
 "nbformat_minor": 5
}
