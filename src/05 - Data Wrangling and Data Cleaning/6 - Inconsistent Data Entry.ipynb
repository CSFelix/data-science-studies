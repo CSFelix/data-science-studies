{
 "cells": [
  {
   "cell_type": "markdown",
   "id": "669064da-4d3a-44cc-a1a7-d366af747e4f",
   "metadata": {},
   "source": [
    "<center>\n",
    "    <h1 id='inconsistent-data-entry' style='color:#7159c1'>🔨 Inconsistent Data Entry 🔨</h1>\n",
    "    <i>Dealing with Inconsistent Categorical Variables Values</i>\n",
    "</center>\n",
    "\n",
    "<br />\n",
    "\n",
    "In this notebook, let's fix some invalid data entries for countries."
   ]
  },
  {
   "cell_type": "code",
   "execution_count": 7,
   "id": "dda39873-9526-494d-bb22-ace0a2f86416",
   "metadata": {},
   "outputs": [
    {
     "data": {
      "text/plain": [
       "array([' Germany', ' New Zealand', ' Sweden', ' USA', 'Australia',\n",
       "       'Austria', 'Canada', 'China', 'Finland', 'France', 'Greece',\n",
       "       'HongKong', 'Ireland', 'Italy', 'Japan', 'Macau', 'Malaysia',\n",
       "       'Mauritius', 'Netherland', 'New Zealand', 'Norway', 'Pakistan',\n",
       "       'Portugal', 'Russian Federation', 'Saudi Arabia', 'Scotland',\n",
       "       'Singapore', 'South Korea', 'SouthKorea', 'Spain', 'Sweden',\n",
       "       'Thailand', 'Turkey', 'UK', 'USA', 'USofA', 'Urbana', 'germany'],\n",
       "      dtype=object)"
      ]
     },
     "execution_count": 7,
     "metadata": {},
     "output_type": "execute_result"
    }
   ],
   "source": [
    "# ---- Reading Dataset ----\n",
    "import pandas as pd # pip install pandas\n",
    "\n",
    "professors_df = pd.read_csv('./datasets/pakistan_intellectual_capital.csv', index_col='Unnamed: 0')\n",
    "countries = professors_df.Country.unique()\n",
    "countries.sort()\n",
    "countries"
   ]
  },
  {
   "cell_type": "markdown",
   "id": "b03df0cc-7aa0-4a2a-80ff-1462b2479fc0",
   "metadata": {},
   "source": [
    "---\n",
    "\n",
    "Notice that we have 'New Zealand' and ' New Zealand'; 'Germany' and 'germany'; 'USA', ' USA' and 'USofA'; 'South Korea' and 'SouthKorea'."
   ]
  },
  {
   "cell_type": "code",
   "execution_count": 9,
   "id": "33c1cce6-027b-4605-80af-d744ffe8f8f0",
   "metadata": {},
   "outputs": [
    {
     "data": {
      "text/plain": [
       "array(['australia', 'austria', 'canada', 'china', 'finland', 'france',\n",
       "       'germany', 'greece', 'hongkong', 'ireland', 'italy', 'japan',\n",
       "       'macau', 'malaysia', 'mauritius', 'netherland', 'new zealand',\n",
       "       'norway', 'pakistan', 'portugal', 'russian federation',\n",
       "       'saudi arabia', 'scotland', 'singapore', 'south korea',\n",
       "       'southkorea', 'spain', 'sweden', 'thailand', 'turkey', 'uk',\n",
       "       'urbana', 'usa', 'usofa'], dtype=object)"
      ]
     },
     "execution_count": 9,
     "metadata": {},
     "output_type": "execute_result"
    }
   ],
   "source": [
    "# ---- Converting All Values ----\n",
    "#\n",
    "# - lower case\n",
    "# - strip\n",
    "#\n",
    "professors_df['Country'] = professors_df['Country'].str.lower()\n",
    "professors_df['Country'] = professors_df['Country'].str.strip()\n",
    "\n",
    "countries = professors_df.Country.unique()\n",
    "countries.sort()\n",
    "countries"
   ]
  },
  {
   "cell_type": "markdown",
   "id": "878954e0-40c1-40e3-a15a-0c15cc9ff0f3",
   "metadata": {},
   "source": [
    "---\n",
    "\n",
    "Now, we gotta a few problemms like: 'south korea' and 'southkorea', 'usa' and 'usofa'. "
   ]
  },
  {
   "cell_type": "code",
   "execution_count": 11,
   "id": "f295e03a-9921-4d76-976a-24dfbec1b2f6",
   "metadata": {},
   "outputs": [
    {
     "data": {
      "text/plain": [
       "[('south korea', 100),\n",
       " ('southkorea', 48),\n",
       " ('saudi arabia', 43),\n",
       " ('norway', 35),\n",
       " ('austria', 33),\n",
       " ('ireland', 33),\n",
       " ('pakistan', 32),\n",
       " ('portugal', 32),\n",
       " ('scotland', 32),\n",
       " ('australia', 30)]"
      ]
     },
     "execution_count": 11,
     "metadata": {},
     "output_type": "execute_result"
    }
   ],
   "source": [
    "# ---- Finding Countries Names that are similar to 'south korea' ---- #\n",
    "#\n",
    "# Fuzzy matching: The process of automatically finding text strings that are very similar to the target string. \n",
    "#\n",
    "# In general, a string is considered \"closer\" to another  one the fewer characters you'd need to change if you \n",
    "# were transforming one string into another. \n",
    "#\n",
    "# So \"apple\" and \"snapple\" are two changes away from each  other (add \"s\" and \"n\") while \"in\" and \"on\" and one \n",
    "# change away (replace \"i\" with \"o\"). \n",
    "#\n",
    "# You won't always be able to rely on fuzzy matching 100%, but it will usually end up saving you at least a little \n",
    "# time.\n",
    "#\n",
    "import fuzzywuzzy # pip install fuzzywuzzy\n",
    "from fuzzywuzzy import process\n",
    "\n",
    "matches = fuzzywuzzy.process.extract(\n",
    "    'south korea'\n",
    "    , countries\n",
    "    , limit=10\n",
    "    , scorer=fuzzywuzzy.fuzz.token_sort_ratio\n",
    ")\n",
    "\n",
    "matches"
   ]
  },
  {
   "cell_type": "code",
   "execution_count": 15,
   "id": "8df136a4-70cf-4c20-a71e-ccf9dac80c01",
   "metadata": {},
   "outputs": [],
   "source": [
    "# ---- Creating function to replace the similar countries' names ---- #\n",
    "def replace_matches_in_column(df, column, string_to_match, min_ratio=47):\n",
    "    \"\"\"\n",
    "    \\ Description:\n",
    "        - applies fuzzywuzzy in order to find the most similar matches to 'string_to_match' parameter;\n",
    "        - the most similar matches are filtered to those ones that has a score greater than 'min_ratio' parameter;\n",
    "        - then the chosen ones are corrected having their values replaced by the 'string_to_match' parameter.\n",
    "    \n",
    "    \\ Parameters:\n",
    "        - df: pandas dataframe;\n",
    "        - column: string;\n",
    "        - string_to_match: string;\n",
    "        - min_ratio: integer.\n",
    "    \"\"\"\n",
    "    # get a list of unique strings\n",
    "    strings = df[column].unique()\n",
    "    \n",
    "    # get the top 10 closes matches to the input string\n",
    "    matches = fuzzywuzzy.process.extract(\n",
    "        string_to_match\n",
    "        , strings\n",
    "        , limit=10\n",
    "        , scorer=fuzzywuzzy.fuzz.token_sort_ratio\n",
    "    )\n",
    "    \n",
    "    # only get matches with a ratio > min_ratio\n",
    "    close_matches = [matches[0] for matches in matches if matches[1] >= min_ratio]\n",
    "    \n",
    "    # get the rows of all the close matches in the dataframe\n",
    "    rows_with_matches = df[column].isin(close_matches)\n",
    "    \n",
    "    # replace all rows with close matches with the input match\n",
    "    df.loc[rows_with_matches, column] = string_to_match"
   ]
  },
  {
   "cell_type": "code",
   "execution_count": 16,
   "id": "27f7b1d4-57fb-4b85-a69f-eb9ce5bceae7",
   "metadata": {},
   "outputs": [],
   "source": [
    "# ---- Fixing Inconsistent Data Entries for 'South Korea'\n",
    "replace_matches_in_column(\n",
    "    df=professors_df\n",
    "    , column='Country'\n",
    "    , string_to_match='south korea'\n",
    "    , min_ratio=47\n",
    ")"
   ]
  },
  {
   "cell_type": "code",
   "execution_count": 17,
   "id": "edf57af9-cbd0-4707-adbf-820ee66ac8a1",
   "metadata": {},
   "outputs": [
    {
     "data": {
      "text/plain": [
       "[('usa', 100), ('usofa', 75)]"
      ]
     },
     "execution_count": 17,
     "metadata": {},
     "output_type": "execute_result"
    }
   ],
   "source": [
    "# ---- Fixing Inconsistend Data Entries for 'USA' ----\n",
    "matches = fuzzywuzzy.process.extract(\n",
    "    'usa'\n",
    "    , countries\n",
    "    , limit=2\n",
    "    , scorer=fuzzywuzzy.fuzz.token_sort_ratio\n",
    ")\n",
    "\n",
    "matches"
   ]
  },
  {
   "cell_type": "code",
   "execution_count": 19,
   "id": "7162c133-0261-49e4-9a8f-cdaec80c6599",
   "metadata": {},
   "outputs": [
    {
     "data": {
      "text/plain": [
       "array(['canada', 'china', 'finland', 'france', 'germany', 'greece',\n",
       "       'hongkong', 'ireland', 'italy', 'japan', 'macau', 'malaysia',\n",
       "       'mauritius', 'netherland', 'new zealand', 'norway', 'pakistan',\n",
       "       'portugal', 'russian federation', 'saudi arabia', 'scotland',\n",
       "       'singapore', 'south korea', 'sweden', 'thailand', 'turkey', 'uk',\n",
       "       'urbana', 'usa'], dtype=object)"
      ]
     },
     "execution_count": 19,
     "metadata": {},
     "output_type": "execute_result"
    }
   ],
   "source": [
    "# ---- Fixing Inconsistend Data Entries for 'USA' ----\n",
    "replace_matches_in_column(\n",
    "    df=professors_df\n",
    "    , column='Country'\n",
    "    , string_to_match='usa'\n",
    "    , min_ratio=50\n",
    ")\n",
    "\n",
    "countries = professors_df.Country.unique()\n",
    "countries.sort()\n",
    "countries"
   ]
  },
  {
   "cell_type": "markdown",
   "id": "1a1a1af7-23a4-4e76-a3e4-f743237df427",
   "metadata": {},
   "source": [
    "---\n",
    "\n",
    "<h1 id='reach-me' style='color:#7159c1; border-bottom:3px solid #7159c1; letter-spacing:2px; font-family:JetBrains Mono; font-weight: bold; text-align:left; font-size:240%;padding:0'>📫 | Reach Me</h1>\n",
    "\n",
    "> **Email** - [csfelix08@gmail.com](mailto:csfelix08@gmail.com?)\n",
    "\n",
    "> **Linkedin** - [linkedin.com/in/csfelix/](https://www.linkedin.com/in/csfelix/)\n",
    "\n",
    "> **GitHub:** - [CSFelix](https://github.com/CSFelix)\n",
    "\n",
    "> **Kaggle** - [DSFelix](https://www.kaggle.com/dsfelix)\n",
    "\n",
    "> **Portfolio** - [CSFelix.io](https://csfelix.github.io/)."
   ]
  }
 ],
 "metadata": {
  "kernelspec": {
   "display_name": "Python 3 (ipykernel)",
   "language": "python",
   "name": "python3"
  },
  "language_info": {
   "codemirror_mode": {
    "name": "ipython",
    "version": 3
   },
   "file_extension": ".py",
   "mimetype": "text/x-python",
   "name": "python",
   "nbconvert_exporter": "python",
   "pygments_lexer": "ipython3",
   "version": "3.10.9"
  }
 },
 "nbformat": 4,
 "nbformat_minor": 5
}
