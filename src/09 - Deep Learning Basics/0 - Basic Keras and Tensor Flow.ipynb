{
 "cells": [
  {
   "cell_type": "markdown",
   "id": "44cb37c4-9a58-4d05-9a98-cdea47254521",
   "metadata": {},
   "source": [
    "<center>\n",
    "    <h1 id='basic-keras-and-tensorflow' style='color:#7159c1'>🧠 Basic Keras and Tensorflow 🧠</h1>\n",
    "    <i>Kicking off our journey on Deep Learning</i>\n",
    "</center>"
   ]
  },
  {
   "cell_type": "markdown",
   "id": "235c7585-4bc7-4a19-84be-581ea31176a6",
   "metadata": {},
   "source": [
    "<h1 id='0-model-with-a-single-layer' style='color:#7159c1; border-bottom:3px solid #7159c1; letter-spacing:2px; font-family:JetBrains Mono; font-weight: bold; text-align:left; font-size:240%;padding:0'>0 | Model with a Single Layer</h1>"
   ]
  },
  {
   "cell_type": "code",
   "execution_count": 1,
   "id": "de0e39e9-d77c-4f8c-ab9f-148b2cd55044",
   "metadata": {},
   "outputs": [],
   "source": [
    "# ---- Importations ----\n",
    "import pandas as pd # pip install pandas\n",
    "from sklearn.model_selection import train_test_split # pip install sklearn\n",
    "import tensorflow as tf # pip install tensorflow\n",
    "from tensorflow import keras\n",
    "from tensorflow.keras import layers\n",
    "import matplotlib.pyplot as plt # pip install matplotlib\n",
    "import mplcyberpunk # pip install mplcyberpunk\n",
    "\n",
    "plt.style.use('cyberpunk')\n",
    "\n",
    "# ---- Preparing Dataset ----\n",
    "autos_df = pd.read_csv('./datasets/autos.csv')\n",
    "autos_df = autos_df.select_dtypes(exclude='object')\n",
    "\n",
    "X = autos_df.copy()\n",
    "y = X.pop('price')\n",
    "\n",
    "X_train, X_valid, y_train, y_valid = train_test_split(\n",
    "    X, y\n",
    "    , train_size=0.70\n",
    "    , test_size=0.30\n",
    "    , random_state=20242301\n",
    ")"
   ]
  },
  {
   "cell_type": "code",
   "execution_count": 2,
   "id": "8f14b25f-4977-4924-ba9e-8f627181cf8e",
   "metadata": {},
   "outputs": [
    {
     "name": "stdout",
     "output_type": "stream",
     "text": [
      "Model: \"sequential\"\n",
      "_________________________________________________________________\n",
      " Layer (type)                Output Shape              Param #   \n",
      "=================================================================\n",
      " dense (Dense)               (None, 1)                 4         \n",
      "                                                                 \n",
      "=================================================================\n",
      "Total params: 4\n",
      "Trainable params: 4\n",
      "Non-trainable params: 0\n",
      "_________________________________________________________________\n",
      "None\n",
      "\n",
      "---\n",
      "\n",
      "- Weights: <tf.Variable 'dense/kernel:0' shape=(3, 1) dtype=float32, numpy=\n",
      "array([[-0.03178322],\n",
      "       [-0.47423685],\n",
      "       [-0.57325065]], dtype=float32)>\n",
      "\n",
      "---\n",
      "\n",
      "- Bias: <tf.Variable 'dense/bias:0' shape=(1,) dtype=float32, numpy=array([0.], dtype=float32)>\n"
     ]
    }
   ],
   "source": [
    "# ---- Creating the Model ----\n",
    "#\n",
    "# - units: number ofo outputs\n",
    "# - input_shape: number of inputs\n",
    "#\n",
    "model_1 = keras.Sequential([\n",
    "    layers.Dense(units=1, input_shape=[3])\n",
    "])\n",
    "\n",
    "weights_1, bias_1 = model_1.weights\n",
    "\n",
    "print(model_1.summary())\n",
    "print('\\n---\\n')\n",
    "print(f'- Weights: {weights_1}')\n",
    "print('\\n---\\n')\n",
    "print(f'- Bias: {bias_1}')"
   ]
  },
  {
   "cell_type": "markdown",
   "id": "35532b22-e690-4d86-a5a7-fe1491d98d9b",
   "metadata": {},
   "source": [
    "<h1 id='1-model-with-multiple-layers' style='color:#7159c1; border-bottom:3px solid #7159c1; letter-spacing:2px; font-family:JetBrains Mono; font-weight: bold; text-align:left; font-size:240%;padding:0'>1 | Model with Multiple Layers</h1>\n",
    "\n",
    "Neural Networks with just `Dense Layers` can only work with Linear Regressor, howerver, if we add Activation Functions like Rectified Linear Unit (ReLU), we can find non-linear patterns, making the network smarter.\n",
    "\n",
    "> **Predicting Values** - `combination of activation functions with linear one. The last function should always be a linear`;\n",
    "\n",
    "> **Classification** - `combination of activation functions. The last function should always be an activation one`.\n",
    "\n",
    "Besideds ReLU, there are others Activation Functions, such as ELU, SELU, SWISH, Sigmoid and so on."
   ]
  },
  {
   "cell_type": "code",
   "execution_count": 3,
   "id": "c3d3d5ea-fc06-44c0-8ea2-35239846d58a",
   "metadata": {},
   "outputs": [],
   "source": [
    "# ---- Creating Model with Multiple Layeers ----\n",
    "#\n",
    "# - we can either create a model with the activation function inside the dense layer\n",
    "# either create the model with the activation function after the dense layer. The result\n",
    "# will be the same\n",
    "#\n",
    "model_2 = keras.Sequential([\n",
    "    # hidden layers - relu\n",
    "    layers.Dense(units=4, activation='relu', input_shape=[2])\n",
    "    , layers.Dense(units=3, activation='relu')\n",
    "    \n",
    "    # output layer - linear\n",
    "    , layers.Dense(units=1, activation='linear')\n",
    "])\n",
    "\n",
    "model_2 = keras.Sequential([\n",
    "    # hidden layers - relu\n",
    "    layers.Dense(units=4, input_shape=[2])\n",
    "    , layers.Activation('relu')\n",
    "    , layers.Dense(units=3)\n",
    "    , layers.Activation('relu')\n",
    "    \n",
    "    # output layer - linear\n",
    "    , layers.Dense(units=1)\n",
    "    , layers.Activation('linear')\n",
    "])"
   ]
  },
  {
   "cell_type": "markdown",
   "id": "ea70c4e2-e5d1-4654-9fac-7381da983314",
   "metadata": {},
   "source": [
    "<h1 id='2-improving-performance' style='color:#7159c1; border-bottom:3px solid #7159c1; letter-spacing:2px; font-family:JetBrains Mono; font-weight: bold; text-align:left; font-size:240%;padding:0'>2 | Improving Performance</h1>\n",
    "\n",
    "Some ways to improve model's performance:\n",
    "\n",
    "> **Loss Function** - `calculates how good the model is. Mean Absolute Error (MAE) is often used as a Loss Function`;\n",
    "\n",
    "> **Optimizers (Stochastic Gradient Descent - SGD)** - `are functions to improve the learning of model in order to get more accurate results and decrease the Loss. ADAM is often applied as a SGD, because this algorithm can improve by itself without the programmer sets the improvement`;\n",
    "\n",
    "> **(Mini)Batch and Epoch** - `the first one is each time the model trains with the data, whereas the second one is each round the model finishes the traning. Which means, a model can have 5 EPOCHS with 200 BATCHES  each one`.\n",
    "\n",
    "Besides, as longer the number (size) of batches and epochs, as better  will be the model's learning rate."
   ]
  },
  {
   "cell_type": "code",
   "execution_count": 6,
   "id": "35d4dfec-d1ae-4086-9530-649095842e65",
   "metadata": {},
   "outputs": [
    {
     "name": "stdout",
     "output_type": "stream",
     "text": [
      "Epoch 1/10\n",
      "6/6 [==============================] - 1s 35ms/step - loss: 10366.7412 - val_loss: 6784.5454\n",
      "Epoch 2/10\n",
      "6/6 [==============================] - 0s 14ms/step - loss: 5821.6812 - val_loss: 6270.4927\n",
      "Epoch 3/10\n",
      "6/6 [==============================] - 0s 13ms/step - loss: 5463.0400 - val_loss: 6662.2520\n",
      "Epoch 4/10\n",
      "6/6 [==============================] - 0s 13ms/step - loss: 5329.9971 - val_loss: 6140.7881\n",
      "Epoch 5/10\n",
      "6/6 [==============================] - 0s 13ms/step - loss: 4745.9194 - val_loss: 5312.0908\n",
      "Epoch 6/10\n",
      "6/6 [==============================] - 0s 14ms/step - loss: 4434.1406 - val_loss: 5431.9590\n",
      "Epoch 7/10\n",
      "6/6 [==============================] - 0s 14ms/step - loss: 4330.8730 - val_loss: 5293.7534\n",
      "Epoch 8/10\n",
      "6/6 [==============================] - 0s 13ms/step - loss: 3999.8269 - val_loss: 4613.9155\n",
      "Epoch 9/10\n",
      "6/6 [==============================] - 0s 13ms/step - loss: 3620.0576 - val_loss: 4710.7168\n",
      "Epoch 10/10\n",
      "6/6 [==============================] - 0s 12ms/step - loss: 3273.4241 - val_loss: 4069.0142\n"
     ]
    },
    {
     "data": {
      "image/png": "[encoded data removed]",
      "text/plain": [
       "<Figure size 640x480 with 1 Axes>"
      ]
     },
     "metadata": {},
     "output_type": "display_data"
    }
   ],
   "source": [
    "# ---- Creating the Model ----\n",
    "model_3 = keras.Sequential([\n",
    "    # hidden layers - relu\n",
    "    layers.Dense(units=512, activation='relu', input_shape=[16])\n",
    "    , layers.Dense(units=512, activation='relu')\n",
    "    , layers.Dense(units=512, activation='relu')\n",
    "    \n",
    "    # output layer - linear\n",
    "    , layers.Dense(units=1, activation='linear')\n",
    "])\n",
    "\n",
    "# ---- Defining the Loss and the Optimizer Functions ----\n",
    "model_3.compile(\n",
    "    optimizer='adam'\n",
    "    # optimizer='sgd' # SGD is more sensitive to differences of scale\n",
    "    , loss='mae'\n",
    ")\n",
    "\n",
    "# ---- Training the Model ----\n",
    "#\n",
    "# The model will receive 25 rows at a time (batch size)\n",
    "# till proccess all of the dataset.\n",
    "# And this step will be repeated 10 times (epochs)\n",
    "#\n",
    "history = model_3.fit(\n",
    "    X_train, y_train\n",
    "    , validation_data=(X_valid, y_valid)\n",
    "    , batch_size=25\n",
    "    , epochs=10\n",
    ")\n",
    "\n",
    "# ---- Plotting the Loss Function ----\n",
    "history_df = pd.DataFrame(history.history)\n",
    "history_df.loss.plot()\n",
    "plt.show()"
   ]
  },
  {
   "cell_type": "markdown",
   "id": "ec4f0d00-e4b4-413d-a112-957e56cb3504",
   "metadata": {},
   "source": [
    "---\n",
    "\n",
    "<h1 id='reach-me' style='color:#7159c1; border-bottom:3px solid #7159c1; letter-spacing:2px; font-family:JetBrains Mono; font-weight: bold; text-align:left; font-size:240%;padding:0'>📫 | Reach Me</h1>\n",
    "\n",
    "> **Email** - [csfelix08@gmail.com](mailto:csfelix08@gmail.com?)\n",
    "\n",
    "> **Linkedin** - [linkedin.com/in/csfelix/](https://www.linkedin.com/in/csfelix/)\n",
    "\n",
    "> **GitHub:** - [CSFelix](https://github.com/CSFelix)\n",
    "\n",
    "> **Kaggle** - [DSFelix](https://www.kaggle.com/dsfelix)\n",
    "\n",
    "> **Portfolio** - [CSFelix.io](https://csfelix.github.io/)."
   ]
  }
 ],
 "metadata": {
  "kernelspec": {
   "display_name": "Python 3 (ipykernel)",
   "language": "python",
   "name": "python3"
  },
  "language_info": {
   "codemirror_mode": {
    "name": "ipython",
    "version": 3
   },
   "file_extension": ".py",
   "mimetype": "text/x-python",
   "name": "python",
   "nbconvert_exporter": "python",
   "pygments_lexer": "ipython3",
   "version": "3.10.9"
  }
 },
 "nbformat": 4,
 "nbformat_minor": 5
}
