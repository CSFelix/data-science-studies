{
 "cells": [
  {
   "cell_type": "markdown",
   "id": "eb10bb34-6f1b-4d55-b5ac-f49808997fe5",
   "metadata": {},
   "source": [
    "<center>\n",
    "    <h1 id='r-basics-3' style='color:#7159c1'>📊 R Basics 3📊</h1>\n",
    "    <i>Functions, Docstrings and Lambdas</i>\n",
    "</center>\n",
    "\n",
    "```txt\n",
    "- Functions\n",
    "- Docstrings\n",
    "- Lambdas\n",
    "```"
   ]
  },
  {
   "cell_type": "markdown",
   "id": "b82917a5-0f00-4c27-8cd2-7fba6dd1fa2f",
   "metadata": {},
   "source": [
    "<p id='0-functions' style='color:#7159c1; border-bottom:3px solid #7159c1; letter-spacing:2px; font-family:JetBrains Mono; font-weight: bold; text-align:left; font-size:240%;padding:0'>0 | Functions</p>"
   ]
  },
  {
   "cell_type": "code",
   "execution_count": 1,
   "id": "0e00f9de-4497-44ef-916b-81c15c9b2b01",
   "metadata": {},
   "outputs": [
    {
     "data": {
      "text/plain": [
       "NULL"
      ]
     },
     "metadata": {},
     "output_type": "display_data"
    }
   ],
   "source": [
    "# ---- Prototype ----\n",
    "#\n",
    "# It is used when you create the function but do not write any code inside of it. The code\n",
    "# will be written later. It happens when you do not have time, is lazy or have to think about\n",
    "# what the function will be. Whatever...\n",
    "my_function <- function() {\n",
    "    # TO-DO\n",
    "}\n",
    "\n",
    "my_function()"
   ]
  },
  {
   "cell_type": "code",
   "execution_count": 11,
   "id": "0bbb8c58-84ad-4258-9c57-cde954fb6fae",
   "metadata": {},
   "outputs": [
    {
     "name": "stdout",
     "output_type": "stream",
     "text": [
      "[1] \"Hello World!!\"\n"
     ]
    }
   ],
   "source": [
    "# ---- Real Function ----\n",
    "#\n",
    "# - without parameters\n",
    "#\n",
    "my_function <- function() {\n",
    "    #' A simple function that prints 'Hello World!!'\n",
    "    print('Hello World!!')\n",
    "}\n",
    "\n",
    "my_function()"
   ]
  },
  {
   "cell_type": "code",
   "execution_count": 12,
   "id": "f8545ba2-885f-4c2d-9b30-625d4aabb273",
   "metadata": {},
   "outputs": [
    {
     "data": {
      "text/html": [
       "'Hello World Felix!!'"
      ],
      "text/latex": [
       "'Hello World Felix!!'"
      ],
      "text/markdown": [
       "'Hello World Felix!!'"
      ],
      "text/plain": [
       "[1] \"Hello World Felix!!\""
      ]
     },
     "metadata": {},
     "output_type": "display_data"
    }
   ],
   "source": [
    "# ---- Real Function ----\n",
    "#\n",
    "# - with parameters\n",
    "#\n",
    "my_function <- function(name) {\n",
    "    #' A simple function that prints 'Hello World {name}!!'\n",
    "    #'\n",
    "    #' Parameters:\n",
    "    #'    - name: string\n",
    "    sprintf('Hello World %s!!', name)\n",
    "}\n",
    "\n",
    "my_function('Felix')"
   ]
  },
  {
   "cell_type": "code",
   "execution_count": 14,
   "id": "d3a1069e-f0d8-4158-a6d7-6c8630110bd1",
   "metadata": {},
   "outputs": [
    {
     "data": {
      "text/html": [
       "'Hello World Felix!!'"
      ],
      "text/latex": [
       "'Hello World Felix!!'"
      ],
      "text/markdown": [
       "'Hello World Felix!!'"
      ],
      "text/plain": [
       "[1] \"Hello World Felix!!\""
      ]
     },
     "metadata": {},
     "output_type": "display_data"
    },
    {
     "data": {
      "text/html": [
       "'Hello World Goku!!'"
      ],
      "text/latex": [
       "'Hello World Goku!!'"
      ],
      "text/markdown": [
       "'Hello World Goku!!'"
      ],
      "text/plain": [
       "[1] \"Hello World Goku!!\""
      ]
     },
     "metadata": {},
     "output_type": "display_data"
    }
   ],
   "source": [
    "# ---- Real Function ----\n",
    "#\n",
    "# - with default value to parameters\n",
    "#\n",
    "my_function <- function(name='Goku') {\n",
    "    #' A simple function that prints 'Hello World {name}!!'\n",
    "    #'\n",
    "    #' Parameters:\n",
    "    #'    - name: string (default value: 'Goku')\n",
    "    sprintf('Hello World %s!!', name)\n",
    "}\n",
    "\n",
    "my_function('Felix')\n",
    "my_function()"
   ]
  },
  {
   "cell_type": "code",
   "execution_count": 21,
   "id": "4a51e094-41fe-4ae5-a36f-b40e6ee6e950",
   "metadata": {},
   "outputs": [
    {
     "name": "stdout",
     "output_type": "stream",
     "text": [
      "Hello World Felix !!\n",
      "Hello World Goku !!\n",
      "Hello World Vegeta !!\n",
      "Hello World Broly !!\n"
     ]
    }
   ],
   "source": [
    "# ---- Real Function ----\n",
    "#\n",
    "# - with star parameters\n",
    "#\n",
    "my_function <- function(...) {\n",
    "    #' A simple function that prints 'Hello World {name}!!' for 'n' names\n",
    "    #'\n",
    "    #' Parameters:\n",
    "    #'    - names: string\n",
    "    names <- c(...)\n",
    "    for (name in names) {\n",
    "        cat(paste('Hello World', name, '!!\\n'))\n",
    "    }\n",
    "}\n",
    "\n",
    "my_function('Felix', 'Goku', 'Vegeta', 'Broly')"
   ]
  },
  {
   "cell_type": "code",
   "execution_count": 23,
   "id": "d370df31-9c63-43c1-95a0-65ed249d04bd",
   "metadata": {},
   "outputs": [
    {
     "name": "stdout",
     "output_type": "stream",
     "text": [
      "name : Goku \n",
      "breed : Sayan \n",
      "transformation : Ultra Instinct \n"
     ]
    }
   ],
   "source": [
    "# ---- Real Function ----\n",
    "#\n",
    "# - with double star parameters\n",
    "#\n",
    "my_function <- function(...) {\n",
    "    #' A simple function that prints all attribute-value pairs for 'n' pairs\n",
    "    #'\n",
    "    #' Parameters:\n",
    "    #'    - info: any\n",
    "    info <- list(...)\n",
    "    for (key in names(info)) {\n",
    "        cat(paste(key, ':', info[key], '\\n'))\n",
    "    }\n",
    "}\n",
    "\n",
    "my_function(name='Goku', breed='Sayan', transformation='Ultra Instinct')"
   ]
  },
  {
   "cell_type": "markdown",
   "id": "6a814027-a1c1-46fe-a1bc-7669c12bfaa2",
   "metadata": {},
   "source": [
    "<p id='1-lambdas' style='color:#7159c1; border-bottom:3px solid #7159c1; letter-spacing:2px; font-family:JetBrains Mono; font-weight: bold; text-align:left; font-size:240%;padding:0'>1 | Lambdas</p>"
   ]
  },
  {
   "cell_type": "code",
   "execution_count": 26,
   "id": "ae9daa23-295d-4641-aa84-f1fe06c8844c",
   "metadata": {},
   "outputs": [
    {
     "data": {
      "text/html": [
       "'Hello World Felix!!'"
      ],
      "text/latex": [
       "'Hello World Felix!!'"
      ],
      "text/markdown": [
       "'Hello World Felix!!'"
      ],
      "text/plain": [
       "[1] \"Hello World Felix!!\""
      ]
     },
     "metadata": {},
     "output_type": "display_data"
    }
   ],
   "source": [
    "# ---- Lambdas ----\n",
    "#\n",
    "# - fast and easy way to write functions\n",
    "# - do not support docstrings\n",
    "#\n",
    "my_lambda <- function(name) sprintf('Hello World %s!!', name)\n",
    "my_lambda('Felix')"
   ]
  },
  {
   "cell_type": "markdown",
   "id": "31176821-9765-4452-9133-0ec6b5c420a6",
   "metadata": {},
   "source": [
    "<p id='reach-me' style='color:#7159c1; border-bottom:3px solid #7159c1; letter-spacing:2px; font-family:JetBrains Mono; font-weight: bold; text-align:left; font-size:240%;padding:0'>📫 | Reach Me</p>\n",
    "\n",
    "> **Email** - [csfelix08@gmail.com](mailto:csfelix08@gmail.com?)\n",
    "\n",
    "> **Linkedin** - [linkedin.com/in/csfelix/](https://www.linkedin.com/in/csfelix/)\n",
    "\n",
    "> **GitHub:** - [CSFelix](https://github.com/CSFelix)\n",
    "\n",
    "> **Kaggle** - [DSFelix](https://www.kaggle.com/dsfelix)\n",
    "\n",
    "> **Portfolio** - [CSFelix.io](https://csfelix.github.io/)."
   ]
  }
 ],
 "metadata": {
  "kernelspec": {
   "display_name": "R",
   "language": "R",
   "name": "ir"
  },
  "language_info": {
   "codemirror_mode": "r",
   "file_extension": ".r",
   "mimetype": "text/x-r-source",
   "name": "R",
   "pygments_lexer": "r",
   "version": "4.2.2"
  }
 },
 "nbformat": 4,
 "nbformat_minor": 5
}
