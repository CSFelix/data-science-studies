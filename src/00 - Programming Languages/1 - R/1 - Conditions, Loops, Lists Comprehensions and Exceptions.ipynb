{
 "cells": [
  {
   "cell_type": "markdown",
   "id": "48fa3f08-18bb-4a8c-97c7-af72f5e74258",
   "metadata": {},
   "source": [
    "<center>\n",
    "    <h1 id='r-basics-1' style='color:#7159c1'>📊 R Basics 1 📊</h1>\n",
    "    <i>Conditions, Loops, Lists Comprehensions and Exceptions</i>\n",
    "</center>\n",
    "\n",
    "```txt\n",
    "- Conditions\n",
    "- Loops\n",
    "- Lists Comprehensions\n",
    "- Exceptions\n",
    "```"
   ]
  },
  {
   "cell_type": "markdown",
   "id": "f561ee72-367d-4c7b-a91d-7951520c3d33",
   "metadata": {},
   "source": [
    "<p id='0-conditions' style='color:#7159c1; border-bottom:3px solid #7159c1; letter-spacing:2px; font-family:JetBrains Mono; font-weight: bold; text-align:left; font-size:240%;padding:0'>0 | Conditions</p>"
   ]
  },
  {
   "cell_type": "code",
   "execution_count": 6,
   "id": "6290674d-a542-4308-864a-10e5e0e26dcb",
   "metadata": {},
   "outputs": [
    {
     "data": {
      "text/html": [
       "'3 is smaller than 7'"
      ],
      "text/latex": [
       "'3 is smaller than 7'"
      ],
      "text/markdown": [
       "'3 is smaller than 7'"
      ],
      "text/plain": [
       "[1] \"3 is smaller than 7\""
      ]
     },
     "metadata": {},
     "output_type": "display_data"
    }
   ],
   "source": [
    "# ---- If-Else Block ----\n",
    "first_number <- 3\n",
    "second_number <- 7\n",
    "\n",
    "if (first_number > second_number) {\n",
    "    sprintf(\"%d is greater than %d\", first_number, second_number)\n",
    "} else if (first_number == second_number) {\n",
    "    sprintf(\"%d is equal to %d\", first_number, second_number)\n",
    "} else {\n",
    "    sprintf(\"%d is smaller than %d\", first_number, second_number)\n",
    "}"
   ]
  },
  {
   "cell_type": "code",
   "execution_count": 9,
   "id": "0b697584-e294-4990-aa5f-0fc37d3032ea",
   "metadata": {},
   "outputs": [
    {
     "data": {
      "text/html": [
       "'3 is smaller than or equal 7'"
      ],
      "text/latex": [
       "'3 is smaller than or equal 7'"
      ],
      "text/markdown": [
       "'3 is smaller than or equal 7'"
      ],
      "text/plain": [
       "[1] \"3 is smaller than or equal 7\""
      ]
     },
     "metadata": {},
     "output_type": "display_data"
    }
   ],
   "source": [
    "# ---- Ternary-If Statement ----\n",
    "if (first_number > second_number) sprintf(\"%d is greater than %d\", first_number, second_number) else sprintf(\"%d is smaller than or equal %d\", first_number, second_number)"
   ]
  },
  {
   "cell_type": "markdown",
   "id": "df610e3c-e25e-48a6-b2fb-169edcbc04d7",
   "metadata": {},
   "source": [
    "<p id='1-loops' style='color:#7159c1; border-bottom:3px solid #7159c1; letter-spacing:2px; font-family:JetBrains Mono; font-weight: bold; text-align:left; font-size:240%;padding:0'>1 | Loops</p>"
   ]
  },
  {
   "cell_type": "code",
   "execution_count": 14,
   "id": "d2576914-8c3c-4e5b-a46e-33dd5a187790",
   "metadata": {},
   "outputs": [
    {
     "name": "stdout",
     "output_type": "stream",
     "text": [
      "[1] 0\n",
      "[1] 1\n",
      "[1] 2\n",
      "[1] 4\n",
      "[1] 5\n",
      "[1] 6\n",
      "[1] 7\n"
     ]
    }
   ],
   "source": [
    "# ---- For Loop ----\n",
    "for (number in 0:10) {\n",
    "    if (number == 3) next\n",
    "    print(number)\n",
    "    if (number == 7) break\n",
    "}"
   ]
  },
  {
   "cell_type": "code",
   "execution_count": 16,
   "id": "11d763bd-f7ee-475e-927d-3deed96d9e39",
   "metadata": {},
   "outputs": [
    {
     "name": "stdout",
     "output_type": "stream",
     "text": [
      "[1] 0\n",
      "[1] 1\n",
      "[1] 2\n",
      "[1] 3\n",
      "[1] 4\n",
      "[1] 5\n",
      "[1] 6\n",
      "[1] 7\n"
     ]
    }
   ],
   "source": [
    "# ---- Wile Loop ----\n",
    "number = 0\n",
    "\n",
    "while (number <= 10) {\n",
    "    print(number)\n",
    "    number <- number + 1\n",
    "    if (number - 1 == 3) next\n",
    "    if (number - 1 == 7) break\n",
    "}"
   ]
  },
  {
   "cell_type": "markdown",
   "id": "e6aed190-4a63-460e-a2e4-e3e833d56441",
   "metadata": {},
   "source": [
    "<p id='2-list-comprehensions' style='color:#7159c1; border-bottom:3px solid #7159c1; letter-spacing:2px; font-family:JetBrains Mono; font-weight: bold; text-align:left; font-size:240%;padding:0'>2 | List Comprehensions</p>\n",
    "\n",
    "There are no built-in List Comprehensions in R, just using libraries."
   ]
  },
  {
   "cell_type": "markdown",
   "id": "f3f7d4e7-9f49-43d8-8711-62f190e066de",
   "metadata": {},
   "source": [
    "<p id='3-exceptions' style='color:#7159c1; border-bottom:3px solid #7159c1; letter-spacing:2px; font-family:JetBrains Mono; font-weight: bold; text-align:left; font-size:240%;padding:0'>3 | Exceptions</p>"
   ]
  },
  {
   "cell_type": "code",
   "execution_count": 43,
   "id": "07006e6b-a5de-4394-93e6-59a7a9bff1cc",
   "metadata": {},
   "outputs": [
    {
     "name": "stdout",
     "output_type": "stream",
     "text": [
      "[1] \"Whatever the exceptions, it will be printed anyway!\"\n"
     ]
    },
    {
     "data": {
      "text/html": [
       "3"
      ],
      "text/latex": [
       "3"
      ],
      "text/markdown": [
       "3"
      ],
      "text/plain": [
       "[1] 3"
      ]
     },
     "metadata": {},
     "output_type": "display_data"
    }
   ],
   "source": [
    "# ---- Try-Catch-Finally Block ----\n",
    "tryCatch({\n",
    "  # Code block where you expect an error to occur\n",
    "  x <- 10\n",
    "  y <- 0\n",
    "  x / y\n",
    "}, error = function(e) {\n",
    "  # Code block to handle the error\n",
    "  print('Trying to execute this code...')\n",
    "  3 / 0 # in R, dividing by zero results in 'Infinity'\n",
    "}, warning = function(err) {\n",
    "  # exception handling\n",
    "  sprintf(\"Oops, an exception has beend handled. Just for your curiosity, here is the devil: %s\", err)\n",
    "}, finally = {\n",
    "  # piece of code that will be executed regardless an exception has\n",
    "  # been handled or not\n",
    "  print(\"Whatever the exceptions, it will be printed anyway!\")\n",
    "  return(3)\n",
    "})"
   ]
  },
  {
   "cell_type": "markdown",
   "id": "397be26e-6d45-4bd2-8ff4-4a0fc69aac68",
   "metadata": {},
   "source": [
    "<p id='reach-me' style='color:#7159c1; border-bottom:3px solid #7159c1; letter-spacing:2px; font-family:JetBrains Mono; font-weight: bold; text-align:left; font-size:240%;padding:0'>📫 | Reach Me</p>\n",
    "\n",
    "> **Email** - [csfelix08@gmail.com](mailto:csfelix08@gmail.com?)\n",
    "\n",
    "> **Linkedin** - [linkedin.com/in/csfelix/](https://www.linkedin.com/in/csfelix/)\n",
    "\n",
    "> **GitHub:** - [CSFelix](https://github.com/CSFelix)\n",
    "\n",
    "> **Kaggle** - [DSFelix](https://www.kaggle.com/dsfelix)\n",
    "\n",
    "> **Portfolio** - [CSFelix.io](https://csfelix.github.io/)."
   ]
  }
 ],
 "metadata": {
  "kernelspec": {
   "display_name": "R",
   "language": "R",
   "name": "ir"
  },
  "language_info": {
   "codemirror_mode": "r",
   "file_extension": ".r",
   "mimetype": "text/x-r-source",
   "name": "R",
   "pygments_lexer": "r",
   "version": "4.2.2"
  }
 },
 "nbformat": 4,
 "nbformat_minor": 5
}
