{
 "cells": [
  {
   "cell_type": "markdown",
   "id": "6460b37e-667c-4ce3-9fd4-38d48bcd77c6",
   "metadata": {},
   "source": [
    "<center>\n",
    "    <h1 id='julia-basics-3' style='color:#7159c1'>🍡 Julia Basics 3 🍡</h1>\n",
    "    <i>Functions, Docstrings and Lambdas</i>\n",
    "</center>\n",
    "\n",
    "```txt\n",
    "- Functions\n",
    "- Docstrings\n",
    "- Lambdas\n",
    "```"
   ]
  },
  {
   "cell_type": "code",
   "execution_count": 2,
   "id": "5e0d4eb3-91b6-441b-807b-91eb01199e2e",
   "metadata": {},
   "outputs": [],
   "source": [
    "using Printf"
   ]
  },
  {
   "cell_type": "markdown",
   "id": "273034fe-b593-4c1f-a7fa-a9bf749d9a22",
   "metadata": {},
   "source": [
    "<p id='0-functions' style='color:#7159c1; border-bottom:3px solid #7159c1; letter-spacing:2px; font-family:JetBrains Mono; font-weight: bold; text-align:left; font-size:240%;padding:0'>0 | Functions</p>"
   ]
  },
  {
   "cell_type": "code",
   "execution_count": null,
   "id": "e3ee8e56-4027-4c64-9536-6d4d50e41058",
   "metadata": {},
   "outputs": [],
   "source": [
    "# ---- Prototype ----\n",
    "#\n",
    "# It is used when you create the function but do not write any code inside of it. The code\n",
    "# will be written later. It happens when you do not have time, is lazy or have to think about\n",
    "# what the function will be. Whatever...\n",
    "function my_function()\n",
    "    # TO-DO\n",
    "end\n",
    "\n",
    "my_function()"
   ]
  },
  {
   "cell_type": "code",
   "execution_count": 11,
   "id": "8b9682fc-c4ae-4651-bee1-9cec7cbe87d5",
   "metadata": {},
   "outputs": [
    {
     "name": "stdout",
     "output_type": "stream",
     "text": [
      "Hello World!!\n",
      "----\n"
     ]
    },
    {
     "data": {
      "text/latex": [
       "A simple function that prints 'Hello World!!'\n",
       "\n"
      ],
      "text/markdown": [
       "A simple function that prints 'Hello World!!'\n"
      ],
      "text/plain": [
       "  A simple function that prints 'Hello World!!'"
      ]
     },
     "execution_count": 11,
     "metadata": {},
     "output_type": "execute_result"
    }
   ],
   "source": [
    "# ---- Real Function ----\n",
    "#\n",
    "# - without parameters\n",
    "#\n",
    "@doc \"\"\"\n",
    "A simple function that prints 'Hello World!!'\n",
    "\"\"\"\n",
    "function my_function()\n",
    "    @printf(\"Hello World!!\")\n",
    "end\n",
    "\n",
    "my_function()\n",
    "print(\"\\n----\\n\")\n",
    "@doc my_function"
   ]
  },
  {
   "cell_type": "code",
   "execution_count": 12,
   "id": "b8b9f9c0-0e35-4dd6-8a6a-5f39dce22534",
   "metadata": {},
   "outputs": [
    {
     "name": "stdout",
     "output_type": "stream",
     "text": [
      "Hello World Felix!!\n"
     ]
    }
   ],
   "source": [
    "# ---- Real Function ----\n",
    "#\n",
    "# - with parameters\n",
    "#\n",
    "@doc \"\"\"\n",
    "A simple function that prints 'Hello World {name}!!'\n",
    "\n",
    "Parameters:\n",
    "    - name: string\n",
    "\"\"\"\n",
    "function my_function(name)\n",
    "    @printf(\"Hello World %s!!\\n\", name)\n",
    "end\n",
    "\n",
    "my_function(\"Felix\")"
   ]
  },
  {
   "cell_type": "code",
   "execution_count": 13,
   "id": "e359c17d-bb24-411c-9582-1bd1840dcac6",
   "metadata": {},
   "outputs": [
    {
     "name": "stdout",
     "output_type": "stream",
     "text": [
      "Hello World Felix!!\n",
      "Hello World Goku!!\n"
     ]
    }
   ],
   "source": [
    "# ---- Real Function ----\n",
    "#\n",
    "# - with default value to parameters\n",
    "#\n",
    "@doc \"\"\"\n",
    "A simple function that prints 'Hello World {name}!!'\n",
    "\n",
    "Parameters:\n",
    "    - name: string (default value: 'Goku')\n",
    "\"\"\"\n",
    "function my_function(name=\"Goku\")\n",
    "   @printf(\"Hello World %s!!\\n\", name) \n",
    "end\n",
    "\n",
    "my_function(\"Felix\")\n",
    "my_function()"
   ]
  },
  {
   "cell_type": "code",
   "execution_count": 16,
   "id": "cc087d25-2760-4b13-a039-d449db0069a8",
   "metadata": {},
   "outputs": [
    {
     "name": "stdout",
     "output_type": "stream",
     "text": [
      "Hello World Felix!!\n",
      "Hello World Goku!!\n",
      "Hello World Vegeta!!\n",
      "Hello World Broly!!\n"
     ]
    }
   ],
   "source": [
    "# ---- Real Function ----\n",
    "#\n",
    "# - with star parameters\n",
    "#\n",
    "@doc \"\"\"\n",
    "A simple function that prints 'Hello World {name}!!' for 'n' names\n",
    "\n",
    "Parameters:\n",
    "    - names: string\n",
    "\"\"\"\n",
    "function my_function(names...)\n",
    "    for name in names\n",
    "       @printf(\"Hello World %s!!\\n\", name) \n",
    "    end\n",
    "end\n",
    "\n",
    "my_function(\"Felix\", \"Goku\", \"Vegeta\", \"Broly\")"
   ]
  },
  {
   "cell_type": "code",
   "execution_count": 20,
   "id": "6ed2d014-284d-441d-abde-bd8e60de0507",
   "metadata": {},
   "outputs": [
    {
     "name": "stdout",
     "output_type": "stream",
     "text": [
      "name: Goku\n",
      "breed: Sayan\n",
      "transformation: Ultra Instinct\n"
     ]
    }
   ],
   "source": [
    "# ---- Real Function ----\n",
    "#\n",
    "# - with double star parameters\n",
    "#\n",
    "@doc \"\"\"\n",
    "A simple function that prints all attribute-value pairs for 'n' pairs\n",
    "\n",
    "Parameters:\n",
    "    - info: any\n",
    "\"\"\"\n",
    "function my_function(; info...)\n",
    "    for (key, value) in info\n",
    "        println(\"$key: $value\")\n",
    "    end\n",
    "end\n",
    "\n",
    "my_function(name=\"Goku\", breed=\"Sayan\", transformation=\"Ultra Instinct\")"
   ]
  },
  {
   "cell_type": "markdown",
   "id": "4be17284-7726-45cc-bafd-c0031fff0957",
   "metadata": {},
   "source": [
    "<p id='1-lambdas' style='color:#7159c1; border-bottom:3px solid #7159c1; letter-spacing:2px; font-family:JetBrains Mono; font-weight: bold; text-align:left; font-size:240%;padding:0'>1 | Lambdas</p>"
   ]
  },
  {
   "cell_type": "code",
   "execution_count": 30,
   "id": "5b368f32-1b8f-4f08-9f50-7f70f7304485",
   "metadata": {},
   "outputs": [
    {
     "name": "stdout",
     "output_type": "stream",
     "text": [
      "Hello World Felix!!"
     ]
    }
   ],
   "source": [
    "# ---- Lambdas ----\n",
    "#\n",
    "# - fast and easy way to write functions\n",
    "# - do not support docstrings\n",
    "#\n",
    "my_lambda = name -> @printf(\"Hello World %s!!\", name)\n",
    "my_lambda(\"Felix\")"
   ]
  },
  {
   "cell_type": "markdown",
   "id": "292ed1cb-24a0-470a-9900-e705edab87c6",
   "metadata": {},
   "source": [
    "<p id='reach-me' style='color:#7159c1; border-bottom:3px solid #7159c1; letter-spacing:2px; font-family:JetBrains Mono; font-weight: bold; text-align:left; font-size:240%;padding:0'>📫 | Reach Me</p>\n",
    "\n",
    "> **Email** - [csfelix08@gmail.com](mailto:csfelix08@gmail.com?)\n",
    "\n",
    "> **Linkedin** - [linkedin.com/in/csfelix/](https://www.linkedin.com/in/csfelix/)\n",
    "\n",
    "> **GitHub:** - [CSFelix](https://github.com/CSFelix)\n",
    "\n",
    "> **Kaggle** - [DSFelix](https://www.kaggle.com/dsfelix)\n",
    "\n",
    "> **Portfolio** - [CSFelix.io](https://csfelix.github.io/)."
   ]
  }
 ],
 "metadata": {
  "kernelspec": {
   "display_name": "Julia 1.8.5",
   "language": "julia",
   "name": "julia-1.8"
  },
  "language_info": {
   "file_extension": ".jl",
   "mimetype": "application/julia",
   "name": "julia",
   "version": "1.8.5"
  }
 },
 "nbformat": 4,
 "nbformat_minor": 5
}
