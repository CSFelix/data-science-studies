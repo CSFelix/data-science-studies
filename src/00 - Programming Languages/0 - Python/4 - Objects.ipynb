{
 "cells": [
  {
   "cell_type": "markdown",
   "id": "b936c616-797d-47b3-8e02-d2583aac6623",
   "metadata": {},
   "source": [
    "<center>\n",
    "    <h1 id='python-basics-4' style='color:#7159c1'>🐍 Python Basics 4 🐍</h1>\n",
    "    <i>Objects</i>\n",
    "</center>\n",
    "\n",
    "```txt\n",
    "- Objects\n",
    "```"
   ]
  },
  {
   "cell_type": "markdown",
   "id": "649a77b5-fb89-4cfd-9511-58869ebf2903",
   "metadata": {},
   "source": [
    "<p id='0-objects' style='color:#7159c1; border-bottom:3px solid #7159c1; letter-spacing:2px; font-family:JetBrains Mono; font-weight: bold; text-align:left; font-size:240%;padding:0'>0 | Objects</p>"
   ]
  },
  {
   "cell_type": "code",
   "execution_count": 11,
   "id": "071fa0f9-bafd-4ca9-b154-fe15ce7ce38b",
   "metadata": {},
   "outputs": [],
   "source": [
    "class Sayan:\n",
    "    \"\"\"\n",
    "    Create your own Sayan\n",
    "    \"\"\"\n",
    "    def __init__(self, name, transformations, planet):\n",
    "        \"\"\"\n",
    "        Constructor Parameters:\n",
    "        \n",
    "        - name: string\n",
    "        - transformations: list of strings\n",
    "        - planet: string\n",
    "        \"\"\"\n",
    "        self.BREED = ('Sayan')\n",
    "        self.name = name\n",
    "        self.transformations = transformations\n",
    "        self.planet = planet\n",
    "    \n",
    "    def show_info(self):\n",
    "        \"\"\"\n",
    "        Show all info about the object\n",
    "        \"\"\"\n",
    "        title = '* Sayan Info *'\n",
    "        print('*' * len(title))\n",
    "        print(title)\n",
    "        print('*' * len(title))\n",
    "        print()\n",
    "        print(f'- Name: {self.name}')\n",
    "        print(f'- Transformations: {self.transformations}')\n",
    "        print(f'- Planet: {self.planet}')"
   ]
  },
  {
   "cell_type": "code",
   "execution_count": 12,
   "id": "8f1d6665-8f48-48a4-946e-54d5721f1a4a",
   "metadata": {},
   "outputs": [
    {
     "name": "stdout",
     "output_type": "stream",
     "text": [
      "**************\n",
      "* Sayan Info *\n",
      "**************\n",
      "\n",
      "- Name: Shallot\n",
      "- Transformations: ['ssj1', 'ssj2', 'ssj3', 'ssj god', 'ssj blue']\n",
      "- Planet: Earth\n"
     ]
    }
   ],
   "source": [
    "shallot = Sayan('Shallot', ['ssj1', 'ssj2', 'ssj3', 'ssj god', 'ssj blue'], 'Earth')\n",
    "shallot.show_info()"
   ]
  },
  {
   "cell_type": "markdown",
   "id": "2d532794-24ce-4fbc-b36a-d898d82bf5ac",
   "metadata": {},
   "source": [
    "<p id='reach-me' style='color:#7159c1; border-bottom:3px solid #7159c1; letter-spacing:2px; font-family:JetBrains Mono; font-weight: bold; text-align:left; font-size:240%;padding:0'>📫 | Reach Me</p>\n",
    "\n",
    "> **Email** - [csfelix08@gmail.com](mailto:csfelix08@gmail.com?)\n",
    "\n",
    "> **Linkedin** - [linkedin.com/in/csfelix/](https://www.linkedin.com/in/csfelix/)\n",
    "\n",
    "> **GitHub:** - [CSFelix](https://github.com/CSFelix)\n",
    "\n",
    "> **Kaggle** - [DSFelix](https://www.kaggle.com/dsfelix)\n",
    "\n",
    "> **Portfolio** - [CSFelix.io](https://csfelix.github.io/)."
   ]
  }
 ],
 "metadata": {
  "kernelspec": {
   "display_name": "Python 3 (ipykernel)",
   "language": "python",
   "name": "python3"
  },
  "language_info": {
   "codemirror_mode": {
    "name": "ipython",
    "version": 3
   },
   "file_extension": ".py",
   "mimetype": "text/x-python",
   "name": "python",
   "nbconvert_exporter": "python",
   "pygments_lexer": "ipython3",
   "version": "3.10.9"
  }
 },
 "nbformat": 4,
 "nbformat_minor": 5
}
