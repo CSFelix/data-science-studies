{
 "cells": [
  {
   "cell_type": "markdown",
   "id": "88cc70bc-8221-47cf-94d1-c4004cfc0bee",
   "metadata": {},
   "source": [
    "<center>\n",
    "    <h1 id='python-basics-1' style='color:#7159c1'>🐍 Python Basics 1 🐍</h1>\n",
    "    <i>Conditions, Loops, Lists Comprehensions and Exceptions</i>\n",
    "</center>\n",
    "\n",
    "```txt\n",
    "- Conditions\n",
    "- Loops\n",
    "- Lists Comprehensions\n",
    "- Exceptions\n",
    "```"
   ]
  },
  {
   "cell_type": "markdown",
   "id": "dd8eddf7-5e43-44db-bdcf-d906723a82c5",
   "metadata": {},
   "source": [
    "<p id='0-conditions' style='color:#7159c1; border-bottom:3px solid #7159c1; letter-spacing:2px; font-family:JetBrains Mono; font-weight: bold; text-align:left; font-size:240%;padding:0'>0 | Conditions</p>"
   ]
  },
  {
   "cell_type": "code",
   "execution_count": 1,
   "id": "b5a9afa4-0d1e-4a90-9210-d435d6916587",
   "metadata": {},
   "outputs": [
    {
     "name": "stdout",
     "output_type": "stream",
     "text": [
      "3 is smaller than 7\n"
     ]
    }
   ],
   "source": [
    "#---- If-Else Block ----\n",
    "first_number = 3\n",
    "second_number = 7\n",
    "\n",
    "if first_number > second_number: print(f'{first_number} is greater than {second_number}')\n",
    "elif first_number == second_number: print(f'{dfirst_number} is equal to {second_number}')\n",
    "else: print(f'{first_number} is smaller than {second_number}')"
   ]
  },
  {
   "cell_type": "code",
   "execution_count": 4,
   "id": "6fe7ddf1-4320-49be-9f3c-1338c5cb4853",
   "metadata": {},
   "outputs": [
    {
     "name": "stdout",
     "output_type": "stream",
     "text": [
      "3 is smaller than or equal 7\n"
     ]
    }
   ],
   "source": [
    "#---- Ternary If-Else Statement ----\n",
    "print(f'{first_number} is greater than {second_number}') if first_number > second_number else print(f'{first_number} is smaller than or equal {second_number}')"
   ]
  },
  {
   "cell_type": "code",
   "execution_count": 5,
   "id": "ae98644b-3781-4e3a-a825-9d06eed2e336",
   "metadata": {},
   "outputs": [
    {
     "name": "stdout",
     "output_type": "stream",
     "text": [
      "3 is smaller than 7\n"
     ]
    }
   ],
   "source": [
    "# ---- And-If Statement ----\n",
    "first_number < second_number and print(f'{first_number} is smaller than {second_number}')"
   ]
  },
  {
   "cell_type": "markdown",
   "id": "186b7bad-901f-496d-9c46-4995a9b87a51",
   "metadata": {},
   "source": [
    "<p id='1-loops' style='color:#7159c1; border-bottom:3px solid #7159c1; letter-spacing:2px; font-family:JetBrains Mono; font-weight: bold; text-align:left; font-size:240%;padding:0'>1 | Loops</p>"
   ]
  },
  {
   "cell_type": "code",
   "execution_count": 4,
   "id": "84e8c0e5-3dbe-4aea-8fd4-a543bcd60257",
   "metadata": {},
   "outputs": [
    {
     "name": "stdout",
     "output_type": "stream",
     "text": [
      "0\n",
      "1\n",
      "2\n",
      "4\n",
      "5\n",
      "6\n",
      "7\n"
     ]
    }
   ],
   "source": [
    "#---- For Block ----\n",
    "for number in range(0, 10, 1):\n",
    "    if number == 3: continue\n",
    "    print(number)\n",
    "    if number == 7: break"
   ]
  },
  {
   "cell_type": "code",
   "execution_count": 11,
   "id": "d8c6667a-11dc-4b6f-a864-8380c54ec5ef",
   "metadata": {},
   "outputs": [
    {
     "name": "stdout",
     "output_type": "stream",
     "text": [
      "0\n",
      "1\n",
      "2\n",
      "3\n",
      "4\n",
      "5\n",
      "6\n",
      "7\n"
     ]
    }
   ],
   "source": [
    "#---- While Block ----\n",
    "number = 0\n",
    "\n",
    "while number < 10:\n",
    "    print(number)\n",
    "    number += 1\n",
    "    if number - 1 == 3: continue\n",
    "    if number - 1 == 7: break"
   ]
  },
  {
   "cell_type": "markdown",
   "id": "7d59c098-aecb-4147-a880-5a37946b0ee0",
   "metadata": {},
   "source": [
    "<p id='2-list-comprehensions' style='color:#7159c1; border-bottom:3px solid #7159c1; letter-spacing:2px; font-family:JetBrains Mono; font-weight: bold; text-align:left; font-size:240%;padding:0'>2 | List Comprehensions</p>\n",
    "\n",
    "Consider I desire to create a list containing all squared of the even numbers from 0 to 100."
   ]
  },
  {
   "cell_type": "code",
   "execution_count": 13,
   "id": "24124987-3724-4fe8-8547-3293109d25f6",
   "metadata": {},
   "outputs": [
    {
     "name": "stdout",
     "output_type": "stream",
     "text": [
      "[0, 4, 16, 36, 64, 100, 144, 196, 256, 324, 400, 484, 576, 676, 784, 900, 1024, 1156, 1296, 1444, 1600, 1764, 1936, 2116, 2304, 2500, 2704, 2916, 3136, 3364, 3600, 3844, 4096, 4356, 4624, 4900, 5184, 5476, 5776, 6084, 6400, 6724, 7056, 7396, 7744, 8100, 8464, 8836, 9216, 9604, 10000]\n"
     ]
    }
   ],
   "source": [
    "#---- Without List Comprehension ----\n",
    "my_list = []\n",
    "\n",
    "for number in range(0, 101, 1):\n",
    "    if number % 2 == 0: my_list.append(number**2)\n",
    "    \n",
    "print(my_list)"
   ]
  },
  {
   "cell_type": "code",
   "execution_count": 14,
   "id": "48202e1a-609f-4850-b806-cd560ef8fe6e",
   "metadata": {},
   "outputs": [
    {
     "name": "stdout",
     "output_type": "stream",
     "text": [
      "[0, 4, 16, 36, 64, 100, 144, 196, 256, 324, 400, 484, 576, 676, 784, 900, 1024, 1156, 1296, 1444, 1600, 1764, 1936, 2116, 2304, 2500, 2704, 2916, 3136, 3364, 3600, 3844, 4096, 4356, 4624, 4900, 5184, 5476, 5776, 6084, 6400, 6724, 7056, 7396, 7744, 8100, 8464, 8836, 9216, 9604, 10000]\n"
     ]
    }
   ],
   "source": [
    "#---- With List Comprehension -----\n",
    "my_list = [number**2 for number in range(0, 101, 1) if number % 2 == 0]\n",
    "print(my_list)"
   ]
  },
  {
   "cell_type": "markdown",
   "id": "a33d810e-f4ed-4f9e-84b8-c68f3e7aac5e",
   "metadata": {},
   "source": [
    "<p id='3-exceptions' style='color:#7159c1; border-bottom:3px solid #7159c1; letter-spacing:2px; font-family:JetBrains Mono; font-weight: bold; text-align:left; font-size:240%;padding:0'>3 | Exceptions</p>"
   ]
  },
  {
   "cell_type": "code",
   "execution_count": 18,
   "id": "67506365-eb84-48d4-b4f2-f8a3ac1e4712",
   "metadata": {},
   "outputs": [
    {
     "name": "stdout",
     "output_type": "stream",
     "text": [
      "Trying to execute this code...\n",
      "Oops, an exception has been handled. Just for your curiosity, here is the devil: division by zero\n",
      "Whatever the exceptions, It will be printed anyway!\n"
     ]
    }
   ],
   "source": [
    "#---- Try-Except-Else-Finally Block ----\n",
    "try:\n",
    "    # code will be attempt to be executed\n",
    "    print('Trying to execute this code...')\n",
    "    3 / 0\n",
    "    print('Now trying to execute this one...')\n",
    "except Exception as error:\n",
    "    # exception handling\n",
    "    print(f'Oops, an exception has been handled. Just for your curiosity, here is the devil: {error}')\n",
    "else:\n",
    "    # piece of code that will only be executed if any exceptions\n",
    "    # has been handled\n",
    "    print('Everything is alright! No exceptions handled!')\n",
    "finally:\n",
    "    # piece of code that will be executed regardless an exception has\n",
    "    # been handled or not\n",
    "    print('Whatever the exceptions, It will be printed anyway!')"
   ]
  },
  {
   "cell_type": "code",
   "execution_count": 21,
   "id": "14f42a4b-677d-4f6e-8890-def8aa2dad1b",
   "metadata": {},
   "outputs": [
    {
     "ename": "TypeError",
     "evalue": "Only numbers are allowed",
     "output_type": "error",
     "traceback": [
      "\u001b[1;31m---------------------------------------------------------------------------\u001b[0m",
      "\u001b[1;31mTypeError\u001b[0m                                 Traceback (most recent call last)",
      "Cell \u001b[1;32mIn[21], line 7\u001b[0m\n\u001b[0;32m      1\u001b[0m \u001b[38;5;66;03m#---- Raise ----\u001b[39;00m\n\u001b[0;32m      2\u001b[0m \u001b[38;5;66;03m#\u001b[39;00m\n\u001b[0;32m      3\u001b[0m \u001b[38;5;66;03m# RAISE in Python works like THROW in another Programming Languages\u001b[39;00m\n\u001b[0;32m      4\u001b[0m \u001b[38;5;66;03m#\u001b[39;00m\n\u001b[0;32m      5\u001b[0m number \u001b[38;5;241m=\u001b[39m \u001b[38;5;124m'\u001b[39m\u001b[38;5;124mIt is definitely not a number\u001b[39m\u001b[38;5;124m'\u001b[39m\n\u001b[1;32m----> 7\u001b[0m \u001b[38;5;28;01mif\u001b[39;00m \u001b[38;5;28mtype\u001b[39m(number) \u001b[38;5;129;01mis\u001b[39;00m \u001b[38;5;129;01mnot\u001b[39;00m \u001b[38;5;28mint\u001b[39m: \u001b[38;5;28;01mraise\u001b[39;00m \u001b[38;5;167;01mTypeError\u001b[39;00m(\u001b[38;5;124m'\u001b[39m\u001b[38;5;124mOnly numbers are allowed\u001b[39m\u001b[38;5;124m'\u001b[39m)\n",
      "\u001b[1;31mTypeError\u001b[0m: Only numbers are allowed"
     ]
    }
   ],
   "source": [
    "#---- Raise ----\n",
    "#\n",
    "# RAISE in Python works like THROW in another Programming Languages\n",
    "#\n",
    "number = 'It is definitely not a number'\n",
    "\n",
    "if type(number) is not int: raise TypeError('Only numbers are allowed')"
   ]
  },
  {
   "cell_type": "code",
   "execution_count": 22,
   "id": "911160d5-ef39-41b3-9bf9-b1f863e013c2",
   "metadata": {},
   "outputs": [
    {
     "ename": "Exception",
     "evalue": "Only numbers greater than 0 are allowed!",
     "output_type": "error",
     "traceback": [
      "\u001b[1;31m---------------------------------------------------------------------------\u001b[0m",
      "\u001b[1;31mException\u001b[0m                                 Traceback (most recent call last)",
      "Cell \u001b[1;32mIn[22], line 3\u001b[0m\n\u001b[0;32m      1\u001b[0m number \u001b[38;5;241m=\u001b[39m \u001b[38;5;241m-\u001b[39m\u001b[38;5;241m1\u001b[39m\n\u001b[1;32m----> 3\u001b[0m \u001b[38;5;28;01mif\u001b[39;00m number \u001b[38;5;241m<\u001b[39m \u001b[38;5;241m0\u001b[39m: \u001b[38;5;28;01mraise\u001b[39;00m \u001b[38;5;167;01mException\u001b[39;00m(\u001b[38;5;124m'\u001b[39m\u001b[38;5;124mOnly numbers greater than 0 are allowed!\u001b[39m\u001b[38;5;124m'\u001b[39m)\n",
      "\u001b[1;31mException\u001b[0m: Only numbers greater than 0 are allowed!"
     ]
    }
   ],
   "source": [
    "number = -1\n",
    "\n",
    "if number < 0: raise Exception('Only numbers greater than 0 are allowed!')"
   ]
  },
  {
   "cell_type": "markdown",
   "id": "ba80906d-a34d-4186-b6a4-f97eb7a5d2bf",
   "metadata": {},
   "source": [
    "<p id='reach-me' style='color:#7159c1; border-bottom:3px solid #7159c1; letter-spacing:2px; font-family:JetBrains Mono; font-weight: bold; text-align:left; font-size:240%;padding:0'>📫 | Reach Me</p>\n",
    "\n",
    "> **Email** - [csfelix08@gmail.com](mailto:csfelix08@gmail.com?)\n",
    "\n",
    "> **Linkedin** - [linkedin.com/in/csfelix/](https://www.linkedin.com/in/csfelix/)\n",
    "\n",
    "> **GitHub:** - [CSFelix](https://github.com/CSFelix)\n",
    "\n",
    "> **Kaggle** - [DSFelix](https://www.kaggle.com/dsfelix)\n",
    "\n",
    "> **Portfolio** - [CSFelix.io](https://csfelix.github.io/)."
   ]
  }
 ],
 "metadata": {
  "kernelspec": {
   "display_name": "Python 3 (ipykernel)",
   "language": "python",
   "name": "python3"
  },
  "language_info": {
   "codemirror_mode": {
    "name": "ipython",
    "version": 3
   },
   "file_extension": ".py",
   "mimetype": "text/x-python",
   "name": "python",
   "nbconvert_exporter": "python",
   "pygments_lexer": "ipython3",
   "version": "3.10.9"
  }
 },
 "nbformat": 4,
 "nbformat_minor": 5
}
