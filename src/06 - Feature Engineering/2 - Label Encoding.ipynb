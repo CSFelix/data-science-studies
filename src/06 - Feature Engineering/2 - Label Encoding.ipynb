{
 "cells": [
  {
   "cell_type": "markdown",
   "id": "1268363c-2914-492a-956e-0792e0e65515",
   "metadata": {},
   "source": [
    "<center>\n",
    "    <h1 id='label-encoding' style='color:#7159c1'>⚙️ Label Encoding ⚙️</h1>\n",
    "    <i>Another way to encode Target Variables</i>\n",
    "</center>\n",
    "\n",
    "---\n",
    "\n",
    "\n",
    "Different than One-Hot and Ordinal Encoding, Label Encoding is applied in the Target Feature, then:\n",
    "\n",
    "> **One-Hot Encoding and Ordinal Encoding** - `applied in the Features`;\n",
    "\n",
    "> **Label Encoding** - `applied in the Target`."
   ]
  },
  {
   "cell_type": "code",
   "execution_count": 3,
   "id": "e8f96318-a9aa-41f2-99de-3a4b5a9f053e",
   "metadata": {},
   "outputs": [],
   "source": [
    "# ---- Label Encoding ----\n",
    "import pandas as pd # pip install pandas\n",
    "\n",
    "autos_df = pd.read_csv('./datasets/autos.csv')\n",
    "X = autos_df.copy()\n",
    "y = X.pop('price')"
   ]
  },
  {
   "cell_type": "code",
   "execution_count": 7,
   "id": "2742e4df-949a-4258-abb2-25b22f5d4019",
   "metadata": {},
   "outputs": [
    {
     "data": {
      "text/html": [
       "<div>\n",
       "<style scoped>\n",
       "    .dataframe tbody tr th:only-of-type {\n",
       "        vertical-align: middle;\n",
       "    }\n",
       "\n",
       "    .dataframe tbody tr th {\n",
       "        vertical-align: top;\n",
       "    }\n",
       "\n",
       "    .dataframe thead th {\n",
       "        text-align: right;\n",
       "    }\n",
       "</style>\n",
       "<table border=\"1\" class=\"dataframe\">\n",
       "  <thead>\n",
       "    <tr style=\"text-align: right;\">\n",
       "      <th></th>\n",
       "      <th>make</th>\n",
       "      <th>encoded_make</th>\n",
       "    </tr>\n",
       "  </thead>\n",
       "  <tbody>\n",
       "    <tr>\n",
       "      <th>0</th>\n",
       "      <td>alfa-romero</td>\n",
       "      <td>0</td>\n",
       "    </tr>\n",
       "    <tr>\n",
       "      <th>1</th>\n",
       "      <td>alfa-romero</td>\n",
       "      <td>0</td>\n",
       "    </tr>\n",
       "    <tr>\n",
       "      <th>2</th>\n",
       "      <td>alfa-romero</td>\n",
       "      <td>0</td>\n",
       "    </tr>\n",
       "    <tr>\n",
       "      <th>3</th>\n",
       "      <td>audi</td>\n",
       "      <td>1</td>\n",
       "    </tr>\n",
       "    <tr>\n",
       "      <th>4</th>\n",
       "      <td>audi</td>\n",
       "      <td>1</td>\n",
       "    </tr>\n",
       "  </tbody>\n",
       "</table>\n",
       "</div>"
      ],
      "text/plain": [
       "          make  encoded_make\n",
       "0  alfa-romero             0\n",
       "1  alfa-romero             0\n",
       "2  alfa-romero             0\n",
       "3         audi             1\n",
       "4         audi             1"
      ]
     },
     "execution_count": 7,
     "metadata": {},
     "output_type": "execute_result"
    }
   ],
   "source": [
    "# ---- Label Encoding ----\n",
    "from sklearn.preprocessing import LabelEncoder # pip install sklearn\n",
    "\n",
    "encoder = LabelEncoder()\n",
    "X['encoded_make'] = encoder.fit_transform(X['make'])\n",
    "X[['make', 'encoded_make']].head()"
   ]
  },
  {
   "cell_type": "code",
   "execution_count": 9,
   "id": "33543497-5ce9-4824-9dca-f76134d34d7b",
   "metadata": {},
   "outputs": [
    {
     "data": {
      "text/plain": [
       "0    13495\n",
       "1    16500\n",
       "2    16500\n",
       "3    13950\n",
       "4    17450\n",
       "Name: price, dtype: int64"
      ]
     },
     "execution_count": 9,
     "metadata": {},
     "output_type": "execute_result"
    }
   ],
   "source": [
    "# ---- Label Encoding ----\n",
    "encoded_y = encoder.fit_transform(y)\n",
    "y.head()"
   ]
  },
  {
   "cell_type": "code",
   "execution_count": 11,
   "id": "7c5b8c2b-285d-4022-a572-8b597c97f4ea",
   "metadata": {},
   "outputs": [
    {
     "data": {
      "text/plain": [
       "array([111, 128, 128, 115, 139, 120, 141, 149, 159, 127, 136, 153, 154,\n",
       "       160, 164, 176, 173,   1,  11,  17,   7,  13,  49,  10,  20,  41,\n",
       "        65, 107,  14,  25,   5,  16,  32,  34,  34,  47,  68,  64,  85,\n",
       "       106,  86,  22,  90, 166, 171, 172,   2,   8,  23,  21,  37,  64,\n",
       "        61,  87,  84,  92, 144, 145, 161, 163, 162, 165, 169, 170, 175,\n",
       "       177, 129,   4,   9,  19,  42,  77,  62, 103, 118, 117,  28,  55,\n",
       "        71,  71,   6,  30,  18,  24,  36,  35,  46,  39,  52,  58,  67,\n",
       "        75, 112, 116, 112, 138, 152, 146,  99, 108, 102, 114, 122, 135,\n",
       "       133, 137, 132, 142, 143,   7,  49,  10,  20,  41,  65, 104, 156,\n",
       "       167, 168, 174,  98, 100, 119, 121, 143, 148,   0,  29,  40,  31,\n",
       "        44,  78,  69,  94,  38,  83,  53,  97,   3,  12,  15,  26,  48,\n",
       "        63,  27,  33,  48,  45,  43,  59,  70,  54,  57,  72,  74,  60,\n",
       "        76,  81,  91,  95, 140,  66,  88,  80,  89,  93, 131, 126, 123,\n",
       "       124,  44,  50,  51,  56,  61,  73,  82,  96,  79, 109, 113, 101,\n",
       "       105, 110, 125, 130, 147, 150, 134, 151, 155, 157, 158], dtype=int64)"
      ]
     },
     "execution_count": 11,
     "metadata": {},
     "output_type": "execute_result"
    }
   ],
   "source": [
    "# ---- Label Encoding ----\n",
    "encoded_y"
   ]
  },
  {
   "cell_type": "markdown",
   "id": "fe4760b7-2e6b-4945-bc4d-c156d69c11fe",
   "metadata": {},
   "source": [
    "---\n",
    "\n",
    "<h1 id='reach-me' style='color:#7159c1; border-bottom:3px solid #7159c1; letter-spacing:2px; font-family:JetBrains Mono; font-weight: bold; text-align:left; font-size:240%;padding:0'>📫 | Reach Me</h1>\n",
    "\n",
    "> **Email** - [csfelix08@gmail.com](mailto:csfelix08@gmail.com?)\n",
    "\n",
    "> **Linkedin** - [linkedin.com/in/csfelix/](https://www.linkedin.com/in/csfelix/)\n",
    "\n",
    "> **GitHub:** - [CSFelix](https://github.com/CSFelix)\n",
    "\n",
    "> **Kaggle** - [DSFelix](https://www.kaggle.com/dsfelix)\n",
    "\n",
    "> **Portfolio** - [CSFelix.io](https://csfelix.github.io/)."
   ]
  }
 ],
 "metadata": {
  "kernelspec": {
   "display_name": "Python 3 (ipykernel)",
   "language": "python",
   "name": "python3"
  },
  "language_info": {
   "codemirror_mode": {
    "name": "ipython",
    "version": 3
   },
   "file_extension": ".py",
   "mimetype": "text/x-python",
   "name": "python",
   "nbconvert_exporter": "python",
   "pygments_lexer": "ipython3",
   "version": "3.10.9"
  }
 },
 "nbformat": 4,
 "nbformat_minor": 5
}
