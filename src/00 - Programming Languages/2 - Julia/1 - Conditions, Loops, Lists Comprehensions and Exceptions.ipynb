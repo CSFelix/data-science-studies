{
 "cells": [
  {
   "cell_type": "markdown",
   "id": "f7ad528b-9612-45bd-895e-16b9e103e996",
   "metadata": {},
   "source": [
    "<center>\n",
    "    <h1 id='julia-basics-1' style='color:#7159c1'>🍡 Julia Basics 1 🍡</h1>\n",
    "    <i>Conditions, Loops, Lists Comprehensions and Exceptions</i>\n",
    "</center>\n",
    "\n",
    "```txt\n",
    "- Conditions\n",
    "- Loops\n",
    "- Lists Comprehensions\n",
    "- Exceptions\n",
    "```"
   ]
  },
  {
   "cell_type": "code",
   "execution_count": 1,
   "id": "7a173e89-1f2e-4dc9-8c62-7669f316a5b5",
   "metadata": {},
   "outputs": [],
   "source": [
    "using Printf"
   ]
  },
  {
   "cell_type": "markdown",
   "id": "37697e0b-5b38-43f8-bff2-e62eadd4db0d",
   "metadata": {},
   "source": [
    "<p id='0-conditions' style='color:#7159c1; border-bottom:3px solid #7159c1; letter-spacing:2px; font-family:JetBrains Mono; font-weight: bold; text-align:left; font-size:240%;padding:0'>0 | Conditions</p>"
   ]
  },
  {
   "cell_type": "code",
   "execution_count": 2,
   "id": "5b5888cc-8c33-496e-be7d-9598a9d9a085",
   "metadata": {},
   "outputs": [
    {
     "name": "stdout",
     "output_type": "stream",
     "text": [
      "3 is smaller than 7"
     ]
    }
   ],
   "source": [
    "# ---- If-Elseif-Else-End Block ----\n",
    "first_number = 3\n",
    "second_number = 7\n",
    "\n",
    "if first_number > second_number @printf(\"%d is greater than %d\", first_number, second_number)\n",
    "elseif first_number == second_number @printf(\"%d is equal to %d\", first_number, second_number)\n",
    "else @printf(\"%d is smaller than %d\", first_number, second_number)\n",
    "end"
   ]
  },
  {
   "cell_type": "code",
   "execution_count": 3,
   "id": "69a3c8b5-7904-4c6c-83be-6ff9b0c3395b",
   "metadata": {},
   "outputs": [
    {
     "name": "stdout",
     "output_type": "stream",
     "text": [
      "3 is smaller than or equal 7"
     ]
    }
   ],
   "source": [
    "# ---- Ternary-If Statement ----\n",
    "first_number > second_number ? @printf(\"%d is greater than %d\", first_number, second_number) : @printf(\"%d is smaller than or equal %d\", first_number, second_number)"
   ]
  },
  {
   "cell_type": "code",
   "execution_count": 4,
   "id": "1323f06c-4cec-4d22-ac41-bd670e0032a0",
   "metadata": {},
   "outputs": [
    {
     "name": "stdout",
     "output_type": "stream",
     "text": [
      "3 is smaller than 7"
     ]
    }
   ],
   "source": [
    "# ---- And-If Statement ----\n",
    "first_number < second_number && @printf(\"%d is smaller than %d\", first_number, second_number)"
   ]
  },
  {
   "cell_type": "markdown",
   "id": "36006957-92ea-4e37-8f7f-00ce5ec9afea",
   "metadata": {},
   "source": [
    "<p id='1-loops' style='color:#7159c1; border-bottom:3px solid #7159c1; letter-spacing:2px; font-family:JetBrains Mono; font-weight: bold; text-align:left; font-size:240%;padding:0'>1 | Loops</p>"
   ]
  },
  {
   "cell_type": "code",
   "execution_count": 5,
   "id": "ec22932b-f912-4dc2-8dec-273725a62262",
   "metadata": {},
   "outputs": [
    {
     "name": "stdout",
     "output_type": "stream",
     "text": [
      "0\n",
      "1\n",
      "2\n",
      "4\n",
      "5\n",
      "6\n",
      "7\n"
     ]
    }
   ],
   "source": [
    "# ---- For-End Loop ----\n",
    "for number in 0:10\n",
    "    if number === 3 continue end\n",
    "    println(number)\n",
    "    if number === 7 break end\n",
    "end"
   ]
  },
  {
   "cell_type": "code",
   "execution_count": 6,
   "id": "a15e8146-d2e7-4b0a-a8a3-5c0765b6fd17",
   "metadata": {},
   "outputs": [
    {
     "name": "stdout",
     "output_type": "stream",
     "text": [
      "0\n",
      "1\n",
      "2\n",
      "3\n",
      "4\n",
      "5\n",
      "6\n",
      "7\n"
     ]
    }
   ],
   "source": [
    "# ---- While-End Loop ----\n",
    "number = 0\n",
    "\n",
    "while number <= 10\n",
    "    println(number)\n",
    "    number += 1\n",
    "    if number - 1 === 3 continue end\n",
    "    if number - 1 === 7 break end\n",
    "end"
   ]
  },
  {
   "cell_type": "markdown",
   "id": "c86cf5dc-e468-4491-ba46-b4234f8a1094",
   "metadata": {},
   "source": [
    "<p id='2-list-comprehensions' style='color:#7159c1; border-bottom:3px solid #7159c1; letter-spacing:2px; font-family:JetBrains Mono; font-weight: bold; text-align:left; font-size:240%;padding:0'>2 | List Comprehensions</p>\n",
    "\n",
    "Consider I desire to create a list containing all squared of the even numbers from 0 to 100."
   ]
  },
  {
   "cell_type": "code",
   "execution_count": null,
   "id": "2ed6dee3-4844-49f7-af02-93219e1c69c4",
   "metadata": {},
   "outputs": [
    {
     "name": "stdout",
     "output_type": "stream",
     "text": [
      "Any[0, 4, 16, 36, 64, 100, 144, 196, 256, 324, 400, 484, 576, 676, 784, 900, 1024, 1156, 1296, 1444, 1600, 1764, 1936, 2116, 2304, 2500, 2704, 2916, 3136, 3364, 3600, 3844, 4096, 4356, 4624, 4900, 5184, 5476, 5776, 6084, 6400, 6724, 7056, 7396, 7744, 8100, 8464, 8836, 9216, 9604, 10000]"
     ]
    }
   ],
   "source": [
    "# ---- Old Way ----\n",
    "my_list = []\n",
    "\n",
    "for number in 0:100\n",
    "    if number % 2 == 0 append!(my_list, number^2) end\n",
    "end\n",
    "\n",
    "print(my_list)"
   ]
  },
  {
   "cell_type": "code",
   "execution_count": 13,
   "id": "39c98da2-5565-4c0a-bb15-b6d6ab3677bd",
   "metadata": {},
   "outputs": [
    {
     "name": "stdout",
     "output_type": "stream",
     "text": [
      "[0, 4, 16, 36, 64, 100, 144, 196, 256, 324, 400, 484, 576, 676, 784, 900, 1024, 1156, 1296, 1444, 1600, 1764, 1936, 2116, 2304, 2500, 2704, 2916, 3136, 3364, 3600, 3844, 4096, 4356, 4624, 4900, 5184, 5476, 5776, 6084, 6400, 6724, 7056, 7396, 7744, 8100, 8464, 8836, 9216, 9604, 10000]"
     ]
    }
   ],
   "source": [
    "# ---- List Comprehension Way ----\n",
    "my_list = [number^2 for number in 0:100 if number % 2 == 0]\n",
    "print(my_list)"
   ]
  },
  {
   "cell_type": "markdown",
   "id": "eb461005-4a56-442f-9be7-ce749fa00eb4",
   "metadata": {},
   "source": [
    "<p id='3-exceptions' style='color:#7159c1; border-bottom:3px solid #7159c1; letter-spacing:2px; font-family:JetBrains Mono; font-weight: bold; text-align:left; font-size:240%;padding:0'>3 | Exceptions</p>"
   ]
  },
  {
   "cell_type": "code",
   "execution_count": 20,
   "id": "a1d67298-d569-49be-9616-922563b7519d",
   "metadata": {},
   "outputs": [
    {
     "name": "stdout",
     "output_type": "stream",
     "text": [
      "Trying to execute this code...\n",
      "Everything is alright! No exceptions handled!\n",
      "Whatever the exceptions, it will be printed anyway!\n"
     ]
    }
   ],
   "source": [
    "# ---- Try-Catch-Else-Finally-End Block ----\n",
    "try\n",
    "    # code will be attempt to be executed\n",
    "    println(\"Trying to execute this code...\")\n",
    "    3 / 0 # in Julia, dividing by zero results in \"Infinity\" and it does not throw errors\n",
    "catch err\n",
    "    # exception handling\n",
    "    @printf(\"Oops, an exception has beend handled. Just for your curiosity, here is the devil: %s\", err)\n",
    "else\n",
    "    # piece of code that will only be executed if any exceptions\n",
    "    # has been handled\n",
    "    println(\"Everything is alright! No exceptions handled!\")\n",
    "finally\n",
    "    # piece of code that will be executed regardless an exception has\n",
    "    # been handled or not\n",
    "    println(\"Whatever the exceptions, it will be printed anyway!\")\n",
    "end"
   ]
  },
  {
   "cell_type": "markdown",
   "id": "7aa72d23-56da-4984-9fe1-a97f5fb34d62",
   "metadata": {},
   "source": [
    "<p id='reach-me' style='color:#7159c1; border-bottom:3px solid #7159c1; letter-spacing:2px; font-family:JetBrains Mono; font-weight: bold; text-align:left; font-size:240%;padding:0'>📫 | Reach Me</p>\n",
    "\n",
    "> **Email** - [csfelix08@gmail.com](mailto:csfelix08@gmail.com?)\n",
    "\n",
    "> **Linkedin** - [linkedin.com/in/csfelix/](https://www.linkedin.com/in/csfelix/)\n",
    "\n",
    "> **GitHub:** - [CSFelix](https://github.com/CSFelix)\n",
    "\n",
    "> **Kaggle** - [DSFelix](https://www.kaggle.com/dsfelix)\n",
    "\n",
    "> **Portfolio** - [CSFelix.io](https://csfelix.github.io/)."
   ]
  }
 ],
 "metadata": {
  "kernelspec": {
   "display_name": "Julia 1.8.5",
   "language": "julia",
   "name": "julia-1.8"
  },
  "language_info": {
   "file_extension": ".jl",
   "mimetype": "application/julia",
   "name": "julia",
   "version": "1.8.5"
  }
 },
 "nbformat": 4,
 "nbformat_minor": 5
}
