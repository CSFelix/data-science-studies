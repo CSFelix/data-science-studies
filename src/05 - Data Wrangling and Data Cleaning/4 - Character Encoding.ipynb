{
 "cells": [
  {
   "cell_type": "markdown",
   "id": "dc276489-6095-4d96-b0f6-99cc2f4ea159",
   "metadata": {},
   "source": [
    "<center>\n",
    "    <h1 id='character-encoding' style='color:#7159c1'>🔨 Character Encoding 🔨</h1>\n",
    "    <i>Dealing with Different Charsets</i>\n",
    "</center>\n",
    "\n",
    "<br />\n",
    "\n",
    "When you read a csv file that's not in `UTF-8` charset, you'll get an error like this one:\n",
    "\n",
    "> **UnicodeDecodeError** - `'utf-8' codec can't decode byte 0x99 in position 7955: invalid start byte`.\n",
    "\n",
    "To solve this, you gotta convert the file to UTF-8 following the steps bellow:\n",
    "\n",
    "1 - find out the file's charset;\n",
    "\n",
    "2 - read the file with the correct charset;\n",
    "\n",
    "3 - save the file with pandas (UTF-8 is the default charset to pandas)."
   ]
  },
  {
   "cell_type": "code",
   "execution_count": 1,
   "id": "28730146-e0f7-4ed1-b573-883e49bf9442",
   "metadata": {},
   "outputs": [],
   "source": [
    "# ---- Settings ----\n",
    "import pandas as pd # pip install pandas\n",
    "import chardet # pip install chardet"
   ]
  },
  {
   "cell_type": "code",
   "execution_count": 2,
   "id": "d95f42c4-8307-40cf-9886-94f0e1b400c2",
   "metadata": {},
   "outputs": [
    {
     "name": "stdout",
     "output_type": "stream",
     "text": [
      "{'encoding': 'utf-8', 'confidence': 0.7525, 'language': ''}\n"
     ]
    }
   ],
   "source": [
    "# ---- Guessing Chardet ----\n",
    "#\n",
    "# - reading 10,000 bytes, the charset encoding is probably UTF-8\n",
    "# with 75% oof confidence\n",
    "#\n",
    "with open('./datasets/ks-projects-201801-utf8.csv', 'rb') as file:\n",
    "    guessed_charset = chardet.detect(file.read(10000))\n",
    "print(guessed_charset)"
   ]
  },
  {
   "cell_type": "code",
   "execution_count": 4,
   "id": "49349668-3ba0-43fc-bdac-7a717443376c",
   "metadata": {},
   "outputs": [
    {
     "name": "stdout",
     "output_type": "stream",
     "text": [
      "{'encoding': 'utf-8', 'confidence': 0.99, 'language': ''}\n"
     ]
    }
   ],
   "source": [
    "# ---- Guessing Charset ----\n",
    "#\n",
    "# - as more bytes we read, the higher is the confidence percentage\n",
    "#\n",
    "with open('./datasets/ks-projects-201801-utf8.csv', 'rb') as file:\n",
    "    guessed_charset = chardet.detect(file.read(100000))\n",
    "print(guessed_charset)"
   ]
  },
  {
   "cell_type": "code",
   "execution_count": 6,
   "id": "c3bea6d2-25f5-42d2-9567-c84c04c8e42c",
   "metadata": {},
   "outputs": [],
   "source": [
    "# ---- Reading Dataset ----\n",
    "ks_df = pd.read_csv('./datasets/ks-projects-201801-utf8.csv', encoding='utf-8', low_memory=False)\n",
    "\n",
    "# ---- Saving the File into Windows-1252 ----\n",
    "ks_df.to_csv('./datasets/ks-projects-201801-windows1252.csv', encoding='Windows-1252')"
   ]
  },
  {
   "cell_type": "markdown",
   "id": "bd0668cf-85f0-427f-a5fd-d67bda1488c5",
   "metadata": {},
   "source": [
    "---\n",
    "\n",
    "<h1 id='reach-me' style='color:#7159c1; border-bottom:3px solid #7159c1; letter-spacing:2px; font-family:JetBrains Mono; font-weight: bold; text-align:left; font-size:240%;padding:0'>📫 | Reach Me</h1>\n",
    "\n",
    "> **Email** - [csfelix08@gmail.com](mailto:csfelix08@gmail.com?)\n",
    "\n",
    "> **Linkedin** - [linkedin.com/in/csfelix/](https://www.linkedin.com/in/csfelix/)\n",
    "\n",
    "> **GitHub:** - [CSFelix](https://github.com/CSFelix)\n",
    "\n",
    "> **Kaggle** - [DSFelix](https://www.kaggle.com/dsfelix)\n",
    "\n",
    "> **Portfolio** - [CSFelix.io](https://csfelix.github.io/)."
   ]
  }
 ],
 "metadata": {
  "kernelspec": {
   "display_name": "Python 3 (ipykernel)",
   "language": "python",
   "name": "python3"
  },
  "language_info": {
   "codemirror_mode": {
    "name": "ipython",
    "version": 3
   },
   "file_extension": ".py",
   "mimetype": "text/x-python",
   "name": "python",
   "nbconvert_exporter": "python",
   "pygments_lexer": "ipython3",
   "version": "3.10.9"
  }
 },
 "nbformat": 4,
 "nbformat_minor": 5
}
