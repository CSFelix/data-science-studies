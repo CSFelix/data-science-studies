{
 "cells": [
  {
   "cell_type": "markdown",
   "id": "50c29abf-45eb-42b2-820b-1e26b2f8dbc4",
   "metadata": {},
   "source": [
    "<center>\n",
    "    <h1 id='linear-and-loogistic-regressions' style='color:#7159c1'>🤖 Linear and Logistic Regressions 🤖</h1>\n",
    "    <i></i>\n",
    "</center>"
   ]
  },
  {
   "cell_type": "code",
   "execution_count": 1,
   "id": "92fca33d-7ec1-4baa-a35a-67cb1ff99e8c",
   "metadata": {},
   "outputs": [],
   "source": [
    "# ---- Importings ----\n",
    "import pandas as pd # pip install pandas\n",
    "from sklearn.linear_model import LogisticRegression # pip install sklearn\n",
    "from sklearn.linear_model import LinearRegression\n",
    "from sklearn.model_selection import train_test_split\n",
    "\n",
    "# ---- Reading Dataset ----\n",
    "autos_df = pd.read_csv('./datasets/autos.csv')\n",
    "autos_df = autos_df.select_dtypes(exclude='object')\n",
    "\n",
    "# ---- Splitting Dataset ----\n",
    "X = autos_df.copy()\n",
    "y = X.pop('price')\n",
    "\n",
    "X_train, X_valid, y_train, y_valid = train_test_split(\n",
    "    X, y\n",
    "    , train_size=0.70\n",
    "    , test_size=0.30\n",
    "    , random_state=20242201\n",
    ")"
   ]
  },
  {
   "cell_type": "code",
   "execution_count": 3,
   "id": "db355f37-186d-42ba-9d34-80179236bb46",
   "metadata": {},
   "outputs": [],
   "source": [
    "# ---- Linear Regression ----\n",
    "#\n",
    "# - Used to predict Regressions\n",
    "#\n",
    "# - It is the simplest Regression Model Algorithm\n",
    "#\n",
    "# - Equation: y = a + b * x\n",
    "# \\ y >> dependent variable\n",
    "# \\ a >> intercept\n",
    "# \\ b >> coefficient\n",
    "# \\ x >> independent variable\n",
    "#\n",
    "linear_model = LinearRegression()\n",
    "linear_model.fit(X_train, y_train)\n",
    "linear_predictions = linear_model.predict(X_valid)"
   ]
  },
  {
   "cell_type": "code",
   "execution_count": 5,
   "id": "731fb5e9-f6f5-4e28-9b97-97286a6a05f5",
   "metadata": {},
   "outputs": [
    {
     "name": "stderr",
     "output_type": "stream",
     "text": [
      "D:\\Anaconda\\lib\\site-packages\\sklearn\\linear_model\\_logistic.py:458: ConvergenceWarning: lbfgs failed to converge (status=1):\n",
      "STOP: TOTAL NO. of ITERATIONS REACHED LIMIT.\n",
      "\n",
      "Increase the number of iterations (max_iter) or scale the data as shown in:\n",
      "    https://scikit-learn.org/stable/modules/preprocessing.html\n",
      "Please also refer to the documentation for alternative solver options:\n",
      "    https://scikit-learn.org/stable/modules/linear_model.html#logistic-regression\n",
      "  n_iter_i = _check_optimize_result(\n"
     ]
    }
   ],
   "source": [
    "# ---- Logistic Regression ----\n",
    "#\n",
    "# - Used to predict Binary Classes (since our target is a number rather than a binary categorical class,\n",
    "# the code throws an error\n",
    "#\n",
    "# - It is the simples Classification Model Algorithm\n",
    "#\n",
    "# - Equation: y = 1 / (1 + e^(-1 * (a + b * x)))\n",
    "# \\ y >> dependent variable\n",
    "# \\ e >> Plank's Constant\n",
    "# \\ a >> intercept\n",
    "# \\ b >> coefficient\n",
    "# \\ x >> independent variable\n",
    "#\n",
    "# - This equation converts the Linear Regression Results to a range\n",
    "# between 0 and 1. \n",
    "#\n",
    "logistic_model = LogisticRegression()\n",
    "logistic_model.fit(X_train, y_train)\n",
    "logistic_predictions = logistic_model.predict_proba(X_valid)"
   ]
  },
  {
   "cell_type": "markdown",
   "id": "a0e6394c-a05b-4764-8779-c57a965426ce",
   "metadata": {},
   "source": [
    "---\n",
    "\n",
    "<h1 id='reach-me' style='color:#7159c1; border-bottom:3px solid #7159c1; letter-spacing:2px; font-family:JetBrains Mono; font-weight: bold; text-align:left; font-size:240%;padding:0'>📫 | Reach Me</h1>\n",
    "\n",
    "> **Email** - [csfelix08@gmail.com](mailto:csfelix08@gmail.com?)\n",
    "\n",
    "> **Linkedin** - [linkedin.com/in/csfelix/](https://www.linkedin.com/in/csfelix/)\n",
    "\n",
    "> **GitHub:** - [CSFelix](https://github.com/CSFelix)\n",
    "\n",
    "> **Kaggle** - [DSFelix](https://www.kaggle.com/dsfelix)\n",
    "\n",
    "> **Portfolio** - [CSFelix.io](https://csfelix.github.io/)."
   ]
  }
 ],
 "metadata": {
  "kernelspec": {
   "display_name": "Python 3 (ipykernel)",
   "language": "python",
   "name": "python3"
  },
  "language_info": {
   "codemirror_mode": {
    "name": "ipython",
    "version": 3
   },
   "file_extension": ".py",
   "mimetype": "text/x-python",
   "name": "python",
   "nbconvert_exporter": "python",
   "pygments_lexer": "ipython3",
   "version": "3.10.9"
  }
 },
 "nbformat": 4,
 "nbformat_minor": 5
}
