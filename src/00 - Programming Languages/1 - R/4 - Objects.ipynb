{
 "cells": [
  {
   "cell_type": "markdown",
   "id": "e4fb57ec-081d-488e-8140-a8c66cb4fe6b",
   "metadata": {},
   "source": [
    "<center>\n",
    "    <h1 id='r-basics-4' style='color:#7159c1'>📊 R Basics 4 📊</h1>\n",
    "    <i>Objects</i>\n",
    "</center>\n",
    "\n",
    "```txt\n",
    "- Objects\n",
    "```"
   ]
  },
  {
   "cell_type": "markdown",
   "id": "b75fb5dc-d25f-4215-9fd0-ff2fa8fede5c",
   "metadata": {},
   "source": [
    "<p id='0-objects' style='color:#7159c1; border-bottom:3px solid #7159c1; letter-spacing:2px; font-family:JetBrains Mono; font-weight: bold; text-align:left; font-size:240%;padding:0'>0 | Objects</p>"
   ]
  },
  {
   "cell_type": "code",
   "execution_count": 8,
   "id": "49127938-5502-4134-97f9-8888f7f0af65",
   "metadata": {},
   "outputs": [],
   "source": [
    "# Create your own Sayan\n",
    "Sayan <- function(name, transformations, planet) {\n",
    "    #' Constructor Parameters\n",
    "    #'    - name: string\n",
    "    #'    - transformations: list of strings\n",
    "    #'    - planet: string\n",
    "    list(name=name, transformations=transformations, planet=planet)\n",
    "}\n",
    "\n",
    "show_info <- function(sayan) {\n",
    "    #' Show all info about the object\n",
    "    cat('**************\\n')\n",
    "    cat('* Sayan Info *\\n')\n",
    "    cat('**************\\n\\n')\n",
    "    \n",
    "    cat('- Name:', sayan$name, '\\n')\n",
    "    cat('- Transformations:', sayan$transformations, '\\n')\n",
    "    cat('- Planet:', sayan$planet, '\\n')\n",
    "}"
   ]
  },
  {
   "cell_type": "code",
   "execution_count": 9,
   "id": "729d8301-d6ae-459e-8a97-fd38069ef317",
   "metadata": {},
   "outputs": [
    {
     "name": "stdout",
     "output_type": "stream",
     "text": [
      "**************\n",
      "* Sayan Info *\n",
      "**************\n",
      "\n",
      "- Name: Goku \n",
      "- Transformations: ssj1 ssj2 ssj3 ssj god ssj blue \n",
      "- Planet: Earth \n"
     ]
    }
   ],
   "source": [
    "shallot <- Sayan(name='Goku', transformations=c('ssj1', 'ssj2', 'ssj3', 'ssj god', 'ssj blue'), planet='Earth')\n",
    "show_info(shallot)"
   ]
  },
  {
   "cell_type": "markdown",
   "id": "7662d544-c3e1-4f60-a29e-f6e737b10a8e",
   "metadata": {},
   "source": [
    "<p id='reach-me' style='color:#7159c1; border-bottom:3px solid #7159c1; letter-spacing:2px; font-family:JetBrains Mono; font-weight: bold; text-align:left; font-size:240%;padding:0'>📫 | Reach Me</p>\n",
    "\n",
    "> **Email** - [csfelix08@gmail.com](mailto:csfelix08@gmail.com?)\n",
    "\n",
    "> **Linkedin** - [linkedin.com/in/csfelix/](https://www.linkedin.com/in/csfelix/)\n",
    "\n",
    "> **GitHub:** - [CSFelix](https://github.com/CSFelix)\n",
    "\n",
    "> **Kaggle** - [DSFelix](https://www.kaggle.com/dsfelix)\n",
    "\n",
    "> **Portfolio** - [CSFelix.io](https://csfelix.github.io/)."
   ]
  }
 ],
 "metadata": {
  "kernelspec": {
   "display_name": "R",
   "language": "R",
   "name": "ir"
  },
  "language_info": {
   "codemirror_mode": "r",
   "file_extension": ".r",
   "mimetype": "text/x-r-source",
   "name": "R",
   "pygments_lexer": "r",
   "version": "4.2.2"
  }
 },
 "nbformat": 4,
 "nbformat_minor": 5
}
