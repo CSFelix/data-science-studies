{
 "cells": [
  {
   "cell_type": "markdown",
   "id": "bedae731-a112-4a8f-91e8-afddea175dff",
   "metadata": {},
   "source": [
    "<center>\n",
    "    <h1 id='stats-model' style='color:#7159c1'>🤖 Stats Model 🤖</h1>\n",
    "    <i>Dealing with Linear Relationships</i>\n",
    "</center>\n",
    "\n",
    "---\n",
    "\n",
    "`Stats Model` is used to display useful information about a Linear Regression Model (to know when to usee Linear Regression Models, use pandas.corr() to check out for any Linear Relationships)."
   ]
  },
  {
   "cell_type": "code",
   "execution_count": 6,
   "id": "2420ef47-b544-41e8-8e64-faaeaa95a63d",
   "metadata": {},
   "outputs": [],
   "source": [
    "# ---- Importations ----\n",
    "from sklearn.linear_model import LinearRegression # pip install sklearn\n",
    "from sklearn.model_selection import train_test_split\n",
    "from sklearn.model_selection import cross_val_score\n",
    "import statsmodels.api as sm # pip install statsmodels\n",
    "import numpy as np # pip install numpy\n",
    "import matplotlib.pyplot as plt # pip install matplotlib\n",
    "import mplcyberpunk # pip install mplcyberpunk\n",
    "import pandas as pd # pip install pandas\n",
    "\n",
    "plt.style.use('cyberpunk')\n",
    "\n",
    "# ---- Reading Dataset ----\n",
    "autos_df = pd.read_csv('./datasets/autos.csv')\n",
    "autos_df = autos_df.select_dtypes(exclude='object')\n",
    "\n",
    "# ---- Splitting Dataset ----\n",
    "X = autos_df.copy()\n",
    "y = X.pop('price')\n",
    "\n",
    "X_train, X_valid, y_train, y_valid = train_test_split(\n",
    "    X, y\n",
    "    , train_size=0.70\n",
    "    , test_size=0.30\n",
    "    , random_state=20242201\n",
    ")"
   ]
  },
  {
   "cell_type": "code",
   "execution_count": 7,
   "id": "968ebeef-0ae4-4595-9b61-c68c6fa94d83",
   "metadata": {},
   "outputs": [
    {
     "data": {
      "image/png": "[encoded data removed]",
      "text/plain": [
       "<Figure size 640x480 with 1 Axes>"
      ]
     },
     "metadata": {},
     "output_type": "display_data"
    }
   ],
   "source": [
    "# ---- Creating the Modale ----\n",
    "linear_model = LinearRegression(n_jobs=4)\n",
    "linear_model.fit(X_train, y_train)\n",
    "predictions = linear_model.predict(X_valid)\n",
    "\n",
    "# ---- Plotting the Results ----\n",
    "plt.scatter(y_valid, predictions) # predictions - points\n",
    "plt.plot(y_valid, y_valid, 'r') # real target values - line\n",
    "plt.show()"
   ]
  },
  {
   "cell_type": "code",
   "execution_count": 8,
   "id": "c9319668-4771-4d58-a000-c7f10710ea7d",
   "metadata": {},
   "outputs": [
    {
     "name": "stdout",
     "output_type": "stream",
     "text": [
      "- Average 5-Fold Score Across Experiments: 0.5901215005590104\n"
     ]
    }
   ],
   "source": [
    "# ---- Cross-Validation ----\n",
    "cv_scores = cross_val_score(linear_model, X, y, cv=5)\n",
    "print(f'- Average 5-Fold Score Across Experiments: {cv_scores.mean()}')"
   ]
  },
  {
   "cell_type": "code",
   "execution_count": 9,
   "id": "6ada1359-e392-4b70-9852-aa9fe2cc5d74",
   "metadata": {},
   "outputs": [
    {
     "name": "stdout",
     "output_type": "stream",
     "text": [
      "                            OLS Regression Results                            \n",
      "==============================================================================\n",
      "Dep. Variable:                  price   R-squared:                       0.860\n",
      "Model:                            OLS   Adj. R-squared:                  0.847\n",
      "Method:                 Least Squares   F-statistic:                     67.52\n",
      "Date:                Mon, 22 Jan 2024   Prob (F-statistic):           2.99e-66\n",
      "Time:                        21:37:15   Log-Likelihood:                -1820.4\n",
      "No. Observations:                 193   AIC:                             3675.\n",
      "Df Residuals:                     176   BIC:                             3730.\n",
      "Df Model:                          16                                         \n",
      "Covariance Type:            nonrobust                                         \n",
      "=====================================================================================\n",
      "                        coef    std err          t      P>|t|      [0.025      0.975]\n",
      "-------------------------------------------------------------------------------------\n",
      "const             -5.226e+04   1.81e+04     -2.885      0.004    -8.8e+04   -1.65e+04\n",
      "symboling            31.7346    302.957      0.105      0.917    -566.162     629.632\n",
      "num_of_doors         96.7159    349.168      0.277      0.782    -592.379     785.811\n",
      "wheel_base           52.7081    115.539      0.456      0.649    -175.312     280.728\n",
      "length              -90.3402     59.660     -1.514      0.132    -208.081      27.400\n",
      "width               695.9213    264.688      2.629      0.009     173.550    1218.292\n",
      "height              336.1794    145.222      2.315      0.022      49.579     622.780\n",
      "curb_weight           0.8588      1.789      0.480      0.632      -2.671       4.389\n",
      "num_of_cylinders  -1454.6354    781.339     -1.862      0.064   -2996.634      87.364\n",
      "engine_size         171.8422     28.352      6.061      0.000     115.888     227.796\n",
      "bore              -3314.9664   1827.329     -1.814      0.071   -6921.263     291.330\n",
      "stroke            -4165.7300   1016.680     -4.097      0.000   -6172.184   -2159.276\n",
      "compression_ratio   262.8816     87.379      3.009      0.003      90.436     435.327\n",
      "horsepower           42.9359     18.516      2.319      0.022       6.394      79.478\n",
      "peak_rpm              2.1306      0.676      3.151      0.002       0.796       3.465\n",
      "city_mpg           -250.6798    188.690     -1.329      0.186    -623.065     121.706\n",
      "highway_mpg         227.8770    169.776      1.342      0.181    -107.181     562.935\n",
      "==============================================================================\n",
      "Omnibus:                       20.298   Durbin-Watson:                   0.931\n",
      "Prob(Omnibus):                  0.000   Jarque-Bera (JB):               63.832\n",
      "Skew:                           0.305   Prob(JB):                     1.38e-14\n",
      "Kurtosis:                       5.751   Cond. No.                     4.57e+05\n",
      "==============================================================================\n",
      "\n",
      "Notes:\n",
      "[1] Standard Errors assume that the covariance matrix of the errors is correctly specified.\n",
      "[2] The condition number is large, 4.57e+05. This might indicate that there are\n",
      "strong multicollinearity or other numerical problems.\n",
      "---\n"
     ]
    }
   ],
   "source": [
    "# ---- Checking out Linear Regression ----\n",
    "stats_X = sm.add_constant(X) # whole Dataset's Features\n",
    "results = sm.OLS(y, stats_X).fit()\n",
    "#results.summary()\n",
    "print(results.summary())\n",
    "\n",
    "\"\"\"\n",
    "- R-squared : the coefficient of determination. It is the proportion of the variance in the dependent variable that is predictable/explained\n",
    "- Adj. R-squared : Adjusted R-squared is the modified form of R-squared adjusted for the number of independent variables in the model. Value of adj. R-squared increases, when we include extra variables which actually improve the model.\n",
    "- F-statistic : the ratio of mean squared error of the model to the mean squared error of residuals. It determines the overall significance of the model.\n",
    "- coef : the coefficients of the independent variables and the constant term in the equation.\n",
    "- t : the value of t-statistic. It is the ratio of the difference between the estimated and hypothesized value of a parameter, to the standard error\n",
    "\"\"\"\n",
    "\n",
    "print('---')"
   ]
  },
  {
   "cell_type": "code",
   "execution_count": 10,
   "id": "6adcee8c-fedb-4cc0-8b7c-d1d6606d3ef6",
   "metadata": {},
   "outputs": [
    {
     "name": "stdout",
     "output_type": "stream",
     "text": [
      "- Weights for Each Feature: [ 9.86988667e+01  5.63623518e+02 -1.53748705e+01 -1.33095649e+02\n",
      "  1.15162216e+03  2.34147283e+02  1.43740691e+00 -5.68291666e+02\n",
      "  1.48755034e+02 -2.86209590e+03 -3.46019897e+03  2.86612260e+02\n",
      "  3.65391434e+01  1.82220516e+00 -1.48743064e+02  9.35792404e+01]\n",
      "---\n",
      "- Y-Intercept: -66933.769308186\n"
     ]
    }
   ],
   "source": [
    "# ---- More Metrics ----\n",
    "#\n",
    "# - Equation:\n",
    "#    y = coef * x[i] - intercept\n",
    "#\n",
    "print(f'- Weights for Each Feature: {linear_model.coef_}')\n",
    "print('---')\n",
    "print(f'- Y-Intercept: {linear_model.intercept_}')"
   ]
  },
  {
   "cell_type": "markdown",
   "id": "a910c22e-4162-499e-b0b8-33e06ac08f73",
   "metadata": {},
   "source": [
    "---\n",
    "\n",
    "<h1 id='reach-me' style='color:#7159c1; border-bottom:3px solid #7159c1; letter-spacing:2px; font-family:JetBrains Mono; font-weight: bold; text-align:left; font-size:240%;padding:0'>📫 | Reach Me</h1>\n",
    "\n",
    "> **Email** - [csfelix08@gmail.com](mailto:csfelix08@gmail.com?)\n",
    "\n",
    "> **Linkedin** - [linkedin.com/in/csfelix/](https://www.linkedin.com/in/csfelix/)\n",
    "\n",
    "> **GitHub:** - [CSFelix](https://github.com/CSFelix)\n",
    "\n",
    "> **Kaggle** - [DSFelix](https://www.kaggle.com/dsfelix)\n",
    "\n",
    "> **Portfolio** - [CSFelix.io](https://csfelix.github.io/)."
   ]
  }
 ],
 "metadata": {
  "kernelspec": {
   "display_name": "Python 3 (ipykernel)",
   "language": "python",
   "name": "python3"
  },
  "language_info": {
   "codemirror_mode": {
    "name": "ipython",
    "version": 3
   },
   "file_extension": ".py",
   "mimetype": "text/x-python",
   "name": "python",
   "nbconvert_exporter": "python",
   "pygments_lexer": "ipython3",
   "version": "3.10.9"
  }
 },
 "nbformat": 4,
 "nbformat_minor": 5
}
