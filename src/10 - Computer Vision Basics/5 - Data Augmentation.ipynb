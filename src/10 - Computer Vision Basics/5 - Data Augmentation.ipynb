{
 "cells": [
  {
   "cell_type": "markdown",
   "id": "7abc264f-a1b2-4993-ac76-8341e6152959",
   "metadata": {},
   "source": [
    "<center>\n",
    "    <h1 id='data-augmentation' style='color:#7159c1'>👁️‍🗨️ Data Augmentation 👁️‍🗨️</h1>\n",
    "    <i>Making one Image Become N-Images</i>\n",
    "</center>\n",
    "\n",
    "---\n",
    "\n",
    "The best way to improve the performance of a machine learning model is to train it on more data. The more examples the model has to learn from, the better it will be able to recognize which differences in images matter and which do not. More data helps the model to generalize better.\n",
    "\n",
    "One easy way of getting more data is to use the data you already have. If we can transform the images in our dataset in ways that preserve the class, we can teach our classifier to ignore those kinds of transformations. For instance, whether a car is facing left or right in a photo doesn't change the fact that it is a Car and not a Truck. So, if we augment our training data with flipped images, our classifier will learn that \"left or right\" is a difference it should ignore.\n",
    "\n",
    "And that's the whole idea behind data augmentation: add in some extra fake data that looks reasonably like the real data and your classifier will improve!!\n",
    "\n",
    "---\n",
    "\n",
    "Typically, many kinds of transformation are used when augmenting a dataset. These might include rotating the image, adjusting the color or contrast, warping the image, or many other things, usually applied in combination. Here is a sample of the different ways a single image might be transformed.\n",
    "\n",
    "It's important to remember though that not every transformation will be useful on a given problem. Most importantly, whatever transformations you use should not mix up the classes. If you were training a digit recognizer, for instance, rotating images would mix up '9's and '6's. In the end, the best approach for finding good augmentations is the same as with most ML problems: try it and see!"
   ]
  },
  {
   "cell_type": "code",
   "execution_count": 1,
   "id": "c1b88814-fd89-4fa9-b861-e5af15711cce",
   "metadata": {},
   "outputs": [],
   "source": [
    "# ---- Importations ----\n",
    "import os, warnings # pip install os warnings\n",
    "import matplotlib.pyplot as plt # pip install matplotlibb\n",
    "from matplotlib import gridspec\n",
    "import mplcyberpunk # pip install mplcyberpunk\n",
    "import pandas as pd # pip install pandas\n",
    "\n",
    "import numpy as np # pip install numpy\n",
    "import tensorflow as tf # pip install tensorflow\n",
    "from tensorflow.keras.preprocessing import image_dataset_from_directory\n",
    "from tensorflow import keras\n",
    "from tensorflow.keras import layers\n",
    "from tensorflow.keras.layers.experimental import preprocessing\n",
    "\n",
    "# ---- Reproducability ----\n",
    "def set_seed(seed=20242401):\n",
    "    np.random.seed(seed)\n",
    "    tf.random.set_seed(seed)\n",
    "    os.environ['PYTHONHASHSEED'] = str(seed)\n",
    "    os.environ['TF_DETERMINISTIC_OPS'] = '1'\n",
    "set_seed()\n",
    "\n",
    "# ---- Setting Matplotlib Defaults ----\n",
    "plt.rc('figure', autolayout=True)\n",
    "plt.rc(\n",
    "    'axes'\n",
    "    , labelweight='bold'\n",
    "    , labelsize='large'\n",
    "    , titleweight='bold'\n",
    "    , titlesize=18\n",
    "    , titlepad=10\n",
    ")\n",
    "plt.rc('image', cmap='magma')\n",
    "plt.style.use('cyberpunk')\n",
    "warnings.filterwarnings(\"ignore\")"
   ]
  },
  {
   "cell_type": "code",
   "execution_count": 2,
   "id": "0f85034a-693a-4a9c-93c7-8e82aed42b60",
   "metadata": {},
   "outputs": [
    {
     "name": "stdout",
     "output_type": "stream",
     "text": [
      "Found 5117 files belonging to 2 classes.\n",
      "Found 5051 files belonging to 2 classes.\n"
     ]
    }
   ],
   "source": [
    "# ---- Preparing Datasets ----\n",
    "train_df = image_dataset_from_directory(\n",
    "    './datasets/car-or-truck/train',\n",
    "    labels='inferred',\n",
    "    label_mode='binary',\n",
    "    image_size=[128, 128],\n",
    "    interpolation='nearest',\n",
    "    batch_size=64,\n",
    "    shuffle=True,\n",
    ")\n",
    "\n",
    "valid_df = image_dataset_from_directory(\n",
    "    './datasets/car-or-truck/valid',\n",
    "    labels='inferred',\n",
    "    label_mode='binary',\n",
    "    image_size=[128, 128],\n",
    "    interpolation='nearest',\n",
    "    batch_size=64,\n",
    "    shuffle=False,\n",
    ")\n",
    "\n",
    "# ---- Pipeline ----\n",
    "def convert_to_float(image, label):\n",
    "    image = tf.image.convert_image_dtype(image, dtype=tf.float32)\n",
    "    return image, label\n",
    "\n",
    "AUTOTUNE = tf.data.experimental.AUTOTUNE\n",
    "\n",
    "train_df = (\n",
    "    train_df\n",
    "    .map(convert_to_float)\n",
    "    .cache()\n",
    "    .prefetch(buffer_size=AUTOTUNE)\n",
    ")\n",
    "\n",
    "valid_df = (\n",
    "    valid_df\n",
    "    .map(convert_to_float)\n",
    "    .cache()\n",
    "    .prefetch(buffer_size=AUTOTUNE)\n",
    ")"
   ]
  },
  {
   "cell_type": "code",
   "execution_count": 3,
   "id": "e6d0d253-cfe3-426b-949d-560ccc42c42c",
   "metadata": {},
   "outputs": [
    {
     "name": "stdout",
     "output_type": "stream",
     "text": [
      "WARNING:tensorflow:SavedModel saved prior to TF 2.5 detected when loading Keras model. Please ensure that you are saving the model with model.save() or tf.keras.models.save_model(), *NOT* tf.saved_model.save(). To confirm, there should be a file named \"keras_metadata.pb\" in the SavedModel directory.\n",
      "WARNING:tensorflow:No training configuration found in save file, so the model was *not* compiled. Compile it manually.\n"
     ]
    }
   ],
   "source": [
    "# ---- Loading Pretrained Base ----\n",
    "pretrained_base = tf.keras.models.load_model(\n",
    "    './models/vgg16-pretrained-base',\n",
    ")\n",
    "pretrained_base.trainable = False\n",
    "\n",
    "# ---- Creating the Head Model ----\n",
    "model_1 = keras.Sequential([\n",
    "    # Input Layer #\n",
    "    layers.InputLayer(input_shape=[128, 128, 3]),\n",
    "\n",
    "    # Preprocessing\n",
    "    preprocessing.RandomFlip('horizontal'), # flip left-to-right\n",
    "    preprocessing.RandomContrast(0.5), # contrast change by up to 50%\n",
    "\n",
    "    # Base\n",
    "    pretrained_base,\n",
    "\n",
    "    # Head\n",
    "    layers.Flatten(),\n",
    "    layers.Dense(6, activation='relu'),\n",
    "    layers.Dense(1, activation='sigmoid'),\n",
    "])\n",
    "\n",
    "model_2 = keras.Sequential([\n",
    "\n",
    "\t# Input Layer #\n",
    "    layers.InputLayer(input_shape=[128, 128, 3]),\n",
    "    \n",
    "    # Data Augmentation #\n",
    "    preprocessing.RandomContrast(factor=0.10),\n",
    "    preprocessing.RandomFlip(mode='horizontal'),\n",
    "    preprocessing.RandomRotation(factor=0.10),\n",
    "\n",
    "    ## Base ##\n",
    "\n",
    "    # Block One #\n",
    "    layers.BatchNormalization(renorm=True),\n",
    "    layers.Conv2D(filters=64, kernel_size=3, activation='relu', padding='same'),\n",
    "    layers.MaxPool2D(),\n",
    "\n",
    "    # Block Two #\n",
    "    layers.BatchNormalization(renorm=True),\n",
    "    layers.Conv2D(filters=128, kernel_size=3, activation='relu', padding='same'),\n",
    "    layers.MaxPool2D(),\n",
    "\n",
    "    # Block Three #\n",
    "    layers.BatchNormalization(renorm=True),\n",
    "    layers.Conv2D(filters=256, kernel_size=3, activation='relu', padding='same'),\n",
    "    layers.Conv2D(filters=256, kernel_size=3, activation='relu', padding='same'),\n",
    "    layers.MaxPool2D(),\n",
    "\n",
    "    ## Head ##\n",
    "    layers.BatchNormalization(renorm=True),\n",
    "    layers.Flatten(),\n",
    "    layers.Dense(8, activation='relu'),\n",
    "    layers.Dense(1, activation='sigmoid'),\n",
    "])"
   ]
  },
  {
   "cell_type": "code",
   "execution_count": null,
   "id": "2ed0293e-c3ad-4bfc-afe1-ddf99afc1e38",
   "metadata": {},
   "outputs": [],
   "source": [
    "# ---- Training ----\n",
    "model_2.compile(\n",
    "    optimizer='adam',\n",
    "    loss='binary_crossentropy',\n",
    "    metrics=['binary_accuracy'],\n",
    ")\n",
    "\n",
    "history = model_2.fit(\n",
    "    train_df,\n",
    "    validation_data=valid_df,\n",
    "    epochs=2,\n",
    "    # epochs=30,\n",
    "    verbose=0,\n",
    ")"
   ]
  },
  {
   "cell_type": "code",
   "execution_count": null,
   "id": "bd45138b-c1a3-4167-9c01-89aad7c2841a",
   "metadata": {},
   "outputs": [],
   "source": [
    "# ---- Evaluating - Loss ----\n",
    "history_frame = pd.DataFrame(history.history)\n",
    "history_frame.loc[:, ['loss', 'val_loss']].plot()\n",
    "plt.show()"
   ]
  },
  {
   "cell_type": "code",
   "execution_count": null,
   "id": "ef7c0ee8-0315-45a2-b7ba-1fcaeec7f54b",
   "metadata": {},
   "outputs": [],
   "source": [
    "# ---- Evaluating - Binary Accuracy ----\n",
    "history_frame.loc[:, ['binary_accuracy', 'val_binary_accuracy']].plot();\n",
    "plt.show()"
   ]
  },
  {
   "cell_type": "markdown",
   "id": "d79803fd-16bb-4751-9168-e2e885ed94e4",
   "metadata": {},
   "source": [
    "---"
   ]
  },
  {
   "cell_type": "code",
   "execution_count": null,
   "id": "1ecec4ad-3489-446f-a940-1035e98771f7",
   "metadata": {},
   "outputs": [],
   "source": [
    "# ---- Some Augmentation Functions That We Can Apply ----\n",
    "preprocessing.RandomContrast(factor=0.5),\n",
    "preprocessing.RandomFlip(mode='horizontal'), # meaning, left-to-right\n",
    "preprocessing.RandomFlip(mode='vertical'), # meaning, top-to-bottom\n",
    "preprocessing.RandomWidth(factor=0.15), # horizontal stretch\n",
    "preprocessing.RandomRotation(factor=0.20),\n",
    "preprocessing.RandomTranslation(height_factor=0.1, width_factor=0.1),"
   ]
  },
  {
   "cell_type": "markdown",
   "id": "fb10384d-6c6d-47d2-b175-3e58b9e9b5a2",
   "metadata": {},
   "source": [
    "---\n",
    "\n",
    "<h1 id='reach-me' style='color:#7159c1; border-bottom:3px solid #7159c1; letter-spacing:2px; font-family:JetBrains Mono; font-weight: bold; text-align:left; font-size:240%;padding:0'>📫 | Reach Me</h1>\n",
    "\n",
    "> **Email** - [csfelix08@gmail.com](mailto:csfelix08@gmail.com?)\n",
    "\n",
    "> **Linkedin** - [linkedin.com/in/csfelix/](https://www.linkedin.com/in/csfelix/)\n",
    "\n",
    "> **GitHub:** - [CSFelix](https://github.com/CSFelix)\n",
    "\n",
    "> **Kaggle** - [DSFelix](https://www.kaggle.com/dsfelix)\n",
    "\n",
    "> **Portfolio** - [CSFelix.io](https://csfelix.github.io/)."
   ]
  }
 ],
 "metadata": {
  "kernelspec": {
   "display_name": "Python 3 (ipykernel)",
   "language": "python",
   "name": "python3"
  },
  "language_info": {
   "codemirror_mode": {
    "name": "ipython",
    "version": 3
   },
   "file_extension": ".py",
   "mimetype": "text/x-python",
   "name": "python",
   "nbconvert_exporter": "python",
   "pygments_lexer": "ipython3",
   "version": "3.10.9"
  }
 },
 "nbformat": 4,
 "nbformat_minor": 5
}
