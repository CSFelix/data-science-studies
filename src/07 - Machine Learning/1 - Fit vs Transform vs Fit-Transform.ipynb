{
 "cells": [
  {
   "cell_type": "markdown",
   "id": "f05d7431-edff-4b05-b366-df705f6ce77a",
   "metadata": {},
   "source": [
    "<center>\n",
    "    <h1 id='fit-vs-transform-vs-fit-transforming' style='color:#7159c1'>🤖 Fit vs Transform vs Fit-Transform 🤖</h1>\n",
    "    <i>Know the difference about the main Machine Learning Model Functions</i>\n",
    "</center>\n",
    "\n",
    "> **Fit** - `is used to compute any parameters or statistics needed by the transformer or model based on the input data. For transformers, these parameters are typically learned from the training data. For example, if you have a data preprocessing step like standardization, the fit method would compute the mean and standard deviation of the training data`;\n",
    "\n",
    "> **Transform** - `applies the previously computed parameters or transformations to the input data. It is used to transform new data based on the learned parameters from the fit method. For example, after computing the mean and standard deviation using fit, you can use transform to standardize new data based on these computed parameters`;\n",
    "\n",
    "> **Fit_Transform** - `combines the steps of fitting the model and transforming the data in a single step. This can be more efficient than calling fit and then transform separately. For example, instead of the two-step process with fit and transform, you can achieve the same result with a single fit_transform call`.\n",
    "\n",
    "<br />\n",
    "\n",
    "It's important to note that not all transformers or models have all three methods. Some might only have `fit` and `transform` methods, while others may only have `fit_transform`. The choice of method depends on the specific class and its implementation. Always refer to the documentation for the specific class you are using to understand which methods are available and how they should be used."
   ]
  },
  {
   "cell_type": "markdown",
   "id": "2dc54814-0014-4d46-8b30-87b88dbad7a5",
   "metadata": {},
   "source": [
    "---\n",
    "\n",
    "<h1 id='reach-me' style='color:#7159c1; border-bottom:3px solid #7159c1; letter-spacing:2px; font-family:JetBrains Mono; font-weight: bold; text-align:left; font-size:240%;padding:0'>📫 | Reach Me</h1>\n",
    "\n",
    "> **Email** - [csfelix08@gmail.com](mailto:csfelix08@gmail.com?)\n",
    "\n",
    "> **Linkedin** - [linkedin.com/in/csfelix/](https://www.linkedin.com/in/csfelix/)\n",
    "\n",
    "> **GitHub:** - [CSFelix](https://github.com/CSFelix)\n",
    "\n",
    "> **Kaggle** - [DSFelix](https://www.kaggle.com/dsfelix)\n",
    "\n",
    "> **Portfolio** - [CSFelix.io](https://csfelix.github.io/)."
   ]
  }
 ],
 "metadata": {
  "kernelspec": {
   "display_name": "Python 3 (ipykernel)",
   "language": "python",
   "name": "python3"
  },
  "language_info": {
   "codemirror_mode": {
    "name": "ipython",
    "version": 3
   },
   "file_extension": ".py",
   "mimetype": "text/x-python",
   "name": "python",
   "nbconvert_exporter": "python",
   "pygments_lexer": "ipython3",
   "version": "3.10.9"
  }
 },
 "nbformat": 4,
 "nbformat_minor": 5
}
