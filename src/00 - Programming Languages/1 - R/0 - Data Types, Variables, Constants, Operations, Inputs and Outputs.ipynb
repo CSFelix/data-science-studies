{
 "cells": [
  {
   "cell_type": "markdown",
   "id": "e89eaf00-3021-4c1a-bc20-47eff179909c",
   "metadata": {},
   "source": [
    "<center>\n",
    "    <h1 id='r-basics-0' style='color:#7159c1'>📊 R Basics 0 📊</h1>\n",
    "    <i>Data Types, Variables, Constants, Inputs and Outputs</i>\n",
    "</center>\n",
    "\n",
    "```txt\n",
    "- Data Types\n",
    "- Variables\n",
    "- Constants\n",
    "- Inputs\n",
    "- Outputs\n",
    "```"
   ]
  },
  {
   "cell_type": "markdown",
   "id": "9821f569-59b9-4e76-a47f-aa5c92b54247",
   "metadata": {},
   "source": [
    "<p id='0-data-types-variables-and-constants' style='color:#7159c1; border-bottom:3px solid #7159c1; letter-spacing:2px; font-family:JetBrains Mono; font-weight: bold; text-align:left; font-size:240%;padding:0'>0 | Data Types, Variables and Constants</p>"
   ]
  },
  {
   "cell_type": "code",
   "execution_count": 12,
   "id": "12456fc3-437c-4668-8a40-7900f65fa573",
   "metadata": {},
   "outputs": [],
   "source": [
    "# ---- Variables ----\n",
    "var_string <- 'Hey there!'\n",
    "\n",
    "var_integer <- 7L\n",
    "var_float <- 7.5\n",
    "var_complex <- 3 + 7i\n",
    "\n",
    "var_boolean <- TRUE\n",
    "var_another_boolean <- FALSE\n",
    "var_null <- NULL\n",
    "\n",
    "var_array <- c(1, 2, 3)"
   ]
  },
  {
   "cell_type": "code",
   "execution_count": 13,
   "id": "0a8c9a86-bb3e-4f28-8460-b640871547a6",
   "metadata": {},
   "outputs": [],
   "source": [
    "# ---- Constants ----\n",
    "const_string <- 'Hey there!'\n",
    "\n",
    "const_integer <- 7L\n",
    "const_float <- 7.5\n",
    "const_complex <- 3 + 7i\n",
    "\n",
    "const_boolean <- TRUE\n",
    "const_another_boolean <- FALSE\n",
    "const_null <- NULL\n",
    "\n",
    "const_array <- c(1, 2, 3)\n",
    "\n",
    "###\n",
    "\n",
    "lockBinding(\"const_string\", globalenv())\n",
    "\n",
    "lockBinding(\"const_integer\", globalenv())\n",
    "lockBinding(\"const_float\", globalenv())\n",
    "lockBinding(\"const_complex\", globalenv())\n",
    "\n",
    "lockBinding(\"const_boolean\", globalenv())\n",
    "lockBinding(\"const_another_boolean\", globalenv())\n",
    "lockBinding(\"const_null\", globalenv())\n",
    "\n",
    "lockBinding(\"const_array\", globalenv())"
   ]
  },
  {
   "cell_type": "markdown",
   "id": "66a7c9f6-3381-48c9-a7c3-1c7b4448f824",
   "metadata": {},
   "source": [
    "<p id='1-operations' style='color:#7159c1; border-bottom:3px solid #7159c1; letter-spacing:2px; font-family:JetBrains Mono; font-weight: bold; text-align:left; font-size:240%;padding:0'>1 | Operations</p>"
   ]
  },
  {
   "cell_type": "code",
   "execution_count": 28,
   "id": "1853d9a8-6055-4179-a686-465ab7ff6b8a",
   "metadata": {},
   "outputs": [
    {
     "data": {
      "text/html": [
       "'Addition: 7 + 3 = 10'"
      ],
      "text/latex": [
       "'Addition: 7 + 3 = 10'"
      ],
      "text/markdown": [
       "'Addition: 7 + 3 = 10'"
      ],
      "text/plain": [
       "[1] \"Addition: 7 + 3 = 10\""
      ]
     },
     "metadata": {},
     "output_type": "display_data"
    },
    {
     "data": {
      "text/html": [
       "'Subtraction: 7 - 3 = 4'"
      ],
      "text/latex": [
       "'Subtraction: 7 - 3 = 4'"
      ],
      "text/markdown": [
       "'Subtraction: 7 - 3 = 4'"
      ],
      "text/plain": [
       "[1] \"Subtraction: 7 - 3 = 4\""
      ]
     },
     "metadata": {},
     "output_type": "display_data"
    },
    {
     "data": {
      "text/html": [
       "'Multiplication: 7 * 3 = 21'"
      ],
      "text/latex": [
       "'Multiplication: 7 * 3 = 21'"
      ],
      "text/markdown": [
       "'Multiplication: 7 * 3 = 21'"
      ],
      "text/plain": [
       "[1] \"Multiplication: 7 * 3 = 21\""
      ]
     },
     "metadata": {},
     "output_type": "display_data"
    },
    {
     "data": {
      "text/html": [
       "'Power: 7 ^ 3 = 343'"
      ],
      "text/latex": [
       "'Power: 7 \\textasciicircum{} 3 = 343'"
      ],
      "text/markdown": [
       "'Power: 7 ^ 3 = 343'"
      ],
      "text/plain": [
       "[1] \"Power: 7 ^ 3 = 343\""
      ]
     },
     "metadata": {},
     "output_type": "display_data"
    },
    {
     "data": {
      "text/html": [
       "'Division: 7 / 3 = 2.333333'"
      ],
      "text/latex": [
       "'Division: 7 / 3 = 2.333333'"
      ],
      "text/markdown": [
       "'Division: 7 / 3 = 2.333333'"
      ],
      "text/plain": [
       "[1] \"Division: 7 / 3 = 2.333333\""
      ]
     },
     "metadata": {},
     "output_type": "display_data"
    },
    {
     "data": {
      "text/html": [
       "'Modulus / Remainder: 7 %% 3 = 1'"
      ],
      "text/latex": [
       "'Modulus / Remainder: 7 \\%\\% 3 = 1'"
      ],
      "text/markdown": [
       "'Modulus / Remainder: 7 %% 3 = 1'"
      ],
      "text/plain": [
       "[1] \"Modulus / Remainder: 7 %% 3 = 1\""
      ]
     },
     "metadata": {},
     "output_type": "display_data"
    }
   ],
   "source": [
    "# ---- Numbers ----\n",
    "sprintf('Addition: 7 + 3 = %d', 7 + 3) # addition\n",
    "sprintf('Subtraction: 7 - 3 = %d', 7 - 3) # subtraction\n",
    "sprintf('Multiplication: 7 * 3 = %d', 7 * 3) # multiplication\n",
    "sprintf('Power: 7 ^ 3 = %d', 7^3) # power\n",
    "sprintf('Division: 7 / 3 = %f', 7 / 3) # division\n",
    "sprintf('Modulus / Remainder: 7 %%%% 3 = %d', 7 %% 3) # modulus / remainder"
   ]
  },
  {
   "cell_type": "code",
   "execution_count": 31,
   "id": "854dbf2e-4dcd-4fb4-921c-f0e8a030bb06",
   "metadata": {},
   "outputs": [
    {
     "data": {
      "text/html": [
       "'Hello World!'"
      ],
      "text/latex": [
       "'Hello World!'"
      ],
      "text/markdown": [
       "'Hello World!'"
      ],
      "text/plain": [
       "[1] \"Hello World!\""
      ]
     },
     "metadata": {},
     "output_type": "display_data"
    }
   ],
   "source": [
    "# ---- Concatenation ----\n",
    "paste('Hello', 'World!')"
   ]
  },
  {
   "cell_type": "markdown",
   "id": "7992139a-4a47-41fa-81b2-bf2e68330b41",
   "metadata": {},
   "source": [
    "<p id='2-inputs-and-outputs' style='color:#7159c1; border-bottom:3px solid #7159c1; letter-spacing:2px; font-family:JetBrains Mono; font-weight: bold; text-align:left; font-size:240%;padding:0'>2 | Inputs and Outputs</p>"
   ]
  },
  {
   "cell_type": "code",
   "execution_count": 37,
   "id": "9a09211c-8ce6-43ba-bf84-6c1d9a0db5fa",
   "metadata": {},
   "outputs": [
    {
     "name": "stdin",
     "output_type": "stream",
     "text": [
      "Type your name: Felix\n"
     ]
    },
    {
     "data": {
      "text/html": [
       "'Hello Felix!'"
      ],
      "text/latex": [
       "'Hello Felix!'"
      ],
      "text/markdown": [
       "'Hello Felix!'"
      ],
      "text/plain": [
       "[1] \"Hello Felix!\""
      ]
     },
     "metadata": {},
     "output_type": "display_data"
    }
   ],
   "source": [
    "# ---- Inputs ----\n",
    "name <- readline('Type your name:')\n",
    "sprintf('Hello %s!', name)"
   ]
  },
  {
   "cell_type": "code",
   "execution_count": 33,
   "id": "79449672-f701-41f2-84e1-70c07067489b",
   "metadata": {},
   "outputs": [
    {
     "name": "stdout",
     "output_type": "stream",
     "text": [
      "[1] \"Hey there!\"\n"
     ]
    }
   ],
   "source": [
    "# ---- Outputs ----\n",
    "#\n",
    "# - print: not formatted strings\n",
    "#\n",
    "print('Hey there!')"
   ]
  },
  {
   "cell_type": "code",
   "execution_count": 35,
   "id": "22443752-4473-49ae-b089-c22859f6d2d7",
   "metadata": {},
   "outputs": [
    {
     "data": {
      "text/html": [
       "'Hey there Felix!!'"
      ],
      "text/latex": [
       "'Hey there Felix!!'"
      ],
      "text/markdown": [
       "'Hey there Felix!!'"
      ],
      "text/plain": [
       "[1] \"Hey there Felix!!\""
      ]
     },
     "metadata": {},
     "output_type": "display_data"
    }
   ],
   "source": [
    "# ---- Outputs ----\n",
    "#\n",
    "# - sprintf: formatted strings\n",
    "#\n",
    "name = 'Felix'\n",
    "sprintf('Hey there %s!!', name)"
   ]
  },
  {
   "cell_type": "markdown",
   "id": "a05fef4d-e3f0-435c-b26f-145640529eff",
   "metadata": {},
   "source": [
    "<p id='reach-me' style='color:#7159c1; border-bottom:3px solid #7159c1; letter-spacing:2px; font-family:JetBrains Mono; font-weight: bold; text-align:left; font-size:240%;padding:0'>📫 | Reach Me</p>\n",
    "\n",
    "> **Email** - [csfelix08@gmail.com](mailto:csfelix08@gmail.com?)\n",
    "\n",
    "> **Linkedin** - [linkedin.com/in/csfelix/](https://www.linkedin.com/in/csfelix/)\n",
    "\n",
    "> **GitHub:** - [CSFelix](https://github.com/CSFelix)\n",
    "\n",
    "> **Kaggle** - [DSFelix](https://www.kaggle.com/dsfelix)\n",
    "\n",
    "> **Portfolio** - [CSFelix.io](https://csfelix.github.io/)."
   ]
  }
 ],
 "metadata": {
  "kernelspec": {
   "display_name": "R",
   "language": "R",
   "name": "ir"
  },
  "language_info": {
   "codemirror_mode": "r",
   "file_extension": ".r",
   "mimetype": "text/x-r-source",
   "name": "R",
   "pygments_lexer": "r",
   "version": "4.2.2"
  }
 },
 "nbformat": 4,
 "nbformat_minor": 5
}
